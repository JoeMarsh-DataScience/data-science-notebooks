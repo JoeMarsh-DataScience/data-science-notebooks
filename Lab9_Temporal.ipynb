{
  "cells": [
    {
      "cell_type": "markdown",
      "metadata": {
        "id": "view-in-github",
        "colab_type": "text"
      },
      "source": [
        "<a href=\"https://colab.research.google.com/github/JoeMarsh-DataScience/data-science-notebooks/blob/main/Lab9_Temporal.ipynb\" target=\"_parent\"><img src=\"https://colab.research.google.com/assets/colab-badge.svg\" alt=\"Open In Colab\"/></a>"
      ]
    },
    {
      "cell_type": "markdown",
      "id": "8b9d9adc",
      "metadata": {
        "id": "8b9d9adc"
      },
      "source": [
        "# Week 9\n",
        "## Temporal Analysis"
      ]
    },
    {
      "cell_type": "markdown",
      "id": "0c4d1b7f",
      "metadata": {
        "id": "0c4d1b7f"
      },
      "source": [
        "Welcome to the penultimate lab notebook for GEOG5302 Data Science for Practical Applications. Last week we practiced spatial analysis, and in this session, we'll extend one dimension further, to consider temporal modelling and prediction.\n",
        "\n",
        "The data we'll be working with is the [Google Mobility Reports](https://www.google.com/covid19/mobility/) from January to August 2021, which provides daily statistics on the percentage change in people visiting different amenities, across each local area in the UK, as well as averages for the whole country. These amenities are the most common people might visit: retail & recreation, grocery stores & pharmacies, parks, transit stations, workplaces, and residential areas. This allows us to explore changes between areas and across time for each type of amenity.\n",
        "\n",
        "While we work through this lab, we'll be bringing in a lot of the skills we've practiced throughout the other labs. So we'll start with viewing, visualising, and wrangling the data, before working through a series of temporal models: simple moving averages, exponential and double exponential smoothing. We'll then use our linear regression skills to calculate interrupted times series models.\n",
        "\n",
        "As always, we begin by loading in the packages we need - most of these you'll recognise by now, but we'll also load in `datetime`, which allows us to work with time-stamped data."
      ]
    },
    {
      "cell_type": "code",
      "id": "ee2c521a",
      "metadata": {
        "id": "ee2c521a"
      },
      "source": [
        "import sys\n",
        "import pandas as pd\n",
        "import numpy as np\n",
        "import seaborn as sns\n",
        "import matplotlib.pyplot as plt\n",
        "from matplotlib.pyplot import figure\n",
        "pd.options.mode.chained_assignment = None\n",
        "import datetime\n",
        "from datetime import datetime"
      ],
      "outputs": [],
      "execution_count": 11
    },
    {
      "cell_type": "markdown",
      "id": "8334936d",
      "metadata": {
        "id": "8334936d"
      },
      "source": [
        "Now, before we load in the Google Mobility data, we need to make sure Python will recognise the dates in the correct format. If we don't complete this step, Python tends to assume all dates are in American format (ie. MM/DD/YYYY), so we create a custom `date parser`, which passes the dates the right way round (i.e. DD/MM/YYYY). When we read in the `.csv` data, we then tell Python to use the date parser to read in our dates the way they're intended. The most common formats we might need are:\n",
        "\n",
        "`%d`: day of the month, 01-31 <br>\n",
        "`%m`: month of the year, 01-12 <br>\n",
        "`%y`: year, short form (ie without the century, eg 22) <br>\n",
        "`%Y`: year, long form (ie with century, eg 2022) <br>\n",
        "\n",
        "You can read more on how dates and times work in Python [here](https://www.w3schools.com/python/python_datetime.asp) (scroll down for the reference list of all the datetime format codes). It's important whenever you work with time-stamped data to check the format of the dates, so you can analyse the data correctly."
      ]
    },
    {
      "cell_type": "code",
      "id": "d0d92af9",
      "metadata": {
        "id": "d0d92af9"
      },
      "source": [
        "#tell Python to read in the date in this format\n",
        "custom_date_parser = lambda x: datetime.strptime(x, \"%d/%m/%Y\")"
      ],
      "outputs": [],
      "execution_count": 12
    },
    {
      "cell_type": "code",
      "id": "38cfc7b8",
      "metadata": {
        "id": "38cfc7b8",
        "colab": {
          "base_uri": "https://localhost:8080/"
        },
        "outputId": "e44c7e3c-af29-4929-a179-12310fef0e8a"
      },
      "source": [
        "#read in the data as normal, but specifying the field name of the dates, and how to read them\n",
        "mobility = pd.read_csv(\"2021_GB_Mobility.csv\", parse_dates=['date'], date_parser = custom_date_parser)"
      ],
      "outputs": [
        {
          "output_type": "stream",
          "name": "stderr",
          "text": [
            "<ipython-input-13-af76a0f9367f>:2: FutureWarning: The argument 'date_parser' is deprecated and will be removed in a future version. Please use 'date_format' instead, or read your data in as 'object' dtype and then call 'to_datetime'.\n",
            "  mobility = pd.read_csv(\"2021_GB_Mobility.csv\", parse_dates=['date'], date_parser = custom_date_parser)\n"
          ]
        }
      ],
      "execution_count": 13
    },
    {
      "cell_type": "markdown",
      "id": "cbe5fb93",
      "metadata": {
        "id": "cbe5fb93"
      },
      "source": [
        "Now look at the mobility `info` to see how each of the variables has been recognised:"
      ]
    },
    {
      "cell_type": "code",
      "id": "298c104d",
      "metadata": {
        "scrolled": true,
        "id": "298c104d",
        "colab": {
          "base_uri": "https://localhost:8080/"
        },
        "outputId": "cb234831-a45b-4b25-9550-52513c973b9a"
      },
      "source": [
        "#look at the mobility info\n",
        "mobility.info()"
      ],
      "outputs": [
        {
          "output_type": "stream",
          "name": "stdout",
          "text": [
            "<class 'pandas.core.frame.DataFrame'>\n",
            "RangeIndex: 97794 entries, 0 to 97793\n",
            "Data columns (total 12 columns):\n",
            " #   Column             Non-Null Count  Dtype         \n",
            "---  ------             --------------  -----         \n",
            " 0   date               97794 non-null  datetime64[ns]\n",
            " 1   country_region     97794 non-null  object        \n",
            " 2   sub_region_1       97794 non-null  object        \n",
            " 3   sub_region_2       62444 non-null  object        \n",
            " 4   metro_area         0 non-null      float64       \n",
            " 5   census_fips_code   0 non-null      float64       \n",
            " 6   retail_recreation  96579 non-null  float64       \n",
            " 7   grocery_pharmacy   96355 non-null  float64       \n",
            " 8   parks              77521 non-null  float64       \n",
            " 9   transit_stations   96005 non-null  float64       \n",
            " 10  workplaces         97693 non-null  float64       \n",
            " 11  residential        94886 non-null  float64       \n",
            "dtypes: datetime64[ns](1), float64(8), object(3)\n",
            "memory usage: 9.0+ MB\n"
          ]
        }
      ],
      "execution_count": 14
    },
    {
      "cell_type": "markdown",
      "id": "85e276db",
      "metadata": {
        "id": "85e276db"
      },
      "source": [
        "Can you see there is no data in two columns which have '0 non-null' values? As these don't contain any useful information we will start by removing the `metro_area` column"
      ]
    },
    {
      "cell_type": "code",
      "id": "d60bb6f9",
      "metadata": {
        "id": "d60bb6f9"
      },
      "source": [
        "mobility = mobility.drop(['metro_area'], axis = 1) # 1 for column"
      ],
      "outputs": [],
      "execution_count": 15
    },
    {
      "cell_type": "markdown",
      "id": "849abfc2",
      "metadata": {
        "id": "849abfc2"
      },
      "source": [
        "And view the head of the data to see that it has worked:"
      ]
    },
    {
      "cell_type": "code",
      "id": "93022d7b",
      "metadata": {
        "id": "93022d7b",
        "colab": {
          "base_uri": "https://localhost:8080/",
          "height": 206
        },
        "outputId": "38a6b9ba-e0be-42eb-f5df-a4676f09b98e"
      },
      "source": [
        "#view the head of the data:\n",
        "mobility.head()"
      ],
      "outputs": [
        {
          "output_type": "execute_result",
          "data": {
            "text/plain": [
              "        date  country_region             sub_region_1 sub_region_2  \\\n",
              "0 2021-01-01  United Kingdom                   UK All          NaN   \n",
              "1 2021-01-01  United Kingdom            Aberdeen City          NaN   \n",
              "2 2021-01-01  United Kingdom            Aberdeenshire          NaN   \n",
              "3 2021-01-01  United Kingdom            Angus Council          NaN   \n",
              "4 2021-01-01  United Kingdom  Antrim and Newtownabbey          NaN   \n",
              "\n",
              "   census_fips_code  retail_recreation  grocery_pharmacy  parks  \\\n",
              "0               NaN              -83.0             -64.0   -5.0   \n",
              "1               NaN              -91.0             -78.0    2.0   \n",
              "2               NaN              -90.0             -79.0   -9.0   \n",
              "3               NaN              -83.0             -79.0   15.0   \n",
              "4               NaN              -77.0             -56.0    NaN   \n",
              "\n",
              "   transit_stations  workplaces  residential  \n",
              "0             -82.0       -83.0         32.0  \n",
              "1             -89.0       -85.0         32.0  \n",
              "2             -82.0       -87.0         32.0  \n",
              "3             -70.0       -84.0         28.0  \n",
              "4             -80.0       -83.0         31.0  "
            ],
            "text/html": [
              "\n",
              "  <div id=\"df-5291cadf-36b9-42a0-9ad7-357d719a0998\" class=\"colab-df-container\">\n",
              "    <div>\n",
              "<style scoped>\n",
              "    .dataframe tbody tr th:only-of-type {\n",
              "        vertical-align: middle;\n",
              "    }\n",
              "\n",
              "    .dataframe tbody tr th {\n",
              "        vertical-align: top;\n",
              "    }\n",
              "\n",
              "    .dataframe thead th {\n",
              "        text-align: right;\n",
              "    }\n",
              "</style>\n",
              "<table border=\"1\" class=\"dataframe\">\n",
              "  <thead>\n",
              "    <tr style=\"text-align: right;\">\n",
              "      <th></th>\n",
              "      <th>date</th>\n",
              "      <th>country_region</th>\n",
              "      <th>sub_region_1</th>\n",
              "      <th>sub_region_2</th>\n",
              "      <th>census_fips_code</th>\n",
              "      <th>retail_recreation</th>\n",
              "      <th>grocery_pharmacy</th>\n",
              "      <th>parks</th>\n",
              "      <th>transit_stations</th>\n",
              "      <th>workplaces</th>\n",
              "      <th>residential</th>\n",
              "    </tr>\n",
              "  </thead>\n",
              "  <tbody>\n",
              "    <tr>\n",
              "      <th>0</th>\n",
              "      <td>2021-01-01</td>\n",
              "      <td>United Kingdom</td>\n",
              "      <td>UK All</td>\n",
              "      <td>NaN</td>\n",
              "      <td>NaN</td>\n",
              "      <td>-83.0</td>\n",
              "      <td>-64.0</td>\n",
              "      <td>-5.0</td>\n",
              "      <td>-82.0</td>\n",
              "      <td>-83.0</td>\n",
              "      <td>32.0</td>\n",
              "    </tr>\n",
              "    <tr>\n",
              "      <th>1</th>\n",
              "      <td>2021-01-01</td>\n",
              "      <td>United Kingdom</td>\n",
              "      <td>Aberdeen City</td>\n",
              "      <td>NaN</td>\n",
              "      <td>NaN</td>\n",
              "      <td>-91.0</td>\n",
              "      <td>-78.0</td>\n",
              "      <td>2.0</td>\n",
              "      <td>-89.0</td>\n",
              "      <td>-85.0</td>\n",
              "      <td>32.0</td>\n",
              "    </tr>\n",
              "    <tr>\n",
              "      <th>2</th>\n",
              "      <td>2021-01-01</td>\n",
              "      <td>United Kingdom</td>\n",
              "      <td>Aberdeenshire</td>\n",
              "      <td>NaN</td>\n",
              "      <td>NaN</td>\n",
              "      <td>-90.0</td>\n",
              "      <td>-79.0</td>\n",
              "      <td>-9.0</td>\n",
              "      <td>-82.0</td>\n",
              "      <td>-87.0</td>\n",
              "      <td>32.0</td>\n",
              "    </tr>\n",
              "    <tr>\n",
              "      <th>3</th>\n",
              "      <td>2021-01-01</td>\n",
              "      <td>United Kingdom</td>\n",
              "      <td>Angus Council</td>\n",
              "      <td>NaN</td>\n",
              "      <td>NaN</td>\n",
              "      <td>-83.0</td>\n",
              "      <td>-79.0</td>\n",
              "      <td>15.0</td>\n",
              "      <td>-70.0</td>\n",
              "      <td>-84.0</td>\n",
              "      <td>28.0</td>\n",
              "    </tr>\n",
              "    <tr>\n",
              "      <th>4</th>\n",
              "      <td>2021-01-01</td>\n",
              "      <td>United Kingdom</td>\n",
              "      <td>Antrim and Newtownabbey</td>\n",
              "      <td>NaN</td>\n",
              "      <td>NaN</td>\n",
              "      <td>-77.0</td>\n",
              "      <td>-56.0</td>\n",
              "      <td>NaN</td>\n",
              "      <td>-80.0</td>\n",
              "      <td>-83.0</td>\n",
              "      <td>31.0</td>\n",
              "    </tr>\n",
              "  </tbody>\n",
              "</table>\n",
              "</div>\n",
              "    <div class=\"colab-df-buttons\">\n",
              "\n",
              "  <div class=\"colab-df-container\">\n",
              "    <button class=\"colab-df-convert\" onclick=\"convertToInteractive('df-5291cadf-36b9-42a0-9ad7-357d719a0998')\"\n",
              "            title=\"Convert this dataframe to an interactive table.\"\n",
              "            style=\"display:none;\">\n",
              "\n",
              "  <svg xmlns=\"http://www.w3.org/2000/svg\" height=\"24px\" viewBox=\"0 -960 960 960\">\n",
              "    <path d=\"M120-120v-720h720v720H120Zm60-500h600v-160H180v160Zm220 220h160v-160H400v160Zm0 220h160v-160H400v160ZM180-400h160v-160H180v160Zm440 0h160v-160H620v160ZM180-180h160v-160H180v160Zm440 0h160v-160H620v160Z\"/>\n",
              "  </svg>\n",
              "    </button>\n",
              "\n",
              "  <style>\n",
              "    .colab-df-container {\n",
              "      display:flex;\n",
              "      gap: 12px;\n",
              "    }\n",
              "\n",
              "    .colab-df-convert {\n",
              "      background-color: #E8F0FE;\n",
              "      border: none;\n",
              "      border-radius: 50%;\n",
              "      cursor: pointer;\n",
              "      display: none;\n",
              "      fill: #1967D2;\n",
              "      height: 32px;\n",
              "      padding: 0 0 0 0;\n",
              "      width: 32px;\n",
              "    }\n",
              "\n",
              "    .colab-df-convert:hover {\n",
              "      background-color: #E2EBFA;\n",
              "      box-shadow: 0px 1px 2px rgba(60, 64, 67, 0.3), 0px 1px 3px 1px rgba(60, 64, 67, 0.15);\n",
              "      fill: #174EA6;\n",
              "    }\n",
              "\n",
              "    .colab-df-buttons div {\n",
              "      margin-bottom: 4px;\n",
              "    }\n",
              "\n",
              "    [theme=dark] .colab-df-convert {\n",
              "      background-color: #3B4455;\n",
              "      fill: #D2E3FC;\n",
              "    }\n",
              "\n",
              "    [theme=dark] .colab-df-convert:hover {\n",
              "      background-color: #434B5C;\n",
              "      box-shadow: 0px 1px 3px 1px rgba(0, 0, 0, 0.15);\n",
              "      filter: drop-shadow(0px 1px 2px rgba(0, 0, 0, 0.3));\n",
              "      fill: #FFFFFF;\n",
              "    }\n",
              "  </style>\n",
              "\n",
              "    <script>\n",
              "      const buttonEl =\n",
              "        document.querySelector('#df-5291cadf-36b9-42a0-9ad7-357d719a0998 button.colab-df-convert');\n",
              "      buttonEl.style.display =\n",
              "        google.colab.kernel.accessAllowed ? 'block' : 'none';\n",
              "\n",
              "      async function convertToInteractive(key) {\n",
              "        const element = document.querySelector('#df-5291cadf-36b9-42a0-9ad7-357d719a0998');\n",
              "        const dataTable =\n",
              "          await google.colab.kernel.invokeFunction('convertToInteractive',\n",
              "                                                    [key], {});\n",
              "        if (!dataTable) return;\n",
              "\n",
              "        const docLinkHtml = 'Like what you see? Visit the ' +\n",
              "          '<a target=\"_blank\" href=https://colab.research.google.com/notebooks/data_table.ipynb>data table notebook</a>'\n",
              "          + ' to learn more about interactive tables.';\n",
              "        element.innerHTML = '';\n",
              "        dataTable['output_type'] = 'display_data';\n",
              "        await google.colab.output.renderOutput(dataTable, element);\n",
              "        const docLink = document.createElement('div');\n",
              "        docLink.innerHTML = docLinkHtml;\n",
              "        element.appendChild(docLink);\n",
              "      }\n",
              "    </script>\n",
              "  </div>\n",
              "\n",
              "\n",
              "<div id=\"df-cd3d09fd-b002-42bc-9c05-2ac9ca2668d8\">\n",
              "  <button class=\"colab-df-quickchart\" onclick=\"quickchart('df-cd3d09fd-b002-42bc-9c05-2ac9ca2668d8')\"\n",
              "            title=\"Suggest charts\"\n",
              "            style=\"display:none;\">\n",
              "\n",
              "<svg xmlns=\"http://www.w3.org/2000/svg\" height=\"24px\"viewBox=\"0 0 24 24\"\n",
              "     width=\"24px\">\n",
              "    <g>\n",
              "        <path d=\"M19 3H5c-1.1 0-2 .9-2 2v14c0 1.1.9 2 2 2h14c1.1 0 2-.9 2-2V5c0-1.1-.9-2-2-2zM9 17H7v-7h2v7zm4 0h-2V7h2v10zm4 0h-2v-4h2v4z\"/>\n",
              "    </g>\n",
              "</svg>\n",
              "  </button>\n",
              "\n",
              "<style>\n",
              "  .colab-df-quickchart {\n",
              "      --bg-color: #E8F0FE;\n",
              "      --fill-color: #1967D2;\n",
              "      --hover-bg-color: #E2EBFA;\n",
              "      --hover-fill-color: #174EA6;\n",
              "      --disabled-fill-color: #AAA;\n",
              "      --disabled-bg-color: #DDD;\n",
              "  }\n",
              "\n",
              "  [theme=dark] .colab-df-quickchart {\n",
              "      --bg-color: #3B4455;\n",
              "      --fill-color: #D2E3FC;\n",
              "      --hover-bg-color: #434B5C;\n",
              "      --hover-fill-color: #FFFFFF;\n",
              "      --disabled-bg-color: #3B4455;\n",
              "      --disabled-fill-color: #666;\n",
              "  }\n",
              "\n",
              "  .colab-df-quickchart {\n",
              "    background-color: var(--bg-color);\n",
              "    border: none;\n",
              "    border-radius: 50%;\n",
              "    cursor: pointer;\n",
              "    display: none;\n",
              "    fill: var(--fill-color);\n",
              "    height: 32px;\n",
              "    padding: 0;\n",
              "    width: 32px;\n",
              "  }\n",
              "\n",
              "  .colab-df-quickchart:hover {\n",
              "    background-color: var(--hover-bg-color);\n",
              "    box-shadow: 0 1px 2px rgba(60, 64, 67, 0.3), 0 1px 3px 1px rgba(60, 64, 67, 0.15);\n",
              "    fill: var(--button-hover-fill-color);\n",
              "  }\n",
              "\n",
              "  .colab-df-quickchart-complete:disabled,\n",
              "  .colab-df-quickchart-complete:disabled:hover {\n",
              "    background-color: var(--disabled-bg-color);\n",
              "    fill: var(--disabled-fill-color);\n",
              "    box-shadow: none;\n",
              "  }\n",
              "\n",
              "  .colab-df-spinner {\n",
              "    border: 2px solid var(--fill-color);\n",
              "    border-color: transparent;\n",
              "    border-bottom-color: var(--fill-color);\n",
              "    animation:\n",
              "      spin 1s steps(1) infinite;\n",
              "  }\n",
              "\n",
              "  @keyframes spin {\n",
              "    0% {\n",
              "      border-color: transparent;\n",
              "      border-bottom-color: var(--fill-color);\n",
              "      border-left-color: var(--fill-color);\n",
              "    }\n",
              "    20% {\n",
              "      border-color: transparent;\n",
              "      border-left-color: var(--fill-color);\n",
              "      border-top-color: var(--fill-color);\n",
              "    }\n",
              "    30% {\n",
              "      border-color: transparent;\n",
              "      border-left-color: var(--fill-color);\n",
              "      border-top-color: var(--fill-color);\n",
              "      border-right-color: var(--fill-color);\n",
              "    }\n",
              "    40% {\n",
              "      border-color: transparent;\n",
              "      border-right-color: var(--fill-color);\n",
              "      border-top-color: var(--fill-color);\n",
              "    }\n",
              "    60% {\n",
              "      border-color: transparent;\n",
              "      border-right-color: var(--fill-color);\n",
              "    }\n",
              "    80% {\n",
              "      border-color: transparent;\n",
              "      border-right-color: var(--fill-color);\n",
              "      border-bottom-color: var(--fill-color);\n",
              "    }\n",
              "    90% {\n",
              "      border-color: transparent;\n",
              "      border-bottom-color: var(--fill-color);\n",
              "    }\n",
              "  }\n",
              "</style>\n",
              "\n",
              "  <script>\n",
              "    async function quickchart(key) {\n",
              "      const quickchartButtonEl =\n",
              "        document.querySelector('#' + key + ' button');\n",
              "      quickchartButtonEl.disabled = true;  // To prevent multiple clicks.\n",
              "      quickchartButtonEl.classList.add('colab-df-spinner');\n",
              "      try {\n",
              "        const charts = await google.colab.kernel.invokeFunction(\n",
              "            'suggestCharts', [key], {});\n",
              "      } catch (error) {\n",
              "        console.error('Error during call to suggestCharts:', error);\n",
              "      }\n",
              "      quickchartButtonEl.classList.remove('colab-df-spinner');\n",
              "      quickchartButtonEl.classList.add('colab-df-quickchart-complete');\n",
              "    }\n",
              "    (() => {\n",
              "      let quickchartButtonEl =\n",
              "        document.querySelector('#df-cd3d09fd-b002-42bc-9c05-2ac9ca2668d8 button');\n",
              "      quickchartButtonEl.style.display =\n",
              "        google.colab.kernel.accessAllowed ? 'block' : 'none';\n",
              "    })();\n",
              "  </script>\n",
              "</div>\n",
              "\n",
              "    </div>\n",
              "  </div>\n"
            ],
            "application/vnd.google.colaboratory.intrinsic+json": {
              "type": "dataframe",
              "variable_name": "mobility",
              "summary": "{\n  \"name\": \"mobility\",\n  \"rows\": 97794,\n  \"fields\": [\n    {\n      \"column\": \"date\",\n      \"properties\": {\n        \"dtype\": \"date\",\n        \"min\": \"2021-01-01 00:00:00\",\n        \"max\": \"2021-08-22 00:00:00\",\n        \"num_unique_values\": 234,\n        \"samples\": [\n          \"2021-03-11 00:00:00\",\n          \"2021-07-26 00:00:00\",\n          \"2021-06-30 00:00:00\"\n        ],\n        \"semantic_type\": \"\",\n        \"description\": \"\"\n      }\n    },\n    {\n      \"column\": \"country_region\",\n      \"properties\": {\n        \"dtype\": \"category\",\n        \"num_unique_values\": 1,\n        \"samples\": [\n          \"United Kingdom\"\n        ],\n        \"semantic_type\": \"\",\n        \"description\": \"\"\n      }\n    },\n    {\n      \"column\": \"sub_region_1\",\n      \"properties\": {\n        \"dtype\": \"category\",\n        \"num_unique_values\": 152,\n        \"samples\": [\n          \"Kent\"\n        ],\n        \"semantic_type\": \"\",\n        \"description\": \"\"\n      }\n    },\n    {\n      \"column\": \"sub_region_2\",\n      \"properties\": {\n        \"dtype\": \"category\",\n        \"num_unique_values\": 267,\n        \"samples\": [\n          \"London Borough of Tower Hamlets\"\n        ],\n        \"semantic_type\": \"\",\n        \"description\": \"\"\n      }\n    },\n    {\n      \"column\": \"census_fips_code\",\n      \"properties\": {\n        \"dtype\": \"number\",\n        \"std\": null,\n        \"min\": null,\n        \"max\": null,\n        \"num_unique_values\": 0,\n        \"samples\": [],\n        \"semantic_type\": \"\",\n        \"description\": \"\"\n      }\n    },\n    {\n      \"column\": \"retail_recreation\",\n      \"properties\": {\n        \"dtype\": \"number\",\n        \"std\": 27.94803241540958,\n        \"min\": -98.0,\n        \"max\": 278.0,\n        \"num_unique_values\": 255,\n        \"samples\": [],\n        \"semantic_type\": \"\",\n        \"description\": \"\"\n      }\n    },\n    {\n      \"column\": \"grocery_pharmacy\",\n      \"properties\": {\n        \"dtype\": \"number\",\n        \"std\": 17.399506897070395,\n        \"min\": -95.0,\n        \"max\": 217.0,\n        \"num_unique_values\": 224,\n        \"samples\": [],\n        \"semantic_type\": \"\",\n        \"description\": \"\"\n      }\n    },\n    {\n      \"column\": \"parks\",\n      \"properties\": {\n        \"dtype\": \"number\",\n        \"std\": 62.74346616211783,\n        \"min\": -95.0,\n        \"max\": 747.0,\n        \"num_unique_values\": 589,\n        \"samples\": [],\n        \"semantic_type\": \"\",\n        \"description\": \"\"\n      }\n    },\n    {\n      \"column\": \"transit_stations\",\n      \"properties\": {\n        \"dtype\": \"number\",\n        \"std\": 25.58467554036837,\n        \"min\": -95.0,\n        \"max\": 209.0,\n        \"num_unique_values\": 274,\n        \"samples\": [],\n        \"semantic_type\": \"\",\n        \"description\": \"\"\n      }\n    },\n    {\n      \"column\": \"workplaces\",\n      \"properties\": {\n        \"dtype\": \"number\",\n        \"std\": 16.565235591969987,\n        \"min\": -89.0,\n        \"max\": 45.0,\n        \"num_unique_values\": 132,\n        \"samples\": [],\n        \"semantic_type\": \"\",\n        \"description\": \"\"\n      }\n    },\n    {\n      \"column\": \"residential\",\n      \"properties\": {\n        \"dtype\": \"number\",\n        \"std\": 6.4668640108393225,\n        \"min\": -5.0,\n        \"max\": 39.0,\n        \"num_unique_values\": 44,\n        \"samples\": [],\n        \"semantic_type\": \"\",\n        \"description\": \"\"\n      }\n    }\n  ]\n}"
            }
          },
          "metadata": {},
          "execution_count": 16
        }
      ],
      "execution_count": 16
    },
    {
      "cell_type": "markdown",
      "id": "1c3bb742",
      "metadata": {
        "id": "1c3bb742"
      },
      "source": [
        "Now also remove the other column with no data. Do this yourself below, then call `.head()` to check it's worked."
      ]
    },
    {
      "cell_type": "code",
      "id": "53cbfa80",
      "metadata": {
        "id": "53cbfa80"
      },
      "source": [
        "#remove the other missing column\n",
        "mobility = mobility.drop(['census_fips_code'], axis = 1)"
      ],
      "outputs": [],
      "execution_count": 17
    },
    {
      "cell_type": "code",
      "id": "f408cef4",
      "metadata": {
        "id": "f408cef4",
        "colab": {
          "base_uri": "https://localhost:8080/",
          "height": 206
        },
        "outputId": "6026be5c-b26e-4644-9f3d-b2f720d689f1"
      },
      "source": [
        "#check it worked\n",
        "mobility.head()"
      ],
      "outputs": [
        {
          "output_type": "execute_result",
          "data": {
            "text/plain": [
              "        date  country_region             sub_region_1 sub_region_2  \\\n",
              "0 2021-01-01  United Kingdom                   UK All          NaN   \n",
              "1 2021-01-01  United Kingdom            Aberdeen City          NaN   \n",
              "2 2021-01-01  United Kingdom            Aberdeenshire          NaN   \n",
              "3 2021-01-01  United Kingdom            Angus Council          NaN   \n",
              "4 2021-01-01  United Kingdom  Antrim and Newtownabbey          NaN   \n",
              "\n",
              "   retail_recreation  grocery_pharmacy  parks  transit_stations  workplaces  \\\n",
              "0              -83.0             -64.0   -5.0             -82.0       -83.0   \n",
              "1              -91.0             -78.0    2.0             -89.0       -85.0   \n",
              "2              -90.0             -79.0   -9.0             -82.0       -87.0   \n",
              "3              -83.0             -79.0   15.0             -70.0       -84.0   \n",
              "4              -77.0             -56.0    NaN             -80.0       -83.0   \n",
              "\n",
              "   residential  \n",
              "0         32.0  \n",
              "1         32.0  \n",
              "2         32.0  \n",
              "3         28.0  \n",
              "4         31.0  "
            ],
            "text/html": [
              "\n",
              "  <div id=\"df-f471ed08-8835-4057-a7b4-f89f33179822\" class=\"colab-df-container\">\n",
              "    <div>\n",
              "<style scoped>\n",
              "    .dataframe tbody tr th:only-of-type {\n",
              "        vertical-align: middle;\n",
              "    }\n",
              "\n",
              "    .dataframe tbody tr th {\n",
              "        vertical-align: top;\n",
              "    }\n",
              "\n",
              "    .dataframe thead th {\n",
              "        text-align: right;\n",
              "    }\n",
              "</style>\n",
              "<table border=\"1\" class=\"dataframe\">\n",
              "  <thead>\n",
              "    <tr style=\"text-align: right;\">\n",
              "      <th></th>\n",
              "      <th>date</th>\n",
              "      <th>country_region</th>\n",
              "      <th>sub_region_1</th>\n",
              "      <th>sub_region_2</th>\n",
              "      <th>retail_recreation</th>\n",
              "      <th>grocery_pharmacy</th>\n",
              "      <th>parks</th>\n",
              "      <th>transit_stations</th>\n",
              "      <th>workplaces</th>\n",
              "      <th>residential</th>\n",
              "    </tr>\n",
              "  </thead>\n",
              "  <tbody>\n",
              "    <tr>\n",
              "      <th>0</th>\n",
              "      <td>2021-01-01</td>\n",
              "      <td>United Kingdom</td>\n",
              "      <td>UK All</td>\n",
              "      <td>NaN</td>\n",
              "      <td>-83.0</td>\n",
              "      <td>-64.0</td>\n",
              "      <td>-5.0</td>\n",
              "      <td>-82.0</td>\n",
              "      <td>-83.0</td>\n",
              "      <td>32.0</td>\n",
              "    </tr>\n",
              "    <tr>\n",
              "      <th>1</th>\n",
              "      <td>2021-01-01</td>\n",
              "      <td>United Kingdom</td>\n",
              "      <td>Aberdeen City</td>\n",
              "      <td>NaN</td>\n",
              "      <td>-91.0</td>\n",
              "      <td>-78.0</td>\n",
              "      <td>2.0</td>\n",
              "      <td>-89.0</td>\n",
              "      <td>-85.0</td>\n",
              "      <td>32.0</td>\n",
              "    </tr>\n",
              "    <tr>\n",
              "      <th>2</th>\n",
              "      <td>2021-01-01</td>\n",
              "      <td>United Kingdom</td>\n",
              "      <td>Aberdeenshire</td>\n",
              "      <td>NaN</td>\n",
              "      <td>-90.0</td>\n",
              "      <td>-79.0</td>\n",
              "      <td>-9.0</td>\n",
              "      <td>-82.0</td>\n",
              "      <td>-87.0</td>\n",
              "      <td>32.0</td>\n",
              "    </tr>\n",
              "    <tr>\n",
              "      <th>3</th>\n",
              "      <td>2021-01-01</td>\n",
              "      <td>United Kingdom</td>\n",
              "      <td>Angus Council</td>\n",
              "      <td>NaN</td>\n",
              "      <td>-83.0</td>\n",
              "      <td>-79.0</td>\n",
              "      <td>15.0</td>\n",
              "      <td>-70.0</td>\n",
              "      <td>-84.0</td>\n",
              "      <td>28.0</td>\n",
              "    </tr>\n",
              "    <tr>\n",
              "      <th>4</th>\n",
              "      <td>2021-01-01</td>\n",
              "      <td>United Kingdom</td>\n",
              "      <td>Antrim and Newtownabbey</td>\n",
              "      <td>NaN</td>\n",
              "      <td>-77.0</td>\n",
              "      <td>-56.0</td>\n",
              "      <td>NaN</td>\n",
              "      <td>-80.0</td>\n",
              "      <td>-83.0</td>\n",
              "      <td>31.0</td>\n",
              "    </tr>\n",
              "  </tbody>\n",
              "</table>\n",
              "</div>\n",
              "    <div class=\"colab-df-buttons\">\n",
              "\n",
              "  <div class=\"colab-df-container\">\n",
              "    <button class=\"colab-df-convert\" onclick=\"convertToInteractive('df-f471ed08-8835-4057-a7b4-f89f33179822')\"\n",
              "            title=\"Convert this dataframe to an interactive table.\"\n",
              "            style=\"display:none;\">\n",
              "\n",
              "  <svg xmlns=\"http://www.w3.org/2000/svg\" height=\"24px\" viewBox=\"0 -960 960 960\">\n",
              "    <path d=\"M120-120v-720h720v720H120Zm60-500h600v-160H180v160Zm220 220h160v-160H400v160Zm0 220h160v-160H400v160ZM180-400h160v-160H180v160Zm440 0h160v-160H620v160ZM180-180h160v-160H180v160Zm440 0h160v-160H620v160Z\"/>\n",
              "  </svg>\n",
              "    </button>\n",
              "\n",
              "  <style>\n",
              "    .colab-df-container {\n",
              "      display:flex;\n",
              "      gap: 12px;\n",
              "    }\n",
              "\n",
              "    .colab-df-convert {\n",
              "      background-color: #E8F0FE;\n",
              "      border: none;\n",
              "      border-radius: 50%;\n",
              "      cursor: pointer;\n",
              "      display: none;\n",
              "      fill: #1967D2;\n",
              "      height: 32px;\n",
              "      padding: 0 0 0 0;\n",
              "      width: 32px;\n",
              "    }\n",
              "\n",
              "    .colab-df-convert:hover {\n",
              "      background-color: #E2EBFA;\n",
              "      box-shadow: 0px 1px 2px rgba(60, 64, 67, 0.3), 0px 1px 3px 1px rgba(60, 64, 67, 0.15);\n",
              "      fill: #174EA6;\n",
              "    }\n",
              "\n",
              "    .colab-df-buttons div {\n",
              "      margin-bottom: 4px;\n",
              "    }\n",
              "\n",
              "    [theme=dark] .colab-df-convert {\n",
              "      background-color: #3B4455;\n",
              "      fill: #D2E3FC;\n",
              "    }\n",
              "\n",
              "    [theme=dark] .colab-df-convert:hover {\n",
              "      background-color: #434B5C;\n",
              "      box-shadow: 0px 1px 3px 1px rgba(0, 0, 0, 0.15);\n",
              "      filter: drop-shadow(0px 1px 2px rgba(0, 0, 0, 0.3));\n",
              "      fill: #FFFFFF;\n",
              "    }\n",
              "  </style>\n",
              "\n",
              "    <script>\n",
              "      const buttonEl =\n",
              "        document.querySelector('#df-f471ed08-8835-4057-a7b4-f89f33179822 button.colab-df-convert');\n",
              "      buttonEl.style.display =\n",
              "        google.colab.kernel.accessAllowed ? 'block' : 'none';\n",
              "\n",
              "      async function convertToInteractive(key) {\n",
              "        const element = document.querySelector('#df-f471ed08-8835-4057-a7b4-f89f33179822');\n",
              "        const dataTable =\n",
              "          await google.colab.kernel.invokeFunction('convertToInteractive',\n",
              "                                                    [key], {});\n",
              "        if (!dataTable) return;\n",
              "\n",
              "        const docLinkHtml = 'Like what you see? Visit the ' +\n",
              "          '<a target=\"_blank\" href=https://colab.research.google.com/notebooks/data_table.ipynb>data table notebook</a>'\n",
              "          + ' to learn more about interactive tables.';\n",
              "        element.innerHTML = '';\n",
              "        dataTable['output_type'] = 'display_data';\n",
              "        await google.colab.output.renderOutput(dataTable, element);\n",
              "        const docLink = document.createElement('div');\n",
              "        docLink.innerHTML = docLinkHtml;\n",
              "        element.appendChild(docLink);\n",
              "      }\n",
              "    </script>\n",
              "  </div>\n",
              "\n",
              "\n",
              "<div id=\"df-cae78401-ae91-4889-bef0-44878ce4508c\">\n",
              "  <button class=\"colab-df-quickchart\" onclick=\"quickchart('df-cae78401-ae91-4889-bef0-44878ce4508c')\"\n",
              "            title=\"Suggest charts\"\n",
              "            style=\"display:none;\">\n",
              "\n",
              "<svg xmlns=\"http://www.w3.org/2000/svg\" height=\"24px\"viewBox=\"0 0 24 24\"\n",
              "     width=\"24px\">\n",
              "    <g>\n",
              "        <path d=\"M19 3H5c-1.1 0-2 .9-2 2v14c0 1.1.9 2 2 2h14c1.1 0 2-.9 2-2V5c0-1.1-.9-2-2-2zM9 17H7v-7h2v7zm4 0h-2V7h2v10zm4 0h-2v-4h2v4z\"/>\n",
              "    </g>\n",
              "</svg>\n",
              "  </button>\n",
              "\n",
              "<style>\n",
              "  .colab-df-quickchart {\n",
              "      --bg-color: #E8F0FE;\n",
              "      --fill-color: #1967D2;\n",
              "      --hover-bg-color: #E2EBFA;\n",
              "      --hover-fill-color: #174EA6;\n",
              "      --disabled-fill-color: #AAA;\n",
              "      --disabled-bg-color: #DDD;\n",
              "  }\n",
              "\n",
              "  [theme=dark] .colab-df-quickchart {\n",
              "      --bg-color: #3B4455;\n",
              "      --fill-color: #D2E3FC;\n",
              "      --hover-bg-color: #434B5C;\n",
              "      --hover-fill-color: #FFFFFF;\n",
              "      --disabled-bg-color: #3B4455;\n",
              "      --disabled-fill-color: #666;\n",
              "  }\n",
              "\n",
              "  .colab-df-quickchart {\n",
              "    background-color: var(--bg-color);\n",
              "    border: none;\n",
              "    border-radius: 50%;\n",
              "    cursor: pointer;\n",
              "    display: none;\n",
              "    fill: var(--fill-color);\n",
              "    height: 32px;\n",
              "    padding: 0;\n",
              "    width: 32px;\n",
              "  }\n",
              "\n",
              "  .colab-df-quickchart:hover {\n",
              "    background-color: var(--hover-bg-color);\n",
              "    box-shadow: 0 1px 2px rgba(60, 64, 67, 0.3), 0 1px 3px 1px rgba(60, 64, 67, 0.15);\n",
              "    fill: var(--button-hover-fill-color);\n",
              "  }\n",
              "\n",
              "  .colab-df-quickchart-complete:disabled,\n",
              "  .colab-df-quickchart-complete:disabled:hover {\n",
              "    background-color: var(--disabled-bg-color);\n",
              "    fill: var(--disabled-fill-color);\n",
              "    box-shadow: none;\n",
              "  }\n",
              "\n",
              "  .colab-df-spinner {\n",
              "    border: 2px solid var(--fill-color);\n",
              "    border-color: transparent;\n",
              "    border-bottom-color: var(--fill-color);\n",
              "    animation:\n",
              "      spin 1s steps(1) infinite;\n",
              "  }\n",
              "\n",
              "  @keyframes spin {\n",
              "    0% {\n",
              "      border-color: transparent;\n",
              "      border-bottom-color: var(--fill-color);\n",
              "      border-left-color: var(--fill-color);\n",
              "    }\n",
              "    20% {\n",
              "      border-color: transparent;\n",
              "      border-left-color: var(--fill-color);\n",
              "      border-top-color: var(--fill-color);\n",
              "    }\n",
              "    30% {\n",
              "      border-color: transparent;\n",
              "      border-left-color: var(--fill-color);\n",
              "      border-top-color: var(--fill-color);\n",
              "      border-right-color: var(--fill-color);\n",
              "    }\n",
              "    40% {\n",
              "      border-color: transparent;\n",
              "      border-right-color: var(--fill-color);\n",
              "      border-top-color: var(--fill-color);\n",
              "    }\n",
              "    60% {\n",
              "      border-color: transparent;\n",
              "      border-right-color: var(--fill-color);\n",
              "    }\n",
              "    80% {\n",
              "      border-color: transparent;\n",
              "      border-right-color: var(--fill-color);\n",
              "      border-bottom-color: var(--fill-color);\n",
              "    }\n",
              "    90% {\n",
              "      border-color: transparent;\n",
              "      border-bottom-color: var(--fill-color);\n",
              "    }\n",
              "  }\n",
              "</style>\n",
              "\n",
              "  <script>\n",
              "    async function quickchart(key) {\n",
              "      const quickchartButtonEl =\n",
              "        document.querySelector('#' + key + ' button');\n",
              "      quickchartButtonEl.disabled = true;  // To prevent multiple clicks.\n",
              "      quickchartButtonEl.classList.add('colab-df-spinner');\n",
              "      try {\n",
              "        const charts = await google.colab.kernel.invokeFunction(\n",
              "            'suggestCharts', [key], {});\n",
              "      } catch (error) {\n",
              "        console.error('Error during call to suggestCharts:', error);\n",
              "      }\n",
              "      quickchartButtonEl.classList.remove('colab-df-spinner');\n",
              "      quickchartButtonEl.classList.add('colab-df-quickchart-complete');\n",
              "    }\n",
              "    (() => {\n",
              "      let quickchartButtonEl =\n",
              "        document.querySelector('#df-cae78401-ae91-4889-bef0-44878ce4508c button');\n",
              "      quickchartButtonEl.style.display =\n",
              "        google.colab.kernel.accessAllowed ? 'block' : 'none';\n",
              "    })();\n",
              "  </script>\n",
              "</div>\n",
              "\n",
              "    </div>\n",
              "  </div>\n"
            ],
            "application/vnd.google.colaboratory.intrinsic+json": {
              "type": "dataframe",
              "variable_name": "mobility",
              "summary": "{\n  \"name\": \"mobility\",\n  \"rows\": 97794,\n  \"fields\": [\n    {\n      \"column\": \"date\",\n      \"properties\": {\n        \"dtype\": \"date\",\n        \"min\": \"2021-01-01 00:00:00\",\n        \"max\": \"2021-08-22 00:00:00\",\n        \"num_unique_values\": 234,\n        \"samples\": [\n          \"2021-03-11 00:00:00\",\n          \"2021-07-26 00:00:00\",\n          \"2021-06-30 00:00:00\"\n        ],\n        \"semantic_type\": \"\",\n        \"description\": \"\"\n      }\n    },\n    {\n      \"column\": \"country_region\",\n      \"properties\": {\n        \"dtype\": \"category\",\n        \"num_unique_values\": 1,\n        \"samples\": [\n          \"United Kingdom\"\n        ],\n        \"semantic_type\": \"\",\n        \"description\": \"\"\n      }\n    },\n    {\n      \"column\": \"sub_region_1\",\n      \"properties\": {\n        \"dtype\": \"category\",\n        \"num_unique_values\": 152,\n        \"samples\": [\n          \"Kent\"\n        ],\n        \"semantic_type\": \"\",\n        \"description\": \"\"\n      }\n    },\n    {\n      \"column\": \"sub_region_2\",\n      \"properties\": {\n        \"dtype\": \"category\",\n        \"num_unique_values\": 267,\n        \"samples\": [\n          \"London Borough of Tower Hamlets\"\n        ],\n        \"semantic_type\": \"\",\n        \"description\": \"\"\n      }\n    },\n    {\n      \"column\": \"retail_recreation\",\n      \"properties\": {\n        \"dtype\": \"number\",\n        \"std\": 27.94803241540958,\n        \"min\": -98.0,\n        \"max\": 278.0,\n        \"num_unique_values\": 255,\n        \"samples\": [\n          140.0\n        ],\n        \"semantic_type\": \"\",\n        \"description\": \"\"\n      }\n    },\n    {\n      \"column\": \"grocery_pharmacy\",\n      \"properties\": {\n        \"dtype\": \"number\",\n        \"std\": 17.399506897070395,\n        \"min\": -95.0,\n        \"max\": 217.0,\n        \"num_unique_values\": 224,\n        \"samples\": [\n          -65.0\n        ],\n        \"semantic_type\": \"\",\n        \"description\": \"\"\n      }\n    },\n    {\n      \"column\": \"parks\",\n      \"properties\": {\n        \"dtype\": \"number\",\n        \"std\": 62.74346616211783,\n        \"min\": -95.0,\n        \"max\": 747.0,\n        \"num_unique_values\": 589,\n        \"samples\": [\n          356.0\n        ],\n        \"semantic_type\": \"\",\n        \"description\": \"\"\n      }\n    },\n    {\n      \"column\": \"transit_stations\",\n      \"properties\": {\n        \"dtype\": \"number\",\n        \"std\": 25.58467554036837,\n        \"min\": -95.0,\n        \"max\": 209.0,\n        \"num_unique_values\": 274,\n        \"samples\": [\n          -95.0\n        ],\n        \"semantic_type\": \"\",\n        \"description\": \"\"\n      }\n    },\n    {\n      \"column\": \"workplaces\",\n      \"properties\": {\n        \"dtype\": \"number\",\n        \"std\": 16.565235591969987,\n        \"min\": -89.0,\n        \"max\": 45.0,\n        \"num_unique_values\": 132,\n        \"samples\": [\n          -17.0\n        ],\n        \"semantic_type\": \"\",\n        \"description\": \"\"\n      }\n    },\n    {\n      \"column\": \"residential\",\n      \"properties\": {\n        \"dtype\": \"number\",\n        \"std\": 6.4668640108393225,\n        \"min\": -5.0,\n        \"max\": 39.0,\n        \"num_unique_values\": 44,\n        \"samples\": [\n          1.0\n        ],\n        \"semantic_type\": \"\",\n        \"description\": \"\"\n      }\n    }\n  ]\n}"
            }
          },
          "metadata": {},
          "execution_count": 18
        }
      ],
      "execution_count": 18
    },
    {
      "cell_type": "markdown",
      "id": "32d9b4b2",
      "metadata": {
        "id": "32d9b4b2"
      },
      "source": [
        "This is quite a big data set, which contains data for lots of local areas (sub-regions) across the UK, as well as for the UK as a whole. So to make things easier for now, we're going to take a subset of rows, and just look at UK-level data to start with. Once we've got familiar with the data, we will then compare temporal change between the regions.\n",
        "\n",
        "Look at different regions available by calling `value_counts()` on the `sub_region_1` column."
      ]
    },
    {
      "cell_type": "code",
      "id": "d946d8f7",
      "metadata": {
        "scrolled": true,
        "id": "d946d8f7",
        "colab": {
          "base_uri": "https://localhost:8080/",
          "height": 490
        },
        "outputId": "4b2de083-f1a1-4489-c04d-f7ab67e592e8"
      },
      "source": [
        "#look at the different sub regions\n",
        "mobility['sub_region_1'].value_counts()"
      ],
      "outputs": [
        {
          "output_type": "execute_result",
          "data": {
            "text/plain": [
              "sub_region_1\n",
              "Greater London                 7956\n",
              "Essex                          3042\n",
              "Kent                           3042\n",
              "Lancashire                     3042\n",
              "Surrey                         2808\n",
              "                               ... \n",
              "East Dunbartonshire Council     234\n",
              "Rutland                         205\n",
              "Na h-Eileanan an Iar            180\n",
              "Shetland Islands                167\n",
              "Orkney                          166\n",
              "Name: count, Length: 152, dtype: int64"
            ],
            "text/html": [
              "<div>\n",
              "<style scoped>\n",
              "    .dataframe tbody tr th:only-of-type {\n",
              "        vertical-align: middle;\n",
              "    }\n",
              "\n",
              "    .dataframe tbody tr th {\n",
              "        vertical-align: top;\n",
              "    }\n",
              "\n",
              "    .dataframe thead th {\n",
              "        text-align: right;\n",
              "    }\n",
              "</style>\n",
              "<table border=\"1\" class=\"dataframe\">\n",
              "  <thead>\n",
              "    <tr style=\"text-align: right;\">\n",
              "      <th></th>\n",
              "      <th>count</th>\n",
              "    </tr>\n",
              "    <tr>\n",
              "      <th>sub_region_1</th>\n",
              "      <th></th>\n",
              "    </tr>\n",
              "  </thead>\n",
              "  <tbody>\n",
              "    <tr>\n",
              "      <th>Greater London</th>\n",
              "      <td>7956</td>\n",
              "    </tr>\n",
              "    <tr>\n",
              "      <th>Essex</th>\n",
              "      <td>3042</td>\n",
              "    </tr>\n",
              "    <tr>\n",
              "      <th>Kent</th>\n",
              "      <td>3042</td>\n",
              "    </tr>\n",
              "    <tr>\n",
              "      <th>Lancashire</th>\n",
              "      <td>3042</td>\n",
              "    </tr>\n",
              "    <tr>\n",
              "      <th>Surrey</th>\n",
              "      <td>2808</td>\n",
              "    </tr>\n",
              "    <tr>\n",
              "      <th>...</th>\n",
              "      <td>...</td>\n",
              "    </tr>\n",
              "    <tr>\n",
              "      <th>East Dunbartonshire Council</th>\n",
              "      <td>234</td>\n",
              "    </tr>\n",
              "    <tr>\n",
              "      <th>Rutland</th>\n",
              "      <td>205</td>\n",
              "    </tr>\n",
              "    <tr>\n",
              "      <th>Na h-Eileanan an Iar</th>\n",
              "      <td>180</td>\n",
              "    </tr>\n",
              "    <tr>\n",
              "      <th>Shetland Islands</th>\n",
              "      <td>167</td>\n",
              "    </tr>\n",
              "    <tr>\n",
              "      <th>Orkney</th>\n",
              "      <td>166</td>\n",
              "    </tr>\n",
              "  </tbody>\n",
              "</table>\n",
              "<p>152 rows × 1 columns</p>\n",
              "</div><br><label><b>dtype:</b> int64</label>"
            ]
          },
          "metadata": {},
          "execution_count": 19
        }
      ],
      "execution_count": 19
    },
    {
      "cell_type": "markdown",
      "id": "4c82734b",
      "metadata": {
        "id": "4c82734b"
      },
      "source": [
        "Now we will make a subset of just the whole UK values, by selecting the rows where `sub_region_1 == 'UK All'`."
      ]
    },
    {
      "cell_type": "code",
      "id": "8ee4c047",
      "metadata": {
        "id": "8ee4c047"
      },
      "source": [
        "#create a subset of the whole UK values, using the .loc method\n",
        "mobility_uk = mobility.loc[mobility['sub_region_1'] == 'UK All']"
      ],
      "outputs": [],
      "execution_count": 21
    },
    {
      "cell_type": "markdown",
      "id": "48c1062f",
      "metadata": {
        "id": "48c1062f"
      },
      "source": [
        "And have a look at the resulting subset. How many rows are you left with?"
      ]
    },
    {
      "cell_type": "code",
      "id": "33e4be11",
      "metadata": {
        "id": "33e4be11",
        "colab": {
          "base_uri": "https://localhost:8080/",
          "height": 206
        },
        "outputId": "195ffa65-8b88-46d8-9188-6744360af3ee"
      },
      "source": [
        "#look at your UK subset\n",
        "mobility_uk.head()"
      ],
      "outputs": [
        {
          "output_type": "execute_result",
          "data": {
            "text/plain": [
              "           date  country_region sub_region_1 sub_region_2  retail_recreation  \\\n",
              "0    2021-01-01  United Kingdom       UK All          NaN              -83.0   \n",
              "419  2021-01-02  United Kingdom       UK All          NaN              -68.0   \n",
              "837  2021-01-03  United Kingdom       UK All          NaN              -64.0   \n",
              "1252 2021-01-04  United Kingdom       UK All          NaN              -53.0   \n",
              "1671 2021-01-05  United Kingdom       UK All          NaN              -61.0   \n",
              "\n",
              "      grocery_pharmacy  parks  transit_stations  workplaces  residential  \n",
              "0                -64.0   -5.0             -82.0       -83.0         32.0  \n",
              "419              -24.0  -12.0             -66.0       -39.0         16.0  \n",
              "837              -24.0   -8.0             -62.0       -29.0         11.0  \n",
              "1252             -17.0  -16.0             -62.0       -49.0         19.0  \n",
              "1671             -21.0  -18.0             -63.0       -50.0         20.0  "
            ],
            "text/html": [
              "\n",
              "  <div id=\"df-423f31fe-a56a-415f-b680-64ecad1a48cc\" class=\"colab-df-container\">\n",
              "    <div>\n",
              "<style scoped>\n",
              "    .dataframe tbody tr th:only-of-type {\n",
              "        vertical-align: middle;\n",
              "    }\n",
              "\n",
              "    .dataframe tbody tr th {\n",
              "        vertical-align: top;\n",
              "    }\n",
              "\n",
              "    .dataframe thead th {\n",
              "        text-align: right;\n",
              "    }\n",
              "</style>\n",
              "<table border=\"1\" class=\"dataframe\">\n",
              "  <thead>\n",
              "    <tr style=\"text-align: right;\">\n",
              "      <th></th>\n",
              "      <th>date</th>\n",
              "      <th>country_region</th>\n",
              "      <th>sub_region_1</th>\n",
              "      <th>sub_region_2</th>\n",
              "      <th>retail_recreation</th>\n",
              "      <th>grocery_pharmacy</th>\n",
              "      <th>parks</th>\n",
              "      <th>transit_stations</th>\n",
              "      <th>workplaces</th>\n",
              "      <th>residential</th>\n",
              "    </tr>\n",
              "  </thead>\n",
              "  <tbody>\n",
              "    <tr>\n",
              "      <th>0</th>\n",
              "      <td>2021-01-01</td>\n",
              "      <td>United Kingdom</td>\n",
              "      <td>UK All</td>\n",
              "      <td>NaN</td>\n",
              "      <td>-83.0</td>\n",
              "      <td>-64.0</td>\n",
              "      <td>-5.0</td>\n",
              "      <td>-82.0</td>\n",
              "      <td>-83.0</td>\n",
              "      <td>32.0</td>\n",
              "    </tr>\n",
              "    <tr>\n",
              "      <th>419</th>\n",
              "      <td>2021-01-02</td>\n",
              "      <td>United Kingdom</td>\n",
              "      <td>UK All</td>\n",
              "      <td>NaN</td>\n",
              "      <td>-68.0</td>\n",
              "      <td>-24.0</td>\n",
              "      <td>-12.0</td>\n",
              "      <td>-66.0</td>\n",
              "      <td>-39.0</td>\n",
              "      <td>16.0</td>\n",
              "    </tr>\n",
              "    <tr>\n",
              "      <th>837</th>\n",
              "      <td>2021-01-03</td>\n",
              "      <td>United Kingdom</td>\n",
              "      <td>UK All</td>\n",
              "      <td>NaN</td>\n",
              "      <td>-64.0</td>\n",
              "      <td>-24.0</td>\n",
              "      <td>-8.0</td>\n",
              "      <td>-62.0</td>\n",
              "      <td>-29.0</td>\n",
              "      <td>11.0</td>\n",
              "    </tr>\n",
              "    <tr>\n",
              "      <th>1252</th>\n",
              "      <td>2021-01-04</td>\n",
              "      <td>United Kingdom</td>\n",
              "      <td>UK All</td>\n",
              "      <td>NaN</td>\n",
              "      <td>-53.0</td>\n",
              "      <td>-17.0</td>\n",
              "      <td>-16.0</td>\n",
              "      <td>-62.0</td>\n",
              "      <td>-49.0</td>\n",
              "      <td>19.0</td>\n",
              "    </tr>\n",
              "    <tr>\n",
              "      <th>1671</th>\n",
              "      <td>2021-01-05</td>\n",
              "      <td>United Kingdom</td>\n",
              "      <td>UK All</td>\n",
              "      <td>NaN</td>\n",
              "      <td>-61.0</td>\n",
              "      <td>-21.0</td>\n",
              "      <td>-18.0</td>\n",
              "      <td>-63.0</td>\n",
              "      <td>-50.0</td>\n",
              "      <td>20.0</td>\n",
              "    </tr>\n",
              "  </tbody>\n",
              "</table>\n",
              "</div>\n",
              "    <div class=\"colab-df-buttons\">\n",
              "\n",
              "  <div class=\"colab-df-container\">\n",
              "    <button class=\"colab-df-convert\" onclick=\"convertToInteractive('df-423f31fe-a56a-415f-b680-64ecad1a48cc')\"\n",
              "            title=\"Convert this dataframe to an interactive table.\"\n",
              "            style=\"display:none;\">\n",
              "\n",
              "  <svg xmlns=\"http://www.w3.org/2000/svg\" height=\"24px\" viewBox=\"0 -960 960 960\">\n",
              "    <path d=\"M120-120v-720h720v720H120Zm60-500h600v-160H180v160Zm220 220h160v-160H400v160Zm0 220h160v-160H400v160ZM180-400h160v-160H180v160Zm440 0h160v-160H620v160ZM180-180h160v-160H180v160Zm440 0h160v-160H620v160Z\"/>\n",
              "  </svg>\n",
              "    </button>\n",
              "\n",
              "  <style>\n",
              "    .colab-df-container {\n",
              "      display:flex;\n",
              "      gap: 12px;\n",
              "    }\n",
              "\n",
              "    .colab-df-convert {\n",
              "      background-color: #E8F0FE;\n",
              "      border: none;\n",
              "      border-radius: 50%;\n",
              "      cursor: pointer;\n",
              "      display: none;\n",
              "      fill: #1967D2;\n",
              "      height: 32px;\n",
              "      padding: 0 0 0 0;\n",
              "      width: 32px;\n",
              "    }\n",
              "\n",
              "    .colab-df-convert:hover {\n",
              "      background-color: #E2EBFA;\n",
              "      box-shadow: 0px 1px 2px rgba(60, 64, 67, 0.3), 0px 1px 3px 1px rgba(60, 64, 67, 0.15);\n",
              "      fill: #174EA6;\n",
              "    }\n",
              "\n",
              "    .colab-df-buttons div {\n",
              "      margin-bottom: 4px;\n",
              "    }\n",
              "\n",
              "    [theme=dark] .colab-df-convert {\n",
              "      background-color: #3B4455;\n",
              "      fill: #D2E3FC;\n",
              "    }\n",
              "\n",
              "    [theme=dark] .colab-df-convert:hover {\n",
              "      background-color: #434B5C;\n",
              "      box-shadow: 0px 1px 3px 1px rgba(0, 0, 0, 0.15);\n",
              "      filter: drop-shadow(0px 1px 2px rgba(0, 0, 0, 0.3));\n",
              "      fill: #FFFFFF;\n",
              "    }\n",
              "  </style>\n",
              "\n",
              "    <script>\n",
              "      const buttonEl =\n",
              "        document.querySelector('#df-423f31fe-a56a-415f-b680-64ecad1a48cc button.colab-df-convert');\n",
              "      buttonEl.style.display =\n",
              "        google.colab.kernel.accessAllowed ? 'block' : 'none';\n",
              "\n",
              "      async function convertToInteractive(key) {\n",
              "        const element = document.querySelector('#df-423f31fe-a56a-415f-b680-64ecad1a48cc');\n",
              "        const dataTable =\n",
              "          await google.colab.kernel.invokeFunction('convertToInteractive',\n",
              "                                                    [key], {});\n",
              "        if (!dataTable) return;\n",
              "\n",
              "        const docLinkHtml = 'Like what you see? Visit the ' +\n",
              "          '<a target=\"_blank\" href=https://colab.research.google.com/notebooks/data_table.ipynb>data table notebook</a>'\n",
              "          + ' to learn more about interactive tables.';\n",
              "        element.innerHTML = '';\n",
              "        dataTable['output_type'] = 'display_data';\n",
              "        await google.colab.output.renderOutput(dataTable, element);\n",
              "        const docLink = document.createElement('div');\n",
              "        docLink.innerHTML = docLinkHtml;\n",
              "        element.appendChild(docLink);\n",
              "      }\n",
              "    </script>\n",
              "  </div>\n",
              "\n",
              "\n",
              "<div id=\"df-39ea24c9-a036-4306-87d8-c4af8b9c15aa\">\n",
              "  <button class=\"colab-df-quickchart\" onclick=\"quickchart('df-39ea24c9-a036-4306-87d8-c4af8b9c15aa')\"\n",
              "            title=\"Suggest charts\"\n",
              "            style=\"display:none;\">\n",
              "\n",
              "<svg xmlns=\"http://www.w3.org/2000/svg\" height=\"24px\"viewBox=\"0 0 24 24\"\n",
              "     width=\"24px\">\n",
              "    <g>\n",
              "        <path d=\"M19 3H5c-1.1 0-2 .9-2 2v14c0 1.1.9 2 2 2h14c1.1 0 2-.9 2-2V5c0-1.1-.9-2-2-2zM9 17H7v-7h2v7zm4 0h-2V7h2v10zm4 0h-2v-4h2v4z\"/>\n",
              "    </g>\n",
              "</svg>\n",
              "  </button>\n",
              "\n",
              "<style>\n",
              "  .colab-df-quickchart {\n",
              "      --bg-color: #E8F0FE;\n",
              "      --fill-color: #1967D2;\n",
              "      --hover-bg-color: #E2EBFA;\n",
              "      --hover-fill-color: #174EA6;\n",
              "      --disabled-fill-color: #AAA;\n",
              "      --disabled-bg-color: #DDD;\n",
              "  }\n",
              "\n",
              "  [theme=dark] .colab-df-quickchart {\n",
              "      --bg-color: #3B4455;\n",
              "      --fill-color: #D2E3FC;\n",
              "      --hover-bg-color: #434B5C;\n",
              "      --hover-fill-color: #FFFFFF;\n",
              "      --disabled-bg-color: #3B4455;\n",
              "      --disabled-fill-color: #666;\n",
              "  }\n",
              "\n",
              "  .colab-df-quickchart {\n",
              "    background-color: var(--bg-color);\n",
              "    border: none;\n",
              "    border-radius: 50%;\n",
              "    cursor: pointer;\n",
              "    display: none;\n",
              "    fill: var(--fill-color);\n",
              "    height: 32px;\n",
              "    padding: 0;\n",
              "    width: 32px;\n",
              "  }\n",
              "\n",
              "  .colab-df-quickchart:hover {\n",
              "    background-color: var(--hover-bg-color);\n",
              "    box-shadow: 0 1px 2px rgba(60, 64, 67, 0.3), 0 1px 3px 1px rgba(60, 64, 67, 0.15);\n",
              "    fill: var(--button-hover-fill-color);\n",
              "  }\n",
              "\n",
              "  .colab-df-quickchart-complete:disabled,\n",
              "  .colab-df-quickchart-complete:disabled:hover {\n",
              "    background-color: var(--disabled-bg-color);\n",
              "    fill: var(--disabled-fill-color);\n",
              "    box-shadow: none;\n",
              "  }\n",
              "\n",
              "  .colab-df-spinner {\n",
              "    border: 2px solid var(--fill-color);\n",
              "    border-color: transparent;\n",
              "    border-bottom-color: var(--fill-color);\n",
              "    animation:\n",
              "      spin 1s steps(1) infinite;\n",
              "  }\n",
              "\n",
              "  @keyframes spin {\n",
              "    0% {\n",
              "      border-color: transparent;\n",
              "      border-bottom-color: var(--fill-color);\n",
              "      border-left-color: var(--fill-color);\n",
              "    }\n",
              "    20% {\n",
              "      border-color: transparent;\n",
              "      border-left-color: var(--fill-color);\n",
              "      border-top-color: var(--fill-color);\n",
              "    }\n",
              "    30% {\n",
              "      border-color: transparent;\n",
              "      border-left-color: var(--fill-color);\n",
              "      border-top-color: var(--fill-color);\n",
              "      border-right-color: var(--fill-color);\n",
              "    }\n",
              "    40% {\n",
              "      border-color: transparent;\n",
              "      border-right-color: var(--fill-color);\n",
              "      border-top-color: var(--fill-color);\n",
              "    }\n",
              "    60% {\n",
              "      border-color: transparent;\n",
              "      border-right-color: var(--fill-color);\n",
              "    }\n",
              "    80% {\n",
              "      border-color: transparent;\n",
              "      border-right-color: var(--fill-color);\n",
              "      border-bottom-color: var(--fill-color);\n",
              "    }\n",
              "    90% {\n",
              "      border-color: transparent;\n",
              "      border-bottom-color: var(--fill-color);\n",
              "    }\n",
              "  }\n",
              "</style>\n",
              "\n",
              "  <script>\n",
              "    async function quickchart(key) {\n",
              "      const quickchartButtonEl =\n",
              "        document.querySelector('#' + key + ' button');\n",
              "      quickchartButtonEl.disabled = true;  // To prevent multiple clicks.\n",
              "      quickchartButtonEl.classList.add('colab-df-spinner');\n",
              "      try {\n",
              "        const charts = await google.colab.kernel.invokeFunction(\n",
              "            'suggestCharts', [key], {});\n",
              "      } catch (error) {\n",
              "        console.error('Error during call to suggestCharts:', error);\n",
              "      }\n",
              "      quickchartButtonEl.classList.remove('colab-df-spinner');\n",
              "      quickchartButtonEl.classList.add('colab-df-quickchart-complete');\n",
              "    }\n",
              "    (() => {\n",
              "      let quickchartButtonEl =\n",
              "        document.querySelector('#df-39ea24c9-a036-4306-87d8-c4af8b9c15aa button');\n",
              "      quickchartButtonEl.style.display =\n",
              "        google.colab.kernel.accessAllowed ? 'block' : 'none';\n",
              "    })();\n",
              "  </script>\n",
              "</div>\n",
              "\n",
              "    </div>\n",
              "  </div>\n"
            ],
            "application/vnd.google.colaboratory.intrinsic+json": {
              "type": "dataframe",
              "variable_name": "mobility_uk",
              "repr_error": "Out of range float values are not JSON compliant: nan"
            }
          },
          "metadata": {},
          "execution_count": 22
        }
      ],
      "execution_count": 22
    },
    {
      "cell_type": "markdown",
      "id": "a7b76a20",
      "metadata": {
        "id": "a7b76a20"
      },
      "source": [
        "<br><br><br>\n",
        "## Plotting Time Series Data\n",
        "We'll now visualise the different variables. Thankfully, this is really easy in Python, we just use the `plot` command and call our `date` variable alongside the variable for which we're interested in seeing the change over time. We'll start with the percentage change in mobility for retail and recreation:\n",
        "Start by looking at retail/recreation field:"
      ]
    },
    {
      "cell_type": "code",
      "id": "f588f6f6",
      "metadata": {
        "scrolled": true,
        "id": "f588f6f6",
        "colab": {
          "base_uri": "https://localhost:8080/",
          "height": 483
        },
        "outputId": "be37053e-421c-4609-c7ed-0c9a6f944eb7"
      },
      "source": [
        "#create a plot of date and the retail/recreation field\n",
        "mobility_uk.plot('date', 'workplaces')"
      ],
      "outputs": [
        {
          "output_type": "execute_result",
          "data": {
            "text/plain": [
              "<Axes: xlabel='date'>"
            ]
          },
          "metadata": {},
          "execution_count": 23
        },
        {
          "output_type": "display_data",
          "data": {
            "text/plain": [
              "<Figure size 640x480 with 1 Axes>"
            ],
            "image/png": "[encoded data removed]"
          },
          "metadata": {}
        }
      ],
      "execution_count": 23
    },
    {
      "cell_type": "markdown",
      "id": "d3fee01f",
      "metadata": {
        "id": "d3fee01f"
      },
      "source": [
        "Great- you should have a graph showing the date along the x-axis and the retail and recreation change on the y-axis.\n",
        "It's pretty cool that Python can plot all this!\n",
        "Instead of lines, we could use a symbol instead:\n"
      ]
    },
    {
      "cell_type": "code",
      "id": "92a8fbff",
      "metadata": {
        "id": "92a8fbff",
        "colab": {
          "base_uri": "https://localhost:8080/",
          "height": 483
        },
        "outputId": "6f7a24c8-6665-4913-9256-63596389fafc"
      },
      "source": [
        "mobility_uk.plot('date', 'retail_recreation', style = 'k.' )"
      ],
      "outputs": [
        {
          "output_type": "execute_result",
          "data": {
            "text/plain": [
              "<Axes: xlabel='date'>"
            ]
          },
          "metadata": {},
          "execution_count": 24
        },
        {
          "output_type": "display_data",
          "data": {
            "text/plain": [
              "<Figure size 640x480 with 1 Axes>"
            ],
            "image/png": "[encoded data removed]"
          },
          "metadata": {}
        }
      ],
      "execution_count": 24
    },
    {
      "cell_type": "markdown",
      "id": "7f99c371",
      "metadata": {
        "id": "7f99c371"
      },
      "source": [
        "However, this does make it a bit harder to see!"
      ]
    },
    {
      "cell_type": "markdown",
      "id": "a9d8de37",
      "metadata": {
        "id": "a9d8de37"
      },
      "source": [
        "We can also plot values in the same way we would non-temporal data, e.g. through histograms."
      ]
    },
    {
      "cell_type": "code",
      "id": "2155d78d",
      "metadata": {
        "scrolled": true,
        "id": "2155d78d",
        "colab": {
          "base_uri": "https://localhost:8080/",
          "height": 499
        },
        "outputId": "31c81e61-8f8d-408e-b0bf-ce84ecaff9da"
      },
      "source": [
        "#create a histogram of the retail and recreation data, with an appropriate number of bins\n",
        "plt.hist(mobility_uk['workplaces'])"
      ],
      "outputs": [
        {
          "output_type": "execute_result",
          "data": {
            "text/plain": [
              "(array([ 2.,  3.,  0., 17., 37., 56., 68., 11., 13., 27.]),\n",
              " array([-83. , -74.8, -66.6, -58.4, -50.2, -42. , -33.8, -25.6, -17.4,\n",
              "         -9.2,  -1. ]),\n",
              " <BarContainer object of 10 artists>)"
            ]
          },
          "metadata": {},
          "execution_count": 25
        },
        {
          "output_type": "display_data",
          "data": {
            "text/plain": [
              "<Figure size 640x480 with 1 Axes>"
            ],
            "image/png": "[encoded data removed]"
          },
          "metadata": {}
        }
      ],
      "execution_count": 25
    },
    {
      "cell_type": "markdown",
      "id": "4b60505f",
      "metadata": {
        "id": "4b60505f"
      },
      "source": [
        "For box plots comparing the different mobility features, we create a subset of just these columns and include them on the same axes. Create a subset of the `mobility_uk` data just with all of the mobility categories (i.e.: retail recreation, parks, workplaces, etc). We can then call a boxplot on the whole subset, by running the code below."
      ]
    },
    {
      "cell_type": "code",
      "id": "7d0ce094",
      "metadata": {
        "id": "7d0ce094"
      },
      "source": [
        "#create your subset\n",
        "mobility_plots = mobility.drop(['date', 'country_region', 'sub_region_1', 'sub_region_2'], axis = 1)"
      ],
      "outputs": [],
      "execution_count": 32
    },
    {
      "cell_type": "code",
      "id": "fb15b62e",
      "metadata": {
        "scrolled": true,
        "id": "fb15b62e",
        "colab": {
          "base_uri": "https://localhost:8080/",
          "height": 676
        },
        "outputId": "d52ae88d-18bc-4199-8e70-60996fdfedf8"
      },
      "source": [
        "fig, ax = plt.subplots(1,1, figsize=(10,8), )\n",
        "mobility_plots.boxplot()\n",
        "plt.show()"
      ],
      "outputs": [
        {
          "output_type": "display_data",
          "data": {
            "text/plain": [
              "<Figure size 1000x800 with 1 Axes>"
            ],
            "image/png": "[encoded data removed]"
          },
          "metadata": {}
        }
      ],
      "execution_count": 33
    },
    {
      "cell_type": "markdown",
      "id": "3dc0fc48",
      "metadata": {
        "id": "3dc0fc48"
      },
      "source": [
        "What does this boxplot tell us about the change in mobility for the different locations?"
      ]
    },
    {
      "cell_type": "code",
      "source": [
        "#your comments on the boxplot here"
      ],
      "metadata": {
        "id": "JPPdDsZ33ydp"
      },
      "id": "JPPdDsZ33ydp",
      "execution_count": null,
      "outputs": []
    },
    {
      "cell_type": "markdown",
      "source": [
        "We can also create a heatmap showing the correlation (frequency of co-visits to pairs of amenities on the same day). This is similar to heatmap generation you did in previous weeks"
      ],
      "metadata": {
        "id": "zMMFi7Z13sjl"
      },
      "id": "zMMFi7Z13sjl"
    },
    {
      "cell_type": "code",
      "source": [
        "plt.figure(figsize=(10, 8))\n",
        "sns.heatmap(mobility_plots[:10])\n",
        "plt.title('Heatmap of Co-Visits to Pairs of Amenities')\n",
        "plt.show()"
      ],
      "metadata": {
        "id": "Wa7GisKZnkX5",
        "colab": {
          "base_uri": "https://localhost:8080/",
          "height": 814
        },
        "outputId": "f67849e1-ac1c-42f2-8ed3-92ee60483199"
      },
      "id": "Wa7GisKZnkX5",
      "outputs": [
        {
          "output_type": "display_data",
          "data": {
            "text/plain": [
              "<Figure size 1000x800 with 2 Axes>"
            ],
            "image/png": "[encoded data removed]"
          },
          "metadata": {}
        }
      ],
      "execution_count": 37
    },
    {
      "cell_type": "code",
      "source": [
        "#Discuss your findings from the heatmap here.\n"
      ],
      "metadata": {
        "id": "M520OxEcrBkH"
      },
      "id": "M520OxEcrBkH",
      "outputs": [],
      "execution_count": null
    },
    {
      "cell_type": "markdown",
      "id": "26e5db71",
      "metadata": {
        "id": "26e5db71"
      },
      "source": [
        "We can also use our subset to plot our time series graphs on top of each other by creating a data frame with time as well. Recalculate your `mobility_plots` subset, but this time include the date variable as well."
      ]
    },
    {
      "cell_type": "code",
      "id": "0e27218a",
      "metadata": {
        "id": "0e27218a"
      },
      "source": [
        "mobility_time_plots = mobility.drop(['country_region', 'sub_region_1', 'sub_region_2'], axis = 1)"
      ],
      "outputs": [],
      "execution_count": 38
    },
    {
      "cell_type": "code",
      "id": "cada6213",
      "metadata": {
        "scrolled": true,
        "id": "cada6213",
        "colab": {
          "base_uri": "https://localhost:8080/",
          "height": 450
        },
        "outputId": "a4466ad2-9be1-4017-8690-624b896f1058"
      },
      "source": [
        "#plot by date again, and you should see how Python/Pandas automatically groups by the different mobility categories\n",
        "mobility_time_plots.plot('date')"
      ],
      "outputs": [
        {
          "output_type": "execute_result",
          "data": {
            "text/plain": [
              "<Axes: xlabel='date'>"
            ]
          },
          "metadata": {},
          "execution_count": 42
        },
        {
          "output_type": "display_data",
          "data": {
            "text/plain": [
              "<Figure size 640x480 with 1 Axes>"
            ],
            "image/png": "[encoded data removed]"
          },
          "metadata": {}
        }
      ],
      "execution_count": 42
    },
    {
      "cell_type": "markdown",
      "id": "c2d78a56",
      "metadata": {
        "id": "c2d78a56"
      },
      "source": [
        "This is looking good! Now we've compared the different categories, we can also compare different regions. This is simplest if we pick just one variable, so we'll look at residential, which tells us how much time people have been spending in residential areas (i.e. their own homes, relative to 'normal').   Let's compare the UK average `sub_region` to a London subregion (Southwark- where the shard is), and Leeds (these are labelled in the `sub_region_2` variable).\n",
        "\n",
        "We're going to create a new table, which will have the dates as one column, followed by the residential mobility of each region (UK, London, Leeds)."
      ]
    },
    {
      "cell_type": "markdown",
      "id": "08dabc73",
      "metadata": {
        "id": "08dabc73"
      },
      "source": [
        "We'll first create subsets of `sub_region_2 == 'London Borough of Southwark'` and `sub_region_2 == 'Leeds District'`;  do this below."
      ]
    },
    {
      "cell_type": "code",
      "id": "79897eb6",
      "metadata": {
        "id": "79897eb6"
      },
      "source": [
        "mobility_london = mobility.loc[mobility['sub_region_2'] == 'London Borough of Southwark']\n",
        "mobility_leeds = mobility.loc[mobility['sub_region_2'] == 'Leeds District']"
      ],
      "outputs": [],
      "execution_count": 43
    },
    {
      "cell_type": "markdown",
      "id": "38c7df13",
      "metadata": {
        "id": "38c7df13"
      },
      "source": [
        "We can now create our residential subsets, which include only the date and `residential` variables."
      ]
    },
    {
      "cell_type": "code",
      "id": "cc6064cf",
      "metadata": {
        "id": "cc6064cf"
      },
      "source": [
        "mobility_london_res = mobility_london[['date', 'residential']]\n",
        "mobility_leeds_res = mobility_leeds[['date', 'residential']]\n",
        "mobility_uk_res = mobility_uk[['date', 'residential']]"
      ],
      "outputs": [],
      "execution_count": 48
    },
    {
      "cell_type": "markdown",
      "id": "dd447c8a",
      "metadata": {
        "id": "dd447c8a"
      },
      "source": [
        "Before we join these up, we'll rename the `residential` column, so we know which area it refers to. We've done the first one for you, so add the code to rename the column for Leeds and the rest of the UK below."
      ]
    },
    {
      "cell_type": "code",
      "id": "023bfa3c",
      "metadata": {
        "id": "023bfa3c"
      },
      "source": [
        "mobility_london_res.rename(columns = {\"residential\": \"Southwark residential\"}, inplace = True)\n",
        "\n",
        "#rename the residential columns in your Leeds and UK data\n",
        "mobility_leeds_res.rename(columns = {\"residential\": \"Leeds residential\"}, inplace = True)\n",
        "mobility_uk_res.rename(columns = {\"residential\": \"UK residential\"}, inplace = True)\n"
      ],
      "outputs": [],
      "execution_count": 49
    },
    {
      "cell_type": "markdown",
      "id": "be20895f",
      "metadata": {
        "id": "be20895f"
      },
      "source": [
        "To create our final dataset, we just need to join them all back together, based on the date column, adding each local area as a new column."
      ]
    },
    {
      "cell_type": "code",
      "id": "f42062d0",
      "metadata": {
        "id": "f42062d0",
        "colab": {
          "base_uri": "https://localhost:8080/",
          "height": 356
        },
        "outputId": "06c497cd-4079-4b7b-f40d-c320c0cc9908"
      },
      "source": [
        "#first add the london data to the UK mobility data:\n",
        "mobility2 = mobility_uk_res.join(mobility_london_res, on='date')\n",
        "\n",
        "#now join Leeds to mobility2:\n",
        "mobility_res = mobility2.join(mobility_leeds_res, on='date')"
      ],
      "outputs": [
        {
          "output_type": "error",
          "ename": "ValueError",
          "evalue": "You are trying to merge on datetime64[ns] and int64 columns for key 'date'. If you wish to proceed you should use pd.concat",
          "traceback": [
            "\u001b[0;31m---------------------------------------------------------------------------\u001b[0m",
            "\u001b[0;31mValueError\u001b[0m                                Traceback (most recent call last)",
            "\u001b[0;32m<ipython-input-53-017e5443d93c>\u001b[0m in \u001b[0;36m<cell line: 2>\u001b[0;34m()\u001b[0m\n\u001b[1;32m      1\u001b[0m \u001b[0;31m#first add the london data to the UK mobility data:\u001b[0m\u001b[0;34m\u001b[0m\u001b[0;34m\u001b[0m\u001b[0m\n\u001b[0;32m----> 2\u001b[0;31m \u001b[0mmobility2\u001b[0m \u001b[0;34m=\u001b[0m \u001b[0mmobility_uk_res\u001b[0m\u001b[0;34m.\u001b[0m\u001b[0mjoin\u001b[0m\u001b[0;34m(\u001b[0m\u001b[0mmobility_london_res\u001b[0m\u001b[0;34m,\u001b[0m \u001b[0mon\u001b[0m\u001b[0;34m=\u001b[0m\u001b[0;34m'date'\u001b[0m\u001b[0;34m)\u001b[0m\u001b[0;34m\u001b[0m\u001b[0;34m\u001b[0m\u001b[0m\n\u001b[0m\u001b[1;32m      3\u001b[0m \u001b[0;34m\u001b[0m\u001b[0m\n\u001b[1;32m      4\u001b[0m \u001b[0;31m#now join Leeds to mobility2:\u001b[0m\u001b[0;34m\u001b[0m\u001b[0;34m\u001b[0m\u001b[0m\n\u001b[1;32m      5\u001b[0m \u001b[0mmobility_res\u001b[0m \u001b[0;34m=\u001b[0m \u001b[0mmobility2\u001b[0m\u001b[0;34m.\u001b[0m\u001b[0mjoin\u001b[0m\u001b[0;34m(\u001b[0m\u001b[0mmobility_leeds_res\u001b[0m\u001b[0;34m,\u001b[0m \u001b[0mon\u001b[0m\u001b[0;34m=\u001b[0m\u001b[0;34m'date'\u001b[0m\u001b[0;34m)\u001b[0m\u001b[0;34m\u001b[0m\u001b[0;34m\u001b[0m\u001b[0m\n",
            "\u001b[0;32m/usr/local/lib/python3.10/dist-packages/pandas/core/frame.py\u001b[0m in \u001b[0;36mjoin\u001b[0;34m(self, other, on, how, lsuffix, rsuffix, sort, validate)\u001b[0m\n\u001b[1;32m  10755\u001b[0m                     \u001b[0mvalidate\u001b[0m\u001b[0;34m=\u001b[0m\u001b[0mvalidate\u001b[0m\u001b[0;34m,\u001b[0m\u001b[0;34m\u001b[0m\u001b[0;34m\u001b[0m\u001b[0m\n\u001b[1;32m  10756\u001b[0m                 )\n\u001b[0;32m> 10757\u001b[0;31m             return merge(\n\u001b[0m\u001b[1;32m  10758\u001b[0m                 \u001b[0mself\u001b[0m\u001b[0;34m,\u001b[0m\u001b[0;34m\u001b[0m\u001b[0;34m\u001b[0m\u001b[0m\n\u001b[1;32m  10759\u001b[0m                 \u001b[0mother\u001b[0m\u001b[0;34m,\u001b[0m\u001b[0;34m\u001b[0m\u001b[0;34m\u001b[0m\u001b[0m\n",
            "\u001b[0;32m/usr/local/lib/python3.10/dist-packages/pandas/core/reshape/merge.py\u001b[0m in \u001b[0;36mmerge\u001b[0;34m(left, right, how, on, left_on, right_on, left_index, right_index, sort, suffixes, copy, indicator, validate)\u001b[0m\n\u001b[1;32m    168\u001b[0m         )\n\u001b[1;32m    169\u001b[0m     \u001b[0;32melse\u001b[0m\u001b[0;34m:\u001b[0m\u001b[0;34m\u001b[0m\u001b[0;34m\u001b[0m\u001b[0m\n\u001b[0;32m--> 170\u001b[0;31m         op = _MergeOperation(\n\u001b[0m\u001b[1;32m    171\u001b[0m             \u001b[0mleft_df\u001b[0m\u001b[0;34m,\u001b[0m\u001b[0;34m\u001b[0m\u001b[0;34m\u001b[0m\u001b[0m\n\u001b[1;32m    172\u001b[0m             \u001b[0mright_df\u001b[0m\u001b[0;34m,\u001b[0m\u001b[0;34m\u001b[0m\u001b[0;34m\u001b[0m\u001b[0m\n",
            "\u001b[0;32m/usr/local/lib/python3.10/dist-packages/pandas/core/reshape/merge.py\u001b[0m in \u001b[0;36m__init__\u001b[0;34m(self, left, right, how, on, left_on, right_on, left_index, right_index, sort, suffixes, indicator, validate)\u001b[0m\n\u001b[1;32m    805\u001b[0m         \u001b[0;31m# validate the merge keys dtypes. We may need to coerce\u001b[0m\u001b[0;34m\u001b[0m\u001b[0;34m\u001b[0m\u001b[0m\n\u001b[1;32m    806\u001b[0m         \u001b[0;31m# to avoid incompatible dtypes\u001b[0m\u001b[0;34m\u001b[0m\u001b[0;34m\u001b[0m\u001b[0m\n\u001b[0;32m--> 807\u001b[0;31m         \u001b[0mself\u001b[0m\u001b[0;34m.\u001b[0m\u001b[0m_maybe_coerce_merge_keys\u001b[0m\u001b[0;34m(\u001b[0m\u001b[0;34m)\u001b[0m\u001b[0;34m\u001b[0m\u001b[0;34m\u001b[0m\u001b[0m\n\u001b[0m\u001b[1;32m    808\u001b[0m \u001b[0;34m\u001b[0m\u001b[0m\n\u001b[1;32m    809\u001b[0m         \u001b[0;31m# If argument passed to validate,\u001b[0m\u001b[0;34m\u001b[0m\u001b[0;34m\u001b[0m\u001b[0m\n",
            "\u001b[0;32m/usr/local/lib/python3.10/dist-packages/pandas/core/reshape/merge.py\u001b[0m in \u001b[0;36m_maybe_coerce_merge_keys\u001b[0;34m(self)\u001b[0m\n\u001b[1;32m   1510\u001b[0m             \u001b[0;31m# datetimelikes must match exactly\u001b[0m\u001b[0;34m\u001b[0m\u001b[0;34m\u001b[0m\u001b[0m\n\u001b[1;32m   1511\u001b[0m             \u001b[0;32melif\u001b[0m \u001b[0mneeds_i8_conversion\u001b[0m\u001b[0;34m(\u001b[0m\u001b[0mlk\u001b[0m\u001b[0;34m.\u001b[0m\u001b[0mdtype\u001b[0m\u001b[0;34m)\u001b[0m \u001b[0;32mand\u001b[0m \u001b[0;32mnot\u001b[0m \u001b[0mneeds_i8_conversion\u001b[0m\u001b[0;34m(\u001b[0m\u001b[0mrk\u001b[0m\u001b[0;34m.\u001b[0m\u001b[0mdtype\u001b[0m\u001b[0;34m)\u001b[0m\u001b[0;34m:\u001b[0m\u001b[0;34m\u001b[0m\u001b[0;34m\u001b[0m\u001b[0m\n\u001b[0;32m-> 1512\u001b[0;31m                 \u001b[0;32mraise\u001b[0m \u001b[0mValueError\u001b[0m\u001b[0;34m(\u001b[0m\u001b[0mmsg\u001b[0m\u001b[0;34m)\u001b[0m\u001b[0;34m\u001b[0m\u001b[0;34m\u001b[0m\u001b[0m\n\u001b[0m\u001b[1;32m   1513\u001b[0m             \u001b[0;32melif\u001b[0m \u001b[0;32mnot\u001b[0m \u001b[0mneeds_i8_conversion\u001b[0m\u001b[0;34m(\u001b[0m\u001b[0mlk\u001b[0m\u001b[0;34m.\u001b[0m\u001b[0mdtype\u001b[0m\u001b[0;34m)\u001b[0m \u001b[0;32mand\u001b[0m \u001b[0mneeds_i8_conversion\u001b[0m\u001b[0;34m(\u001b[0m\u001b[0mrk\u001b[0m\u001b[0;34m.\u001b[0m\u001b[0mdtype\u001b[0m\u001b[0;34m)\u001b[0m\u001b[0;34m:\u001b[0m\u001b[0;34m\u001b[0m\u001b[0;34m\u001b[0m\u001b[0m\n\u001b[1;32m   1514\u001b[0m                 \u001b[0;32mraise\u001b[0m \u001b[0mValueError\u001b[0m\u001b[0;34m(\u001b[0m\u001b[0mmsg\u001b[0m\u001b[0;34m)\u001b[0m\u001b[0;34m\u001b[0m\u001b[0;34m\u001b[0m\u001b[0m\n",
            "\u001b[0;31mValueError\u001b[0m: You are trying to merge on datetime64[ns] and int64 columns for key 'date'. If you wish to proceed you should use pd.concat"
          ]
        }
      ],
      "execution_count": 53
    },
    {
      "cell_type": "markdown",
      "id": "47f6748e",
      "metadata": {
        "id": "47f6748e"
      },
      "source": [
        "View the final dataset to see what we've created:"
      ]
    },
    {
      "cell_type": "code",
      "id": "953328a3",
      "metadata": {
        "id": "953328a3"
      },
      "source": [
        "#look at the data"
      ],
      "outputs": [],
      "execution_count": null
    },
    {
      "cell_type": "markdown",
      "id": "3f3b2bb6",
      "metadata": {
        "id": "3f3b2bb6"
      },
      "source": [
        "The final step is to create a comparative plot to visualise this. We can re-create our `mobility_time_plot`, but for our `mobility_res` data, to view the change over time in the different regions."
      ]
    },
    {
      "cell_type": "code",
      "id": "7f0b89e3",
      "metadata": {
        "id": "7f0b89e3"
      },
      "source": [
        "#plot the mobility_res data"
      ],
      "outputs": [],
      "execution_count": null
    },
    {
      "cell_type": "markdown",
      "id": "b7ed8c5c",
      "metadata": {
        "id": "b7ed8c5c"
      },
      "source": [
        "What patterns do you observe over time and between the different areas? Comment on this below."
      ]
    },
    {
      "cell_type": "code",
      "id": "260ab2c4",
      "metadata": {
        "id": "260ab2c4"
      },
      "source": [
        "#comment on what you can infer from the plot\n"
      ],
      "outputs": [],
      "execution_count": null
    },
    {
      "cell_type": "markdown",
      "id": "3f3ba8de",
      "metadata": {
        "id": "3f3ba8de"
      },
      "source": [
        "<br> <br> <br>\n",
        "## Simple Moving Average\n",
        "Now we've done a lot of visualising and exploring our temporal data, we'll get started on some modelling. For our moving averages, it's simplest to work with just one variable at a time, so we will use the `mobility_uk_res` subset we created in the previous section. This should be the residential mobility for the UK, without the other individual subregions.\n",
        "Have a quick look at this data set to remind us what it looks like."
      ]
    },
    {
      "cell_type": "code",
      "id": "a6b439c2",
      "metadata": {
        "id": "a6b439c2"
      },
      "source": [
        "#look at the mobility_uk_res data"
      ],
      "outputs": [],
      "execution_count": null
    },
    {
      "cell_type": "markdown",
      "id": "16f3aa5e",
      "metadata": {
        "id": "16f3aa5e"
      },
      "source": [
        "We'll start by calculating different moving averages, which are good for analysing trends. This is pretty straightforward- we can specify the time period we want to calculate our average for, and add this as an additional parameter. Run the code below to calculate the 7-day moving average (i.e. the average for each 7-day period within the data), and then view the resulting addition to the data."
      ]
    },
    {
      "cell_type": "code",
      "id": "4b0520ce",
      "metadata": {
        "scrolled": true,
        "id": "4b0520ce"
      },
      "source": [
        "mobility_uk_res['7 day Avg'] = mobility_uk_res['UK residential'].rolling(7, min_periods=1).mean() # 7day moving average\n",
        "#can you figure out what each part of this code does?"
      ],
      "outputs": [],
      "execution_count": null
    },
    {
      "cell_type": "code",
      "id": "184960ae",
      "metadata": {
        "id": "184960ae"
      },
      "source": [
        "#view the data"
      ],
      "outputs": [],
      "execution_count": null
    },
    {
      "cell_type": "markdown",
      "id": "a0396986",
      "metadata": {
        "id": "a0396986"
      },
      "source": [
        "Now, calculate the 14-day and 28-day moving averages and add these to the data frame."
      ]
    },
    {
      "cell_type": "code",
      "id": "de4e01ec",
      "metadata": {
        "id": "de4e01ec"
      },
      "source": [
        "#calculate further moving averages"
      ],
      "outputs": [],
      "execution_count": null
    },
    {
      "cell_type": "markdown",
      "id": "678f57b0",
      "metadata": {
        "id": "678f57b0"
      },
      "source": [
        "Now you should be able to plot the `mobility_uk_res` data, and examine the original data, alongside the moving averages."
      ]
    },
    {
      "cell_type": "code",
      "id": "842755ac",
      "metadata": {
        "id": "842755ac"
      },
      "source": [
        "#plot thr mobility_uk_res data and view the different groupings"
      ],
      "outputs": [],
      "execution_count": null
    },
    {
      "cell_type": "code",
      "id": "6d8efea5",
      "metadata": {
        "id": "6d8efea5"
      },
      "source": [
        "#comment on how these different moving averages compare"
      ],
      "outputs": [],
      "execution_count": null
    },
    {
      "cell_type": "markdown",
      "source": [
        "Do you remeber that we mentioned simple moving average is not that suitable for making predictions? We can quantatively evaluate the differences between moving average values (can be seen as predictions) and actual values. We use the metrics RMSE and MAPE in this case.\n",
        "\n",
        "You could see [here](https://medium.com/@jonatasv/metrics-evaluation-mse-rmse-mae-and-mape-317cab85a26b) for a reference of these metrics. In short, RMSE is about error values while MAPE is about mean absolute PERCENTAGE error."
      ],
      "metadata": {
        "id": "MwGuawklwAYZ"
      },
      "id": "MwGuawklwAYZ"
    },
    {
      "cell_type": "code",
      "source": [
        "from sklearn.metrics import mean_squared_error, mean_absolute_percentage_error\n",
        "\n",
        "# Calculate the 7-day, 14-day, and 28-day moving averages using only previous days' values\n",
        "# Can you find the differences here, compared to previous moving average function?\n",
        "mobility_uk_res['7 day Avg shift'] = mobility_uk_res['UK residential'].shift(1).rolling(7, min_periods=1).mean()\n",
        "mobility_uk_res['14 day Avg shift'] = mobility_uk_res['UK residential'].shift(1).rolling(14, min_periods=1).mean()\n",
        "mobility_uk_res['28 day Avg shift'] = mobility_uk_res['UK residential'].shift(1).rolling(28, min_periods=1).mean()\n",
        "\n",
        "# Drop rows where any of the moving averages or the actual values contain NaN\n",
        "mobility_uk_res = mobility_uk_res.dropna(subset=['UK residential', '7 day Avg shift', '14 day Avg shift', '28 day Avg shift'])\n",
        "\n",
        "# Calculate RMSE and MAPE for each moving average\n",
        "rmse_7 = np.sqrt(mean_squared_error(mobility_uk_res['UK residential'], mobility_uk_res['7 day Avg shift']))\n",
        "mape_7 = mean_absolute_percentage_error(mobility_uk_res['UK residential'], mobility_uk_res['7 day Avg shift'])\n",
        "\n",
        "rmse_14 = np.sqrt(mean_squared_error(mobility_uk_res['UK residential'], mobility_uk_res['14 day Avg shift']))\n",
        "mape_14 = mean_absolute_percentage_error(mobility_uk_res['UK residential'], mobility_uk_res['14 day Avg shift'])\n",
        "\n",
        "rmse_28 = np.sqrt(mean_squared_error(mobility_uk_res['UK residential'], mobility_uk_res['28 day Avg shift']))\n",
        "mape_28 = mean_absolute_percentage_error(mobility_uk_res['UK residential'], mobility_uk_res['28 day Avg shift'])\n",
        "\n",
        "# Print the results\n",
        "print(f\"7-day Avg - RMSE: {rmse_7}, MAPE: {mape_7 * 100}%\")\n",
        "print(f\"14-day Avg - RMSE: {rmse_14}, MAPE: {mape_14 * 100}%\")\n",
        "print(f\"28-day Avg - RMSE: {rmse_28}, MAPE: {mape_28 * 100}%\")\n"
      ],
      "metadata": {
        "id": "ctyg4Bj8vuKd"
      },
      "id": "ctyg4Bj8vuKd",
      "outputs": [],
      "execution_count": null
    },
    {
      "cell_type": "markdown",
      "source": [
        "The percentage errors appear to be quite large, indicating that the simple moving average is more suited for understanding trends by smoothing out variations rather than for making accurate predictions."
      ],
      "metadata": {
        "id": "_bkqsNi0xLvu"
      },
      "id": "_bkqsNi0xLvu"
    },
    {
      "cell_type": "markdown",
      "id": "06ab7d12",
      "metadata": {
        "id": "06ab7d12"
      },
      "source": [
        "One other way of calculating moving averages doesn't just use a specified time window, as above, but calculates the cumulative average based on _all_ previous values, so the average on day 2 will be the average of these 2 days, and the average on day 200 will be the average of all 200 days! We calculate this in the below cell. Then you can re-plot your time series graph, and comment on how the cumulative average compares to the previous averages."
      ]
    },
    {
      "cell_type": "code",
      "id": "528155f8",
      "metadata": {
        "id": "528155f8"
      },
      "source": [
        "mobility_uk_res['Cumulative Avg'] = mobility_uk_res['UK residential'].expanding().mean()\n",
        "#the 'expanding' tells python to increase the average window each time"
      ],
      "outputs": [],
      "execution_count": null
    },
    {
      "cell_type": "code",
      "id": "f1ee0026",
      "metadata": {
        "scrolled": true,
        "id": "f1ee0026"
      },
      "source": [
        "#plot the data again"
      ],
      "outputs": [],
      "execution_count": null
    },
    {
      "cell_type": "code",
      "id": "d9b24e74",
      "metadata": {
        "id": "d9b24e74"
      },
      "source": [
        "#comment on how these different moving averages compare"
      ],
      "outputs": [],
      "execution_count": null
    },
    {
      "cell_type": "markdown",
      "id": "0acbcd2c",
      "metadata": {
        "id": "0acbcd2c"
      },
      "source": [
        "<br><br><br>\n",
        "## Simple Exponential Smoothing"
      ]
    },
    {
      "cell_type": "markdown",
      "id": "9d174d5b",
      "metadata": {
        "id": "9d174d5b"
      },
      "source": [
        "We willl now extend our moving averages to look at prediction, first using a simple exponential smoothing where we specify an _alpha_ or _smoothing function_, which determines how much we weight previous observations in our average. Higher values give greater weighting to the most recent average, and therefore smooth faster, whereas lower values give more weighting to the most recent observation, so they smooth more gradually. Let's try this out. We first need to add in some new packages."
      ]
    },
    {
      "cell_type": "code",
      "id": "6252b1fe",
      "metadata": {
        "id": "6252b1fe"
      },
      "source": [
        "from statsmodels.tsa.api import SimpleExpSmoothing, Holt, ExponentialSmoothing"
      ],
      "outputs": [],
      "execution_count": null
    },
    {
      "cell_type": "markdown",
      "id": "252ed5bb",
      "metadata": {
        "id": "252ed5bb"
      },
      "source": [
        "Just to be a bit confusing, this package requires the data to be in an array format, rather than in a date frame. We don't need to worry about why too much, just that some packages work with data in a slightly different way because they're designed by different people, so this step just makes sure that our calculations will work."
      ]
    },
    {
      "cell_type": "code",
      "id": "0430b6f3",
      "metadata": {
        "id": "0430b6f3"
      },
      "source": [
        "res = mobility_res['UK residential'].tolist() #turn our residential data into a list\n",
        "dates = pd.DatetimeIndex(mobility_res.date) #create a datetime index\n",
        "mobility_ESA = pd.Series(res, dates).asfreq('D') #join these up in an array"
      ],
      "outputs": [],
      "execution_count": null
    },
    {
      "cell_type": "markdown",
      "id": "57edbc64",
      "metadata": {
        "id": "57edbc64"
      },
      "source": [
        "Now call `mobility_ESA` (for Exponential Smoothing Average) to see how this looks, compared to our previous data."
      ]
    },
    {
      "cell_type": "code",
      "id": "3cb38f24",
      "metadata": {
        "id": "3cb38f24"
      },
      "source": [
        "#look at the data"
      ],
      "outputs": [],
      "execution_count": null
    },
    {
      "cell_type": "markdown",
      "id": "0e780a6d",
      "metadata": {
        "id": "0e780a6d"
      },
      "source": [
        "We can still plot this, and it should look just the same:"
      ]
    },
    {
      "cell_type": "code",
      "id": "256d656d",
      "metadata": {
        "scrolled": true,
        "id": "256d656d"
      },
      "source": [
        "#plot the data"
      ],
      "outputs": [],
      "execution_count": null
    },
    {
      "cell_type": "markdown",
      "id": "c2ea7bf8",
      "metadata": {
        "id": "c2ea7bf8"
      },
      "source": [
        "Great, we can now calculate our Exponential Smoothing Averages. We will start with a smoothing function of 0.1. The command might look a bit complex, but the main bit we need to focus on is the command `SimpleExpSmoothing` which calculates our model, and the `fit(smoothing_level = 0.1)` which fits the model with an _alpha_ value of 0.1. We can then plot this with our original data. See if you can follow what each step below does. If you get a warning saying `no frequency information was provided`, that's ok, as long as your code still runs! We don't need to provide the frequency, as we know our data is daily."
      ]
    },
    {
      "cell_type": "code",
      "id": "ff52c887",
      "metadata": {
        "id": "ff52c887"
      },
      "source": [
        "#fit the model with a smoothing alpha of 0.1\n",
        "ESAfit1 = SimpleExpSmoothing(mobility_ESA, initialization_method=\"heuristic\").fit(smoothing_level=0.1,optimized=False)\n",
        "\n",
        "#create a plot\n",
        "plt.figure(figsize=(12, 8))\n",
        "\n",
        "#plot the original data in grey\n",
        "plt.plot(mobility_ESA,color='gray')\n",
        "\n",
        "#add the exponentially smoothed data in blue:\n",
        "plt.plot(ESAfit1.fittedvalues, color='blue')"
      ],
      "outputs": [],
      "execution_count": null
    },
    {
      "cell_type": "markdown",
      "id": "0545dcc1",
      "metadata": {
        "id": "0545dcc1"
      },
      "source": [
        "We can also predict what will happen next, using our exponential smoothing model, and plot this on our figure!"
      ]
    },
    {
      "cell_type": "code",
      "id": "027636f3",
      "metadata": {
        "scrolled": true,
        "id": "027636f3"
      },
      "source": [
        "#predict for the next 30 days, based on our fitted model, and rename it alpha 0.1\n",
        "fcast1 = ESAfit1.forecast(30).rename(r'$\\alpha=0.1$')\n",
        "\n",
        "#create a plot\n",
        "plt.figure(figsize=(12, 8))\n",
        "\n",
        "#plot the original data in grey\n",
        "plt.plot(mobility_ESA,color='gray')\n",
        "\n",
        "#add the exponentially smoothed data in blue:\n",
        "plt.plot(ESAfit1.fittedvalues, color='blue')\n",
        "\n",
        "#add a line with our predicted values\n",
        "line1, = plt.plot(fcast1, color='blue')\n",
        "\n",
        "#add a legend, linking line1 to the name\n",
        "plt.legend([line1], [fcast1.name])"
      ],
      "outputs": [],
      "execution_count": null
    },
    {
      "cell_type": "markdown",
      "id": "4caf4638",
      "metadata": {
        "id": "4caf4638"
      },
      "source": [
        "What do you notice about the prediction?"
      ]
    },
    {
      "cell_type": "code",
      "id": "802321f1",
      "metadata": {
        "id": "802321f1"
      },
      "source": [
        "#comment on the prediction"
      ],
      "outputs": [],
      "execution_count": null
    },
    {
      "cell_type": "markdown",
      "id": "2cc907b4",
      "metadata": {
        "id": "2cc907b4"
      },
      "source": [
        "Now we can test out other values of alpha- try calculating the model and predicting for values of 0.5 and 0.9, and plot these on the same graph to see they compare. We've started the code off for you below- make sure you plot the lines in different colours so you can tell them apart!"
      ]
    },
    {
      "cell_type": "code",
      "id": "554ab1a8",
      "metadata": {
        "id": "554ab1a8"
      },
      "source": [
        "#fit the model with a smoothing alpha of 0.1\n",
        "ESAfit1 = SimpleExpSmoothing(mobility_ESA, initialization_method=\"heuristic\").fit(smoothing_level=0.1,optimized=False)\n",
        "\n",
        "#predict for the next 30 days\n",
        "fcast1 = ESAfit1.forecast(30).rename(r'$\\alpha=0.1$')\n",
        "\n",
        "#repeat with alpha of 0.5\n",
        "ESAfit2 =\n",
        "fcast2 =\n",
        "\n",
        "#repeat with alpha of 0.9\n",
        "ESAfit3 =\n",
        "fcast3 =\n",
        "\n",
        "\n",
        "plt.figure()\n",
        "...\n",
        "\n",
        "plt.plot(ESAfit1.fittedvalues, color='blue')\n",
        "line1, = plt.plot(fcast1, color='blue')\n",
        "plt.plot(ESAfit2...)\n",
        "line2, =\n",
        "plt.plot()\n",
        "line3, =\n",
        "plt.legend([], [])"
      ],
      "outputs": [],
      "execution_count": null
    },
    {
      "cell_type": "markdown",
      "id": "3e997b64",
      "metadata": {
        "id": "3e997b64"
      },
      "source": [
        "How do these different values of _alpha_ compare, in terms of their smoothing and predictive ability?"
      ]
    },
    {
      "cell_type": "code",
      "id": "50513445",
      "metadata": {
        "id": "50513445"
      },
      "source": [
        "#comment here"
      ],
      "outputs": [],
      "execution_count": null
    },
    {
      "cell_type": "markdown",
      "id": "8ec0facc",
      "metadata": {
        "id": "8ec0facc"
      },
      "source": [
        "We can also get Python to find the 'optimal' amount of smoothing for our data, so we don't specify a value for _alpha_.\n",
        "Run the code below to calculate the optimal value, and then plot it, alongside the prediction, with the original data."
      ]
    },
    {
      "cell_type": "code",
      "id": "08cc1804",
      "metadata": {
        "id": "08cc1804"
      },
      "source": [
        "#automatically estimates the optimal smoothing level\n",
        "ESAfit4 = SimpleExpSmoothing(mobility_ESA, initialization_method=\"estimated\").fit()\n",
        "fcast4 = ESAfit4.forecast(30).rename(r'$\\alpha=%s$'%ESAfit4.model.params['smoothing_level'])"
      ],
      "outputs": [],
      "execution_count": null
    },
    {
      "cell_type": "code",
      "id": "434ae79a",
      "metadata": {
        "scrolled": true,
        "id": "434ae79a"
      },
      "source": [
        "#plot the data\n",
        "plt.figure(figsize=(12, 8))\n",
        "plt.plot(mobility_ESA,color='gray')\n",
        "plt.plot(ESAfit4.fittedvalues, color='green')\n",
        "line4, = plt.plot(fcast4, color='green')\n",
        "plt.legend([line4], [fcast4.name])"
      ],
      "outputs": [],
      "execution_count": null
    },
    {
      "cell_type": "markdown",
      "id": "c223a98f",
      "metadata": {
        "id": "c223a98f"
      },
      "source": [
        "In this case, our alpha value is 0.0986 to 3 significant figures, so we'd probably round it and use 0.1. This is the value we will use when we add further parameters with Double Exponential Smoothing."
      ]
    },
    {
      "cell_type": "markdown",
      "id": "c6ff690d",
      "metadata": {
        "id": "c6ff690d"
      },
      "source": [
        "<br><br><br>\n",
        "## Double Exponential Smoothing\n",
        "Now we'll extend this to Double Exponential Smoothing (DES).  This section will be very similar to the Simple Exponential, but we also specify a _beta_ parameter, which allows us to incorporate trends in our data, by weighting previous observations and updating how this affects our model at each time point.\n",
        "\n",
        "\n",
        "__Note:__ DES this only works on positive data, so beware if you're trying to use data with negative values- you'll get an error! You can check your data by calling `.min()` on the mobility_ESA array, the minimum value should be above 0 for it to work."
      ]
    },
    {
      "cell_type": "code",
      "id": "a3744e56",
      "metadata": {
        "scrolled": true,
        "id": "a3744e56"
      },
      "source": [
        "mobility_ESA.min()"
      ],
      "outputs": [],
      "execution_count": null
    },
    {
      "cell_type": "markdown",
      "id": "88cd6de0",
      "metadata": {
        "id": "88cd6de0"
      },
      "source": [
        "We'll continue with our optimised smoothing (_alpha_) value, rounded to 0.1, and experiment with different smoothing trend (_beta_) value parameters-- thankfully, it works much the same was as our SES models, above. We'll start with a smoothing trend of 0.2."
      ]
    },
    {
      "cell_type": "code",
      "id": "8f0d3f4a",
      "metadata": {
        "id": "8f0d3f4a"
      },
      "source": [
        "#fit with optimised alpha of 0.1 and beta of 0.2\n",
        "DESAfit1 = Holt(mobility_ESA, exponential=True, initialization_method=\"estimated\").fit(smoothing_level=0.1, smoothing_trend=0.2, optimized=False)\n"
      ],
      "outputs": [],
      "execution_count": null
    },
    {
      "cell_type": "code",
      "id": "b5f6dba0",
      "metadata": {
        "id": "b5f6dba0"
      },
      "source": [
        "#create a plot\n",
        "plt.figure(figsize=(12, 8))\n",
        "\n",
        "#plot the original data in grey\n",
        "plt.plot(mobility_ESA,color='gray')\n",
        "\n",
        "#add the double exponentially smoothed data in blue:\n",
        "plt.plot(DESAfit1.fittedvalues, color='blue')"
      ],
      "outputs": [],
      "execution_count": null
    },
    {
      "cell_type": "markdown",
      "id": "a4f72fb7",
      "metadata": {
        "id": "a4f72fb7"
      },
      "source": [
        "How does this compare to our single exponential smoothed model?"
      ]
    },
    {
      "cell_type": "code",
      "id": "b57d203e",
      "metadata": {
        "id": "b57d203e"
      },
      "source": [
        "#comment on the model"
      ],
      "outputs": [],
      "execution_count": null
    },
    {
      "cell_type": "markdown",
      "id": "36292342",
      "metadata": {
        "id": "36292342"
      },
      "source": [
        "Again, we can predict the next 30 days based on our model."
      ]
    },
    {
      "cell_type": "code",
      "id": "fdbbfaa8",
      "metadata": {
        "id": "fdbbfaa8"
      },
      "source": [
        "#predict for the next 30 days, based on our fitted model, and rename it beta 0.2\n",
        "fcast1 = DESAfit1.forecast(30).rename(r'$\\beta=0.2$')\n",
        "\n",
        "#create a plot\n",
        "plt.figure(figsize=(12, 8))\n",
        "\n",
        "#plot the original data in grey\n",
        "plt.plot(mobility_ESA,color='gray')\n",
        "\n",
        "#add the double exponentially smoothed data in blue:\n",
        "plt.plot(DESAfit1.fittedvalues, color='blue')\n",
        "\n",
        "#add a line with our predicted values\n",
        "line1, = plt.plot(fcast1, color='blue')\n",
        "\n",
        "#add a legend, linking line1 to the name\n",
        "plt.legend([line1], [fcast1.name])"
      ],
      "outputs": [],
      "execution_count": null
    },
    {
      "cell_type": "markdown",
      "id": "a7ba687b",
      "metadata": {
        "id": "a7ba687b"
      },
      "source": [
        "This should look pretty different to our previous prediction, as the prediction decreases over time, rather than staying constant."
      ]
    },
    {
      "cell_type": "markdown",
      "id": "0616f484",
      "metadata": {
        "id": "0616f484"
      },
      "source": [
        "Similarly to before, we can test out other values of beta- try calculating the model and predicting for values of 0.5 and 0.8, and plot these on the same graph to see they compare. Again, the code is started off for you.\n",
        "\n",
        "__Hint:__ Remember to leave the `smoothing_level` alone, as we calculated that in our SES models, and just change the `smoothing_trend` parameter."
      ]
    },
    {
      "cell_type": "code",
      "id": "4b490d54",
      "metadata": {
        "id": "4b490d54"
      },
      "source": [
        "#fit with optimised alpha of 0.1 and beta of 0.2\n",
        "DESAfit1 = Holt(mobility_ESA, exponential=True, initialization_method=\"estimated\").fit(smoothing_level=0.1, smoothing_trend=0.2, optimized=False)\n",
        "fcast1 = DESAfit1.forecast(30).rename(r'$\\beta=0.2$')\n",
        "#fit with beta of 0.5\n",
        "DESAfit2 =\n",
        "fcast2 =\n",
        "#fit with beta of 0.8\n",
        "DESAfit3 =\n",
        "fcast3 =\n",
        "\n",
        "\n",
        "plt.figure(figsize=(12, 8))\n",
        "plt.plot..."
      ],
      "outputs": [],
      "execution_count": null
    },
    {
      "cell_type": "markdown",
      "id": "d23313e4",
      "metadata": {
        "id": "d23313e4"
      },
      "source": [
        "Which value of _beta_ looks best to you? Why is this?"
      ]
    },
    {
      "cell_type": "code",
      "id": "53ce3a91",
      "metadata": {
        "id": "53ce3a91"
      },
      "source": [
        "#comment on the plot here"
      ],
      "outputs": [],
      "execution_count": null
    },
    {
      "cell_type": "markdown",
      "source": [
        "<br><br><br>\n",
        "## Triple Exponential Smoothing\n",
        "Now we'll further extend this to Triple Exponential Smoothing (TES), namely the Holt-Winter's seasonal method. With the method, we will explore the effect of modelling seasonality. Similar to the previous two sections of Simple/Double Exponential, but we also specify all of the $\\alpha$, $\\beta$ and $\\gamma$ parameters, which allows us to consider level, trends, and seasonality in our data.\n",
        "\n",
        "\n",
        "__Note:__ TES also only works on positive data."
      ],
      "metadata": {
        "id": "AUIwbidcPfoU"
      },
      "id": "AUIwbidcPfoU"
    },
    {
      "cell_type": "markdown",
      "source": [
        "We'll start with a smoothing level 0.1 smoothing seasonal of 0.2 (as in Double Exponential). In addition, naturally we will use the seasonal periods of 7, to capture the weekly variance.\n"
      ],
      "metadata": {
        "id": "kNJRLEDqSE0z"
      },
      "id": "kNJRLEDqSE0z"
    },
    {
      "cell_type": "code",
      "source": [
        "# fit with optimised alpha of 0.1 and beta of 0.2, and a gamma 0.5 for test\n",
        "TESfit1 = ExponentialSmoothing(mobility_ESA, trend='add', seasonal='add', seasonal_periods=7, initialization_method='estimated').fit(smoothing_level=0.1, smoothing_trend=0.2, smoothing_seasonal=0.5, optimized=False)"
      ],
      "metadata": {
        "id": "OGofAuNxVJyU"
      },
      "id": "OGofAuNxVJyU",
      "outputs": [],
      "execution_count": null
    },
    {
      "cell_type": "code",
      "source": [
        "#create a plot\n",
        "plt.figure(figsize=(12, 8))\n",
        "\n",
        "#plot the original data in grey\n",
        "plt.plot(mobility_ESA,color='gray')\n",
        "\n",
        "#add the double exponentially smoothed data in blue:\n",
        "plt.plot(TESfit1.fittedvalues, color='blue')"
      ],
      "metadata": {
        "id": "si9HGvC_WLSl"
      },
      "id": "si9HGvC_WLSl",
      "outputs": [],
      "execution_count": null
    },
    {
      "cell_type": "markdown",
      "source": [
        "Do you see that the predictions now make much more sense? This is because the original time series dataset has a prominent weekly variation pattern, and we really need to capture this weekly pattern in order to make good predictions."
      ],
      "metadata": {
        "id": "7VjF-QRgWkk4"
      },
      "id": "7VjF-QRgWkk4"
    },
    {
      "cell_type": "code",
      "source": [
        "# comment on the results"
      ],
      "metadata": {
        "id": "qiQ9O1LvW82m"
      },
      "id": "qiQ9O1LvW82m",
      "outputs": [],
      "execution_count": null
    },
    {
      "cell_type": "markdown",
      "source": [
        "Again, we can predict the next 30 days based on our model.\n"
      ],
      "metadata": {
        "id": "iUlimtpHXEll"
      },
      "id": "iUlimtpHXEll"
    },
    {
      "cell_type": "code",
      "source": [
        "#predict for the next 30 days, based on our fitted model, and rename it gamma 0.5\n",
        "fcast1 = TESfit1.forecast(30).rename(r'$\\gamma=0.5$')\n",
        "\n",
        "#create a plot\n",
        "\n",
        "\n",
        "#plot the original data in grey\n",
        "\n",
        "#add the double exponentially smoothed data in blue:\n",
        "\n",
        "#add a line with our predicted values\n",
        "\n",
        "#add a legend, linking line1 to the name"
      ],
      "metadata": {
        "id": "Ffav4jNVXFN5"
      },
      "id": "Ffav4jNVXFN5",
      "outputs": [],
      "execution_count": null
    },
    {
      "cell_type": "markdown",
      "source": [
        "Now the future predictions make much more sense.\n",
        "\n",
        "Of course, we can do similar tests like before, to test different $\\gamma$ values and plot the predictions. But here we will evaluate the performance of different $\\gamma$ values in a different way, say, quantitatively.\n",
        "\n",
        "Let's derive RMSE and MAPE for different values of $\\gamma$, from 0.01 to 1, with the interval of 0.01, so 100 options in total.\n",
        "\n",
        "This can be done in a loop in which you store the smallest errors.\n"
      ],
      "metadata": {
        "id": "2W1cdPpCXngF"
      },
      "id": "2W1cdPpCXngF"
    },
    {
      "cell_type": "code",
      "source": [
        "# Initialize variables to store the best smoothing_seasonal value and its errors\n",
        "best_smoothing_seasonal = 0\n",
        "min_rmse = float('inf')\n",
        "min_mape = float('inf')\n",
        "\n",
        "# update the three above variables in a loop\n",
        "for smoothing_seasonal in np.arange(0.01, 1.01, 0.01):\n",
        "\n",
        "    # Fit the Triple Exponential Smoothing model\n",
        "\n",
        "    # Make predictions\n",
        "    predictions = TESfit.fittedvalues\n",
        "\n",
        "    # Calculate RMSE and MAPE\n",
        "\n",
        "\n",
        "    # Update best_smoothing_seasonal if current value results in lower errors for both\n",
        "\n",
        "\n",
        "# Print the best smoothing_seasonal value and its corresponding errors\n",
        "print(f\"Best smoothing_seasonal: {best_smoothing_seasonal}\")\n",
        "print(f\"Minimum RMSE: {min_rmse}\")\n",
        "print(f\"Minimum MAPE: {min_mape}\")"
      ],
      "metadata": {
        "id": "-dLNMUpAY5Gf"
      },
      "id": "-dLNMUpAY5Gf",
      "outputs": [],
      "execution_count": null
    },
    {
      "cell_type": "markdown",
      "source": [
        "Let's now plot the predictions with the best smoothing_seasonal parameter found."
      ],
      "metadata": {
        "id": "D-V5sviqaduy"
      },
      "id": "D-V5sviqaduy"
    },
    {
      "cell_type": "code",
      "source": [
        "TESfit_best = ExponentialSmoothing(mobility_ESA, trend='add', seasonal='add', seasonal_periods=7, initialization_method='estimated').fit(smoothing_level=0.1, smoothing_trend=0.2, smoothing_seasonal=best_smoothing_seasonal, optimized=False)\n",
        "#predict for the next 30 days, based on our fitted model, and rename it best gamma\n",
        "fcast1 = TESfit_best.forecast(30).rename(r'best $\\gamma$')\n",
        "\n",
        "#create a plot\n",
        "\n",
        "#plot the original data in grey\n",
        "\n",
        "#add the double exponentially smoothed data in blue:\n",
        "\n",
        "#add a line with our predicted values\n",
        "\n",
        "\n",
        "#add a legend, linking line1 to the name\n"
      ],
      "metadata": {
        "id": "G1nHVZiJaj6P"
      },
      "id": "G1nHVZiJaj6P",
      "outputs": [],
      "execution_count": null
    },
    {
      "cell_type": "markdown",
      "id": "839607e6",
      "metadata": {
        "id": "839607e6"
      },
      "source": [
        "<br><br><br>\n",
        "## Interrupted Time Series\n",
        "Finally, we move onto Interrupted Time Series (ITS) Analysis, which allows us to model how a trend has changed before and after a certain date. As we have data for 2021, it covers some of the Covid-19 lockdowns, so we will start by looking at what happened to mobility before and after 17th May, the date most restrictions were lifted in England. As the busiest area in the country, we will continue focussing on London.\n",
        "\n",
        "Read more about the different lockdown dates (if you can handle more information on Covid) [here](https://www.gov.uk/government/publications/covid-19-response-spring-2021/covid-19-response-spring-2021-summary).\n",
        "\n",
        "We first import our new packages, as then create a plot where we will add a vertical line, so we can visualise the time point for our before-and-after model."
      ]
    },
    {
      "cell_type": "code",
      "id": "4b478b8f",
      "metadata": {
        "id": "4b478b8f"
      },
      "source": [
        "import statsmodels.api as sm #add statsmodels\n",
        "from statsmodels.sandbox.regression.predstd import wls_prediction_std #allow us to predict"
      ],
      "outputs": [],
      "execution_count": null
    },
    {
      "cell_type": "code",
      "id": "c87b0c91",
      "metadata": {
        "id": "c87b0c91"
      },
      "source": [
        "fit = mobility_london.plot('date', figsize = (10,8))\n",
        "plt.axvline(pd.to_datetime('2021-05-17'), -5, 40, color = 'red')"
      ],
      "outputs": [],
      "execution_count": null
    },
    {
      "cell_type": "markdown",
      "id": "17ce7f8e",
      "metadata": {
        "id": "17ce7f8e"
      },
      "source": [
        "Looking at the graph, it appears that there may be a change in the use of transit after the 17th May, so we will start by plotting just that graph. Create the plot below, and add in the vertical line."
      ]
    },
    {
      "cell_type": "code",
      "id": "47620fd2",
      "metadata": {
        "id": "47620fd2"
      },
      "source": [
        "#create the plot of transit stations over time, and add the vertial line"
      ],
      "outputs": [],
      "execution_count": null
    },
    {
      "cell_type": "markdown",
      "id": "4aba362a",
      "metadata": {
        "id": "4aba362a"
      },
      "source": [
        "As you should remember from the lecture notes, in order to calulate an ITS model, we need a couple more variables: _t_, which is the days elapsed since the start of the data, _x_ which tells us whether we are before or after the intervention, and _xt_, which indicates the number of days elapsed since the intervention.\n",
        "\n",
        "We'll start by adding a time variable, which counts the time since the start of the data. As our data is in order of date, this is equivalent to the length of the data at each row. Then view the head of the data to check it has worked."
      ]
    },
    {
      "cell_type": "code",
      "id": "42405f76",
      "metadata": {
        "id": "42405f76"
      },
      "source": [
        "mobility_london['time'] = np.arange(len(mobility_london))"
      ],
      "outputs": [],
      "execution_count": null
    },
    {
      "cell_type": "code",
      "id": "29ad6e65",
      "metadata": {
        "id": "29ad6e65"
      },
      "source": [
        "#view the head of the data"
      ],
      "outputs": [],
      "execution_count": null
    },
    {
      "cell_type": "markdown",
      "id": "91a12212",
      "metadata": {
        "id": "91a12212"
      },
      "source": [
        "Now, in order to add a variable _x_ with value 0 (before intervention) and 1 (after intervention) we need to check the time index on our intervention date,  the 17th May 2021."
      ]
    },
    {
      "cell_type": "code",
      "id": "f12e26ce",
      "metadata": {
        "id": "f12e26ce"
      },
      "source": [
        "#find the row where the date is the 17th May 2021, and check what the value of the 'time' variable is:"
      ],
      "outputs": [],
      "execution_count": null
    },
    {
      "cell_type": "markdown",
      "id": "177c6aa1",
      "metadata": {
        "id": "177c6aa1"
      },
      "source": [
        "Now add two new columns, one where we'll add a binary for before/after the intervention, and another for time since the intervention. Add the value of the time variable (i.e. the time elapsed since the first measurement) you found for the date of May 17th to the code below. We'll call this column `intervention`, and then multiply this by our `time` variable, and subtract the time elapsed before the intervetion, to calculate the time elapsed since the intevention (the equivalent of _xt_), which we'll call `i_time`.\n",
        "This means we'll end up counting from 1 for the time since intervention."
      ]
    },
    {
      "cell_type": "code",
      "id": "c5e2b94f",
      "metadata": {
        "id": "c5e2b94f"
      },
      "source": [
        "#mobility_london['intervention'] = np.where(mobility_london['time'] >= #add the time you found here, 1, 0)\n"
      ],
      "outputs": [],
      "execution_count": null
    },
    {
      "cell_type": "code",
      "id": "51866c52",
      "metadata": {
        "id": "51866c52"
      },
      "source": [
        "mobility_london['i_time'] = np.where(mobility_london['intervention']== 1, ((mobility_london['time']*mobility_london['intervention'])-136), 0)\n",
        "#new variable called 'i_time', if the intervention has happened, calculate the time since the intervention\n",
        "#ie (time x intervention) - time since intervention\n",
        "#if the intervention hasn't happened, set the value to 0"
      ],
      "outputs": [],
      "execution_count": null
    },
    {
      "cell_type": "markdown",
      "id": "2c192e63",
      "metadata": {
        "id": "2c192e63"
      },
      "source": [
        "Now view the data and examine the three new variables we've created in this section:"
      ]
    },
    {
      "cell_type": "code",
      "id": "121374c6",
      "metadata": {
        "id": "121374c6"
      },
      "source": [
        "#view the data"
      ],
      "outputs": [],
      "execution_count": null
    },
    {
      "cell_type": "markdown",
      "id": "15a8980f",
      "metadata": {
        "id": "15a8980f"
      },
      "source": [
        "Now we have our dataset, we can use linear regression, with the equation: <br>\n",
        "_expected residential mobility = B1*time + B2*intervention + B3*i_time + constant + e_\n",
        "\n",
        "This allows us to calculate the difference in the trend (i.e. the relationship between time and our data), before and after our intervention. Build a linear regression model using the instructions below. __Hint:__ It might be helpful to look back at Week 4, where we first used linear regression."
      ]
    },
    {
      "cell_type": "code",
      "id": "d671fe00",
      "metadata": {
        "id": "d671fe00"
      },
      "source": [
        "#the y variable is the mobility at transit stations\n",
        "\n",
        "#the X variables are time, whether or not the intervention has happened, and time since the intervention\n",
        "\n",
        "#add a constant to X\n",
        "\n",
        "#create an OLS regression model\n",
        "\n",
        "#fit the model\n",
        "\n",
        "#print the results"
      ],
      "outputs": [],
      "execution_count": null
    },
    {
      "cell_type": "markdown",
      "id": "8877cdda",
      "metadata": {
        "id": "8877cdda"
      },
      "source": [
        "What do these results mean?\n",
        "\n",
        "We should be able to see positive association between time, intervention, and mobility at transit stations, which means that as time increases, mobility at transit stations also increases, and that the increase continues after the intervention. <br>\n",
        "However, we also have a negative association between the time since intervention and mobility, which shows that the strength of increase drops after the intervention.<br>\n",
        "\n",
        "How does this interpretation relate to what you can observe in the graph you plotted?"
      ]
    },
    {
      "metadata": {
        "id": "49d89eb28188fd99"
      },
      "cell_type": "markdown",
      "source": [
        "## Further Reading\n",
        "If you are interested, you could try to look up online how machine learning methods are used for time series forecasting, e.g. [this Kaggle link](https://www.kaggle.com/code/namanmanchanda/rnn-in-pytorch).\n",
        "\n",
        "Please bear in mind that deep learning uses specific Python libraries (Pytorch in this case), and has specific ways of loading data, model, and computing, e.g. in GPUs. This is a big topic so please don't feel discouraged if the terms and techniques do not make sense for you yet. If you're interested, a good starter is to find an online course about deep learning introduction."
      ],
      "id": "49d89eb28188fd99"
    },
    {
      "cell_type": "markdown",
      "id": "f20a9813",
      "metadata": {
        "id": "f20a9813"
      },
      "source": [
        "## Formative Homework Questions\n",
        "\n",
        "Well done, you have made it to the end of the lab!\n",
        "\n",
        "As an extension exercise, please answer the following formative questions:\n",
        "\n",
        "__Question 1:__ In Leeds, which pair of amenities has the highest level of positive correlation (which could be reflected from a heatmap of correlations.\n",
        "\n",
        "__Question 2:__ In Manchester (sub_region_2 == 'Manchester') and for the amenity 'retail_recreation', what is the best _alpha_ value leading to the smallest RMSE, in simple exponential smoothing. Please search from 0.0 to 1.0, with 0.01 as the interval.\n",
        "\n",
        "__Question 3:__ In Manchester and for the amenity 'workplaces', and using triple exponential smoothing with 7 as the period of smoothing, what is the MAPE if you let the function search for the best parameters.\n",
        "<br>\n",
        "\n"
      ]
    }
  ],
  "metadata": {
    "kernelspec": {
      "display_name": "Python 3 (ipykernel)",
      "language": "python",
      "name": "python3"
    },
    "language_info": {
      "codemirror_mode": {
        "name": "ipython",
        "version": 3
      },
      "file_extension": ".py",
      "mimetype": "text/x-python",
      "name": "python",
      "nbconvert_exporter": "python",
      "pygments_lexer": "ipython3",
      "version": "3.12.4"
    },
    "colab": {
      "provenance": [],
      "include_colab_link": true
    }
  },
  "nbformat": 4,
  "nbformat_minor": 5
}