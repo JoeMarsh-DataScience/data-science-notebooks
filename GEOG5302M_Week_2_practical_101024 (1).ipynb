{
  "nbformat": 4,
  "nbformat_minor": 0,
  "metadata": {
    "colab": {
      "provenance": []
    },
    "kernelspec": {
      "name": "python3",
      "display_name": "Python 3"
    },
    "language_info": {
      "name": "python"
    }
  },
  "cells": [
    {
      "cell_type": "markdown",
      "source": [
        "# GEOG5302M / Week 2\n",
        "\n",
        "## Introduction to statistics"
      ],
      "metadata": {
        "id": "M8SgqxSUirsf"
      }
    },
    {
      "cell_type": "markdown",
      "source": [
        "Welcome to Lab 2 for GEOG5302M Data Science. In the last lab, you've explored different types of data and explored the fundamentals of using Python.\n",
        "\n",
        "This week we'll looking at the basic of describing our data with statistics, and comparing whether different groups are statistically different. Building on what we just covered in the lecture, we'll start to implement some of these statistical concepts and methods.\n",
        "\n",
        "Once you start to use the stats tests in scipy, you'll start to realise the format for the code between tests is generally similar.\n",
        "\n",
        "Keep an eye on how you interpret p-values for normality and tests for difference, as this can be a little tricky."
      ],
      "metadata": {
        "id": "itWFNloyjKYg"
      }
    },
    {
      "cell_type": "markdown",
      "source": [
        "## Importing packages\n",
        "\n",
        "First of all, we will need to import Pandas and Numpy; these library are very commonly used for their data manipulation, analysis, and numerical operation abilities (functions). As you will have come to realise, we cannot look at data and aim at describing it without actually being able to see it, so we will import Matplotlib and Seaborn, next week you will go over the basics of visualisation, so for todays session you get to enjoy the figures without having to worrying about making adjustments to them. Finally, we will import SciPy, a library with many statistical functions."
      ],
      "metadata": {
        "id": "SQdYQdLBmuH6"
      }
    },
    {
      "cell_type": "code",
      "source": [
        "import pandas as pd  # Importing pandas\n",
        "import numpy as np  # Importing numpy\n",
        "import matplotlib.pyplot as plt  # Importing matplotlib's pyplot\n",
        "import seaborn as sns  # Importing seaborn\n",
        "from scipy.stats import shapiro  # Importing Shapiro-Wilk test\n",
        "from scipy.stats import kruskal  # Importing Kruskal-Wallis test\n",
        "from scipy.stats import ttest_ind  # Importing independent samples t-test"
      ],
      "metadata": {
        "id": "VgWoKxvRmX55"
      },
      "execution_count": 1,
      "outputs": []
    },
    {
      "cell_type": "markdown",
      "source": [
        "## Data\n",
        "\n",
        "Let's load up our dataset - today we will start with seaborns Penguins data."
      ],
      "metadata": {
        "id": "H3VRD2ubodTz"
      }
    },
    {
      "cell_type": "code",
      "source": [
        "penguins = sns.load_dataset('penguins') #notice how we are loading in this dataset differently as it comes packaged with the seabourne library\n",
        "penguins = penguins.dropna() #today we will drop the missing ('na') values as we are focussing on the statistics themselves, but this would not always be the best decision!"
      ],
      "metadata": {
        "id": "PDUTBMh-i-Xg"
      },
      "execution_count": 2,
      "outputs": []
    },
    {
      "cell_type": "markdown",
      "source": [
        "It's always best practice to check what the data looks like. It also helps to assure us that it has loaded correctly"
      ],
      "metadata": {
        "id": "alv9Li6YpUQJ"
      }
    },
    {
      "cell_type": "code",
      "source": [
        "print(penguins.head()) #this 'prints' (displays) the first few rows of the dataset"
      ],
      "metadata": {
        "id": "VgOvytZmpf1X",
        "colab": {
          "base_uri": "https://localhost:8080/"
        },
        "outputId": "5fa1a891-9a31-45f2-d246-61a86b2f970b"
      },
      "execution_count": 3,
      "outputs": [
        {
          "output_type": "stream",
          "name": "stdout",
          "text": [
            "  species     island  bill_length_mm  bill_depth_mm  flipper_length_mm  \\\n",
            "0  Adelie  Torgersen            39.1           18.7              181.0   \n",
            "1  Adelie  Torgersen            39.5           17.4              186.0   \n",
            "2  Adelie  Torgersen            40.3           18.0              195.0   \n",
            "4  Adelie  Torgersen            36.7           19.3              193.0   \n",
            "5  Adelie  Torgersen            39.3           20.6              190.0   \n",
            "\n",
            "   body_mass_g     sex  \n",
            "0       3750.0    Male  \n",
            "1       3800.0  Female  \n",
            "2       3250.0  Female  \n",
            "4       3450.0  Female  \n",
            "5       3650.0    Male  \n"
          ]
        }
      ]
    },
    {
      "cell_type": "code",
      "source": [
        "penguins.info()"
      ],
      "metadata": {
        "id": "w2kX8SG8DL1b",
        "colab": {
          "base_uri": "https://localhost:8080/"
        },
        "outputId": "62ad500b-3041-4cee-9966-67ba00840387"
      },
      "execution_count": 4,
      "outputs": [
        {
          "output_type": "stream",
          "name": "stdout",
          "text": [
            "<class 'pandas.core.frame.DataFrame'>\n",
            "Index: 333 entries, 0 to 343\n",
            "Data columns (total 7 columns):\n",
            " #   Column             Non-Null Count  Dtype  \n",
            "---  ------             --------------  -----  \n",
            " 0   species            333 non-null    object \n",
            " 1   island             333 non-null    object \n",
            " 2   bill_length_mm     333 non-null    float64\n",
            " 3   bill_depth_mm      333 non-null    float64\n",
            " 4   flipper_length_mm  333 non-null    float64\n",
            " 5   body_mass_g        333 non-null    float64\n",
            " 6   sex                333 non-null    object \n",
            "dtypes: float64(4), object(3)\n",
            "memory usage: 20.8+ KB\n"
          ]
        }
      ]
    },
    {
      "cell_type": "markdown",
      "source": [
        "## Descriptive statistics\n",
        "\n",
        "Let's see what we are dealing with. Using descriptive statistics early on when you have a new dataset is a fundamental part of a process called EDA, or Exploratory Data Analysis.\n",
        "\n",
        "We'll pick one variable to start with; flipper length. Using the table above, complete the following code with the variable name (replace the XXXXXX)"
      ],
      "metadata": {
        "id": "uXIlFGBNppYM"
      }
    },
    {
      "cell_type": "code",
      "source": [
        "mean_flipper = penguins['flipper_length_mm'].mean()\n",
        "print(mean_flipper) #print the result"
      ],
      "metadata": {
        "id": "8ROVcSz4iw7q",
        "colab": {
          "base_uri": "https://localhost:8080/"
        },
        "outputId": "f789f4f7-d278-4936-e6eb-770efeadf399"
      },
      "execution_count": 5,
      "outputs": [
        {
          "output_type": "stream",
          "name": "stdout",
          "text": [
            "200.96696696696696\n"
          ]
        }
      ]
    },
    {
      "cell_type": "markdown",
      "source": [
        "Lets bring in some simple arithmatic. What is the mean in cm? An easy mental calculation, but lets do this via code below... replace the XX with a value"
      ],
      "metadata": {
        "id": "gP1OTnPSrJQd"
      }
    },
    {
      "cell_type": "code",
      "source": [
        "mean_flipper_cm = mean_flipper / 10\n",
        "print(mean_flipper_cm) #print the result"
      ],
      "metadata": {
        "id": "-RM22YFZrZPq",
        "colab": {
          "base_uri": "https://localhost:8080/"
        },
        "outputId": "f33e115c-e9f6-44d5-a7d8-17af045aff27"
      },
      "execution_count": 6,
      "outputs": [
        {
          "output_type": "stream",
          "name": "stdout",
          "text": [
            "20.096696696696696\n"
          ]
        }
      ]
    },
    {
      "cell_type": "markdown",
      "source": [
        "Lets stick with mm going forwards, it much more useful in this context. Now that you have calculated one type of average (the mean), lets calculate the median and mode so we can see if there is a difference in these statistics."
      ],
      "metadata": {
        "id": "EMSa4qEtrqdD"
      }
    },
    {
      "cell_type": "code",
      "source": [
        "median_flipper = penguins['flipper_length_mm'].median() #median of flipper length\n",
        "mode_flipper = penguins['flipper_length_mm'].mode()[0] #mode of flipper length"
      ],
      "metadata": {
        "id": "AP7-uM6wsBuq"
      },
      "execution_count": 7,
      "outputs": []
    },
    {
      "cell_type": "markdown",
      "source": [
        "Where are the results of our code? The above code block only assigns the value to the variable names we have defined, i.e. median_flipper. As with the mean, display the median and mode values using 'print'."
      ],
      "metadata": {
        "id": "2_oaoze4vRi5"
      }
    },
    {
      "cell_type": "code",
      "source": [
        "print(median_flipper)#print the median result\n",
        "print(mode_flipper) #print the mode result"
      ],
      "metadata": {
        "id": "giMjfQo8vxWo",
        "colab": {
          "base_uri": "https://localhost:8080/"
        },
        "outputId": "47bc952f-4c2d-485c-fa38-15dc658bbf79"
      },
      "execution_count": 8,
      "outputs": [
        {
          "output_type": "stream",
          "name": "stdout",
          "text": [
            "197.0\n",
            "190.0\n"
          ]
        }
      ]
    },
    {
      "cell_type": "markdown",
      "source": [
        "The median has given us the value that is in the middle when the length are sorted in order. The mode has given us the most common (the value that has the highest frequency). The '[0]' is asking for the return of the first mode, as datasets can have multiple 'modes' (for example, there could be two values that occur at the same frequency in the dataset).\n",
        "\n",
        "Lets see what the data looks like visually. Visualisation is important to help us understand the distribution of the data. We'll use two types of plots that are very common; histograms, and boxplots. We will start with a histogram. We group the flipper lengths into groups, and add a smoothed curve to help us see the general shape of the data. Plot title, and x and y axis labels will be added, but again don't worry too much about finessing your figures today, this will be covered in more depth later on in the module."
      ],
      "metadata": {
        "id": "isgjwnmosUkr"
      }
    },
    {
      "cell_type": "code",
      "source": [
        "# Histogram\n",
        "plt.subplot(1, 2, 1) # you'll explore this more later in the course. Essentially you are telling the function to plot a subplot within the figure - i.e. you can display multiple plots together.\n",
        "sns.histplot(penguins['flipper_length_mm'], bins=10, kde=True) # Bins are the number of groups that determines how the data is grouped into intervals. Here we have 10. 'kde' adds a Kernel Density Estimate (KDE) - this smoothes the curve of the data.\n",
        "plt.title('Histogram of Flipper Lengths')\n",
        "plt.xlabel('Flipper Length (mm)')\n",
        "plt.ylabel('Frequency')\n"
      ],
      "metadata": {
        "id": "eLzVNz3gtTyo",
        "colab": {
          "base_uri": "https://localhost:8080/",
          "height": 489
        },
        "outputId": "3b5e096f-2146-4d61-f6d3-b05df69ba4da"
      },
      "execution_count": 9,
      "outputs": [
        {
          "output_type": "execute_result",
          "data": {
            "text/plain": [
              "Text(0, 0.5, 'Frequency')"
            ]
          },
          "metadata": {},
          "execution_count": 9
        },
        {
          "output_type": "display_data",
          "data": {
            "text/plain": [
              "<Figure size 640x480 with 1 Axes>"
            ],
            "image/png": "[encoded data removed]"
          },
          "metadata": {}
        }
      ]
    },
    {
      "cell_type": "markdown",
      "source": [
        "The data is not looking normal (we would not expect two peaks). Building on from the lecture, it looks like we have been presented with non-normal data! There is a name for this type of distinctive two peak distribution; it's a bimodal distribution. Here we are looking at penguin flipper lengths, and we already know that 'species' is included in the data as a seperate column. The presence of the column suggests that multiple species are present (otherwise why include this column?). The two peaks suggests there are two groups in this data. Lets check if our assumption is correct."
      ],
      "metadata": {
        "id": "bT4WMlxPxDAO"
      }
    },
    {
      "cell_type": "code",
      "source": [
        "num_species = penguins['species'].nunique() #number of unique species in the dataset\n",
        "print(f\"Number of unique penguin species: {num_species}\") #prints the number of unique penguin species, this time with are including text that will be displayed before the value."
      ],
      "metadata": {
        "id": "U6IEAty9yMs3",
        "colab": {
          "base_uri": "https://localhost:8080/"
        },
        "outputId": "ffa4e2da-2a9b-4438-e0a1-84e547ef5cc5"
      },
      "execution_count": 10,
      "outputs": [
        {
          "output_type": "stream",
          "name": "stdout",
          "text": [
            "Number of unique penguin species: 3\n"
          ]
        }
      ]
    },
    {
      "cell_type": "markdown",
      "source": [
        "If we wanted to know what the species name were, we could use the following code. Notice how we have not calculated anything new, or created any new variables."
      ],
      "metadata": {
        "id": "dQ-MoQhWyl8f"
      }
    },
    {
      "cell_type": "code",
      "source": [
        "print(\"Species present in the dataset:\", penguins['species'].unique())"
      ],
      "metadata": {
        "id": "bnIGEw-PyvKw",
        "colab": {
          "base_uri": "https://localhost:8080/"
        },
        "outputId": "d99628ae-356f-4d49-ab6c-2c4d8718f2c9"
      },
      "execution_count": 11,
      "outputs": [
        {
          "output_type": "stream",
          "name": "stdout",
          "text": [
            "Species present in the dataset: ['Adelie' 'Chinstrap' 'Gentoo']\n"
          ]
        }
      ]
    },
    {
      "cell_type": "markdown",
      "source": [
        "Whereas the histogram allows us to see how the data is visualised, it does not include the other useful visual descriptive elements. A boxplot can give us more information about our data, lets plot one and then look at what it is doing (replace the XXXXXs in the code). What would be a good title and descriptive label for y?"
      ],
      "metadata": {
        "id": "neMCVBYVy0Da"
      }
    },
    {
      "cell_type": "code",
      "source": [
        "# Box Plot\n",
        "sns.boxplot(y=penguins['flipper_length_mm'])\n",
        "plt.title('Box Plot of Flipper Lengths')\n",
        "plt.ylabel('Flipper Length (mm)')\n",
        "\n",
        "plt.tight_layout()\n",
        "plt.show()"
      ],
      "metadata": {
        "id": "_9qS17xzwcpp",
        "colab": {
          "base_uri": "https://localhost:8080/",
          "height": 522
        },
        "outputId": "4a21f764-f6d6-4a26-b9c1-e4aac1a67484"
      },
      "execution_count": 13,
      "outputs": [
        {
          "output_type": "stream",
          "name": "stderr",
          "text": [
            "/usr/local/lib/python3.10/dist-packages/seaborn/categorical.py:640: FutureWarning: SeriesGroupBy.grouper is deprecated and will be removed in a future version of pandas.\n",
            "  positions = grouped.grouper.result_index.to_numpy(dtype=float)\n"
          ]
        },
        {
          "output_type": "display_data",
          "data": {
            "text/plain": [
              "<Figure size 640x480 with 1 Axes>"
            ],
            "image/png": "[encoded data removed]"
          },
          "metadata": {}
        }
      ]
    },
    {
      "cell_type": "markdown",
      "source": [
        "*Extra snippet: you'll notice an warning message. This is telling us that the '.grouper' in the pandas library is scheduled to be removed in a future version of pandas, i.e. it is being deprecated. As we are plotting with a seasborn function, its telling us that seaborn is interacting with pandas in a way that might cause errors in the future. Libraries are regularly updated by creators, especially the larger well know libraries such as seaborn. We can ususually expect seaborn will be updated in time, but if we encountered a sitation like this in our code, we would have to think of an alternative way of coding for our desired result.*"
      ],
      "metadata": {
        "id": "BPRrgDOR0Bd9"
      }
    },
    {
      "cell_type": "markdown",
      "source": [
        "Boxplots are useful as they show where the median is (the line through the middle of the box), and the interquartile rnage. Do you remember what percentage of values are within the shaded box? The 'whiskers' (lines that extend beyond the top and bottom of the box) show the upper and lower. Outliers would be represented as individual points beyond these whiskers."
      ],
      "metadata": {
        "id": "P6PUDbKT1I14"
      }
    },
    {
      "cell_type": "markdown",
      "source": [
        "## Bill length and body mass\n",
        "\n",
        "Now, produce a histogram and boxplot for bill length and body mass.\n",
        "\n",
        "We'll start with bill length. You know what to do, replace the XXXXXXs!"
      ],
      "metadata": {
        "id": "fgZxgESz1__u"
      }
    },
    {
      "cell_type": "code",
      "source": [
        "\n",
        "# Histogram of Bill Length\n",
        "plt.subplot(1, 2, 1)\n",
        "sns.histplot(penguins['bill_length_mm'], bins=10, kde=True)\n",
        "plt.title('Histogram of Bill Length')\n",
        "plt.xlabel('Bill Length (mm)')\n",
        "plt.ylabel('Frequency')\n",
        "\n",
        "# Box Plot of Bill Length\n",
        "plt.subplot(1, 2, 2)\n",
        "sns.boxplot(y=penguins['bill_length_mm'])\n",
        "plt.title('Box Plot of Bill Length')\n",
        "plt.ylabel('Bill Length (mm)')\n",
        "\n",
        "plt.tight_layout()\n",
        "plt.show()\n",
        "\n"
      ],
      "metadata": {
        "id": "nHHA6N3r14mj",
        "colab": {
          "base_uri": "https://localhost:8080/",
          "height": 522
        },
        "outputId": "75b0f866-32aa-4ec6-baa0-acc9c1a21228"
      },
      "execution_count": 14,
      "outputs": [
        {
          "output_type": "stream",
          "name": "stderr",
          "text": [
            "/usr/local/lib/python3.10/dist-packages/seaborn/categorical.py:640: FutureWarning: SeriesGroupBy.grouper is deprecated and will be removed in a future version of pandas.\n",
            "  positions = grouped.grouper.result_index.to_numpy(dtype=float)\n"
          ]
        },
        {
          "output_type": "display_data",
          "data": {
            "text/plain": [
              "<Figure size 640x480 with 2 Axes>"
            ],
            "image/png": "[encoded data removed]"
          },
          "metadata": {}
        }
      ]
    },
    {
      "cell_type": "markdown",
      "source": [
        "Now, produce the histogram and box plot for body mass. This time, complete all the code needed, refer to above if you get stuck!"
      ],
      "metadata": {
        "id": "sjjv2c3n3icv"
      }
    },
    {
      "cell_type": "code",
      "source": [
        "\n",
        "# Histogram of Body Mass\n",
        "plt.subplot(1, 2, 1)\n",
        "sns.histplot(penguins['body_mass_g'], bins=10, kde=True)\n",
        "plt.title(\"Histogram of Body Mass\")\n",
        "plt.ylabel(\"Frequency\")\n",
        "plt.xlabel(\"Body Mass (g)\")\n",
        "\n",
        "# Box Plot of Body Mass\n",
        "plt.subplot(1, 2, 2)\n",
        "sns.boxplot(y=penguins['body_mass_g'])\n",
        "plt.ylabel(\"Body Mass (g)\")\n",
        "plt.title(\"Box Plot of Body Mass\")\n",
        "\n",
        "plt.tight_layout()\n",
        "plt.show()"
      ],
      "metadata": {
        "id": "Q2Cn-39y2nc1",
        "colab": {
          "base_uri": "https://localhost:8080/",
          "height": 522
        },
        "outputId": "6d9ac07a-3be2-4d20-cd15-3cc0a6280901"
      },
      "execution_count": 19,
      "outputs": [
        {
          "output_type": "stream",
          "name": "stderr",
          "text": [
            "/usr/local/lib/python3.10/dist-packages/seaborn/categorical.py:640: FutureWarning: SeriesGroupBy.grouper is deprecated and will be removed in a future version of pandas.\n",
            "  positions = grouped.grouper.result_index.to_numpy(dtype=float)\n"
          ]
        },
        {
          "output_type": "display_data",
          "data": {
            "text/plain": [
              "<Figure size 640x480 with 2 Axes>"
            ],
            "image/png": "[encoded data removed]"
          },
          "metadata": {}
        }
      ]
    },
    {
      "cell_type": "markdown",
      "source": [
        "## Normality testing\n",
        "\n",
        "One of those histograms looks like it not a bimodal distribution. Lets use a statistical test to check if the data is normal. You already know of the Anderson-Darling test from the lecture, but here we will introduce another normality test; Shapiro-Wilk. Anderson-Darling is a common normality test , but Shapiro-Wilk has advantages in the case of our data;\n",
        "\n",
        "*   Shaprio-Wilk is often used in smaller to moderate sample sizes.\n",
        "*   It is a general purpose test for normality. But Anderson-Darling can be used for multiple distributions.\n",
        "*   Simpler interpretation due to it providing a p-value directly.\n",
        "\n"
      ],
      "metadata": {
        "id": "94oDEW0w4AMx"
      }
    },
    {
      "cell_type": "code",
      "source": [
        "stat, p_value_flipper_length = shapiro(penguins['flipper_length_mm']) #we are assigning the p-value from the test to the variable 'p_value'\n",
        "print(\"Shapiro-Wilk Test p-value:\", p_value_flipper_length)"
      ],
      "metadata": {
        "id": "7B31_5bJ4kRr",
        "colab": {
          "base_uri": "https://localhost:8080/"
        },
        "outputId": "5533553e-6c2b-439c-da87-704eed94748e"
      },
      "execution_count": 20,
      "outputs": [
        {
          "output_type": "stream",
          "name": "stdout",
          "text": [
            "Shapiro-Wilk Test p-value: 5.393184873708796e-09\n"
          ]
        }
      ]
    },
    {
      "cell_type": "markdown",
      "source": [
        "The format of the value the p-value is called 'scientific notation', if we were to manually write this out, we would get 0.000000005393184873708796. The 'e-09' means we move the decimal place 9 places to the left. If it had been e+09, we would have moved the decimal place 9 places to the right to become 5,393,184,873.708796. Make sure you pay attention to either it is a negative or postive exponent, as this can completly change your interpretation!\n",
        "\n"
      ],
      "metadata": {
        "id": "cr8K8Kwr6Nst"
      }
    },
    {
      "cell_type": "markdown",
      "source": [
        "As the p-value is < 0.05, the test is telling us that the data is not normally distributed."
      ],
      "metadata": {
        "id": "7dzE76h07xMh"
      }
    },
    {
      "cell_type": "markdown",
      "source": [
        "Now test the bill length and body mass for normality using the Shapiro-Wilk test. Make sure to name the variable something meaningful, and not just 'stat', as otherwise we will start overwriting our variables!"
      ],
      "metadata": {
        "id": "VbcLQ7Dn8GaE"
      }
    },
    {
      "cell_type": "code",
      "source": [
        "# Shapiro-Wilk test for bill length\n",
        "bill_stat, p_value_bill_length = shapiro(penguins['bill_length_mm'])\n",
        "print(\"Shapiro-Wilk Test p-value for bill length:\", p_value_bill_length)\n",
        "\n",
        "# Shapiro-Wilk test for body mass\n",
        "body_stat, p_value_body_mass = shapiro(penguins['body_mass_g'])\n",
        "print(\"Shapiro-Wilk Test p-value for body mass:\", p_value_body_mass)\n"
      ],
      "metadata": {
        "id": "e4rPdatg8TIN",
        "colab": {
          "base_uri": "https://localhost:8080/"
        },
        "outputId": "ec16d591-73c5-45e1-f291-ebde2e34dcc3"
      },
      "execution_count": 24,
      "outputs": [
        {
          "output_type": "stream",
          "name": "stdout",
          "text": [
            "Shapiro-Wilk Test p-value for bill length: 1.189965972431551e-05\n",
            "Shapiro-Wilk Test p-value for body mass: 3.567711408268874e-08\n"
          ]
        }
      ]
    },
    {
      "cell_type": "markdown",
      "source": [
        "In our excitement of exploring the pengiun data, **we're overlooked a very important factor when normality testing**....\n",
        "\n",
        "We cannot undertake tests for normality using all of the penguin species data together. Our results would not be valid! Lets remedy this for flipper length before moving on. We'll use a for loop, but we won't go into the details this session. As you continue to code, you'll come across more mechanisms to make your coding faster, so lets run this and get back to statistics. We could have also dont this manually writing out seperate code for each species."
      ],
      "metadata": {
        "id": "F3mVJG1y9PuV"
      }
    },
    {
      "cell_type": "code",
      "source": [
        "species_list = penguins['species'].unique() #list of each unique species name (i.e. string of text) within the 'species' column\n",
        "\n",
        "# the following is a for loop, we don't cover these this session, but do pay attention to how it makes your code more efficient, and 'clean'\n",
        "for species in species_list:\n",
        "    species_data = penguins[penguins['species'] == species]['flipper_length_mm']\n",
        "    stat, p_value = shapiro(species_data)\n",
        "    print(f\"Shapiro-Wilk Test p-value for {species} species: {p_value}\")"
      ],
      "metadata": {
        "id": "6DDByzUF914n",
        "colab": {
          "base_uri": "https://localhost:8080/"
        },
        "outputId": "31526ccb-9ad8-4005-a228-d57149330b2c"
      },
      "execution_count": 25,
      "outputs": [
        {
          "output_type": "stream",
          "name": "stdout",
          "text": [
            "Shapiro-Wilk Test p-value for Adelie species: 0.7427425665590469\n",
            "Shapiro-Wilk Test p-value for Chinstrap species: 0.8106446568669052\n",
            "Shapiro-Wilk Test p-value for Gentoo species: 0.0017599825253668117\n"
          ]
        }
      ]
    },
    {
      "cell_type": "markdown",
      "source": [
        "## Testing for difference (non-parametric)\n",
        "\n",
        "Do the results show the data is still showing a non-normal distribution? Remember - if all data was normally distributed, we would have used a parametric test for difference.... but in this case the Gentoo species is non normally distributed, so we will use a non-parametric alternative, in this case the Kruskal Wallis test. Complete the species names in the code."
      ],
      "metadata": {
        "id": "lABTVXjP-z4Q"
      }
    },
    {
      "cell_type": "code",
      "source": [
        "from scipy.stats import kruskal\n",
        "\n",
        "#lets seperate out the different species\n",
        "adelie_flipper = penguins[penguins['species'] == 'Adelie']['flipper_length_mm']\n",
        "chinstrap_flipper = penguins[penguins['species'] == 'Chinstrap']['flipper_length_mm']\n",
        "gentoo_flipper = penguins[penguins['species'] == 'Gentoo']['flipper_length_mm']"
      ],
      "metadata": {
        "id": "0eootcEy_-On"
      },
      "execution_count": 26,
      "outputs": []
    },
    {
      "cell_type": "markdown",
      "source": [
        "Now lets plug this data into our Kruskal-Wallis test."
      ],
      "metadata": {
        "id": "kDxwdbPaAjUp"
      }
    },
    {
      "cell_type": "code",
      "source": [
        "# Perform Kruskal-Wallis H test\n",
        "stat, p_value = kruskal(adelie_flipper, chinstrap_flipper, gentoo_flipper)\n",
        "print(\"Kruskal-Wallis Test p-value:\", p_value)"
      ],
      "metadata": {
        "id": "7qxI2tidAnxU",
        "colab": {
          "base_uri": "https://localhost:8080/"
        },
        "outputId": "a807cf28-cf2b-44d1-973b-fb5abc80e668"
      },
      "execution_count": 27,
      "outputs": [
        {
          "output_type": "stream",
          "name": "stdout",
          "text": [
            "Kruskal-Wallis Test p-value: 2.890851468876692e-52\n"
          ]
        }
      ]
    },
    {
      "cell_type": "markdown",
      "source": [
        "*Extra snippet: Have you noticed that I have assigned the value to the variable name 'p_value'. You can very quickly lose track when coding, and overwrite a variable you'd previously assigned. Best practice here it vary the name, e.g. in this instance we could have called it 'p_value_KH_flipper'.*\n",
        "\n",
        "Replace the XXXXXs with the seperate species flipper data."
      ],
      "metadata": {
        "id": "1Ldx0kOMAuk0"
      }
    },
    {
      "cell_type": "code",
      "source": [
        "#Giving our p-value a better name\n",
        "stat, p_value_KH_flipper = kruskal(adelie_flipper, chinstrap_flipper, gentoo_flipper)\n",
        "print(\"Kruskal-Wallis Test p-value:\", p_value)"
      ],
      "metadata": {
        "id": "daR9D1SBB_e1",
        "colab": {
          "base_uri": "https://localhost:8080/"
        },
        "outputId": "a509af77-b949-4cb0-a070-99f8812c42da"
      },
      "execution_count": 28,
      "outputs": [
        {
          "output_type": "stream",
          "name": "stdout",
          "text": [
            "Kruskal-Wallis Test p-value: 2.890851468876692e-52\n"
          ]
        }
      ]
    },
    {
      "cell_type": "markdown",
      "source": [
        "The Kruskal-Wallis test checks if there are statistically significant differences between the medians of the groups. If 'p < 0.05', we reject the null hypothesis, meaning there is a significant difference between the groups. In this case, since the p-value is extremely small (2.890851468876692e-52), we reject the null hypothesis and conclude that there is a significant difference in flipper length among the three penguin species."
      ],
      "metadata": {
        "id": "4zNdbmJMSQGK"
      }
    },
    {
      "cell_type": "markdown",
      "source": [
        "## Testing for difference (parametric)\n",
        "\n",
        "Let now look at what we do for two samples that both have normal distributions. We've decided to look at the Adelie and Chinstrap penguin species, specifically their bill depth. First we need to check if they are normally distrbuted:"
      ],
      "metadata": {
        "id": "I0Y7yGLJLfDB"
      }
    },
    {
      "cell_type": "code",
      "source": [
        "# First, let's separate out the variables\n",
        "adelie_bill_depth = penguins[penguins['species'] == 'Adelie']['bill_depth_mm']\n",
        "chinstrap_bill_depth = penguins[penguins['species'] == 'Chinstrap']['bill_depth_mm']\n"
      ],
      "metadata": {
        "id": "Tn0zg6NlMJR7"
      },
      "execution_count": 29,
      "outputs": []
    },
    {
      "cell_type": "markdown",
      "source": [
        "Now, we are in a ready to run our normality test. Complete the following code blocks. Make sure to print the values!"
      ],
      "metadata": {
        "id": "5omtP_Q2MYAW"
      }
    },
    {
      "cell_type": "code",
      "source": [
        "# Shapiro-Wilk test for Adelie bill depth\n",
        "adelie_bill_depth_stat, p_value_bill_depth = shapiro(adelie_bill_depth)\n",
        "print(\"Shapiro-Wilk Test p-value for Adelie bill depth:\", p_value_bill_depth)\n",
        "\n",
        "# Shapiro-Wilk test for Chinstrap bill depth\n",
        "chinstrap_bill_depth_stat, p_value_bill_depth = shapiro(chinstrap_bill_depth)\n",
        "print(\"Shapiro-Wilk Test p-value for Chinstrap bill depth:\", p_value_bill_depth)\n"
      ],
      "metadata": {
        "id": "tEkcNtipLc0R",
        "colab": {
          "base_uri": "https://localhost:8080/"
        },
        "outputId": "893cca6f-7413-4be6-b5f2-d2c25671cf55"
      },
      "execution_count": 31,
      "outputs": [
        {
          "output_type": "stream",
          "name": "stdout",
          "text": [
            "Shapiro-Wilk Test p-value for Adelie bill depth: 0.10472206497139075\n",
            "Shapiro-Wilk Test p-value for Chinstrap bill depth: 0.14178462574530515\n"
          ]
        }
      ]
    },
    {
      "cell_type": "markdown",
      "source": [
        "If p > 0.05, we accept the null hypothesis that the data is normally distributed.\n",
        "In this case, both p-values are greater than 0.05, so we can proceed with a parametric test."
      ],
      "metadata": {
        "id": "4pUwGNptCRIU"
      }
    },
    {
      "cell_type": "markdown",
      "source": [
        "It's easy to start mixing up the interpretation at this stage, so lets go back to basics for the t-test.\n",
        "\n",
        "Null Hypothesis (H₀): There is no significant difference between the bill depths of Adelie and Chinstrap penguins.\n",
        "\n",
        "Alternative Hypothesis (H₁): There is a significant difference between the bill depths of Adelie and Chinstrap penguins.\n",
        "\n",
        "Since the p-value is greater than 0.05, we fail to reject the null hypothesis, indicating no significant difference between the means of the two groups."
      ],
      "metadata": {
        "id": "UH7IoxCvP7B1"
      }
    },
    {
      "cell_type": "markdown",
      "source": [
        "Now, use the appropriate test for testing for difference between the Adelie and Chinstrap penguin flipper lengths. If you get stuck, look back at the code you have worked through."
      ],
      "metadata": {
        "id": "avmmSwJnSwgS"
      }
    },
    {
      "cell_type": "code",
      "source": [
        "# Separate the variables\n",
        "adelie_flipper_length = penguins[penguins['species'] == 'Adelie']['flipper_length_mm']\n",
        "chinstrap_flipper_length = penguins[penguins['species'] == 'Chinstrap']['flipper_length_mm']\n",
        "\n",
        "# Shapiro-Wilk test for Adelie flipper length\n",
        "#\n",
        "#\n",
        "\n",
        "# Shapiro-Wilk test for Chinstrap flipper length\n",
        "#\n",
        "#"
      ],
      "metadata": {
        "id": "yEFEws__JdDr"
      },
      "execution_count": null,
      "outputs": []
    },
    {
      "cell_type": "markdown",
      "source": [
        "Based on the p-values, determine whether the data is normally distributed.\n",
        "\n",
        "If both datasets are normally distributed, proceed with the independent samples t-test. Replace the XXXXXs"
      ],
      "metadata": {
        "id": "1rIpp1tiJC4M"
      }
    },
    {
      "cell_type": "code",
      "source": [
        "# Perform t-test\n",
        "#stat_ttest_flipper_length, p_value_ttest_flipper_length = ttest_ind(XXXXX, XXXXX)\n",
        "print(\"t-test statistic:\", stat_ttest_flipper_length)\n",
        "print(\"p-value:\", p_value_ttest_flipper_length)"
      ],
      "metadata": {
        "id": "t4PzhaHvJHQn"
      },
      "execution_count": null,
      "outputs": []
    },
    {
      "cell_type": "markdown",
      "source": [
        "If the data is not normally distributed, use a non-parametric alternative like the Mann-Whitney U test:"
      ],
      "metadata": {
        "id": "HLi3K8mMJN5r"
      }
    },
    {
      "cell_type": "code",
      "source": [
        "from scipy.stats import mannwhitneyu\n",
        "\n",
        "# Perform Mann-Whitney U test\n",
        "#stat_mannwhitney, p_value_mannwhitney = mannwhitneyu(XXXXX, XXXXX)\n",
        "print(\"Mann-Whitney U Test statistic:\", stat_mannwhitney)\n",
        "print(\"p-value:\", p_value_mannwhitney)"
      ],
      "metadata": {
        "id": "9FSL84O5JOg8"
      },
      "execution_count": null,
      "outputs": []
    },
    {
      "cell_type": "markdown",
      "source": [
        "## Homework Questions\n",
        "\n",
        "**Question 1:** Is the flipper length data for Chinstrap and Adelie penguins normally distributed? *Look at the p-values from the Shapiro-Wilk tests to answer this question.*\n",
        "\n",
        "**Question 2:** What test is most appropriate to test for difference? *Based on the normality results, decide between the t-test or Mann-Whitney U test.*\n",
        "\n",
        "**Question 3:** What is the p-value for the test of difference you chose? Report the p-value from the test you performed.\n",
        "\n",
        "**Question 4:** Is there a statistically significant difference between Chinstrap and Adelie penguins' flipper lengths? Interpret the p-value in the context of the hypothesis test."
      ],
      "metadata": {
        "id": "5Z_59IbhWKbe"
      }
    },
    {
      "cell_type": "markdown",
      "source": [
        "# Bonus content\n",
        "\n",
        "If you've gone through the above exercises at a quick pace, it is worth going back and making sure you understand both the explanations and interpretation around the stats tests, but also that you know what the code is doing.\n",
        "\n",
        "If you want to continue, thats great! Lets now think more about the data and how it could be supplemented for some interesting insights!"
      ],
      "metadata": {
        "id": "ysWvvZ-xMMm6"
      }
    },
    {
      "cell_type": "markdown",
      "source": [
        "## Stretch Exercise: Integrating Environmental Data into Analysis\n",
        "\n",
        "In environmental science and assessment, data acquisition and integration are fundamental processes. Often, we start with a hypothesis about how environmental factors might influence biological traits. To test these hypotheses, we need to gather relevant environmental data and incorporate it into our analysis.\n",
        "\n",
        "In this stretch exercise, we'll explore how to obtain and integrate approximate Sea Surface Temperature (SST) values for the islands in our penguins dataset. This exercise serves as a proof of concept, demonstrating how environmental variables can be linked to biological data to assess potential relationships."
      ],
      "metadata": {
        "id": "67h_uUnJM0nx"
      }
    },
    {
      "cell_type": "markdown",
      "source": [
        "## Background\n",
        "\n",
        "Sea Surface Temperature (SST) is a critical environmental parameter that influences marine ecosystems. For penguins, SST can affect food availability, breeding success, and overall health. By analyzing how penguin morphological characteristics vary with SST, we can gain insights into their adaptability and ecological responses to environmental changes."
      ],
      "metadata": {
        "id": "rsgqfleCNDJy"
      }
    },
    {
      "cell_type": "markdown",
      "source": [
        "## Data Acquisition Challenges\n",
        "\n",
        "It's alway important to consider the challenges around the data you are using... or wish to use!\n",
        "\n",
        "Accessing precise environmental data, especially for remote locations like the Antarctic islands, can be challenging due to:\n",
        "\n",
        "*  Data Accessibility: Limited availability of high-resolution, location-specific data.\n",
        "\n",
        "*  Temporal Coverage: Difficulty obtaining data for the exact time period of biological data collection.\n",
        "\n",
        "*  Resource Constraints: Time and computational resources required to process large environmental datasets.\n",
        "\n",
        "In environmental assessment, it's common to use approximate or proxy data as a starting point to identify potential patterns or relationships."
      ],
      "metadata": {
        "id": "mcZD70XnNGeS"
      }
    },
    {
      "cell_type": "markdown",
      "source": [
        "## Estimating SST Values for the Islands\n",
        "\n",
        "Based on climatological studies and available datasets, we can assign approximate average SST values to the islands:\n",
        "\n",
        "**Torgersen Island:** Average SST ≈ -1.5°C\n",
        "\n",
        "**Biscoe Island:** Average SST ≈ -1.8°C\n",
        "\n",
        "**Dream Island:** Average SST ≈ -1.6°C\n",
        "\n",
        "\n",
        "Why these values? Ideally we would extract the SST values from larger datasets, including file types called NetCDFs - but that overly complicates this exercise at this part of the course. This also exposes you to some authentic ways data scientists sometimes look for pattern, especially when exploring large areas or topics, fine resolution data having a cost, or scoping out a potential project. Today the values are based on several factors;\n",
        "\n",
        "*  Scientific Literature: Research indicates that SSTs around the Antarctic Peninsula generally range from -1.8°C to -1.5°C.\n",
        "*  Climatological Data: Long-term averages from datasets like NOAA OISST and the World Ocean Atlas support these values.\n",
        "*  Geographical Considerations: Slight variations in SST are due to the islands' locations relative to ocean currents and latitude.\n",
        "\n"
      ],
      "metadata": {
        "id": "psVfJsSaNiBb"
      }
    },
    {
      "cell_type": "code",
      "source": [
        "# Create a DataFrame with approximate SST values\n",
        "\n",
        "sst_data = pd.DataFrame({\n",
        "    'island': ['Torgersen', 'Biscoe', 'Dream'],\n",
        "    'avg_sst': [-1.5, -1.8, -1.6]\n",
        "})\n",
        "\n",
        "# Merge with the penguins dataset\n",
        "penguins_env = penguins.merge(sst_data, on='island', how='left')\n",
        "\n",
        "# Display the merged dataset\n",
        "print(penguins_env.head())\n"
      ],
      "metadata": {
        "id": "6UQ9Pzn9M0eh"
      },
      "execution_count": null,
      "outputs": []
    },
    {
      "cell_type": "markdown",
      "source": [
        "Lets now categorise the islands based on their average SST to facilitate a comparison. Note, the temperature labels are relative, all these temperatures are in fact quite cold!"
      ],
      "metadata": {
        "id": "iomYTeHBPPw3"
      }
    },
    {
      "cell_type": "code",
      "source": [
        "# Define SST categories\n",
        "penguins_env['sst_category'] = pd.cut(\n",
        "    penguins_env['avg_sst'],\n",
        "    bins=[-np.inf, -1.65, -1.55, np.inf],\n",
        "    labels=['Cold', 'Moderate', 'Warm']\n",
        ")\n",
        "\n",
        "# Verify the categories - we want to be checking as we go along!\n",
        "print(penguins_env[['island', 'avg_sst', 'sst_category']].drop_duplicates())\n",
        "\n",
        "# Count of penguins in each category\n",
        "print(penguins_env['sst_category'].value_counts())\n"
      ],
      "metadata": {
        "id": "xQHmrx4JPWcw"
      },
      "execution_count": null,
      "outputs": []
    },
    {
      "cell_type": "markdown",
      "source": [
        "It's been a while since we visualised the data we are working with, lets look at flipper length across different SST categories to observe any patterns. Write out the code using your new skills, I've started you off..."
      ],
      "metadata": {
        "id": "wkYFdt4kPnD_"
      }
    },
    {
      "cell_type": "code",
      "source": [
        "# Boxplot of flipper length by SST category\n",
        "# sns.boxplot(x='sst_category', y='XXXXX', data=XXXXX)\n",
        "#\n",
        "#\n",
        "#\n",
        "#\n"
      ],
      "metadata": {
        "id": "NiHHnDSUPvXk"
      },
      "execution_count": null,
      "outputs": []
    },
    {
      "cell_type": "markdown",
      "source": [
        "Interesting... what could be the reasons for longer flipper length in penguins that live on islands with colder SST?\n",
        "\n",
        "This is all based on our visual interpretation at the moment. Is the difference between the different temperate groups actually significant?\n",
        "\n",
        "Before choosing the appropriate statistical test, we need to check if the data in each SST category is normally distributed. Replace the XXXXXs."
      ],
      "metadata": {
        "id": "edgj1Ez0R0dS"
      }
    },
    {
      "cell_type": "code",
      "source": [
        "# Perform Shapiro-Wilk test for 'Cold' SST category\n",
        "cold_data = penguins_env[penguins_env['sst_category'] == 'Cold']['flipper_length_mm']\n",
        "stat_cold, p_value_cold = shapiro(cold_data)\n",
        "print(f\"Shapiro-Wilk Test p-value for Cold SST category: {p_value_cold}\")\n",
        "\n",
        "# Perform Shapiro-Wilk test for 'Moderate' SST category\n",
        "#moderate_data = penguins_env[penguins_env['sst_category'] == 'XXXXX']['flipper_length_mm']\n",
        "stat_moderate, p_value_moderate = shapiro(moderate_data)\n",
        "print(f\"Shapiro-Wilk Test p-value for Moderate SST category: {p_value_moderate}\")\n",
        "\n",
        "# Perform Shapiro-Wilk test for 'Warm' SST category\n",
        "#warm_data = penguins_env[penguins_env['sst_category'] == 'XXXXX']['XXXXX']\n",
        "stat_warm, p_value_warm = shapiro(warm_data)\n",
        "print(f\"Shapiro-Wilk Test p-value for Warm SST category: {p_value_warm}\")"
      ],
      "metadata": {
        "id": "Hq0TRYHYP9Gp"
      },
      "execution_count": null,
      "outputs": []
    },
    {
      "cell_type": "markdown",
      "source": [
        "Given that one group is not normally distributed, we cannot use a parametric test like ANOVA that assumes normality for all groups. Instead, the Kruskal-Wallis test is the appropriate test to use because it is a non-parametric test that does not assume normality."
      ],
      "metadata": {
        "id": "LTR2YqJwSa-K"
      }
    },
    {
      "cell_type": "code",
      "source": [
        "# Prepare data for each group\n",
        "cold_flipper_lengths = penguins_env[penguins_env['sst_category'] == 'Cold']['flipper_length_mm'].values\n",
        "moderate_flipper_lengths = penguins_env[penguins_env['sst_category'] == 'Moderate']['flipper_length_mm'].values\n",
        "#warm_flipper_lengths = penguins_env[penguins_env['sst_category'] == 'Warm']['XXXXX'].values\n",
        "\n",
        "# Perform Kruskal-Wallis test\n",
        "#stat_kw, p_value_kw = kruskal(XXXXX, XXXXX, XXXXX)\n",
        "print(\"Kruskal-Wallis Test statistic:\", stat_kw)\n",
        "print(\"Kruskal-Wallis Test p-value:\", p_value_kw)\n"
      ],
      "metadata": {
        "id": "qjRs3qBJSYPc"
      },
      "execution_count": null,
      "outputs": []
    },
    {
      "cell_type": "markdown",
      "source": [
        "Since the Kruskal-Wallis test resulted in a p-value significantly less than 0.05, we reject the null hypothesis. This indicates that there is a statistically significant difference in flipper lengths among penguins in different SST categories ('Cold', 'Moderate', 'Warm'). Sea surface temperature appears to influence penguin flipper length."
      ],
      "metadata": {
        "id": "m_gq5g13SdVe"
      }
    },
    {
      "cell_type": "markdown",
      "source": [
        "Lets conclude!\n",
        "\n",
        "Drawing insights at the end of any analysis is important. Lets talk through what we found...in this analysis, we found a significant difference in penguin flipper lengths among different sea surface temperature (SST) categories. Although we used estimated SST values, these preliminary results suggest a potential relationship between environmental conditions and penguin morphology. It's important to interpret these findings with caution due to the approximate nature of the data.\n",
        "\n",
        "\n",
        "By integrating environmental data into our analysis, we've demonstrated a proof of concept for assessing how SST may influence penguin morphology. This approach mirrors real-world practices, where researchers often work with limited data to explore complex ecological questions.\n",
        "\n",
        "If you wanted to explore further you could now look at different penguin traits to SST. If this was a project, at this point I would look to make my SST more accurate, and incorporate other climate data.... maybe even a time series!"
      ],
      "metadata": {
        "id": "JR9yPvaASfh-"
      }
    }
  ]
}