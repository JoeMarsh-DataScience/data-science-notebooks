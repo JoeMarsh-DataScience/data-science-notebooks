{
  "cells": [
    {
      "cell_type": "markdown",
      "metadata": {
        "id": "view-in-github",
        "colab_type": "text"
      },
      "source": [
        "<a href=\"https://colab.research.google.com/github/JoeMarsh-DataScience/data-science-notebooks/blob/main/Lab6_Classification_new.ipynb\" target=\"_parent\"><img src=\"https://colab.research.google.com/assets/colab-badge.svg\" alt=\"Open In Colab\"/></a>"
      ]
    },
    {
      "metadata": {
        "id": "cb31d5c966ceebfd"
      },
      "cell_type": "markdown",
      "source": [
        "# Week 6\n",
        "## Classification\n",
        "\n",
        "This week in our GEOG5302 Labs we will focus on Classification Algorithms.  Classifiers are highly useful in extracting meaning from large sets of incoming data.  By setting up a classifier on an understood, pre-classified subset of the data (ie _Supervised_ learning on _Labelled_ data), we are able to automatically derive greater understanding into other, unclassified datasets.\n",
        "\n",
        "The process of creating a classifier remains the same no matter which method you use.\n",
        "\n",
        "1. Organise and clean the data.\n",
        "2. Divide the data into training and testing subsets.\n",
        "3. Use the classifier to associate feature attributes within the training dataset to *known* classifications (known as *training* or *calibration*).\n",
        "4. Test the strength of model fit by predicting the classifications for the test dataset (known as *testing* or *validation*).\n",
        "5. If you are happy with the model performance, you can apply the classifier to any new and future data in order to establish classifications. This provides instant insight into the type of data you are receiving.\n",
        "\n",
        "On top of this, we will also be looking at the theories behind the classification methods (through visualisation), and the importance levels of different features for the task.\n",
        "\n",
        "We're moving onto a new dataset today, which pertains to an environmental study, predicting bark beetle ( Ips typographus L._) attacks in Norway Spruce (_Picea abies (L.) Karst_) forests in Southern Sweden. With this task, we will be partially reproducing the study by Müller et al. (2022).\n",
        "\n",
        "```\n",
        "Müller, M., Olsson, P. O., Eklundh, L., Jamali, S., & Ardö, J. (2022). Features predisposing forest to bark beetle outbreaks and their dynamics during drought. Forest Ecology and Management, 523, 120480.\n",
        "```\n",
        "We greatly appreciate the authors, particularly Per-Ola Olsson, and Pengxiang Zhao, Rachid Oucheikh, and Ali Mansourian, for providing the data used in this lab, as well as providing guidance on preparing this practical.\n",
        "\n",
        "The study comes with an important context. As described in Müller et al. (2022), climate change is estimated to increase the risk of the bark beetle mass outbreaks in Norway Spruce forests. Habitats that are thermally suitable for bark beetles may expand, and an increase in the frequency and intensity of droughts can promote drought stress on host trees. Drought affects tree vigor and in unison with environmental features it influences the local predisposition risk of forest stands to bark beetle attacks. In this context, this task aims to identify the areas in which trees are highly likely to be infested by bark beetle attacks, given various environmental features influence the risk of bark beetle attacks during years with normal weather conditions but with higher bark beetle populations (as the previous year is a drought year). We use features representing local forest stand attributes, topography, soil type and wetness, the proximity of clear-cuts and previous bark beetle attacks to perform this binary classification task, i.e. likely to be attacked and not to be attacked. The study area covers 48,600 km<sup>2</sup> in SE Sweden.\n",
        "\n",
        "Let's now have a look at the variables available for this classification task."
      ],
      "id": "cb31d5c966ceebfd"
    },
    {
      "metadata": {
        "id": "72e40a10cbe78425"
      },
      "cell_type": "markdown",
      "source": [
        "| **Data source**                                                                                                                                                             | **Variables** | **Units**                               | **Data**                                                                           |\n",
        "|-----------------------------------------------------------------------------------------------------------------------------------------------------------------------------|------------|-----------------------------------------|------------------------------------------------------------------------------------|\n",
        "| Harvester data                                                                                                                                                              | x          | Meter, SWEREF99                         | Position                                                                           |\n",
        "|                                                                                                                                                                             | y          | Meter, SWEREF99                         | Position                                                                           |\n",
        "|                                                                                                                                                                             | bbPresence | Binary: 0= healthy, 1 = infested        | Field records of Bark Beetle infested trees (classification target)                |\n",
        "| Performed clearcuts ([Skogsstyrelsen](https://www.skogsstyrelsen.se/laddanergeodata))                                                                                       | distToCC5  | meter                                   | Distance to clear cut conducted within 0 to 5 years.                               |\n",
        "|                                                                                                                                                                             | distToCC10 | meter                                   | Distance to clear cut conducted within 6 to 10 years.                              |\n",
        "| Digital elevation model ([European Enviroment Agency](https://www.eea.europa.eu/en/datahub/datahubitem-view/d08852bc-7b5f-4835-a776-08362e2fbf4b))                          | Aspect     | degrees                                 | Sun exposition                                                                     |\n",
        "|                                                                                                                                                                             | DEM        | meters                                  | Elevation above sea level                                                          |\n",
        "|                                                                                                                                                                             | Slope      | degrees                                 | Equal to the rise divided by the run.                                              |\n",
        "| Soil wetness ([Ågren et al., 2021](https://doi.org/10.1016/j.geoderma.2021.115280))                                                                                         | soilWetnes | Index 0-100                             | Relative soil-wetness                                                              |\n",
        "| National landcover data ([Naturvårdsverket](https://www.naturvardsverket.se/en/services-and-permits/maps-and-map-services/national-land-cover-database/))                   | distForest | meters                                  | Distance to closest edge between forest and non-forest landcover class             |\n",
        "|                                                                                                                                                                             | forestType | discrete classes                        | Spruce forest, Mixed coniferous forest, Mixed Forest                               |\n",
        "| Harvester data                                                                                                                                                              | prevY_f11s | Total sum                               | Total sum of trees removed previous year in a 11×11 pixels neighborhood.           |\n",
        "|                                                                                                                                                                             | prevY_f21s | Total sum                               | Total sum of trees removed previous year in a 21×21 pixels neighborhood.           |\n",
        "|                                                                                                                                                                             | distPrevDm | meter                                   | Distance to closest pixel where infestations were recorded during drought period.  |\n",
        "| Digital Forest Map ([Swedish University of Agricultural Sciences](https://www.slu.se/centrumbildningar-och-projekt/riksskogstaxeringen/statistik-om-skog/slu-skogskarta/))) | basalArea  | Cubic meters/ha (m2/ha)                 | Area occupied by stems at height of 1.3 meters                                     |\n",
        "|                                                                                                                                                                             | biomass    | Tons of dry matter per hectare (t/ha)   | Biomass of all vegetation. Does not include roots or tree stumps.                  |\n",
        "|                                                                                                                                                                             | canopyHeig | decimeters (dm)                         | Mean height of the canopy                                                          |\n",
        "|                                                                                                                                                                             | spruceVol  | cubic meters per hectare (m3/ha)        | Includes spruce stem volume over normal tree stump height, tree top, and the bark. |\n",
        "| Soil type ([Geological Survey of Sweden](https://www.sgu.se/en/products/maps/map-viewer/jordkartvisare/soil-types-125-000-1100-000/))                                       | soilType   | discrete classes                        | Organic, Clay, Silt, Sand, Gravel, Moraine, Rock, Unspecified Sediment             |\n",
        "\n"
      ],
      "id": "72e40a10cbe78425"
    },
    {
      "metadata": {
        "id": "d7e2cd6471c69f3d"
      },
      "cell_type": "markdown",
      "source": [
        "A lot of data preprocessing has been done during the preparation of the practical, so we could start with analysing/exploring the data. After that, we'll divide it into training and test sets, in order to build and validate a number of different classifiers."
      ],
      "id": "d7e2cd6471c69f3d"
    },
    {
      "cell_type": "markdown",
      "id": "0350e42b",
      "metadata": {
        "id": "0350e42b"
      },
      "source": [
        "<br><br><br>\n",
        "\n",
        "## Getting Started"
      ]
    },
    {
      "cell_type": "code",
      "id": "b8b2a120",
      "metadata": {
        "id": "b8b2a120"
      },
      "source": [
        "import numpy as np\n",
        "import matplotlib.pyplot as plt\n",
        "import pandas as pd\n",
        "import seaborn as sns"
      ],
      "outputs": [],
      "execution_count": null
    },
    {
      "cell_type": "markdown",
      "id": "f973b011",
      "metadata": {
        "id": "f973b011"
      },
      "source": [
        "Load in and view the data:"
      ]
    },
    {
      "cell_type": "code",
      "id": "a5d50253",
      "metadata": {
        "id": "a5d50253"
      },
      "source": [
        "bark_beetle_df = pd.read_csv('bark_beetle.csv')"
      ],
      "outputs": [],
      "execution_count": null
    },
    {
      "cell_type": "code",
      "id": "f6f42530",
      "metadata": {
        "colab": {
          "base_uri": "https://localhost:8080/",
          "height": 346
        },
        "id": "f6f42530",
        "outputId": "c1be90df-ee68-4803-f721-74e1283978f7"
      },
      "source": [
        "bark_beetle_df.head()"
      ],
      "outputs": [
        {
          "output_type": "execute_result",
          "data": {
            "text/plain": [
              "             x            y  bbPresence  distToCC5  distToCC10  distPrevDm  \\\n",
              "0  416713.2303  6228294.732           1        741         189        3335   \n",
              "1  443073.2303  6238094.732           1        170         158        5172   \n",
              "2  443093.2303  6238064.732           1        205         133        5206   \n",
              "3  443103.2303  6238064.732           1        212         136        5210   \n",
              "4  443113.2303  6238114.732           1        184         161        5166   \n",
              "\n",
              "   soilWetnes  distForest     forestType  prevY_f11s  prevY_f21s  basalArea  \\\n",
              "0    0.888151          10  Spruce forest           0           0  32.139431   \n",
              "1   36.603661          30  Spruce forest           0           0  42.060974   \n",
              "2   18.988880          51  Spruce forest           0           0  41.751991   \n",
              "3   18.988880          61  Spruce forest           0           0  40.630081   \n",
              "4   57.228600          63  Spruce forest           0           0  39.628021   \n",
              "\n",
              "      biomass  canopyHeig   spruceVol soilType     Slope      Aspect  \\\n",
              "0  171.927032  232.953491  237.784714  Moraine  4.282387  155.294220   \n",
              "1  233.726471  277.813202  352.840912  Moraine  3.222722  288.121857   \n",
              "2  233.009689  280.511902  294.602600  Moraine  4.374904  286.437500   \n",
              "3  223.813675  275.711304  195.438446  Moraine  4.905051  278.612396   \n",
              "4  220.536499  274.916199  387.950653  Moraine  5.145305  277.320190   \n",
              "\n",
              "         DEM  \n",
              "0  81.010002  \n",
              "1  51.020001  \n",
              "2  53.660000  \n",
              "3  56.259998  \n",
              "4  56.060001  "
            ],
            "text/html": [
              "\n",
              "  <div id=\"df-7303475b-6a65-40e8-859f-ad84bb67e901\" class=\"colab-df-container\">\n",
              "    <div>\n",
              "<style scoped>\n",
              "    .dataframe tbody tr th:only-of-type {\n",
              "        vertical-align: middle;\n",
              "    }\n",
              "\n",
              "    .dataframe tbody tr th {\n",
              "        vertical-align: top;\n",
              "    }\n",
              "\n",
              "    .dataframe thead th {\n",
              "        text-align: right;\n",
              "    }\n",
              "</style>\n",
              "<table border=\"1\" class=\"dataframe\">\n",
              "  <thead>\n",
              "    <tr style=\"text-align: right;\">\n",
              "      <th></th>\n",
              "      <th>x</th>\n",
              "      <th>y</th>\n",
              "      <th>bbPresence</th>\n",
              "      <th>distToCC5</th>\n",
              "      <th>distToCC10</th>\n",
              "      <th>distPrevDm</th>\n",
              "      <th>soilWetnes</th>\n",
              "      <th>distForest</th>\n",
              "      <th>forestType</th>\n",
              "      <th>prevY_f11s</th>\n",
              "      <th>prevY_f21s</th>\n",
              "      <th>basalArea</th>\n",
              "      <th>biomass</th>\n",
              "      <th>canopyHeig</th>\n",
              "      <th>spruceVol</th>\n",
              "      <th>soilType</th>\n",
              "      <th>Slope</th>\n",
              "      <th>Aspect</th>\n",
              "      <th>DEM</th>\n",
              "    </tr>\n",
              "  </thead>\n",
              "  <tbody>\n",
              "    <tr>\n",
              "      <th>0</th>\n",
              "      <td>416713.2303</td>\n",
              "      <td>6228294.732</td>\n",
              "      <td>1</td>\n",
              "      <td>741</td>\n",
              "      <td>189</td>\n",
              "      <td>3335</td>\n",
              "      <td>0.888151</td>\n",
              "      <td>10</td>\n",
              "      <td>Spruce forest</td>\n",
              "      <td>0</td>\n",
              "      <td>0</td>\n",
              "      <td>32.139431</td>\n",
              "      <td>171.927032</td>\n",
              "      <td>232.953491</td>\n",
              "      <td>237.784714</td>\n",
              "      <td>Moraine</td>\n",
              "      <td>4.282387</td>\n",
              "      <td>155.294220</td>\n",
              "      <td>81.010002</td>\n",
              "    </tr>\n",
              "    <tr>\n",
              "      <th>1</th>\n",
              "      <td>443073.2303</td>\n",
              "      <td>6238094.732</td>\n",
              "      <td>1</td>\n",
              "      <td>170</td>\n",
              "      <td>158</td>\n",
              "      <td>5172</td>\n",
              "      <td>36.603661</td>\n",
              "      <td>30</td>\n",
              "      <td>Spruce forest</td>\n",
              "      <td>0</td>\n",
              "      <td>0</td>\n",
              "      <td>42.060974</td>\n",
              "      <td>233.726471</td>\n",
              "      <td>277.813202</td>\n",
              "      <td>352.840912</td>\n",
              "      <td>Moraine</td>\n",
              "      <td>3.222722</td>\n",
              "      <td>288.121857</td>\n",
              "      <td>51.020001</td>\n",
              "    </tr>\n",
              "    <tr>\n",
              "      <th>2</th>\n",
              "      <td>443093.2303</td>\n",
              "      <td>6238064.732</td>\n",
              "      <td>1</td>\n",
              "      <td>205</td>\n",
              "      <td>133</td>\n",
              "      <td>5206</td>\n",
              "      <td>18.988880</td>\n",
              "      <td>51</td>\n",
              "      <td>Spruce forest</td>\n",
              "      <td>0</td>\n",
              "      <td>0</td>\n",
              "      <td>41.751991</td>\n",
              "      <td>233.009689</td>\n",
              "      <td>280.511902</td>\n",
              "      <td>294.602600</td>\n",
              "      <td>Moraine</td>\n",
              "      <td>4.374904</td>\n",
              "      <td>286.437500</td>\n",
              "      <td>53.660000</td>\n",
              "    </tr>\n",
              "    <tr>\n",
              "      <th>3</th>\n",
              "      <td>443103.2303</td>\n",
              "      <td>6238064.732</td>\n",
              "      <td>1</td>\n",
              "      <td>212</td>\n",
              "      <td>136</td>\n",
              "      <td>5210</td>\n",
              "      <td>18.988880</td>\n",
              "      <td>61</td>\n",
              "      <td>Spruce forest</td>\n",
              "      <td>0</td>\n",
              "      <td>0</td>\n",
              "      <td>40.630081</td>\n",
              "      <td>223.813675</td>\n",
              "      <td>275.711304</td>\n",
              "      <td>195.438446</td>\n",
              "      <td>Moraine</td>\n",
              "      <td>4.905051</td>\n",
              "      <td>278.612396</td>\n",
              "      <td>56.259998</td>\n",
              "    </tr>\n",
              "    <tr>\n",
              "      <th>4</th>\n",
              "      <td>443113.2303</td>\n",
              "      <td>6238114.732</td>\n",
              "      <td>1</td>\n",
              "      <td>184</td>\n",
              "      <td>161</td>\n",
              "      <td>5166</td>\n",
              "      <td>57.228600</td>\n",
              "      <td>63</td>\n",
              "      <td>Spruce forest</td>\n",
              "      <td>0</td>\n",
              "      <td>0</td>\n",
              "      <td>39.628021</td>\n",
              "      <td>220.536499</td>\n",
              "      <td>274.916199</td>\n",
              "      <td>387.950653</td>\n",
              "      <td>Moraine</td>\n",
              "      <td>5.145305</td>\n",
              "      <td>277.320190</td>\n",
              "      <td>56.060001</td>\n",
              "    </tr>\n",
              "  </tbody>\n",
              "</table>\n",
              "</div>\n",
              "    <div class=\"colab-df-buttons\">\n",
              "\n",
              "  <div class=\"colab-df-container\">\n",
              "    <button class=\"colab-df-convert\" onclick=\"convertToInteractive('df-7303475b-6a65-40e8-859f-ad84bb67e901')\"\n",
              "            title=\"Convert this dataframe to an interactive table.\"\n",
              "            style=\"display:none;\">\n",
              "\n",
              "  <svg xmlns=\"http://www.w3.org/2000/svg\" height=\"24px\" viewBox=\"0 -960 960 960\">\n",
              "    <path d=\"M120-120v-720h720v720H120Zm60-500h600v-160H180v160Zm220 220h160v-160H400v160Zm0 220h160v-160H400v160ZM180-400h160v-160H180v160Zm440 0h160v-160H620v160ZM180-180h160v-160H180v160Zm440 0h160v-160H620v160Z\"/>\n",
              "  </svg>\n",
              "    </button>\n",
              "\n",
              "  <style>\n",
              "    .colab-df-container {\n",
              "      display:flex;\n",
              "      gap: 12px;\n",
              "    }\n",
              "\n",
              "    .colab-df-convert {\n",
              "      background-color: #E8F0FE;\n",
              "      border: none;\n",
              "      border-radius: 50%;\n",
              "      cursor: pointer;\n",
              "      display: none;\n",
              "      fill: #1967D2;\n",
              "      height: 32px;\n",
              "      padding: 0 0 0 0;\n",
              "      width: 32px;\n",
              "    }\n",
              "\n",
              "    .colab-df-convert:hover {\n",
              "      background-color: #E2EBFA;\n",
              "      box-shadow: 0px 1px 2px rgba(60, 64, 67, 0.3), 0px 1px 3px 1px rgba(60, 64, 67, 0.15);\n",
              "      fill: #174EA6;\n",
              "    }\n",
              "\n",
              "    .colab-df-buttons div {\n",
              "      margin-bottom: 4px;\n",
              "    }\n",
              "\n",
              "    [theme=dark] .colab-df-convert {\n",
              "      background-color: #3B4455;\n",
              "      fill: #D2E3FC;\n",
              "    }\n",
              "\n",
              "    [theme=dark] .colab-df-convert:hover {\n",
              "      background-color: #434B5C;\n",
              "      box-shadow: 0px 1px 3px 1px rgba(0, 0, 0, 0.15);\n",
              "      filter: drop-shadow(0px 1px 2px rgba(0, 0, 0, 0.3));\n",
              "      fill: #FFFFFF;\n",
              "    }\n",
              "  </style>\n",
              "\n",
              "    <script>\n",
              "      const buttonEl =\n",
              "        document.querySelector('#df-7303475b-6a65-40e8-859f-ad84bb67e901 button.colab-df-convert');\n",
              "      buttonEl.style.display =\n",
              "        google.colab.kernel.accessAllowed ? 'block' : 'none';\n",
              "\n",
              "      async function convertToInteractive(key) {\n",
              "        const element = document.querySelector('#df-7303475b-6a65-40e8-859f-ad84bb67e901');\n",
              "        const dataTable =\n",
              "          await google.colab.kernel.invokeFunction('convertToInteractive',\n",
              "                                                    [key], {});\n",
              "        if (!dataTable) return;\n",
              "\n",
              "        const docLinkHtml = 'Like what you see? Visit the ' +\n",
              "          '<a target=\"_blank\" href=https://colab.research.google.com/notebooks/data_table.ipynb>data table notebook</a>'\n",
              "          + ' to learn more about interactive tables.';\n",
              "        element.innerHTML = '';\n",
              "        dataTable['output_type'] = 'display_data';\n",
              "        await google.colab.output.renderOutput(dataTable, element);\n",
              "        const docLink = document.createElement('div');\n",
              "        docLink.innerHTML = docLinkHtml;\n",
              "        element.appendChild(docLink);\n",
              "      }\n",
              "    </script>\n",
              "  </div>\n",
              "\n",
              "\n",
              "<div id=\"df-05581a7e-f5a2-46a9-ba66-dcbab4b96235\">\n",
              "  <button class=\"colab-df-quickchart\" onclick=\"quickchart('df-05581a7e-f5a2-46a9-ba66-dcbab4b96235')\"\n",
              "            title=\"Suggest charts\"\n",
              "            style=\"display:none;\">\n",
              "\n",
              "<svg xmlns=\"http://www.w3.org/2000/svg\" height=\"24px\"viewBox=\"0 0 24 24\"\n",
              "     width=\"24px\">\n",
              "    <g>\n",
              "        <path d=\"M19 3H5c-1.1 0-2 .9-2 2v14c0 1.1.9 2 2 2h14c1.1 0 2-.9 2-2V5c0-1.1-.9-2-2-2zM9 17H7v-7h2v7zm4 0h-2V7h2v10zm4 0h-2v-4h2v4z\"/>\n",
              "    </g>\n",
              "</svg>\n",
              "  </button>\n",
              "\n",
              "<style>\n",
              "  .colab-df-quickchart {\n",
              "      --bg-color: #E8F0FE;\n",
              "      --fill-color: #1967D2;\n",
              "      --hover-bg-color: #E2EBFA;\n",
              "      --hover-fill-color: #174EA6;\n",
              "      --disabled-fill-color: #AAA;\n",
              "      --disabled-bg-color: #DDD;\n",
              "  }\n",
              "\n",
              "  [theme=dark] .colab-df-quickchart {\n",
              "      --bg-color: #3B4455;\n",
              "      --fill-color: #D2E3FC;\n",
              "      --hover-bg-color: #434B5C;\n",
              "      --hover-fill-color: #FFFFFF;\n",
              "      --disabled-bg-color: #3B4455;\n",
              "      --disabled-fill-color: #666;\n",
              "  }\n",
              "\n",
              "  .colab-df-quickchart {\n",
              "    background-color: var(--bg-color);\n",
              "    border: none;\n",
              "    border-radius: 50%;\n",
              "    cursor: pointer;\n",
              "    display: none;\n",
              "    fill: var(--fill-color);\n",
              "    height: 32px;\n",
              "    padding: 0;\n",
              "    width: 32px;\n",
              "  }\n",
              "\n",
              "  .colab-df-quickchart:hover {\n",
              "    background-color: var(--hover-bg-color);\n",
              "    box-shadow: 0 1px 2px rgba(60, 64, 67, 0.3), 0 1px 3px 1px rgba(60, 64, 67, 0.15);\n",
              "    fill: var(--button-hover-fill-color);\n",
              "  }\n",
              "\n",
              "  .colab-df-quickchart-complete:disabled,\n",
              "  .colab-df-quickchart-complete:disabled:hover {\n",
              "    background-color: var(--disabled-bg-color);\n",
              "    fill: var(--disabled-fill-color);\n",
              "    box-shadow: none;\n",
              "  }\n",
              "\n",
              "  .colab-df-spinner {\n",
              "    border: 2px solid var(--fill-color);\n",
              "    border-color: transparent;\n",
              "    border-bottom-color: var(--fill-color);\n",
              "    animation:\n",
              "      spin 1s steps(1) infinite;\n",
              "  }\n",
              "\n",
              "  @keyframes spin {\n",
              "    0% {\n",
              "      border-color: transparent;\n",
              "      border-bottom-color: var(--fill-color);\n",
              "      border-left-color: var(--fill-color);\n",
              "    }\n",
              "    20% {\n",
              "      border-color: transparent;\n",
              "      border-left-color: var(--fill-color);\n",
              "      border-top-color: var(--fill-color);\n",
              "    }\n",
              "    30% {\n",
              "      border-color: transparent;\n",
              "      border-left-color: var(--fill-color);\n",
              "      border-top-color: var(--fill-color);\n",
              "      border-right-color: var(--fill-color);\n",
              "    }\n",
              "    40% {\n",
              "      border-color: transparent;\n",
              "      border-right-color: var(--fill-color);\n",
              "      border-top-color: var(--fill-color);\n",
              "    }\n",
              "    60% {\n",
              "      border-color: transparent;\n",
              "      border-right-color: var(--fill-color);\n",
              "    }\n",
              "    80% {\n",
              "      border-color: transparent;\n",
              "      border-right-color: var(--fill-color);\n",
              "      border-bottom-color: var(--fill-color);\n",
              "    }\n",
              "    90% {\n",
              "      border-color: transparent;\n",
              "      border-bottom-color: var(--fill-color);\n",
              "    }\n",
              "  }\n",
              "</style>\n",
              "\n",
              "  <script>\n",
              "    async function quickchart(key) {\n",
              "      const quickchartButtonEl =\n",
              "        document.querySelector('#' + key + ' button');\n",
              "      quickchartButtonEl.disabled = true;  // To prevent multiple clicks.\n",
              "      quickchartButtonEl.classList.add('colab-df-spinner');\n",
              "      try {\n",
              "        const charts = await google.colab.kernel.invokeFunction(\n",
              "            'suggestCharts', [key], {});\n",
              "      } catch (error) {\n",
              "        console.error('Error during call to suggestCharts:', error);\n",
              "      }\n",
              "      quickchartButtonEl.classList.remove('colab-df-spinner');\n",
              "      quickchartButtonEl.classList.add('colab-df-quickchart-complete');\n",
              "    }\n",
              "    (() => {\n",
              "      let quickchartButtonEl =\n",
              "        document.querySelector('#df-05581a7e-f5a2-46a9-ba66-dcbab4b96235 button');\n",
              "      quickchartButtonEl.style.display =\n",
              "        google.colab.kernel.accessAllowed ? 'block' : 'none';\n",
              "    })();\n",
              "  </script>\n",
              "</div>\n",
              "\n",
              "    </div>\n",
              "  </div>\n"
            ],
            "application/vnd.google.colaboratory.intrinsic+json": {
              "type": "dataframe",
              "variable_name": "bark_beetle_df",
              "summary": "{\n  \"name\": \"bark_beetle_df\",\n  \"rows\": 70532,\n  \"fields\": [\n    {\n      \"column\": \"x\",\n      \"properties\": {\n        \"dtype\": \"number\",\n        \"std\": 36279.66308209629,\n        \"min\": 410323.2303,\n        \"max\": 589313.2303,\n        \"num_unique_values\": 12085,\n        \"samples\": [\n          535113.2303,\n          588913.2303,\n          534863.2303\n        ],\n        \"semantic_type\": \"\",\n        \"description\": \"\"\n      }\n    },\n    {\n      \"column\": \"y\",\n      \"properties\": {\n        \"dtype\": \"number\",\n        \"std\": 60938.831018790195,\n        \"min\": 6227644.732,\n        \"max\": 6467264.732,\n        \"num_unique_values\": 16640,\n        \"samples\": [\n          6281684.732,\n          6410484.732,\n          6406864.732\n        ],\n        \"semantic_type\": \"\",\n        \"description\": \"\"\n      }\n    },\n    {\n      \"column\": \"bbPresence\",\n      \"properties\": {\n        \"dtype\": \"number\",\n        \"std\": 0,\n        \"min\": 0,\n        \"max\": 1,\n        \"num_unique_values\": 2,\n        \"samples\": [\n          0,\n          1\n        ],\n        \"semantic_type\": \"\",\n        \"description\": \"\"\n      }\n    },\n    {\n      \"column\": \"distToCC5\",\n      \"properties\": {\n        \"dtype\": \"number\",\n        \"std\": 433,\n        \"min\": 0,\n        \"max\": 3468,\n        \"num_unique_values\": 2444,\n        \"samples\": [\n          1681,\n          1673\n        ],\n        \"semantic_type\": \"\",\n        \"description\": \"\"\n      }\n    },\n    {\n      \"column\": \"distToCC10\",\n      \"properties\": {\n        \"dtype\": \"number\",\n        \"std\": 386,\n        \"min\": 0,\n        \"max\": 3288,\n        \"num_unique_values\": 2255,\n        \"samples\": [\n          1492,\n          1259\n        ],\n        \"semantic_type\": \"\",\n        \"description\": \"\"\n      }\n    },\n    {\n      \"column\": \"distPrevDm\",\n      \"properties\": {\n        \"dtype\": \"number\",\n        \"std\": 3491,\n        \"min\": 0,\n        \"max\": 20566,\n        \"num_unique_values\": 10858,\n        \"samples\": [\n          5385,\n          5796\n        ],\n        \"semantic_type\": \"\",\n        \"description\": \"\"\n      }\n    },\n    {\n      \"column\": \"soilWetnes\",\n      \"properties\": {\n        \"dtype\": \"number\",\n        \"std\": 24.776423733426405,\n        \"min\": 0.0,\n        \"max\": 100.0,\n        \"num_unique_values\": 41091,\n        \"samples\": [\n          73.25814819,\n          99.33811188\n        ],\n        \"semantic_type\": \"\",\n        \"description\": \"\"\n      }\n    },\n    {\n      \"column\": \"distForest\",\n      \"properties\": {\n        \"dtype\": \"number\",\n        \"std\": 49,\n        \"min\": 0,\n        \"max\": 410,\n        \"num_unique_values\": 259,\n        \"samples\": [\n          187,\n          108\n        ],\n        \"semantic_type\": \"\",\n        \"description\": \"\"\n      }\n    },\n    {\n      \"column\": \"forestType\",\n      \"properties\": {\n        \"dtype\": \"category\",\n        \"num_unique_values\": 3,\n        \"samples\": [\n          \"Spruce forest\",\n          \"Mixed coniferous forest\"\n        ],\n        \"semantic_type\": \"\",\n        \"description\": \"\"\n      }\n    },\n    {\n      \"column\": \"prevY_f11s\",\n      \"properties\": {\n        \"dtype\": \"number\",\n        \"std\": 4,\n        \"min\": 0,\n        \"max\": 232,\n        \"num_unique_values\": 105,\n        \"samples\": [\n          40,\n          84\n        ],\n        \"semantic_type\": \"\",\n        \"description\": \"\"\n      }\n    },\n    {\n      \"column\": \"prevY_f21s\",\n      \"properties\": {\n        \"dtype\": \"number\",\n        \"std\": 8,\n        \"min\": 0,\n        \"max\": 276,\n        \"num_unique_values\": 123,\n        \"samples\": [\n          97,\n          17\n        ],\n        \"semantic_type\": \"\",\n        \"description\": \"\"\n      }\n    },\n    {\n      \"column\": \"basalArea\",\n      \"properties\": {\n        \"dtype\": \"number\",\n        \"std\": 7.772391007967944,\n        \"min\": 0.0,\n        \"max\": 47.34446335,\n        \"num_unique_values\": 67490,\n        \"samples\": [\n          41.39372635,\n          31.78413391\n        ],\n        \"semantic_type\": \"\",\n        \"description\": \"\"\n      }\n    },\n    {\n      \"column\": \"biomass\",\n      \"properties\": {\n        \"dtype\": \"number\",\n        \"std\": 50.041872777300064,\n        \"min\": 0.0,\n        \"max\": 263.7385864,\n        \"num_unique_values\": 70171,\n        \"samples\": [\n          160.5892944,\n          133.7110138\n        ],\n        \"semantic_type\": \"\",\n        \"description\": \"\"\n      }\n    },\n    {\n      \"column\": \"canopyHeig\",\n      \"properties\": {\n        \"dtype\": \"number\",\n        \"std\": 47.6285895723078,\n        \"min\": 0.0,\n        \"max\": 286.0761108,\n        \"num_unique_values\": 70102,\n        \"samples\": [\n          188.9944916,\n          237.7748718\n        ],\n        \"semantic_type\": \"\",\n        \"description\": \"\"\n      }\n    },\n    {\n      \"column\": \"spruceVol\",\n      \"properties\": {\n        \"dtype\": \"number\",\n        \"std\": 105.98154193564663,\n        \"min\": 0.0,\n        \"max\": 453.819519,\n        \"num_unique_values\": 70210,\n        \"samples\": [\n          66.17881775,\n          275.0190125\n        ],\n        \"semantic_type\": \"\",\n        \"description\": \"\"\n      }\n    },\n    {\n      \"column\": \"soilType\",\n      \"properties\": {\n        \"dtype\": \"category\",\n        \"num_unique_values\": 8,\n        \"samples\": [\n          \"Unspecified Sediment\",\n          \"Gravel\"\n        ],\n        \"semantic_type\": \"\",\n        \"description\": \"\"\n      }\n    },\n    {\n      \"column\": \"Slope\",\n      \"properties\": {\n        \"dtype\": \"number\",\n        \"std\": 1.9396005378724182,\n        \"min\": 0.0,\n        \"max\": 25.3501759,\n        \"num_unique_values\": 52315,\n        \"samples\": [\n          0.8518618,\n          5.7241774\n        ],\n        \"semantic_type\": \"\",\n        \"description\": \"\"\n      }\n    },\n    {\n      \"column\": \"Aspect\",\n      \"properties\": {\n        \"dtype\": \"number\",\n        \"std\": 108.54723894189137,\n        \"min\": -1.0,\n        \"max\": 359.9999695,\n        \"num_unique_values\": 52511,\n        \"samples\": [\n          222.7809906,\n          327.3152771\n        ],\n        \"semantic_type\": \"\",\n        \"description\": \"\"\n      }\n    },\n    {\n      \"column\": \"DEM\",\n      \"properties\": {\n        \"dtype\": \"number\",\n        \"std\": 65.45327118238654,\n        \"min\": 9.46,\n        \"max\": 327.519989,\n        \"num_unique_values\": 21488,\n        \"samples\": [\n          288.2000122,\n          244.7200012\n        ],\n        \"semantic_type\": \"\",\n        \"description\": \"\"\n      }\n    }\n  ]\n}"
            }
          },
          "metadata": {},
          "execution_count": 5
        }
      ],
      "execution_count": null
    },
    {
      "cell_type": "markdown",
      "id": "d383390b",
      "metadata": {
        "id": "d383390b"
      },
      "source": [
        "<BR><BR><BR>\n",
        "    \n",
        "\n",
        "## Visualising\n",
        "    \n",
        "Now statistically and visually investigate the data.\n",
        "`.describe` the variables and call `value_counts` on the binary variables."
      ]
    },
    {
      "cell_type": "code",
      "id": "f3334009",
      "metadata": {
        "scrolled": true,
        "colab": {
          "base_uri": "https://localhost:8080/",
          "height": 320
        },
        "id": "f3334009",
        "outputId": "01270819-cbf0-4ca8-e7a8-152e3a095e82"
      },
      "source": [
        "#desribe the data, note that you have different types of columns, namely numerical and textual (categorical)\n",
        "bark_beetle_df.describe()"
      ],
      "outputs": [
        {
          "output_type": "execute_result",
          "data": {
            "text/plain": [
              "                   x             y    bbPresence     distToCC5    distToCC10  \\\n",
              "count   70532.000000  7.053200e+04  70532.000000  70532.000000  70532.000000   \n",
              "mean   539314.961713  6.340316e+06      0.504466    570.115735    460.189006   \n",
              "std     36279.663082  6.093883e+04      0.499984    433.993792    386.259501   \n",
              "min    410323.230300  6.227645e+06      0.000000      0.000000      0.000000   \n",
              "25%    517193.230300  6.303375e+06      0.000000    260.000000    192.000000   \n",
              "50%    548093.230300  6.322035e+06      1.000000    475.000000    375.000000   \n",
              "75%    571053.230300  6.385720e+06      1.000000    767.000000    620.000000   \n",
              "max    589313.230300  6.467265e+06      1.000000   3468.000000   3288.000000   \n",
              "\n",
              "         distPrevDm    soilWetnes    distForest    prevY_f11s    prevY_f21s  \\\n",
              "count  70532.000000  70532.000000  70532.000000  70532.000000  70532.000000   \n",
              "mean    2827.756876     23.621647     54.724437      0.323272      0.687929   \n",
              "std     3491.692138     24.776424     49.111039      4.761115      8.374480   \n",
              "min        0.000000      0.000000      0.000000      0.000000      0.000000   \n",
              "25%      585.000000      3.928327     20.000000      0.000000      0.000000   \n",
              "50%     1602.000000     14.295692     41.000000      0.000000      0.000000   \n",
              "75%     3725.000000     35.812202     78.000000      0.000000      0.000000   \n",
              "max    20566.000000    100.000000    410.000000    232.000000    276.000000   \n",
              "\n",
              "          basalArea       biomass    canopyHeig     spruceVol         Slope  \\\n",
              "count  70532.000000  70532.000000  70532.000000  70532.000000  70532.000000   \n",
              "mean      28.957465    142.664734    189.882790    161.277812      2.084140   \n",
              "std        7.772391     50.041873     47.628590    105.981542      1.939601   \n",
              "min        0.000000      0.000000      0.000000      0.000000      0.000000   \n",
              "25%       24.121449    109.229404    161.761353     73.717617      0.859542   \n",
              "50%       29.389790    145.231979    196.578232    143.612587      1.504757   \n",
              "75%       34.187334    177.372807    223.721661    233.175644      2.608795   \n",
              "max       47.344463    263.738586    286.076111    453.819519     25.350176   \n",
              "\n",
              "             Aspect           DEM  \n",
              "count  70532.000000  70532.000000  \n",
              "mean     169.087602    132.570769  \n",
              "std      108.547239     65.453271  \n",
              "min       -1.000000      9.460000  \n",
              "25%       70.394159     75.027498  \n",
              "50%      170.352982    128.600006  \n",
              "75%      252.276966    179.570007  \n",
              "max      359.999970    327.519989  "
            ],
            "text/html": [
              "\n",
              "  <div id=\"df-4a226c75-1c57-4de0-a17c-fa071b40a623\" class=\"colab-df-container\">\n",
              "    <div>\n",
              "<style scoped>\n",
              "    .dataframe tbody tr th:only-of-type {\n",
              "        vertical-align: middle;\n",
              "    }\n",
              "\n",
              "    .dataframe tbody tr th {\n",
              "        vertical-align: top;\n",
              "    }\n",
              "\n",
              "    .dataframe thead th {\n",
              "        text-align: right;\n",
              "    }\n",
              "</style>\n",
              "<table border=\"1\" class=\"dataframe\">\n",
              "  <thead>\n",
              "    <tr style=\"text-align: right;\">\n",
              "      <th></th>\n",
              "      <th>x</th>\n",
              "      <th>y</th>\n",
              "      <th>bbPresence</th>\n",
              "      <th>distToCC5</th>\n",
              "      <th>distToCC10</th>\n",
              "      <th>distPrevDm</th>\n",
              "      <th>soilWetnes</th>\n",
              "      <th>distForest</th>\n",
              "      <th>prevY_f11s</th>\n",
              "      <th>prevY_f21s</th>\n",
              "      <th>basalArea</th>\n",
              "      <th>biomass</th>\n",
              "      <th>canopyHeig</th>\n",
              "      <th>spruceVol</th>\n",
              "      <th>Slope</th>\n",
              "      <th>Aspect</th>\n",
              "      <th>DEM</th>\n",
              "    </tr>\n",
              "  </thead>\n",
              "  <tbody>\n",
              "    <tr>\n",
              "      <th>count</th>\n",
              "      <td>70532.000000</td>\n",
              "      <td>7.053200e+04</td>\n",
              "      <td>70532.000000</td>\n",
              "      <td>70532.000000</td>\n",
              "      <td>70532.000000</td>\n",
              "      <td>70532.000000</td>\n",
              "      <td>70532.000000</td>\n",
              "      <td>70532.000000</td>\n",
              "      <td>70532.000000</td>\n",
              "      <td>70532.000000</td>\n",
              "      <td>70532.000000</td>\n",
              "      <td>70532.000000</td>\n",
              "      <td>70532.000000</td>\n",
              "      <td>70532.000000</td>\n",
              "      <td>70532.000000</td>\n",
              "      <td>70532.000000</td>\n",
              "      <td>70532.000000</td>\n",
              "    </tr>\n",
              "    <tr>\n",
              "      <th>mean</th>\n",
              "      <td>539314.961713</td>\n",
              "      <td>6.340316e+06</td>\n",
              "      <td>0.504466</td>\n",
              "      <td>570.115735</td>\n",
              "      <td>460.189006</td>\n",
              "      <td>2827.756876</td>\n",
              "      <td>23.621647</td>\n",
              "      <td>54.724437</td>\n",
              "      <td>0.323272</td>\n",
              "      <td>0.687929</td>\n",
              "      <td>28.957465</td>\n",
              "      <td>142.664734</td>\n",
              "      <td>189.882790</td>\n",
              "      <td>161.277812</td>\n",
              "      <td>2.084140</td>\n",
              "      <td>169.087602</td>\n",
              "      <td>132.570769</td>\n",
              "    </tr>\n",
              "    <tr>\n",
              "      <th>std</th>\n",
              "      <td>36279.663082</td>\n",
              "      <td>6.093883e+04</td>\n",
              "      <td>0.499984</td>\n",
              "      <td>433.993792</td>\n",
              "      <td>386.259501</td>\n",
              "      <td>3491.692138</td>\n",
              "      <td>24.776424</td>\n",
              "      <td>49.111039</td>\n",
              "      <td>4.761115</td>\n",
              "      <td>8.374480</td>\n",
              "      <td>7.772391</td>\n",
              "      <td>50.041873</td>\n",
              "      <td>47.628590</td>\n",
              "      <td>105.981542</td>\n",
              "      <td>1.939601</td>\n",
              "      <td>108.547239</td>\n",
              "      <td>65.453271</td>\n",
              "    </tr>\n",
              "    <tr>\n",
              "      <th>min</th>\n",
              "      <td>410323.230300</td>\n",
              "      <td>6.227645e+06</td>\n",
              "      <td>0.000000</td>\n",
              "      <td>0.000000</td>\n",
              "      <td>0.000000</td>\n",
              "      <td>0.000000</td>\n",
              "      <td>0.000000</td>\n",
              "      <td>0.000000</td>\n",
              "      <td>0.000000</td>\n",
              "      <td>0.000000</td>\n",
              "      <td>0.000000</td>\n",
              "      <td>0.000000</td>\n",
              "      <td>0.000000</td>\n",
              "      <td>0.000000</td>\n",
              "      <td>0.000000</td>\n",
              "      <td>-1.000000</td>\n",
              "      <td>9.460000</td>\n",
              "    </tr>\n",
              "    <tr>\n",
              "      <th>25%</th>\n",
              "      <td>517193.230300</td>\n",
              "      <td>6.303375e+06</td>\n",
              "      <td>0.000000</td>\n",
              "      <td>260.000000</td>\n",
              "      <td>192.000000</td>\n",
              "      <td>585.000000</td>\n",
              "      <td>3.928327</td>\n",
              "      <td>20.000000</td>\n",
              "      <td>0.000000</td>\n",
              "      <td>0.000000</td>\n",
              "      <td>24.121449</td>\n",
              "      <td>109.229404</td>\n",
              "      <td>161.761353</td>\n",
              "      <td>73.717617</td>\n",
              "      <td>0.859542</td>\n",
              "      <td>70.394159</td>\n",
              "      <td>75.027498</td>\n",
              "    </tr>\n",
              "    <tr>\n",
              "      <th>50%</th>\n",
              "      <td>548093.230300</td>\n",
              "      <td>6.322035e+06</td>\n",
              "      <td>1.000000</td>\n",
              "      <td>475.000000</td>\n",
              "      <td>375.000000</td>\n",
              "      <td>1602.000000</td>\n",
              "      <td>14.295692</td>\n",
              "      <td>41.000000</td>\n",
              "      <td>0.000000</td>\n",
              "      <td>0.000000</td>\n",
              "      <td>29.389790</td>\n",
              "      <td>145.231979</td>\n",
              "      <td>196.578232</td>\n",
              "      <td>143.612587</td>\n",
              "      <td>1.504757</td>\n",
              "      <td>170.352982</td>\n",
              "      <td>128.600006</td>\n",
              "    </tr>\n",
              "    <tr>\n",
              "      <th>75%</th>\n",
              "      <td>571053.230300</td>\n",
              "      <td>6.385720e+06</td>\n",
              "      <td>1.000000</td>\n",
              "      <td>767.000000</td>\n",
              "      <td>620.000000</td>\n",
              "      <td>3725.000000</td>\n",
              "      <td>35.812202</td>\n",
              "      <td>78.000000</td>\n",
              "      <td>0.000000</td>\n",
              "      <td>0.000000</td>\n",
              "      <td>34.187334</td>\n",
              "      <td>177.372807</td>\n",
              "      <td>223.721661</td>\n",
              "      <td>233.175644</td>\n",
              "      <td>2.608795</td>\n",
              "      <td>252.276966</td>\n",
              "      <td>179.570007</td>\n",
              "    </tr>\n",
              "    <tr>\n",
              "      <th>max</th>\n",
              "      <td>589313.230300</td>\n",
              "      <td>6.467265e+06</td>\n",
              "      <td>1.000000</td>\n",
              "      <td>3468.000000</td>\n",
              "      <td>3288.000000</td>\n",
              "      <td>20566.000000</td>\n",
              "      <td>100.000000</td>\n",
              "      <td>410.000000</td>\n",
              "      <td>232.000000</td>\n",
              "      <td>276.000000</td>\n",
              "      <td>47.344463</td>\n",
              "      <td>263.738586</td>\n",
              "      <td>286.076111</td>\n",
              "      <td>453.819519</td>\n",
              "      <td>25.350176</td>\n",
              "      <td>359.999970</td>\n",
              "      <td>327.519989</td>\n",
              "    </tr>\n",
              "  </tbody>\n",
              "</table>\n",
              "</div>\n",
              "    <div class=\"colab-df-buttons\">\n",
              "\n",
              "  <div class=\"colab-df-container\">\n",
              "    <button class=\"colab-df-convert\" onclick=\"convertToInteractive('df-4a226c75-1c57-4de0-a17c-fa071b40a623')\"\n",
              "            title=\"Convert this dataframe to an interactive table.\"\n",
              "            style=\"display:none;\">\n",
              "\n",
              "  <svg xmlns=\"http://www.w3.org/2000/svg\" height=\"24px\" viewBox=\"0 -960 960 960\">\n",
              "    <path d=\"M120-120v-720h720v720H120Zm60-500h600v-160H180v160Zm220 220h160v-160H400v160Zm0 220h160v-160H400v160ZM180-400h160v-160H180v160Zm440 0h160v-160H620v160ZM180-180h160v-160H180v160Zm440 0h160v-160H620v160Z\"/>\n",
              "  </svg>\n",
              "    </button>\n",
              "\n",
              "  <style>\n",
              "    .colab-df-container {\n",
              "      display:flex;\n",
              "      gap: 12px;\n",
              "    }\n",
              "\n",
              "    .colab-df-convert {\n",
              "      background-color: #E8F0FE;\n",
              "      border: none;\n",
              "      border-radius: 50%;\n",
              "      cursor: pointer;\n",
              "      display: none;\n",
              "      fill: #1967D2;\n",
              "      height: 32px;\n",
              "      padding: 0 0 0 0;\n",
              "      width: 32px;\n",
              "    }\n",
              "\n",
              "    .colab-df-convert:hover {\n",
              "      background-color: #E2EBFA;\n",
              "      box-shadow: 0px 1px 2px rgba(60, 64, 67, 0.3), 0px 1px 3px 1px rgba(60, 64, 67, 0.15);\n",
              "      fill: #174EA6;\n",
              "    }\n",
              "\n",
              "    .colab-df-buttons div {\n",
              "      margin-bottom: 4px;\n",
              "    }\n",
              "\n",
              "    [theme=dark] .colab-df-convert {\n",
              "      background-color: #3B4455;\n",
              "      fill: #D2E3FC;\n",
              "    }\n",
              "\n",
              "    [theme=dark] .colab-df-convert:hover {\n",
              "      background-color: #434B5C;\n",
              "      box-shadow: 0px 1px 3px 1px rgba(0, 0, 0, 0.15);\n",
              "      filter: drop-shadow(0px 1px 2px rgba(0, 0, 0, 0.3));\n",
              "      fill: #FFFFFF;\n",
              "    }\n",
              "  </style>\n",
              "\n",
              "    <script>\n",
              "      const buttonEl =\n",
              "        document.querySelector('#df-4a226c75-1c57-4de0-a17c-fa071b40a623 button.colab-df-convert');\n",
              "      buttonEl.style.display =\n",
              "        google.colab.kernel.accessAllowed ? 'block' : 'none';\n",
              "\n",
              "      async function convertToInteractive(key) {\n",
              "        const element = document.querySelector('#df-4a226c75-1c57-4de0-a17c-fa071b40a623');\n",
              "        const dataTable =\n",
              "          await google.colab.kernel.invokeFunction('convertToInteractive',\n",
              "                                                    [key], {});\n",
              "        if (!dataTable) return;\n",
              "\n",
              "        const docLinkHtml = 'Like what you see? Visit the ' +\n",
              "          '<a target=\"_blank\" href=https://colab.research.google.com/notebooks/data_table.ipynb>data table notebook</a>'\n",
              "          + ' to learn more about interactive tables.';\n",
              "        element.innerHTML = '';\n",
              "        dataTable['output_type'] = 'display_data';\n",
              "        await google.colab.output.renderOutput(dataTable, element);\n",
              "        const docLink = document.createElement('div');\n",
              "        docLink.innerHTML = docLinkHtml;\n",
              "        element.appendChild(docLink);\n",
              "      }\n",
              "    </script>\n",
              "  </div>\n",
              "\n",
              "\n",
              "<div id=\"df-26d7ae60-48af-4e19-a694-8340d4cf450e\">\n",
              "  <button class=\"colab-df-quickchart\" onclick=\"quickchart('df-26d7ae60-48af-4e19-a694-8340d4cf450e')\"\n",
              "            title=\"Suggest charts\"\n",
              "            style=\"display:none;\">\n",
              "\n",
              "<svg xmlns=\"http://www.w3.org/2000/svg\" height=\"24px\"viewBox=\"0 0 24 24\"\n",
              "     width=\"24px\">\n",
              "    <g>\n",
              "        <path d=\"M19 3H5c-1.1 0-2 .9-2 2v14c0 1.1.9 2 2 2h14c1.1 0 2-.9 2-2V5c0-1.1-.9-2-2-2zM9 17H7v-7h2v7zm4 0h-2V7h2v10zm4 0h-2v-4h2v4z\"/>\n",
              "    </g>\n",
              "</svg>\n",
              "  </button>\n",
              "\n",
              "<style>\n",
              "  .colab-df-quickchart {\n",
              "      --bg-color: #E8F0FE;\n",
              "      --fill-color: #1967D2;\n",
              "      --hover-bg-color: #E2EBFA;\n",
              "      --hover-fill-color: #174EA6;\n",
              "      --disabled-fill-color: #AAA;\n",
              "      --disabled-bg-color: #DDD;\n",
              "  }\n",
              "\n",
              "  [theme=dark] .colab-df-quickchart {\n",
              "      --bg-color: #3B4455;\n",
              "      --fill-color: #D2E3FC;\n",
              "      --hover-bg-color: #434B5C;\n",
              "      --hover-fill-color: #FFFFFF;\n",
              "      --disabled-bg-color: #3B4455;\n",
              "      --disabled-fill-color: #666;\n",
              "  }\n",
              "\n",
              "  .colab-df-quickchart {\n",
              "    background-color: var(--bg-color);\n",
              "    border: none;\n",
              "    border-radius: 50%;\n",
              "    cursor: pointer;\n",
              "    display: none;\n",
              "    fill: var(--fill-color);\n",
              "    height: 32px;\n",
              "    padding: 0;\n",
              "    width: 32px;\n",
              "  }\n",
              "\n",
              "  .colab-df-quickchart:hover {\n",
              "    background-color: var(--hover-bg-color);\n",
              "    box-shadow: 0 1px 2px rgba(60, 64, 67, 0.3), 0 1px 3px 1px rgba(60, 64, 67, 0.15);\n",
              "    fill: var(--button-hover-fill-color);\n",
              "  }\n",
              "\n",
              "  .colab-df-quickchart-complete:disabled,\n",
              "  .colab-df-quickchart-complete:disabled:hover {\n",
              "    background-color: var(--disabled-bg-color);\n",
              "    fill: var(--disabled-fill-color);\n",
              "    box-shadow: none;\n",
              "  }\n",
              "\n",
              "  .colab-df-spinner {\n",
              "    border: 2px solid var(--fill-color);\n",
              "    border-color: transparent;\n",
              "    border-bottom-color: var(--fill-color);\n",
              "    animation:\n",
              "      spin 1s steps(1) infinite;\n",
              "  }\n",
              "\n",
              "  @keyframes spin {\n",
              "    0% {\n",
              "      border-color: transparent;\n",
              "      border-bottom-color: var(--fill-color);\n",
              "      border-left-color: var(--fill-color);\n",
              "    }\n",
              "    20% {\n",
              "      border-color: transparent;\n",
              "      border-left-color: var(--fill-color);\n",
              "      border-top-color: var(--fill-color);\n",
              "    }\n",
              "    30% {\n",
              "      border-color: transparent;\n",
              "      border-left-color: var(--fill-color);\n",
              "      border-top-color: var(--fill-color);\n",
              "      border-right-color: var(--fill-color);\n",
              "    }\n",
              "    40% {\n",
              "      border-color: transparent;\n",
              "      border-right-color: var(--fill-color);\n",
              "      border-top-color: var(--fill-color);\n",
              "    }\n",
              "    60% {\n",
              "      border-color: transparent;\n",
              "      border-right-color: var(--fill-color);\n",
              "    }\n",
              "    80% {\n",
              "      border-color: transparent;\n",
              "      border-right-color: var(--fill-color);\n",
              "      border-bottom-color: var(--fill-color);\n",
              "    }\n",
              "    90% {\n",
              "      border-color: transparent;\n",
              "      border-bottom-color: var(--fill-color);\n",
              "    }\n",
              "  }\n",
              "</style>\n",
              "\n",
              "  <script>\n",
              "    async function quickchart(key) {\n",
              "      const quickchartButtonEl =\n",
              "        document.querySelector('#' + key + ' button');\n",
              "      quickchartButtonEl.disabled = true;  // To prevent multiple clicks.\n",
              "      quickchartButtonEl.classList.add('colab-df-spinner');\n",
              "      try {\n",
              "        const charts = await google.colab.kernel.invokeFunction(\n",
              "            'suggestCharts', [key], {});\n",
              "      } catch (error) {\n",
              "        console.error('Error during call to suggestCharts:', error);\n",
              "      }\n",
              "      quickchartButtonEl.classList.remove('colab-df-spinner');\n",
              "      quickchartButtonEl.classList.add('colab-df-quickchart-complete');\n",
              "    }\n",
              "    (() => {\n",
              "      let quickchartButtonEl =\n",
              "        document.querySelector('#df-26d7ae60-48af-4e19-a694-8340d4cf450e button');\n",
              "      quickchartButtonEl.style.display =\n",
              "        google.colab.kernel.accessAllowed ? 'block' : 'none';\n",
              "    })();\n",
              "  </script>\n",
              "</div>\n",
              "\n",
              "    </div>\n",
              "  </div>\n"
            ],
            "application/vnd.google.colaboratory.intrinsic+json": {
              "type": "dataframe",
              "summary": "{\n  \"name\": \"bark_beetle_df\",\n  \"rows\": 8,\n  \"fields\": [\n    {\n      \"column\": \"x\",\n      \"properties\": {\n        \"dtype\": \"number\",\n        \"std\": 226866.49024406358,\n        \"min\": 36279.66308209629,\n        \"max\": 589313.2303,\n        \"num_unique_values\": 8,\n        \"samples\": [\n          539314.9617126922,\n          548093.2303,\n          70532.0\n        ],\n        \"semantic_type\": \"\",\n        \"description\": \"\"\n      }\n    },\n    {\n      \"column\": \"y\",\n      \"properties\": {\n        \"dtype\": \"number\",\n        \"std\": 2905712.2482366627,\n        \"min\": 60938.831018790195,\n        \"max\": 6467264.732,\n        \"num_unique_values\": 8,\n        \"samples\": [\n          6340316.198851924,\n          6322034.732,\n          70532.0\n        ],\n        \"semantic_type\": \"\",\n        \"description\": \"\"\n      }\n    },\n    {\n      \"column\": \"bbPresence\",\n      \"properties\": {\n        \"dtype\": \"number\",\n        \"std\": 24936.625493550724,\n        \"min\": 0.0,\n        \"max\": 70532.0,\n        \"num_unique_values\": 5,\n        \"samples\": [\n          0.5044660579595077,\n          1.0,\n          0.4999835983150717\n        ],\n        \"semantic_type\": \"\",\n        \"description\": \"\"\n      }\n    },\n    {\n      \"column\": \"distToCC5\",\n      \"properties\": {\n        \"dtype\": \"number\",\n        \"std\": 24659.211101954297,\n        \"min\": 0.0,\n        \"max\": 70532.0,\n        \"num_unique_values\": 8,\n        \"samples\": [\n          570.1157347019792,\n          475.0,\n          70532.0\n        ],\n        \"semantic_type\": \"\",\n        \"description\": \"\"\n      }\n    },\n    {\n      \"column\": \"distToCC10\",\n      \"properties\": {\n        \"dtype\": \"number\",\n        \"std\": 24690.306429310684,\n        \"min\": 0.0,\n        \"max\": 70532.0,\n        \"num_unique_values\": 8,\n        \"samples\": [\n          460.18900640843873,\n          375.0,\n          70532.0\n        ],\n        \"semantic_type\": \"\",\n        \"description\": \"\"\n      }\n    },\n    {\n      \"column\": \"distPrevDm\",\n      \"properties\": {\n        \"dtype\": \"number\",\n        \"std\": 24201.75282238864,\n        \"min\": 0.0,\n        \"max\": 70532.0,\n        \"num_unique_values\": 8,\n        \"samples\": [\n          2827.7568763114614,\n          1602.0,\n          70532.0\n        ],\n        \"semantic_type\": \"\",\n        \"description\": \"\"\n      }\n    },\n    {\n      \"column\": \"soilWetnes\",\n      \"properties\": {\n        \"dtype\": \"number\",\n        \"std\": 24926.622812392554,\n        \"min\": 0.0,\n        \"max\": 70532.0,\n        \"num_unique_values\": 8,\n        \"samples\": [\n          23.621647459887466,\n          14.29569244,\n          70532.0\n        ],\n        \"semantic_type\": \"\",\n        \"description\": \"\"\n      }\n    },\n    {\n      \"column\": \"distForest\",\n      \"properties\": {\n        \"dtype\": \"number\",\n        \"std\": 24904.201009448625,\n        \"min\": 0.0,\n        \"max\": 70532.0,\n        \"num_unique_values\": 8,\n        \"samples\": [\n          54.72443713491749,\n          41.0,\n          70532.0\n        ],\n        \"semantic_type\": \"\",\n        \"description\": \"\"\n      }\n    },\n    {\n      \"column\": \"prevY_f11s\",\n      \"properties\": {\n        \"dtype\": \"number\",\n        \"std\": 24924.984475285437,\n        \"min\": 0.0,\n        \"max\": 70532.0,\n        \"num_unique_values\": 5,\n        \"samples\": [\n          0.3232717064594794,\n          232.0,\n          4.761115202611685\n        ],\n        \"semantic_type\": \"\",\n        \"description\": \"\"\n      }\n    },\n    {\n      \"column\": \"prevY_f21s\",\n      \"properties\": {\n        \"dtype\": \"number\",\n        \"std\": 24922.615173426315,\n        \"min\": 0.0,\n        \"max\": 70532.0,\n        \"num_unique_values\": 5,\n        \"samples\": [\n          0.6879288833437305,\n          276.0,\n          8.374479904104486\n        ],\n        \"semantic_type\": \"\",\n        \"description\": \"\"\n      }\n    },\n    {\n      \"column\": \"basalArea\",\n      \"properties\": {\n        \"dtype\": \"number\",\n        \"std\": 24928.156315925844,\n        \"min\": 0.0,\n        \"max\": 70532.0,\n        \"num_unique_values\": 8,\n        \"samples\": [\n          28.95746530436212,\n          29.389789585,\n          70532.0\n        ],\n        \"semantic_type\": \"\",\n        \"description\": \"\"\n      }\n    },\n    {\n      \"column\": \"biomass\",\n      \"properties\": {\n        \"dtype\": \"number\",\n        \"std\": 24892.08963724434,\n        \"min\": 0.0,\n        \"max\": 70532.0,\n        \"num_unique_values\": 8,\n        \"samples\": [\n          142.6647337859364,\n          145.2319794,\n          70532.0\n        ],\n        \"semantic_type\": \"\",\n        \"description\": \"\"\n      }\n    },\n    {\n      \"column\": \"canopyHeig\",\n      \"properties\": {\n        \"dtype\": \"number\",\n        \"std\": 24881.157411868106,\n        \"min\": 0.0,\n        \"max\": 70532.0,\n        \"num_unique_values\": 8,\n        \"samples\": [\n          189.8827897786389,\n          196.5782318,\n          70532.0\n        ],\n        \"semantic_type\": \"\",\n        \"description\": \"\"\n      }\n    },\n    {\n      \"column\": \"spruceVol\",\n      \"properties\": {\n        \"dtype\": \"number\",\n        \"std\": 24878.019962534952,\n        \"min\": 0.0,\n        \"max\": 70532.0,\n        \"num_unique_values\": 8,\n        \"samples\": [\n          161.2778118496214,\n          143.61258700000002,\n          70532.0\n        ],\n        \"semantic_type\": \"\",\n        \"description\": \"\"\n      }\n    },\n    {\n      \"column\": \"Slope\",\n      \"properties\": {\n        \"dtype\": \"number\",\n        \"std\": 24935.094368728813,\n        \"min\": 0.0,\n        \"max\": 70532.0,\n        \"num_unique_values\": 8,\n        \"samples\": [\n          2.08414027748965,\n          1.5047565500000002,\n          70532.0\n        ],\n        \"semantic_type\": \"\",\n        \"description\": \"\"\n      }\n    },\n    {\n      \"column\": \"Aspect\",\n      \"properties\": {\n        \"dtype\": \"number\",\n        \"std\": 24880.016213242125,\n        \"min\": -1.0,\n        \"max\": 70532.0,\n        \"num_unique_values\": 8,\n        \"samples\": [\n          169.0876016353258,\n          170.35298160000002,\n          70532.0\n        ],\n        \"semantic_type\": \"\",\n        \"description\": \"\"\n      }\n    },\n    {\n      \"column\": \"DEM\",\n      \"properties\": {\n        \"dtype\": \"number\",\n        \"std\": 24890.63289650486,\n        \"min\": 9.46,\n        \"max\": 70532.0,\n        \"num_unique_values\": 8,\n        \"samples\": [\n          132.57076903954942,\n          128.6000061,\n          70532.0\n        ],\n        \"semantic_type\": \"\",\n        \"description\": \"\"\n      }\n    }\n  ]\n}"
            }
          },
          "metadata": {},
          "execution_count": 6
        }
      ],
      "execution_count": null
    },
    {
      "metadata": {
        "id": "d6b76bed77b9b9d"
      },
      "cell_type": "code",
      "source": [
        "# count the number of points (rows) and number of columns in the dataframe\n"
      ],
      "id": "d6b76bed77b9b9d",
      "outputs": [],
      "execution_count": null
    },
    {
      "metadata": {
        "id": "b304878de7d66e82"
      },
      "cell_type": "code",
      "source": [
        "# as this is large dataset, we can only use the first 5,000 rows for demonstration\n",
        "# but feel free to comment out this block of codes and work with the entire dataset - only that each operation takes longer time\n",
        "bark_beetle_df = bark_beetle_df[:5000]"
      ],
      "id": "b304878de7d66e82",
      "outputs": [],
      "execution_count": null
    },
    {
      "cell_type": "code",
      "id": "3b8cfd15",
      "metadata": {
        "scrolled": true,
        "colab": {
          "base_uri": "https://localhost:8080/"
        },
        "id": "3b8cfd15",
        "outputId": "49e5924e-9b32-4fb3-81e2-95e8f1210772"
      },
      "source": [
        "#count how many points are associate with each soil type\n",
        "print(bark_beetle_df['soilType'].count())"
      ],
      "outputs": [
        {
          "output_type": "stream",
          "name": "stdout",
          "text": [
            "5000\n"
          ]
        }
      ],
      "execution_count": null
    },
    {
      "cell_type": "code",
      "id": "f3ac57e8",
      "metadata": {
        "colab": {
          "base_uri": "https://localhost:8080/"
        },
        "id": "f3ac57e8",
        "outputId": "82595d46-d575-4fa7-caca-8a008b277a7d"
      },
      "source": [
        "# count how many points are associated with each forest type\n",
        "print(bark_beetle_df['forestType'].count())"
      ],
      "outputs": [
        {
          "output_type": "stream",
          "name": "stdout",
          "text": [
            "5000\n"
          ]
        }
      ],
      "execution_count": null
    },
    {
      "cell_type": "markdown",
      "source": [],
      "metadata": {
        "id": "g_H-jTBbMD4A"
      },
      "id": "g_H-jTBbMD4A"
    },
    {
      "cell_type": "markdown",
      "id": "ee7fe859",
      "metadata": {
        "id": "ee7fe859"
      },
      "source": [
        "Now create a histogram of the canopy height:"
      ]
    },
    {
      "cell_type": "code",
      "id": "3a318061",
      "metadata": {
        "colab": {
          "base_uri": "https://localhost:8080/",
          "height": 534
        },
        "id": "3a318061",
        "outputId": "4c64cadd-d7c4-4542-dcb1-0a6acebd2d6c"
      },
      "source": [
        "plt.hist(bark_beetle_df['canopyHeig'])"
      ],
      "outputs": [
        {
          "output_type": "execute_result",
          "data": {
            "text/plain": [
              "(array([  14.,   12.,   42.,  191.,  456.,  790., 1310., 1274.,  712.,\n",
              "         199.]),\n",
              " array([  0.       ,  28.5966156,  57.1932312,  85.7898468, 114.3864624,\n",
              "        142.983078 , 171.5796936, 200.1763092, 228.7729248, 257.3695404,\n",
              "        285.966156 ]),\n",
              " <BarContainer object of 10 artists>)"
            ]
          },
          "metadata": {},
          "execution_count": 14
        },
        {
          "output_type": "display_data",
          "data": {
            "text/plain": [
              "<Figure size 640x480 with 1 Axes>"
            ],
            "image/png": "[encoded data removed]"
          },
          "metadata": {}
        }
      ],
      "execution_count": null
    },
    {
      "cell_type": "markdown",
      "id": "af6766dc",
      "metadata": {
        "id": "af6766dc"
      },
      "source": [
        "Examine the correlation between the columns in the dataset, in an SNS heatmap. This could be a useful tool to identify which variables are most important for the classification."
      ]
    },
    {
      "cell_type": "code",
      "id": "569fa1dc",
      "metadata": {
        "colab": {
          "base_uri": "https://localhost:8080/",
          "height": 521
        },
        "id": "569fa1dc",
        "outputId": "a500a26e-c6f6-47f6-a688-7b6114270754"
      },
      "source": [
        "# Correlation Heatmap\n",
        "dropped_df = bark_beetle_df.drop(['forestType', 'soilType'], axis=1).corr()\n",
        "sns.heatmap(data = dropped_df)"
      ],
      "outputs": [
        {
          "output_type": "execute_result",
          "data": {
            "text/plain": [
              "<Axes: >"
            ]
          },
          "metadata": {},
          "execution_count": 20
        },
        {
          "output_type": "display_data",
          "data": {
            "text/plain": [
              "<Figure size 640x480 with 2 Axes>"
            ],
            "image/png": "[encoded data removed]"
          },
          "metadata": {}
        }
      ],
      "execution_count": null
    },
    {
      "metadata": {
        "id": "9b3df473584410e5"
      },
      "cell_type": "markdown",
      "source": [
        "Now create a box plot of the canopy height by forest type."
      ],
      "id": "9b3df473584410e5"
    },
    {
      "metadata": {
        "colab": {
          "base_uri": "https://localhost:8080/",
          "height": 495
        },
        "id": "cab22c239bdb9df5",
        "outputId": "d2f9e9e1-5755-441f-cf74-2e4e07608d39"
      },
      "cell_type": "code",
      "source": [
        "# Box Plot\n",
        "bark_beetle_df.boxplot(by ='forestType', column =['canopyHeig'], grid = False)"
      ],
      "id": "cab22c239bdb9df5",
      "outputs": [
        {
          "output_type": "execute_result",
          "data": {
            "text/plain": [
              "<Axes: title={'center': 'canopyHeig'}, xlabel='forestType'>"
            ]
          },
          "metadata": {},
          "execution_count": 21
        },
        {
          "output_type": "display_data",
          "data": {
            "text/plain": [
              "<Figure size 640x480 with 1 Axes>"
            ],
            "image/png": "[encoded data removed]"
          },
          "metadata": {}
        }
      ],
      "execution_count": null
    },
    {
      "metadata": {
        "id": "2b74f7799d2de44a"
      },
      "cell_type": "markdown",
      "source": [
        "Create a violin plot of the soil wetness by forest type."
      ],
      "id": "2b74f7799d2de44a"
    },
    {
      "metadata": {
        "colab": {
          "base_uri": "https://localhost:8080/",
          "height": 466
        },
        "id": "a0d3ad1a3350d288",
        "outputId": "e786fa1b-42b4-4a67-8528-8f0edaf91449"
      },
      "cell_type": "code",
      "source": [
        "# Violin Plot\n",
        "sns.violinplot(x = bark_beetle_df['soilWetnes'], y = bark_beetle_df['forestType'])"
      ],
      "id": "a0d3ad1a3350d288",
      "outputs": [
        {
          "output_type": "execute_result",
          "data": {
            "text/plain": [
              "<Axes: xlabel='soilWetnes', ylabel='forestType'>"
            ]
          },
          "metadata": {},
          "execution_count": 22
        },
        {
          "output_type": "display_data",
          "data": {
            "text/plain": [
              "<Figure size 640x480 with 1 Axes>"
            ],
            "image/png": "[encoded data removed]"
          },
          "metadata": {}
        }
      ],
      "execution_count": null
    },
    {
      "metadata": {
        "id": "5c7667b2fde79797"
      },
      "cell_type": "markdown",
      "source": [
        "Create a scatter plot of the canopy height by DEM, coloured by the presence of bark beetles."
      ],
      "id": "5c7667b2fde79797"
    },
    {
      "metadata": {
        "colab": {
          "base_uri": "https://localhost:8080/",
          "height": 466
        },
        "id": "cf65df81858f841b",
        "outputId": "9b06c8f0-15e0-49b1-807e-4d111d0b1c34"
      },
      "cell_type": "code",
      "source": [
        "# Scatter Plot\n",
        "sns.scatterplot(x = bark_beetle_df['canopyHeig'], y = bark_beetle_df['DEM'], hue = bark_beetle_df['bbPresence'])"
      ],
      "id": "cf65df81858f841b",
      "outputs": [
        {
          "output_type": "execute_result",
          "data": {
            "text/plain": [
              "<Axes: xlabel='canopyHeig', ylabel='DEM'>"
            ]
          },
          "metadata": {},
          "execution_count": 23
        },
        {
          "output_type": "display_data",
          "data": {
            "text/plain": [
              "<Figure size 640x480 with 1 Axes>"
            ],
            "image/png": "[encoded data removed]"
          },
          "metadata": {}
        }
      ],
      "execution_count": null
    },
    {
      "cell_type": "code",
      "id": "328480ff",
      "metadata": {
        "id": "328480ff"
      },
      "source": [
        "#create further plots according to factors who think may be associated with the presence of bark beetles"
      ],
      "outputs": [],
      "execution_count": null
    },
    {
      "cell_type": "markdown",
      "id": "689265ff",
      "metadata": {
        "id": "689265ff"
      },
      "source": [
        "<br><br><br>\n",
        "## Encoding the classification"
      ]
    },
    {
      "cell_type": "markdown",
      "id": "e19923c3",
      "metadata": {
        "id": "e19923c3"
      },
      "source": [
        "Now we will create our equivalent label dataset. To do this, we'll use our first tool from `scikit`, the `LabelEncoder`. This usefully takes a column of data and transforms it into the format (integer labels) required for our `scikit` classifiers. We can use the `le` label encoder we create here later on to reverse the encoding.\n",
        "\n",
        "**Run the scripts below to first import the `LabelEncoder` tools, and then create the labels dataset from the `score` column.**"
      ]
    },
    {
      "cell_type": "code",
      "id": "4cd0ce05",
      "metadata": {
        "id": "4cd0ce05"
      },
      "source": [
        "from sklearn.preprocessing import LabelEncoder"
      ],
      "outputs": [],
      "execution_count": null
    },
    {
      "cell_type": "code",
      "id": "0bb48fd8",
      "metadata": {
        "id": "0bb48fd8"
      },
      "source": [
        "# encode the columns of \"forestType\" and \"soilType\"\n",
        "\n",
        "label_encoder_forestType = LabelEncoder()\n",
        "bark_beetle_df['forestType'] = label_encoder_forestType.fit_transform(bark_beetle_df['forestType'])\n",
        "label_encoder_soilType = LabelEncoder()\n",
        "bark_beetle_df['soilType'] = label_encoder_soilType.fit_transform(bark_beetle_df['soilType'])\n"
      ],
      "outputs": [],
      "execution_count": null
    },
    {
      "metadata": {
        "id": "76fdaccd57c30402"
      },
      "cell_type": "markdown",
      "source": [
        "Let's have a look at the label encoders used for \"forestType\" and \"soilType\", as well as the dataframe after label encoding.\n",
        "print the mappings between integer labels and textual labels for the two columns\n",
        "an example output could look like:\n",
        "_ForestType Mapping: {'Mixed Forest': 0, 'Mixed coniferous forest': 1, 'Spruce forest': 2}_"
      ],
      "id": "76fdaccd57c30402"
    },
    {
      "metadata": {
        "colab": {
          "base_uri": "https://localhost:8080/",
          "height": 261
        },
        "id": "ac1248e645f17589",
        "outputId": "b0ea87ff-027e-4711-bb07-ed3a62887ddb"
      },
      "cell_type": "code",
      "source": [
        "# print the mappings between integer labels and textual labels for the two columns\n",
        "\n",
        "forestType_mapping = dict(zip(label_encoder_forestType.classes_, label_encoder_forestType.transform(label_encoder_forestType.classes_)))\n",
        "print(\"ForestType Mapping:\", forestType_mapping)\n",
        "\n",
        "soilType_mapping = dict(zip(label_encoder_soilType.classes_, label_encoder_soilType.transform(label_encoder_soilType.classes_)))\n",
        "print(\"SoilType Mapping:\", soilType_mapping)\n",
        "\n",
        "bark_beetle_df.head()"
      ],
      "id": "ac1248e645f17589",
      "outputs": [
        {
          "output_type": "stream",
          "name": "stdout",
          "text": [
            "ForestType Mapping: {'Mixed Forest': 0, 'Mixed coniferous forest': 1, 'Spruce forest': 2}\n",
            "SoilType Mapping: {'Moraine': 0, 'Organic': 1, 'Rock': 2, 'Sand': 3, 'Unspecified Sediment': 4}\n"
          ]
        },
        {
          "output_type": "execute_result",
          "data": {
            "text/plain": [
              "             x            y  bbPresence  distToCC5  distToCC10  distPrevDm  \\\n",
              "0  416713.2303  6228294.732           1        741         189        3335   \n",
              "1  443073.2303  6238094.732           1        170         158        5172   \n",
              "2  443093.2303  6238064.732           1        205         133        5206   \n",
              "3  443103.2303  6238064.732           1        212         136        5210   \n",
              "4  443113.2303  6238114.732           1        184         161        5166   \n",
              "\n",
              "   soilWetnes  distForest  forestType  prevY_f11s  prevY_f21s  basalArea  \\\n",
              "0    0.888151          10           2           0           0  32.139431   \n",
              "1   36.603661          30           2           0           0  42.060974   \n",
              "2   18.988880          51           2           0           0  41.751991   \n",
              "3   18.988880          61           2           0           0  40.630081   \n",
              "4   57.228600          63           2           0           0  39.628021   \n",
              "\n",
              "      biomass  canopyHeig   spruceVol  soilType     Slope      Aspect  \\\n",
              "0  171.927032  232.953491  237.784714         0  4.282387  155.294220   \n",
              "1  233.726471  277.813202  352.840912         0  3.222722  288.121857   \n",
              "2  233.009689  280.511902  294.602600         0  4.374904  286.437500   \n",
              "3  223.813675  275.711304  195.438446         0  4.905051  278.612396   \n",
              "4  220.536499  274.916199  387.950653         0  5.145305  277.320190   \n",
              "\n",
              "         DEM  \n",
              "0  81.010002  \n",
              "1  51.020001  \n",
              "2  53.660000  \n",
              "3  56.259998  \n",
              "4  56.060001  "
            ],
            "text/html": [
              "\n",
              "  <div id=\"df-0623fde9-7510-470d-bca5-276909505cc3\" class=\"colab-df-container\">\n",
              "    <div>\n",
              "<style scoped>\n",
              "    .dataframe tbody tr th:only-of-type {\n",
              "        vertical-align: middle;\n",
              "    }\n",
              "\n",
              "    .dataframe tbody tr th {\n",
              "        vertical-align: top;\n",
              "    }\n",
              "\n",
              "    .dataframe thead th {\n",
              "        text-align: right;\n",
              "    }\n",
              "</style>\n",
              "<table border=\"1\" class=\"dataframe\">\n",
              "  <thead>\n",
              "    <tr style=\"text-align: right;\">\n",
              "      <th></th>\n",
              "      <th>x</th>\n",
              "      <th>y</th>\n",
              "      <th>bbPresence</th>\n",
              "      <th>distToCC5</th>\n",
              "      <th>distToCC10</th>\n",
              "      <th>distPrevDm</th>\n",
              "      <th>soilWetnes</th>\n",
              "      <th>distForest</th>\n",
              "      <th>forestType</th>\n",
              "      <th>prevY_f11s</th>\n",
              "      <th>prevY_f21s</th>\n",
              "      <th>basalArea</th>\n",
              "      <th>biomass</th>\n",
              "      <th>canopyHeig</th>\n",
              "      <th>spruceVol</th>\n",
              "      <th>soilType</th>\n",
              "      <th>Slope</th>\n",
              "      <th>Aspect</th>\n",
              "      <th>DEM</th>\n",
              "    </tr>\n",
              "  </thead>\n",
              "  <tbody>\n",
              "    <tr>\n",
              "      <th>0</th>\n",
              "      <td>416713.2303</td>\n",
              "      <td>6228294.732</td>\n",
              "      <td>1</td>\n",
              "      <td>741</td>\n",
              "      <td>189</td>\n",
              "      <td>3335</td>\n",
              "      <td>0.888151</td>\n",
              "      <td>10</td>\n",
              "      <td>2</td>\n",
              "      <td>0</td>\n",
              "      <td>0</td>\n",
              "      <td>32.139431</td>\n",
              "      <td>171.927032</td>\n",
              "      <td>232.953491</td>\n",
              "      <td>237.784714</td>\n",
              "      <td>0</td>\n",
              "      <td>4.282387</td>\n",
              "      <td>155.294220</td>\n",
              "      <td>81.010002</td>\n",
              "    </tr>\n",
              "    <tr>\n",
              "      <th>1</th>\n",
              "      <td>443073.2303</td>\n",
              "      <td>6238094.732</td>\n",
              "      <td>1</td>\n",
              "      <td>170</td>\n",
              "      <td>158</td>\n",
              "      <td>5172</td>\n",
              "      <td>36.603661</td>\n",
              "      <td>30</td>\n",
              "      <td>2</td>\n",
              "      <td>0</td>\n",
              "      <td>0</td>\n",
              "      <td>42.060974</td>\n",
              "      <td>233.726471</td>\n",
              "      <td>277.813202</td>\n",
              "      <td>352.840912</td>\n",
              "      <td>0</td>\n",
              "      <td>3.222722</td>\n",
              "      <td>288.121857</td>\n",
              "      <td>51.020001</td>\n",
              "    </tr>\n",
              "    <tr>\n",
              "      <th>2</th>\n",
              "      <td>443093.2303</td>\n",
              "      <td>6238064.732</td>\n",
              "      <td>1</td>\n",
              "      <td>205</td>\n",
              "      <td>133</td>\n",
              "      <td>5206</td>\n",
              "      <td>18.988880</td>\n",
              "      <td>51</td>\n",
              "      <td>2</td>\n",
              "      <td>0</td>\n",
              "      <td>0</td>\n",
              "      <td>41.751991</td>\n",
              "      <td>233.009689</td>\n",
              "      <td>280.511902</td>\n",
              "      <td>294.602600</td>\n",
              "      <td>0</td>\n",
              "      <td>4.374904</td>\n",
              "      <td>286.437500</td>\n",
              "      <td>53.660000</td>\n",
              "    </tr>\n",
              "    <tr>\n",
              "      <th>3</th>\n",
              "      <td>443103.2303</td>\n",
              "      <td>6238064.732</td>\n",
              "      <td>1</td>\n",
              "      <td>212</td>\n",
              "      <td>136</td>\n",
              "      <td>5210</td>\n",
              "      <td>18.988880</td>\n",
              "      <td>61</td>\n",
              "      <td>2</td>\n",
              "      <td>0</td>\n",
              "      <td>0</td>\n",
              "      <td>40.630081</td>\n",
              "      <td>223.813675</td>\n",
              "      <td>275.711304</td>\n",
              "      <td>195.438446</td>\n",
              "      <td>0</td>\n",
              "      <td>4.905051</td>\n",
              "      <td>278.612396</td>\n",
              "      <td>56.259998</td>\n",
              "    </tr>\n",
              "    <tr>\n",
              "      <th>4</th>\n",
              "      <td>443113.2303</td>\n",
              "      <td>6238114.732</td>\n",
              "      <td>1</td>\n",
              "      <td>184</td>\n",
              "      <td>161</td>\n",
              "      <td>5166</td>\n",
              "      <td>57.228600</td>\n",
              "      <td>63</td>\n",
              "      <td>2</td>\n",
              "      <td>0</td>\n",
              "      <td>0</td>\n",
              "      <td>39.628021</td>\n",
              "      <td>220.536499</td>\n",
              "      <td>274.916199</td>\n",
              "      <td>387.950653</td>\n",
              "      <td>0</td>\n",
              "      <td>5.145305</td>\n",
              "      <td>277.320190</td>\n",
              "      <td>56.060001</td>\n",
              "    </tr>\n",
              "  </tbody>\n",
              "</table>\n",
              "</div>\n",
              "    <div class=\"colab-df-buttons\">\n",
              "\n",
              "  <div class=\"colab-df-container\">\n",
              "    <button class=\"colab-df-convert\" onclick=\"convertToInteractive('df-0623fde9-7510-470d-bca5-276909505cc3')\"\n",
              "            title=\"Convert this dataframe to an interactive table.\"\n",
              "            style=\"display:none;\">\n",
              "\n",
              "  <svg xmlns=\"http://www.w3.org/2000/svg\" height=\"24px\" viewBox=\"0 -960 960 960\">\n",
              "    <path d=\"M120-120v-720h720v720H120Zm60-500h600v-160H180v160Zm220 220h160v-160H400v160Zm0 220h160v-160H400v160ZM180-400h160v-160H180v160Zm440 0h160v-160H620v160ZM180-180h160v-160H180v160Zm440 0h160v-160H620v160Z\"/>\n",
              "  </svg>\n",
              "    </button>\n",
              "\n",
              "  <style>\n",
              "    .colab-df-container {\n",
              "      display:flex;\n",
              "      gap: 12px;\n",
              "    }\n",
              "\n",
              "    .colab-df-convert {\n",
              "      background-color: #E8F0FE;\n",
              "      border: none;\n",
              "      border-radius: 50%;\n",
              "      cursor: pointer;\n",
              "      display: none;\n",
              "      fill: #1967D2;\n",
              "      height: 32px;\n",
              "      padding: 0 0 0 0;\n",
              "      width: 32px;\n",
              "    }\n",
              "\n",
              "    .colab-df-convert:hover {\n",
              "      background-color: #E2EBFA;\n",
              "      box-shadow: 0px 1px 2px rgba(60, 64, 67, 0.3), 0px 1px 3px 1px rgba(60, 64, 67, 0.15);\n",
              "      fill: #174EA6;\n",
              "    }\n",
              "\n",
              "    .colab-df-buttons div {\n",
              "      margin-bottom: 4px;\n",
              "    }\n",
              "\n",
              "    [theme=dark] .colab-df-convert {\n",
              "      background-color: #3B4455;\n",
              "      fill: #D2E3FC;\n",
              "    }\n",
              "\n",
              "    [theme=dark] .colab-df-convert:hover {\n",
              "      background-color: #434B5C;\n",
              "      box-shadow: 0px 1px 3px 1px rgba(0, 0, 0, 0.15);\n",
              "      filter: drop-shadow(0px 1px 2px rgba(0, 0, 0, 0.3));\n",
              "      fill: #FFFFFF;\n",
              "    }\n",
              "  </style>\n",
              "\n",
              "    <script>\n",
              "      const buttonEl =\n",
              "        document.querySelector('#df-0623fde9-7510-470d-bca5-276909505cc3 button.colab-df-convert');\n",
              "      buttonEl.style.display =\n",
              "        google.colab.kernel.accessAllowed ? 'block' : 'none';\n",
              "\n",
              "      async function convertToInteractive(key) {\n",
              "        const element = document.querySelector('#df-0623fde9-7510-470d-bca5-276909505cc3');\n",
              "        const dataTable =\n",
              "          await google.colab.kernel.invokeFunction('convertToInteractive',\n",
              "                                                    [key], {});\n",
              "        if (!dataTable) return;\n",
              "\n",
              "        const docLinkHtml = 'Like what you see? Visit the ' +\n",
              "          '<a target=\"_blank\" href=https://colab.research.google.com/notebooks/data_table.ipynb>data table notebook</a>'\n",
              "          + ' to learn more about interactive tables.';\n",
              "        element.innerHTML = '';\n",
              "        dataTable['output_type'] = 'display_data';\n",
              "        await google.colab.output.renderOutput(dataTable, element);\n",
              "        const docLink = document.createElement('div');\n",
              "        docLink.innerHTML = docLinkHtml;\n",
              "        element.appendChild(docLink);\n",
              "      }\n",
              "    </script>\n",
              "  </div>\n",
              "\n",
              "\n",
              "<div id=\"df-d1d98a2b-b843-406f-874f-a1e1f08994ed\">\n",
              "  <button class=\"colab-df-quickchart\" onclick=\"quickchart('df-d1d98a2b-b843-406f-874f-a1e1f08994ed')\"\n",
              "            title=\"Suggest charts\"\n",
              "            style=\"display:none;\">\n",
              "\n",
              "<svg xmlns=\"http://www.w3.org/2000/svg\" height=\"24px\"viewBox=\"0 0 24 24\"\n",
              "     width=\"24px\">\n",
              "    <g>\n",
              "        <path d=\"M19 3H5c-1.1 0-2 .9-2 2v14c0 1.1.9 2 2 2h14c1.1 0 2-.9 2-2V5c0-1.1-.9-2-2-2zM9 17H7v-7h2v7zm4 0h-2V7h2v10zm4 0h-2v-4h2v4z\"/>\n",
              "    </g>\n",
              "</svg>\n",
              "  </button>\n",
              "\n",
              "<style>\n",
              "  .colab-df-quickchart {\n",
              "      --bg-color: #E8F0FE;\n",
              "      --fill-color: #1967D2;\n",
              "      --hover-bg-color: #E2EBFA;\n",
              "      --hover-fill-color: #174EA6;\n",
              "      --disabled-fill-color: #AAA;\n",
              "      --disabled-bg-color: #DDD;\n",
              "  }\n",
              "\n",
              "  [theme=dark] .colab-df-quickchart {\n",
              "      --bg-color: #3B4455;\n",
              "      --fill-color: #D2E3FC;\n",
              "      --hover-bg-color: #434B5C;\n",
              "      --hover-fill-color: #FFFFFF;\n",
              "      --disabled-bg-color: #3B4455;\n",
              "      --disabled-fill-color: #666;\n",
              "  }\n",
              "\n",
              "  .colab-df-quickchart {\n",
              "    background-color: var(--bg-color);\n",
              "    border: none;\n",
              "    border-radius: 50%;\n",
              "    cursor: pointer;\n",
              "    display: none;\n",
              "    fill: var(--fill-color);\n",
              "    height: 32px;\n",
              "    padding: 0;\n",
              "    width: 32px;\n",
              "  }\n",
              "\n",
              "  .colab-df-quickchart:hover {\n",
              "    background-color: var(--hover-bg-color);\n",
              "    box-shadow: 0 1px 2px rgba(60, 64, 67, 0.3), 0 1px 3px 1px rgba(60, 64, 67, 0.15);\n",
              "    fill: var(--button-hover-fill-color);\n",
              "  }\n",
              "\n",
              "  .colab-df-quickchart-complete:disabled,\n",
              "  .colab-df-quickchart-complete:disabled:hover {\n",
              "    background-color: var(--disabled-bg-color);\n",
              "    fill: var(--disabled-fill-color);\n",
              "    box-shadow: none;\n",
              "  }\n",
              "\n",
              "  .colab-df-spinner {\n",
              "    border: 2px solid var(--fill-color);\n",
              "    border-color: transparent;\n",
              "    border-bottom-color: var(--fill-color);\n",
              "    animation:\n",
              "      spin 1s steps(1) infinite;\n",
              "  }\n",
              "\n",
              "  @keyframes spin {\n",
              "    0% {\n",
              "      border-color: transparent;\n",
              "      border-bottom-color: var(--fill-color);\n",
              "      border-left-color: var(--fill-color);\n",
              "    }\n",
              "    20% {\n",
              "      border-color: transparent;\n",
              "      border-left-color: var(--fill-color);\n",
              "      border-top-color: var(--fill-color);\n",
              "    }\n",
              "    30% {\n",
              "      border-color: transparent;\n",
              "      border-left-color: var(--fill-color);\n",
              "      border-top-color: var(--fill-color);\n",
              "      border-right-color: var(--fill-color);\n",
              "    }\n",
              "    40% {\n",
              "      border-color: transparent;\n",
              "      border-right-color: var(--fill-color);\n",
              "      border-top-color: var(--fill-color);\n",
              "    }\n",
              "    60% {\n",
              "      border-color: transparent;\n",
              "      border-right-color: var(--fill-color);\n",
              "    }\n",
              "    80% {\n",
              "      border-color: transparent;\n",
              "      border-right-color: var(--fill-color);\n",
              "      border-bottom-color: var(--fill-color);\n",
              "    }\n",
              "    90% {\n",
              "      border-color: transparent;\n",
              "      border-bottom-color: var(--fill-color);\n",
              "    }\n",
              "  }\n",
              "</style>\n",
              "\n",
              "  <script>\n",
              "    async function quickchart(key) {\n",
              "      const quickchartButtonEl =\n",
              "        document.querySelector('#' + key + ' button');\n",
              "      quickchartButtonEl.disabled = true;  // To prevent multiple clicks.\n",
              "      quickchartButtonEl.classList.add('colab-df-spinner');\n",
              "      try {\n",
              "        const charts = await google.colab.kernel.invokeFunction(\n",
              "            'suggestCharts', [key], {});\n",
              "      } catch (error) {\n",
              "        console.error('Error during call to suggestCharts:', error);\n",
              "      }\n",
              "      quickchartButtonEl.classList.remove('colab-df-spinner');\n",
              "      quickchartButtonEl.classList.add('colab-df-quickchart-complete');\n",
              "    }\n",
              "    (() => {\n",
              "      let quickchartButtonEl =\n",
              "        document.querySelector('#df-d1d98a2b-b843-406f-874f-a1e1f08994ed button');\n",
              "      quickchartButtonEl.style.display =\n",
              "        google.colab.kernel.accessAllowed ? 'block' : 'none';\n",
              "    })();\n",
              "  </script>\n",
              "</div>\n",
              "\n",
              "    </div>\n",
              "  </div>\n"
            ],
            "application/vnd.google.colaboratory.intrinsic+json": {
              "type": "dataframe",
              "variable_name": "bark_beetle_df",
              "summary": "{\n  \"name\": \"bark_beetle_df\",\n  \"rows\": 5000,\n  \"fields\": [\n    {\n      \"column\": \"x\",\n      \"properties\": {\n        \"dtype\": \"number\",\n        \"std\": 18878.323078153237,\n        \"min\": 413663.2303,\n        \"max\": 513703.2303,\n        \"num_unique_values\": 2014,\n        \"samples\": [\n          467653.2303,\n          475773.2303,\n          464133.2303\n        ],\n        \"semantic_type\": \"\",\n        \"description\": \"\"\n      }\n    },\n    {\n      \"column\": \"y\",\n      \"properties\": {\n        \"dtype\": \"number\",\n        \"std\": 8958.548800387123,\n        \"min\": 6228294.732,\n        \"max\": 6289534.732,\n        \"num_unique_values\": 2058,\n        \"samples\": [\n          6249494.732,\n          6237534.732,\n          6250304.732\n        ],\n        \"semantic_type\": \"\",\n        \"description\": \"\"\n      }\n    },\n    {\n      \"column\": \"bbPresence\",\n      \"properties\": {\n        \"dtype\": \"number\",\n        \"std\": 0,\n        \"min\": 0,\n        \"max\": 1,\n        \"num_unique_values\": 2,\n        \"samples\": [\n          0,\n          1\n        ],\n        \"semantic_type\": \"\",\n        \"description\": \"\"\n      }\n    },\n    {\n      \"column\": \"distToCC5\",\n      \"properties\": {\n        \"dtype\": \"number\",\n        \"std\": 316,\n        \"min\": 0,\n        \"max\": 1808,\n        \"num_unique_values\": 1069,\n        \"samples\": [\n          877,\n          768\n        ],\n        \"semantic_type\": \"\",\n        \"description\": \"\"\n      }\n    },\n    {\n      \"column\": \"distToCC10\",\n      \"properties\": {\n        \"dtype\": \"number\",\n        \"std\": 246,\n        \"min\": 10,\n        \"max\": 1900,\n        \"num_unique_values\": 847,\n        \"samples\": [\n          884,\n          188\n        ],\n        \"semantic_type\": \"\",\n        \"description\": \"\"\n      }\n    },\n    {\n      \"column\": \"distPrevDm\",\n      \"properties\": {\n        \"dtype\": \"number\",\n        \"std\": 3724,\n        \"min\": 0,\n        \"max\": 18682,\n        \"num_unique_values\": 3000,\n        \"samples\": [\n          6894,\n          510\n        ],\n        \"semantic_type\": \"\",\n        \"description\": \"\"\n      }\n    },\n    {\n      \"column\": \"soilWetnes\",\n      \"properties\": {\n        \"dtype\": \"number\",\n        \"std\": 25.012238127685848,\n        \"min\": 0.0,\n        \"max\": 100.0,\n        \"num_unique_values\": 3460,\n        \"samples\": [\n          37.2115097,\n          55.31123352\n        ],\n        \"semantic_type\": \"\",\n        \"description\": \"\"\n      }\n    },\n    {\n      \"column\": \"distForest\",\n      \"properties\": {\n        \"dtype\": \"number\",\n        \"std\": 40,\n        \"min\": 0,\n        \"max\": 257,\n        \"num_unique_values\": 125,\n        \"samples\": [\n          81,\n          72\n        ],\n        \"semantic_type\": \"\",\n        \"description\": \"\"\n      }\n    },\n    {\n      \"column\": \"forestType\",\n      \"properties\": {\n        \"dtype\": \"number\",\n        \"std\": 0,\n        \"min\": 0,\n        \"max\": 2,\n        \"num_unique_values\": 3,\n        \"samples\": [\n          2,\n          1\n        ],\n        \"semantic_type\": \"\",\n        \"description\": \"\"\n      }\n    },\n    {\n      \"column\": \"prevY_f11s\",\n      \"properties\": {\n        \"dtype\": \"number\",\n        \"std\": 0,\n        \"min\": 0,\n        \"max\": 32,\n        \"num_unique_values\": 9,\n        \"samples\": [\n          1,\n          7\n        ],\n        \"semantic_type\": \"\",\n        \"description\": \"\"\n      }\n    },\n    {\n      \"column\": \"prevY_f21s\",\n      \"properties\": {\n        \"dtype\": \"number\",\n        \"std\": 1,\n        \"min\": 0,\n        \"max\": 39,\n        \"num_unique_values\": 5,\n        \"samples\": [\n          5,\n          4\n        ],\n        \"semantic_type\": \"\",\n        \"description\": \"\"\n      }\n    },\n    {\n      \"column\": \"basalArea\",\n      \"properties\": {\n        \"dtype\": \"number\",\n        \"std\": 7.613486267848582,\n        \"min\": 0.0,\n        \"max\": 47.34197998,\n        \"num_unique_values\": 4975,\n        \"samples\": [\n          36.36635971,\n          37.00680161\n        ],\n        \"semantic_type\": \"\",\n        \"description\": \"\"\n      }\n    },\n    {\n      \"column\": \"biomass\",\n      \"properties\": {\n        \"dtype\": \"number\",\n        \"std\": 51.77886716340436,\n        \"min\": 0.0,\n        \"max\": 263.6080933,\n        \"num_unique_values\": 4978,\n        \"samples\": [\n          237.4038391,\n          196.7084961\n        ],\n        \"semantic_type\": \"\",\n        \"description\": \"\"\n      }\n    },\n    {\n      \"column\": \"canopyHeig\",\n      \"properties\": {\n        \"dtype\": \"number\",\n        \"std\": 43.03554616048441,\n        \"min\": 0.0,\n        \"max\": 285.966156,\n        \"num_unique_values\": 4990,\n        \"samples\": [\n          243.6147156,\n          179.4885712\n        ],\n        \"semantic_type\": \"\",\n        \"description\": \"\"\n      }\n    },\n    {\n      \"column\": \"spruceVol\",\n      \"properties\": {\n        \"dtype\": \"number\",\n        \"std\": 111.26442282512224,\n        \"min\": 0.0,\n        \"max\": 453.819519,\n        \"num_unique_values\": 4966,\n        \"samples\": [\n          22.81580925,\n          77.08307648\n        ],\n        \"semantic_type\": \"\",\n        \"description\": \"\"\n      }\n    },\n    {\n      \"column\": \"soilType\",\n      \"properties\": {\n        \"dtype\": \"number\",\n        \"std\": 0,\n        \"min\": 0,\n        \"max\": 4,\n        \"num_unique_values\": 5,\n        \"samples\": [\n          4,\n          2\n        ],\n        \"semantic_type\": \"\",\n        \"description\": \"\"\n      }\n    },\n    {\n      \"column\": \"Slope\",\n      \"properties\": {\n        \"dtype\": \"number\",\n        \"std\": 1.661307779234405,\n        \"min\": 0.0,\n        \"max\": 15.8317661,\n        \"num_unique_values\": 4139,\n        \"samples\": [\n          2.0567718,\n          1.1343174\n        ],\n        \"semantic_type\": \"\",\n        \"description\": \"\"\n      }\n    },\n    {\n      \"column\": \"Aspect\",\n      \"properties\": {\n        \"dtype\": \"number\",\n        \"std\": 101.79378649861987,\n        \"min\": -1.0,\n        \"max\": 359.9991455,\n        \"num_unique_values\": 4125,\n        \"samples\": [\n          214.3783722,\n          265.1705933\n        ],\n        \"semantic_type\": \"\",\n        \"description\": \"\"\n      }\n    },\n    {\n      \"column\": \"DEM\",\n      \"properties\": {\n        \"dtype\": \"number\",\n        \"std\": 24.74697973020267,\n        \"min\": 44.5800018,\n        \"max\": 188.5099945,\n        \"num_unique_values\": 3253,\n        \"samples\": [\n          155.0200043,\n          80.6900024\n        ],\n        \"semantic_type\": \"\",\n        \"description\": \"\"\n      }\n    }\n  ]\n}"
            }
          },
          "metadata": {},
          "execution_count": 26
        }
      ],
      "execution_count": null
    },
    {
      "cell_type": "markdown",
      "id": "0e307bed",
      "metadata": {
        "id": "0e307bed"
      },
      "source": [
        "<br><br><br>\n",
        "## Creating Training and Test Data Sets\n",
        "The final stage in data processing involves splitting the prepared dataset into training and testing subsets. The training data will be used to create the classifier. The testing data will then be used to test the accuracy of a the classification.\n",
        "\n",
        "Note: train_test_split will split the data according to a 75:25 split, roughly in line with convention. However, other proportions can be specified, check out the documentation for details."
      ]
    },
    {
      "cell_type": "code",
      "id": "ae6e7618",
      "metadata": {
        "id": "ae6e7618"
      },
      "source": [
        "from sklearn.model_selection import train_test_split"
      ],
      "outputs": [],
      "execution_count": null
    },
    {
      "cell_type": "markdown",
      "id": "ce003cac",
      "metadata": {
        "id": "ce003cac"
      },
      "source": [
        "Now create a subset of the data which includes the predictors, which are ['distToCC5', 'distToCC10', 'distPrevDm', 'soilWetnes', 'distForest', 'prevY_f11s', 'prevY_f21s', 'basalArea', 'biomass', 'canopyHeig', 'spruceVol', 'soilType', 'Slope', 'Aspect', 'DEM']. Create this and view the top of it:"
      ]
    },
    {
      "cell_type": "code",
      "id": "d402ae88",
      "metadata": {
        "colab": {
          "base_uri": "https://localhost:8080/"
        },
        "id": "d402ae88",
        "outputId": "adf42a62-c74f-41a7-ca0b-78ac91a5b839"
      },
      "source": [
        "#checking the variable list to make sure we get all the names correct\n",
        "bark_beetle_df.info()"
      ],
      "outputs": [
        {
          "output_type": "stream",
          "name": "stdout",
          "text": [
            "<class 'pandas.core.frame.DataFrame'>\n",
            "RangeIndex: 5000 entries, 0 to 4999\n",
            "Data columns (total 19 columns):\n",
            " #   Column      Non-Null Count  Dtype  \n",
            "---  ------      --------------  -----  \n",
            " 0   x           5000 non-null   float64\n",
            " 1   y           5000 non-null   float64\n",
            " 2   bbPresence  5000 non-null   int64  \n",
            " 3   distToCC5   5000 non-null   int64  \n",
            " 4   distToCC10  5000 non-null   int64  \n",
            " 5   distPrevDm  5000 non-null   int64  \n",
            " 6   soilWetnes  5000 non-null   float64\n",
            " 7   distForest  5000 non-null   int64  \n",
            " 8   forestType  5000 non-null   int64  \n",
            " 9   prevY_f11s  5000 non-null   int64  \n",
            " 10  prevY_f21s  5000 non-null   int64  \n",
            " 11  basalArea   5000 non-null   float64\n",
            " 12  biomass     5000 non-null   float64\n",
            " 13  canopyHeig  5000 non-null   float64\n",
            " 14  spruceVol   5000 non-null   float64\n",
            " 15  soilType    5000 non-null   int64  \n",
            " 16  Slope       5000 non-null   float64\n",
            " 17  Aspect      5000 non-null   float64\n",
            " 18  DEM         5000 non-null   float64\n",
            "dtypes: float64(10), int64(9)\n",
            "memory usage: 742.3 KB\n"
          ]
        }
      ],
      "execution_count": null
    },
    {
      "cell_type": "code",
      "id": "e16344e9",
      "metadata": {
        "id": "e16344e9"
      },
      "source": [
        "#create a subset with the features (independent variables) we're first going to use:\n",
        "\n",
        "bark_beetle_sub = bark_beetle_df[['distToCC5', 'soilWetnes', 'canopyHeig']]"
      ],
      "outputs": [],
      "execution_count": null
    },
    {
      "cell_type": "code",
      "id": "ff86c2fb",
      "metadata": {
        "colab": {
          "base_uri": "https://localhost:8080/",
          "height": 206
        },
        "id": "ff86c2fb",
        "outputId": "bae66f13-93fe-431c-fefa-de0f62cc8007"
      },
      "source": [
        "#view the top of the subset\n",
        "\n",
        "bark_beetle_sub.head()"
      ],
      "outputs": [
        {
          "output_type": "execute_result",
          "data": {
            "text/plain": [
              "   distToCC5  soilWetnes  canopyHeig\n",
              "0        741    0.888151  232.953491\n",
              "1        170   36.603661  277.813202\n",
              "2        205   18.988880  280.511902\n",
              "3        212   18.988880  275.711304\n",
              "4        184   57.228600  274.916199"
            ],
            "text/html": [
              "\n",
              "  <div id=\"df-abf700cd-8cf1-4d2b-8b36-00f59853f188\" class=\"colab-df-container\">\n",
              "    <div>\n",
              "<style scoped>\n",
              "    .dataframe tbody tr th:only-of-type {\n",
              "        vertical-align: middle;\n",
              "    }\n",
              "\n",
              "    .dataframe tbody tr th {\n",
              "        vertical-align: top;\n",
              "    }\n",
              "\n",
              "    .dataframe thead th {\n",
              "        text-align: right;\n",
              "    }\n",
              "</style>\n",
              "<table border=\"1\" class=\"dataframe\">\n",
              "  <thead>\n",
              "    <tr style=\"text-align: right;\">\n",
              "      <th></th>\n",
              "      <th>distToCC5</th>\n",
              "      <th>soilWetnes</th>\n",
              "      <th>canopyHeig</th>\n",
              "    </tr>\n",
              "  </thead>\n",
              "  <tbody>\n",
              "    <tr>\n",
              "      <th>0</th>\n",
              "      <td>741</td>\n",
              "      <td>0.888151</td>\n",
              "      <td>232.953491</td>\n",
              "    </tr>\n",
              "    <tr>\n",
              "      <th>1</th>\n",
              "      <td>170</td>\n",
              "      <td>36.603661</td>\n",
              "      <td>277.813202</td>\n",
              "    </tr>\n",
              "    <tr>\n",
              "      <th>2</th>\n",
              "      <td>205</td>\n",
              "      <td>18.988880</td>\n",
              "      <td>280.511902</td>\n",
              "    </tr>\n",
              "    <tr>\n",
              "      <th>3</th>\n",
              "      <td>212</td>\n",
              "      <td>18.988880</td>\n",
              "      <td>275.711304</td>\n",
              "    </tr>\n",
              "    <tr>\n",
              "      <th>4</th>\n",
              "      <td>184</td>\n",
              "      <td>57.228600</td>\n",
              "      <td>274.916199</td>\n",
              "    </tr>\n",
              "  </tbody>\n",
              "</table>\n",
              "</div>\n",
              "    <div class=\"colab-df-buttons\">\n",
              "\n",
              "  <div class=\"colab-df-container\">\n",
              "    <button class=\"colab-df-convert\" onclick=\"convertToInteractive('df-abf700cd-8cf1-4d2b-8b36-00f59853f188')\"\n",
              "            title=\"Convert this dataframe to an interactive table.\"\n",
              "            style=\"display:none;\">\n",
              "\n",
              "  <svg xmlns=\"http://www.w3.org/2000/svg\" height=\"24px\" viewBox=\"0 -960 960 960\">\n",
              "    <path d=\"M120-120v-720h720v720H120Zm60-500h600v-160H180v160Zm220 220h160v-160H400v160Zm0 220h160v-160H400v160ZM180-400h160v-160H180v160Zm440 0h160v-160H620v160ZM180-180h160v-160H180v160Zm440 0h160v-160H620v160Z\"/>\n",
              "  </svg>\n",
              "    </button>\n",
              "\n",
              "  <style>\n",
              "    .colab-df-container {\n",
              "      display:flex;\n",
              "      gap: 12px;\n",
              "    }\n",
              "\n",
              "    .colab-df-convert {\n",
              "      background-color: #E8F0FE;\n",
              "      border: none;\n",
              "      border-radius: 50%;\n",
              "      cursor: pointer;\n",
              "      display: none;\n",
              "      fill: #1967D2;\n",
              "      height: 32px;\n",
              "      padding: 0 0 0 0;\n",
              "      width: 32px;\n",
              "    }\n",
              "\n",
              "    .colab-df-convert:hover {\n",
              "      background-color: #E2EBFA;\n",
              "      box-shadow: 0px 1px 2px rgba(60, 64, 67, 0.3), 0px 1px 3px 1px rgba(60, 64, 67, 0.15);\n",
              "      fill: #174EA6;\n",
              "    }\n",
              "\n",
              "    .colab-df-buttons div {\n",
              "      margin-bottom: 4px;\n",
              "    }\n",
              "\n",
              "    [theme=dark] .colab-df-convert {\n",
              "      background-color: #3B4455;\n",
              "      fill: #D2E3FC;\n",
              "    }\n",
              "\n",
              "    [theme=dark] .colab-df-convert:hover {\n",
              "      background-color: #434B5C;\n",
              "      box-shadow: 0px 1px 3px 1px rgba(0, 0, 0, 0.15);\n",
              "      filter: drop-shadow(0px 1px 2px rgba(0, 0, 0, 0.3));\n",
              "      fill: #FFFFFF;\n",
              "    }\n",
              "  </style>\n",
              "\n",
              "    <script>\n",
              "      const buttonEl =\n",
              "        document.querySelector('#df-abf700cd-8cf1-4d2b-8b36-00f59853f188 button.colab-df-convert');\n",
              "      buttonEl.style.display =\n",
              "        google.colab.kernel.accessAllowed ? 'block' : 'none';\n",
              "\n",
              "      async function convertToInteractive(key) {\n",
              "        const element = document.querySelector('#df-abf700cd-8cf1-4d2b-8b36-00f59853f188');\n",
              "        const dataTable =\n",
              "          await google.colab.kernel.invokeFunction('convertToInteractive',\n",
              "                                                    [key], {});\n",
              "        if (!dataTable) return;\n",
              "\n",
              "        const docLinkHtml = 'Like what you see? Visit the ' +\n",
              "          '<a target=\"_blank\" href=https://colab.research.google.com/notebooks/data_table.ipynb>data table notebook</a>'\n",
              "          + ' to learn more about interactive tables.';\n",
              "        element.innerHTML = '';\n",
              "        dataTable['output_type'] = 'display_data';\n",
              "        await google.colab.output.renderOutput(dataTable, element);\n",
              "        const docLink = document.createElement('div');\n",
              "        docLink.innerHTML = docLinkHtml;\n",
              "        element.appendChild(docLink);\n",
              "      }\n",
              "    </script>\n",
              "  </div>\n",
              "\n",
              "\n",
              "<div id=\"df-16a87619-4881-4ce9-8d8a-242c4b79c881\">\n",
              "  <button class=\"colab-df-quickchart\" onclick=\"quickchart('df-16a87619-4881-4ce9-8d8a-242c4b79c881')\"\n",
              "            title=\"Suggest charts\"\n",
              "            style=\"display:none;\">\n",
              "\n",
              "<svg xmlns=\"http://www.w3.org/2000/svg\" height=\"24px\"viewBox=\"0 0 24 24\"\n",
              "     width=\"24px\">\n",
              "    <g>\n",
              "        <path d=\"M19 3H5c-1.1 0-2 .9-2 2v14c0 1.1.9 2 2 2h14c1.1 0 2-.9 2-2V5c0-1.1-.9-2-2-2zM9 17H7v-7h2v7zm4 0h-2V7h2v10zm4 0h-2v-4h2v4z\"/>\n",
              "    </g>\n",
              "</svg>\n",
              "  </button>\n",
              "\n",
              "<style>\n",
              "  .colab-df-quickchart {\n",
              "      --bg-color: #E8F0FE;\n",
              "      --fill-color: #1967D2;\n",
              "      --hover-bg-color: #E2EBFA;\n",
              "      --hover-fill-color: #174EA6;\n",
              "      --disabled-fill-color: #AAA;\n",
              "      --disabled-bg-color: #DDD;\n",
              "  }\n",
              "\n",
              "  [theme=dark] .colab-df-quickchart {\n",
              "      --bg-color: #3B4455;\n",
              "      --fill-color: #D2E3FC;\n",
              "      --hover-bg-color: #434B5C;\n",
              "      --hover-fill-color: #FFFFFF;\n",
              "      --disabled-bg-color: #3B4455;\n",
              "      --disabled-fill-color: #666;\n",
              "  }\n",
              "\n",
              "  .colab-df-quickchart {\n",
              "    background-color: var(--bg-color);\n",
              "    border: none;\n",
              "    border-radius: 50%;\n",
              "    cursor: pointer;\n",
              "    display: none;\n",
              "    fill: var(--fill-color);\n",
              "    height: 32px;\n",
              "    padding: 0;\n",
              "    width: 32px;\n",
              "  }\n",
              "\n",
              "  .colab-df-quickchart:hover {\n",
              "    background-color: var(--hover-bg-color);\n",
              "    box-shadow: 0 1px 2px rgba(60, 64, 67, 0.3), 0 1px 3px 1px rgba(60, 64, 67, 0.15);\n",
              "    fill: var(--button-hover-fill-color);\n",
              "  }\n",
              "\n",
              "  .colab-df-quickchart-complete:disabled,\n",
              "  .colab-df-quickchart-complete:disabled:hover {\n",
              "    background-color: var(--disabled-bg-color);\n",
              "    fill: var(--disabled-fill-color);\n",
              "    box-shadow: none;\n",
              "  }\n",
              "\n",
              "  .colab-df-spinner {\n",
              "    border: 2px solid var(--fill-color);\n",
              "    border-color: transparent;\n",
              "    border-bottom-color: var(--fill-color);\n",
              "    animation:\n",
              "      spin 1s steps(1) infinite;\n",
              "  }\n",
              "\n",
              "  @keyframes spin {\n",
              "    0% {\n",
              "      border-color: transparent;\n",
              "      border-bottom-color: var(--fill-color);\n",
              "      border-left-color: var(--fill-color);\n",
              "    }\n",
              "    20% {\n",
              "      border-color: transparent;\n",
              "      border-left-color: var(--fill-color);\n",
              "      border-top-color: var(--fill-color);\n",
              "    }\n",
              "    30% {\n",
              "      border-color: transparent;\n",
              "      border-left-color: var(--fill-color);\n",
              "      border-top-color: var(--fill-color);\n",
              "      border-right-color: var(--fill-color);\n",
              "    }\n",
              "    40% {\n",
              "      border-color: transparent;\n",
              "      border-right-color: var(--fill-color);\n",
              "      border-top-color: var(--fill-color);\n",
              "    }\n",
              "    60% {\n",
              "      border-color: transparent;\n",
              "      border-right-color: var(--fill-color);\n",
              "    }\n",
              "    80% {\n",
              "      border-color: transparent;\n",
              "      border-right-color: var(--fill-color);\n",
              "      border-bottom-color: var(--fill-color);\n",
              "    }\n",
              "    90% {\n",
              "      border-color: transparent;\n",
              "      border-bottom-color: var(--fill-color);\n",
              "    }\n",
              "  }\n",
              "</style>\n",
              "\n",
              "  <script>\n",
              "    async function quickchart(key) {\n",
              "      const quickchartButtonEl =\n",
              "        document.querySelector('#' + key + ' button');\n",
              "      quickchartButtonEl.disabled = true;  // To prevent multiple clicks.\n",
              "      quickchartButtonEl.classList.add('colab-df-spinner');\n",
              "      try {\n",
              "        const charts = await google.colab.kernel.invokeFunction(\n",
              "            'suggestCharts', [key], {});\n",
              "      } catch (error) {\n",
              "        console.error('Error during call to suggestCharts:', error);\n",
              "      }\n",
              "      quickchartButtonEl.classList.remove('colab-df-spinner');\n",
              "      quickchartButtonEl.classList.add('colab-df-quickchart-complete');\n",
              "    }\n",
              "    (() => {\n",
              "      let quickchartButtonEl =\n",
              "        document.querySelector('#df-16a87619-4881-4ce9-8d8a-242c4b79c881 button');\n",
              "      quickchartButtonEl.style.display =\n",
              "        google.colab.kernel.accessAllowed ? 'block' : 'none';\n",
              "    })();\n",
              "  </script>\n",
              "</div>\n",
              "\n",
              "    </div>\n",
              "  </div>\n"
            ],
            "application/vnd.google.colaboratory.intrinsic+json": {
              "type": "dataframe",
              "variable_name": "bark_beetle_sub",
              "summary": "{\n  \"name\": \"bark_beetle_sub\",\n  \"rows\": 5000,\n  \"fields\": [\n    {\n      \"column\": \"distToCC5\",\n      \"properties\": {\n        \"dtype\": \"number\",\n        \"std\": 316,\n        \"min\": 0,\n        \"max\": 1808,\n        \"num_unique_values\": 1069,\n        \"samples\": [\n          877,\n          768,\n          755\n        ],\n        \"semantic_type\": \"\",\n        \"description\": \"\"\n      }\n    },\n    {\n      \"column\": \"soilWetnes\",\n      \"properties\": {\n        \"dtype\": \"number\",\n        \"std\": 25.012238127685848,\n        \"min\": 0.0,\n        \"max\": 100.0,\n        \"num_unique_values\": 3460,\n        \"samples\": [\n          37.2115097,\n          55.31123352,\n          35.24081421\n        ],\n        \"semantic_type\": \"\",\n        \"description\": \"\"\n      }\n    },\n    {\n      \"column\": \"canopyHeig\",\n      \"properties\": {\n        \"dtype\": \"number\",\n        \"std\": 43.03554616048441,\n        \"min\": 0.0,\n        \"max\": 285.966156,\n        \"num_unique_values\": 4990,\n        \"samples\": [\n          243.6147156,\n          179.4885712,\n          101.3276901\n        ],\n        \"semantic_type\": \"\",\n        \"description\": \"\"\n      }\n    }\n  ]\n}"
            }
          },
          "metadata": {},
          "execution_count": 67
        }
      ],
      "execution_count": null
    },
    {
      "cell_type": "markdown",
      "id": "3f9cc081",
      "metadata": {
        "id": "3f9cc081"
      },
      "source": [
        "We also need our dataset to be in an array in order to split it, so we do this below:"
      ]
    },
    {
      "cell_type": "code",
      "id": "6c38a269",
      "metadata": {
        "colab": {
          "base_uri": "https://localhost:8080/"
        },
        "id": "6c38a269",
        "outputId": "f1eb51f8-8162-41c1-b423-d72b04b46599"
      },
      "source": [
        "#convert to array:\n",
        "bbs_array = bark_beetle_sub.to_numpy()\n",
        "print(bbs_array)"
      ],
      "outputs": [
        {
          "output_type": "stream",
          "name": "stdout",
          "text": [
            "[[741.           0.88815093 232.9534912 ]\n",
            " [170.          36.60366058 277.8132019 ]\n",
            " [205.          18.98888016 280.5119019 ]\n",
            " ...\n",
            " [380.          48.52466965 143.2687378 ]\n",
            " [244.          98.41689301 103.929985  ]\n",
            " [184.          65.82250977 137.6759338 ]]\n"
          ]
        }
      ],
      "execution_count": null
    },
    {
      "metadata": {
        "id": "437d55fc1377f3e3"
      },
      "cell_type": "markdown",
      "source": [
        "The target labels (bbPresence) also need to be transformed to a 1D array for data split and model training."
      ],
      "id": "437d55fc1377f3e3"
    },
    {
      "metadata": {
        "colab": {
          "base_uri": "https://localhost:8080/"
        },
        "id": "3f76a95245d8eb90",
        "outputId": "12e35e9b-45fe-456e-81d0-e1d64a4936a1"
      },
      "cell_type": "code",
      "source": [
        "#convert the \"bbPresence\" column to 1D array:\n",
        "targetLabels = bark_beetle_df['bbPresence'].to_numpy()\n",
        "print(targetLabels)"
      ],
      "id": "3f76a95245d8eb90",
      "outputs": [
        {
          "output_type": "stream",
          "name": "stdout",
          "text": [
            "[1 1 1 ... 0 0 0]\n"
          ]
        }
      ],
      "execution_count": null
    },
    {
      "cell_type": "markdown",
      "id": "ac69975a",
      "metadata": {
        "id": "ac69975a"
      },
      "source": [
        "And divide into training and test data and labels:"
      ]
    },
    {
      "cell_type": "code",
      "id": "f4b1f90a",
      "metadata": {
        "id": "f4b1f90a"
      },
      "source": [
        "train_data, test_data, train_lab, test_lab = train_test_split(bbs_array, targetLabels, random_state=42)"
      ],
      "outputs": [],
      "execution_count": null
    },
    {
      "cell_type": "markdown",
      "id": "78034f05",
      "metadata": {
        "id": "78034f05"
      },
      "source": [
        "Quickly check the length of all arrays to ensure they match:"
      ]
    },
    {
      "cell_type": "code",
      "id": "baf76dac",
      "metadata": {
        "colab": {
          "base_uri": "https://localhost:8080/"
        },
        "id": "baf76dac",
        "outputId": "ab98abe8-d77e-40df-d70f-b40fe4d38056"
      },
      "source": [
        "len(train_data)"
      ],
      "outputs": [
        {
          "output_type": "execute_result",
          "data": {
            "text/plain": [
              "3750"
            ]
          },
          "metadata": {},
          "execution_count": 71
        }
      ],
      "execution_count": null
    },
    {
      "cell_type": "code",
      "id": "40b068cd",
      "metadata": {
        "colab": {
          "base_uri": "https://localhost:8080/"
        },
        "id": "40b068cd",
        "outputId": "077e6102-a304-4949-b9db-f0a0fd4c711c"
      },
      "source": [
        "len(test_data)"
      ],
      "outputs": [
        {
          "output_type": "execute_result",
          "data": {
            "text/plain": [
              "1250"
            ]
          },
          "metadata": {},
          "execution_count": 72
        }
      ],
      "execution_count": null
    },
    {
      "cell_type": "code",
      "id": "deb58d0e",
      "metadata": {
        "colab": {
          "base_uri": "https://localhost:8080/"
        },
        "id": "deb58d0e",
        "outputId": "694f6679-fa6b-4a87-fac7-3627002b98d1"
      },
      "source": [
        "len(train_lab)"
      ],
      "outputs": [
        {
          "output_type": "execute_result",
          "data": {
            "text/plain": [
              "3750"
            ]
          },
          "metadata": {},
          "execution_count": 73
        }
      ],
      "execution_count": null
    },
    {
      "cell_type": "code",
      "id": "49b1e023",
      "metadata": {
        "colab": {
          "base_uri": "https://localhost:8080/"
        },
        "id": "49b1e023",
        "outputId": "dd69899a-ade4-4f60-a14d-0922207e57fb"
      },
      "source": [
        "len(test_lab)"
      ],
      "outputs": [
        {
          "output_type": "execute_result",
          "data": {
            "text/plain": [
              "1250"
            ]
          },
          "metadata": {},
          "execution_count": 74
        }
      ],
      "execution_count": null
    },
    {
      "cell_type": "markdown",
      "id": "598afa44",
      "metadata": {
        "id": "598afa44"
      },
      "source": [
        "<BR><BR><BR>\n",
        "## _k_-Nearest Neighbours\n",
        "The first classifier will use is the *k*-Nearest Neighbour (*k*NN) classifier. This is a very simple method by which tested points are classified according to their proximity (in terms of attribute distance) to points that were seen during training.\n",
        "\n",
        "In this section, we will show you how to use the *k*NN classifer in `scikit`, as well as going into detail about how you can assess the quality of the classification as part of your validation.\n",
        "\n",
        "**IMPORTANT**: Many of the `scikit` classification methods use a very similar syntax. We will show you how to use *k*NN, but you will have to work out how to use the others. On completion, we expect you to be able to say which of the four classifiers you will test performs best in predicting the rating Score given by each user.\n",
        "\n",
        "Across all `scikit` classifiers, a similar process and form of syntax is used.\n",
        "\n",
        "1. First, we load the library.\n",
        "2. Then, we create the classifier object, and specify any important parameters.\n",
        "3. We run the `.fit()` method, sending the classifier our training dataset and accompanying labels.\n",
        "4. We analyse the validate with the `.score()` method, sending the classifier our testing dataset and accompanying labels.\n",
        "\n",
        "Let's work through this method for the *k*NN classifer."
      ]
    },
    {
      "cell_type": "code",
      "id": "26b2d8d8",
      "metadata": {
        "id": "26b2d8d8"
      },
      "source": [
        "from sklearn.neighbors import KNeighborsClassifier"
      ],
      "outputs": [],
      "execution_count": null
    },
    {
      "cell_type": "markdown",
      "id": "b3779503",
      "metadata": {
        "id": "b3779503"
      },
      "source": [
        "Now, we create the classifier object and give it a name (`knn` in our case), and run it.\n",
        "\n",
        "On creating the object, we specify any important parameters. To understand what parameters are needed requires understanding the method and the syntax. It is worth you reading the `scikit` documentation on *k*NN at this point, which will provide you details on how to execute the method.\n",
        "\n",
        "[This page](http://scikit-learn.org/stable/modules/neighbors.html#nearest-neighbors-classification) is a general description of the method. Whereas [this page](http://scikit-learn.org/stable/modules/generated/sklearn.neighbors.KNeighborsClassifier.html) outlines all of the parameters and methods associated with the `KNeighborsClassifier` method. You'll need to check the documentation for any classifer you use.\n",
        "\n",
        "As you will recall, an important element of the *k*NN approach is the specification of how many neighbours to consider when making the classification. You can see below how this parameter is defined.\n",
        "\n",
        "You'll see from the script below that running this process is very similar to the creation of clusters and regression models over the last few weeks."
      ]
    },
    {
      "cell_type": "code",
      "id": "7c621699",
      "metadata": {
        "id": "7c621699"
      },
      "source": [
        "knn = KNeighborsClassifier(n_neighbors=15)  # creates the kNN classifier, setting it to check the 10 neighbouring points, and you're encouraged to experiment with this number"
      ],
      "outputs": [],
      "execution_count": null
    },
    {
      "cell_type": "code",
      "id": "52700eae",
      "metadata": {
        "colab": {
          "base_uri": "https://localhost:8080/",
          "height": 80
        },
        "id": "52700eae",
        "outputId": "db04a6a5-2e70-41da-daa9-aef1c4913f9e"
      },
      "source": [
        "knn.fit(train_data, train_lab)  # executes the classifier on the training dataset"
      ],
      "outputs": [
        {
          "output_type": "execute_result",
          "data": {
            "text/plain": [
              "KNeighborsClassifier(n_neighbors=15)"
            ],
            "text/html": [
              "<style>#sk-container-id-7 {\n",
              "  /* Definition of color scheme common for light and dark mode */\n",
              "  --sklearn-color-text: black;\n",
              "  --sklearn-color-line: gray;\n",
              "  /* Definition of color scheme for unfitted estimators */\n",
              "  --sklearn-color-unfitted-level-0: #fff5e6;\n",
              "  --sklearn-color-unfitted-level-1: #f6e4d2;\n",
              "  --sklearn-color-unfitted-level-2: #ffe0b3;\n",
              "  --sklearn-color-unfitted-level-3: chocolate;\n",
              "  /* Definition of color scheme for fitted estimators */\n",
              "  --sklearn-color-fitted-level-0: #f0f8ff;\n",
              "  --sklearn-color-fitted-level-1: #d4ebff;\n",
              "  --sklearn-color-fitted-level-2: #b3dbfd;\n",
              "  --sklearn-color-fitted-level-3: cornflowerblue;\n",
              "\n",
              "  /* Specific color for light theme */\n",
              "  --sklearn-color-text-on-default-background: var(--sg-text-color, var(--theme-code-foreground, var(--jp-content-font-color1, black)));\n",
              "  --sklearn-color-background: var(--sg-background-color, var(--theme-background, var(--jp-layout-color0, white)));\n",
              "  --sklearn-color-border-box: var(--sg-text-color, var(--theme-code-foreground, var(--jp-content-font-color1, black)));\n",
              "  --sklearn-color-icon: #696969;\n",
              "\n",
              "  @media (prefers-color-scheme: dark) {\n",
              "    /* Redefinition of color scheme for dark theme */\n",
              "    --sklearn-color-text-on-default-background: var(--sg-text-color, var(--theme-code-foreground, var(--jp-content-font-color1, white)));\n",
              "    --sklearn-color-background: var(--sg-background-color, var(--theme-background, var(--jp-layout-color0, #111)));\n",
              "    --sklearn-color-border-box: var(--sg-text-color, var(--theme-code-foreground, var(--jp-content-font-color1, white)));\n",
              "    --sklearn-color-icon: #878787;\n",
              "  }\n",
              "}\n",
              "\n",
              "#sk-container-id-7 {\n",
              "  color: var(--sklearn-color-text);\n",
              "}\n",
              "\n",
              "#sk-container-id-7 pre {\n",
              "  padding: 0;\n",
              "}\n",
              "\n",
              "#sk-container-id-7 input.sk-hidden--visually {\n",
              "  border: 0;\n",
              "  clip: rect(1px 1px 1px 1px);\n",
              "  clip: rect(1px, 1px, 1px, 1px);\n",
              "  height: 1px;\n",
              "  margin: -1px;\n",
              "  overflow: hidden;\n",
              "  padding: 0;\n",
              "  position: absolute;\n",
              "  width: 1px;\n",
              "}\n",
              "\n",
              "#sk-container-id-7 div.sk-dashed-wrapped {\n",
              "  border: 1px dashed var(--sklearn-color-line);\n",
              "  margin: 0 0.4em 0.5em 0.4em;\n",
              "  box-sizing: border-box;\n",
              "  padding-bottom: 0.4em;\n",
              "  background-color: var(--sklearn-color-background);\n",
              "}\n",
              "\n",
              "#sk-container-id-7 div.sk-container {\n",
              "  /* jupyter's `normalize.less` sets `[hidden] { display: none; }`\n",
              "     but bootstrap.min.css set `[hidden] { display: none !important; }`\n",
              "     so we also need the `!important` here to be able to override the\n",
              "     default hidden behavior on the sphinx rendered scikit-learn.org.\n",
              "     See: https://github.com/scikit-learn/scikit-learn/issues/21755 */\n",
              "  display: inline-block !important;\n",
              "  position: relative;\n",
              "}\n",
              "\n",
              "#sk-container-id-7 div.sk-text-repr-fallback {\n",
              "  display: none;\n",
              "}\n",
              "\n",
              "div.sk-parallel-item,\n",
              "div.sk-serial,\n",
              "div.sk-item {\n",
              "  /* draw centered vertical line to link estimators */\n",
              "  background-image: linear-gradient(var(--sklearn-color-text-on-default-background), var(--sklearn-color-text-on-default-background));\n",
              "  background-size: 2px 100%;\n",
              "  background-repeat: no-repeat;\n",
              "  background-position: center center;\n",
              "}\n",
              "\n",
              "/* Parallel-specific style estimator block */\n",
              "\n",
              "#sk-container-id-7 div.sk-parallel-item::after {\n",
              "  content: \"\";\n",
              "  width: 100%;\n",
              "  border-bottom: 2px solid var(--sklearn-color-text-on-default-background);\n",
              "  flex-grow: 1;\n",
              "}\n",
              "\n",
              "#sk-container-id-7 div.sk-parallel {\n",
              "  display: flex;\n",
              "  align-items: stretch;\n",
              "  justify-content: center;\n",
              "  background-color: var(--sklearn-color-background);\n",
              "  position: relative;\n",
              "}\n",
              "\n",
              "#sk-container-id-7 div.sk-parallel-item {\n",
              "  display: flex;\n",
              "  flex-direction: column;\n",
              "}\n",
              "\n",
              "#sk-container-id-7 div.sk-parallel-item:first-child::after {\n",
              "  align-self: flex-end;\n",
              "  width: 50%;\n",
              "}\n",
              "\n",
              "#sk-container-id-7 div.sk-parallel-item:last-child::after {\n",
              "  align-self: flex-start;\n",
              "  width: 50%;\n",
              "}\n",
              "\n",
              "#sk-container-id-7 div.sk-parallel-item:only-child::after {\n",
              "  width: 0;\n",
              "}\n",
              "\n",
              "/* Serial-specific style estimator block */\n",
              "\n",
              "#sk-container-id-7 div.sk-serial {\n",
              "  display: flex;\n",
              "  flex-direction: column;\n",
              "  align-items: center;\n",
              "  background-color: var(--sklearn-color-background);\n",
              "  padding-right: 1em;\n",
              "  padding-left: 1em;\n",
              "}\n",
              "\n",
              "\n",
              "/* Toggleable style: style used for estimator/Pipeline/ColumnTransformer box that is\n",
              "clickable and can be expanded/collapsed.\n",
              "- Pipeline and ColumnTransformer use this feature and define the default style\n",
              "- Estimators will overwrite some part of the style using the `sk-estimator` class\n",
              "*/\n",
              "\n",
              "/* Pipeline and ColumnTransformer style (default) */\n",
              "\n",
              "#sk-container-id-7 div.sk-toggleable {\n",
              "  /* Default theme specific background. It is overwritten whether we have a\n",
              "  specific estimator or a Pipeline/ColumnTransformer */\n",
              "  background-color: var(--sklearn-color-background);\n",
              "}\n",
              "\n",
              "/* Toggleable label */\n",
              "#sk-container-id-7 label.sk-toggleable__label {\n",
              "  cursor: pointer;\n",
              "  display: block;\n",
              "  width: 100%;\n",
              "  margin-bottom: 0;\n",
              "  padding: 0.5em;\n",
              "  box-sizing: border-box;\n",
              "  text-align: center;\n",
              "}\n",
              "\n",
              "#sk-container-id-7 label.sk-toggleable__label-arrow:before {\n",
              "  /* Arrow on the left of the label */\n",
              "  content: \"▸\";\n",
              "  float: left;\n",
              "  margin-right: 0.25em;\n",
              "  color: var(--sklearn-color-icon);\n",
              "}\n",
              "\n",
              "#sk-container-id-7 label.sk-toggleable__label-arrow:hover:before {\n",
              "  color: var(--sklearn-color-text);\n",
              "}\n",
              "\n",
              "/* Toggleable content - dropdown */\n",
              "\n",
              "#sk-container-id-7 div.sk-toggleable__content {\n",
              "  max-height: 0;\n",
              "  max-width: 0;\n",
              "  overflow: hidden;\n",
              "  text-align: left;\n",
              "  /* unfitted */\n",
              "  background-color: var(--sklearn-color-unfitted-level-0);\n",
              "}\n",
              "\n",
              "#sk-container-id-7 div.sk-toggleable__content.fitted {\n",
              "  /* fitted */\n",
              "  background-color: var(--sklearn-color-fitted-level-0);\n",
              "}\n",
              "\n",
              "#sk-container-id-7 div.sk-toggleable__content pre {\n",
              "  margin: 0.2em;\n",
              "  border-radius: 0.25em;\n",
              "  color: var(--sklearn-color-text);\n",
              "  /* unfitted */\n",
              "  background-color: var(--sklearn-color-unfitted-level-0);\n",
              "}\n",
              "\n",
              "#sk-container-id-7 div.sk-toggleable__content.fitted pre {\n",
              "  /* unfitted */\n",
              "  background-color: var(--sklearn-color-fitted-level-0);\n",
              "}\n",
              "\n",
              "#sk-container-id-7 input.sk-toggleable__control:checked~div.sk-toggleable__content {\n",
              "  /* Expand drop-down */\n",
              "  max-height: 200px;\n",
              "  max-width: 100%;\n",
              "  overflow: auto;\n",
              "}\n",
              "\n",
              "#sk-container-id-7 input.sk-toggleable__control:checked~label.sk-toggleable__label-arrow:before {\n",
              "  content: \"▾\";\n",
              "}\n",
              "\n",
              "/* Pipeline/ColumnTransformer-specific style */\n",
              "\n",
              "#sk-container-id-7 div.sk-label input.sk-toggleable__control:checked~label.sk-toggleable__label {\n",
              "  color: var(--sklearn-color-text);\n",
              "  background-color: var(--sklearn-color-unfitted-level-2);\n",
              "}\n",
              "\n",
              "#sk-container-id-7 div.sk-label.fitted input.sk-toggleable__control:checked~label.sk-toggleable__label {\n",
              "  background-color: var(--sklearn-color-fitted-level-2);\n",
              "}\n",
              "\n",
              "/* Estimator-specific style */\n",
              "\n",
              "/* Colorize estimator box */\n",
              "#sk-container-id-7 div.sk-estimator input.sk-toggleable__control:checked~label.sk-toggleable__label {\n",
              "  /* unfitted */\n",
              "  background-color: var(--sklearn-color-unfitted-level-2);\n",
              "}\n",
              "\n",
              "#sk-container-id-7 div.sk-estimator.fitted input.sk-toggleable__control:checked~label.sk-toggleable__label {\n",
              "  /* fitted */\n",
              "  background-color: var(--sklearn-color-fitted-level-2);\n",
              "}\n",
              "\n",
              "#sk-container-id-7 div.sk-label label.sk-toggleable__label,\n",
              "#sk-container-id-7 div.sk-label label {\n",
              "  /* The background is the default theme color */\n",
              "  color: var(--sklearn-color-text-on-default-background);\n",
              "}\n",
              "\n",
              "/* On hover, darken the color of the background */\n",
              "#sk-container-id-7 div.sk-label:hover label.sk-toggleable__label {\n",
              "  color: var(--sklearn-color-text);\n",
              "  background-color: var(--sklearn-color-unfitted-level-2);\n",
              "}\n",
              "\n",
              "/* Label box, darken color on hover, fitted */\n",
              "#sk-container-id-7 div.sk-label.fitted:hover label.sk-toggleable__label.fitted {\n",
              "  color: var(--sklearn-color-text);\n",
              "  background-color: var(--sklearn-color-fitted-level-2);\n",
              "}\n",
              "\n",
              "/* Estimator label */\n",
              "\n",
              "#sk-container-id-7 div.sk-label label {\n",
              "  font-family: monospace;\n",
              "  font-weight: bold;\n",
              "  display: inline-block;\n",
              "  line-height: 1.2em;\n",
              "}\n",
              "\n",
              "#sk-container-id-7 div.sk-label-container {\n",
              "  text-align: center;\n",
              "}\n",
              "\n",
              "/* Estimator-specific */\n",
              "#sk-container-id-7 div.sk-estimator {\n",
              "  font-family: monospace;\n",
              "  border: 1px dotted var(--sklearn-color-border-box);\n",
              "  border-radius: 0.25em;\n",
              "  box-sizing: border-box;\n",
              "  margin-bottom: 0.5em;\n",
              "  /* unfitted */\n",
              "  background-color: var(--sklearn-color-unfitted-level-0);\n",
              "}\n",
              "\n",
              "#sk-container-id-7 div.sk-estimator.fitted {\n",
              "  /* fitted */\n",
              "  background-color: var(--sklearn-color-fitted-level-0);\n",
              "}\n",
              "\n",
              "/* on hover */\n",
              "#sk-container-id-7 div.sk-estimator:hover {\n",
              "  /* unfitted */\n",
              "  background-color: var(--sklearn-color-unfitted-level-2);\n",
              "}\n",
              "\n",
              "#sk-container-id-7 div.sk-estimator.fitted:hover {\n",
              "  /* fitted */\n",
              "  background-color: var(--sklearn-color-fitted-level-2);\n",
              "}\n",
              "\n",
              "/* Specification for estimator info (e.g. \"i\" and \"?\") */\n",
              "\n",
              "/* Common style for \"i\" and \"?\" */\n",
              "\n",
              ".sk-estimator-doc-link,\n",
              "a:link.sk-estimator-doc-link,\n",
              "a:visited.sk-estimator-doc-link {\n",
              "  float: right;\n",
              "  font-size: smaller;\n",
              "  line-height: 1em;\n",
              "  font-family: monospace;\n",
              "  background-color: var(--sklearn-color-background);\n",
              "  border-radius: 1em;\n",
              "  height: 1em;\n",
              "  width: 1em;\n",
              "  text-decoration: none !important;\n",
              "  margin-left: 1ex;\n",
              "  /* unfitted */\n",
              "  border: var(--sklearn-color-unfitted-level-1) 1pt solid;\n",
              "  color: var(--sklearn-color-unfitted-level-1);\n",
              "}\n",
              "\n",
              ".sk-estimator-doc-link.fitted,\n",
              "a:link.sk-estimator-doc-link.fitted,\n",
              "a:visited.sk-estimator-doc-link.fitted {\n",
              "  /* fitted */\n",
              "  border: var(--sklearn-color-fitted-level-1) 1pt solid;\n",
              "  color: var(--sklearn-color-fitted-level-1);\n",
              "}\n",
              "\n",
              "/* On hover */\n",
              "div.sk-estimator:hover .sk-estimator-doc-link:hover,\n",
              ".sk-estimator-doc-link:hover,\n",
              "div.sk-label-container:hover .sk-estimator-doc-link:hover,\n",
              ".sk-estimator-doc-link:hover {\n",
              "  /* unfitted */\n",
              "  background-color: var(--sklearn-color-unfitted-level-3);\n",
              "  color: var(--sklearn-color-background);\n",
              "  text-decoration: none;\n",
              "}\n",
              "\n",
              "div.sk-estimator.fitted:hover .sk-estimator-doc-link.fitted:hover,\n",
              ".sk-estimator-doc-link.fitted:hover,\n",
              "div.sk-label-container:hover .sk-estimator-doc-link.fitted:hover,\n",
              ".sk-estimator-doc-link.fitted:hover {\n",
              "  /* fitted */\n",
              "  background-color: var(--sklearn-color-fitted-level-3);\n",
              "  color: var(--sklearn-color-background);\n",
              "  text-decoration: none;\n",
              "}\n",
              "\n",
              "/* Span, style for the box shown on hovering the info icon */\n",
              ".sk-estimator-doc-link span {\n",
              "  display: none;\n",
              "  z-index: 9999;\n",
              "  position: relative;\n",
              "  font-weight: normal;\n",
              "  right: .2ex;\n",
              "  padding: .5ex;\n",
              "  margin: .5ex;\n",
              "  width: min-content;\n",
              "  min-width: 20ex;\n",
              "  max-width: 50ex;\n",
              "  color: var(--sklearn-color-text);\n",
              "  box-shadow: 2pt 2pt 4pt #999;\n",
              "  /* unfitted */\n",
              "  background: var(--sklearn-color-unfitted-level-0);\n",
              "  border: .5pt solid var(--sklearn-color-unfitted-level-3);\n",
              "}\n",
              "\n",
              ".sk-estimator-doc-link.fitted span {\n",
              "  /* fitted */\n",
              "  background: var(--sklearn-color-fitted-level-0);\n",
              "  border: var(--sklearn-color-fitted-level-3);\n",
              "}\n",
              "\n",
              ".sk-estimator-doc-link:hover span {\n",
              "  display: block;\n",
              "}\n",
              "\n",
              "/* \"?\"-specific style due to the `<a>` HTML tag */\n",
              "\n",
              "#sk-container-id-7 a.estimator_doc_link {\n",
              "  float: right;\n",
              "  font-size: 1rem;\n",
              "  line-height: 1em;\n",
              "  font-family: monospace;\n",
              "  background-color: var(--sklearn-color-background);\n",
              "  border-radius: 1rem;\n",
              "  height: 1rem;\n",
              "  width: 1rem;\n",
              "  text-decoration: none;\n",
              "  /* unfitted */\n",
              "  color: var(--sklearn-color-unfitted-level-1);\n",
              "  border: var(--sklearn-color-unfitted-level-1) 1pt solid;\n",
              "}\n",
              "\n",
              "#sk-container-id-7 a.estimator_doc_link.fitted {\n",
              "  /* fitted */\n",
              "  border: var(--sklearn-color-fitted-level-1) 1pt solid;\n",
              "  color: var(--sklearn-color-fitted-level-1);\n",
              "}\n",
              "\n",
              "/* On hover */\n",
              "#sk-container-id-7 a.estimator_doc_link:hover {\n",
              "  /* unfitted */\n",
              "  background-color: var(--sklearn-color-unfitted-level-3);\n",
              "  color: var(--sklearn-color-background);\n",
              "  text-decoration: none;\n",
              "}\n",
              "\n",
              "#sk-container-id-7 a.estimator_doc_link.fitted:hover {\n",
              "  /* fitted */\n",
              "  background-color: var(--sklearn-color-fitted-level-3);\n",
              "}\n",
              "</style><div id=\"sk-container-id-7\" class=\"sk-top-container\"><div class=\"sk-text-repr-fallback\"><pre>KNeighborsClassifier(n_neighbors=15)</pre><b>In a Jupyter environment, please rerun this cell to show the HTML representation or trust the notebook. <br />On GitHub, the HTML representation is unable to render, please try loading this page with nbviewer.org.</b></div><div class=\"sk-container\" hidden><div class=\"sk-item\"><div class=\"sk-estimator fitted sk-toggleable\"><input class=\"sk-toggleable__control sk-hidden--visually\" id=\"sk-estimator-id-7\" type=\"checkbox\" checked><label for=\"sk-estimator-id-7\" class=\"sk-toggleable__label fitted sk-toggleable__label-arrow fitted\">&nbsp;&nbsp;KNeighborsClassifier<a class=\"sk-estimator-doc-link fitted\" rel=\"noreferrer\" target=\"_blank\" href=\"https://scikit-learn.org/1.5/modules/generated/sklearn.neighbors.KNeighborsClassifier.html\">?<span>Documentation for KNeighborsClassifier</span></a><span class=\"sk-estimator-doc-link fitted\">i<span>Fitted</span></span></label><div class=\"sk-toggleable__content fitted\"><pre>KNeighborsClassifier(n_neighbors=15)</pre></div> </div></div></div></div>"
            ]
          },
          "metadata": {},
          "execution_count": 85
        }
      ],
      "execution_count": null
    },
    {
      "cell_type": "markdown",
      "id": "788446e9",
      "metadata": {
        "id": "788446e9"
      },
      "source": [
        "Now we can test how well the classifier predicts the classes of our test dataset. For this stage, we send the test data and labels to the `.score()` function. This outputs a number representing the proportion of classes correctly guessed by the classifer. It requires you to pass it both the test data and test labels.\n",
        "\n",
        "**Run the script below to see how well *kNN* performs in this case.**"
      ]
    },
    {
      "cell_type": "code",
      "id": "14ba656c",
      "metadata": {
        "colab": {
          "base_uri": "https://localhost:8080/"
        },
        "id": "14ba656c",
        "outputId": "2348f265-6fa8-41fe-96c4-f56fd1ce323f"
      },
      "source": [
        "# Evaluate the accuracy of the k-NN classifier on the test data\n",
        "# The score method returns the mean accuracy on the given test data and labels\n",
        "knn = KNeighborsClassifier(n_neighbors=10)\n",
        "knn.fit(train_data, train_lab)\n",
        "knn.score(test_data, test_lab)\n",
        "predictions = knn.predict(test_data)\n",
        "print(metrics.classification_report(test_lab, predictions, zero_division = 0))"
      ],
      "outputs": [
        {
          "output_type": "stream",
          "name": "stdout",
          "text": [
            "              precision    recall  f1-score   support\n",
            "\n",
            "           0       0.77      0.83      0.80       747\n",
            "           1       0.71      0.63      0.67       503\n",
            "\n",
            "    accuracy                           0.75      1250\n",
            "   macro avg       0.74      0.73      0.73      1250\n",
            "weighted avg       0.74      0.75      0.74      1250\n",
            "\n"
          ]
        }
      ],
      "execution_count": null
    },
    {
      "cell_type": "markdown",
      "id": "438f1047",
      "metadata": {
        "id": "438f1047"
      },
      "source": [
        "Well done, you've created and tested a classifer."
      ]
    },
    {
      "cell_type": "markdown",
      "id": "dcbd92c5",
      "metadata": {
        "id": "dcbd92c5"
      },
      "source": [
        "There are a number of other important ways to assess the quality of your classifier that you should be aware of.\n",
        "\n",
        "First, you can have a look yourself at the actual results, and identify the records where predictions succeed and fail. You can do this by generating a set of predictions for each record, done using the `.predict()` method. Like `.score()`, this generates classes for a test dataset, but does take a set of labels. You will use this method in classifying any future unlabelled dataset you wish to classify.\n",
        "\n",
        "**The predictions are recorded within an array using the script below.**"
      ]
    },
    {
      "cell_type": "code",
      "id": "0e1ad348",
      "metadata": {
        "id": "0e1ad348"
      },
      "source": [
        "predictions = knn.predict(test_data)"
      ],
      "outputs": [],
      "execution_count": null
    },
    {
      "cell_type": "code",
      "id": "a276c1a3",
      "metadata": {
        "colab": {
          "base_uri": "https://localhost:8080/"
        },
        "id": "a276c1a3",
        "outputId": "a44d4fbf-8806-4515-a986-9963055e0fd6"
      },
      "source": [
        "predictions"
      ],
      "outputs": [
        {
          "output_type": "execute_result",
          "data": {
            "text/plain": [
              "array([0, 0, 0, ..., 1, 0, 1])"
            ]
          },
          "metadata": {},
          "execution_count": 53
        }
      ],
      "execution_count": null
    },
    {
      "cell_type": "markdown",
      "id": "a9cbcd34",
      "metadata": {
        "id": "a9cbcd34"
      },
      "source": [
        "**Join the predicted classifications to the actual labels (from the test data) to create a new dataframe.**"
      ]
    },
    {
      "cell_type": "code",
      "id": "d75cd690",
      "metadata": {
        "id": "d75cd690"
      },
      "source": [
        "bb_pred = pd.DataFrame(list(predictions))"
      ],
      "outputs": [],
      "execution_count": null
    },
    {
      "cell_type": "code",
      "id": "6c1187c3",
      "metadata": {
        "id": "6c1187c3"
      },
      "source": [
        "bb_pred['bbPresence'] = pd.DataFrame(list(test_lab))"
      ],
      "outputs": [],
      "execution_count": null
    },
    {
      "cell_type": "code",
      "id": "aa69f608",
      "metadata": {
        "id": "aa69f608"
      },
      "source": [
        "#and rename the first column, which has just been given the first index\n",
        "bb_pred.rename(columns={0:'Prediction'}, inplace=True)"
      ],
      "outputs": [],
      "execution_count": null
    },
    {
      "cell_type": "code",
      "id": "dfb83e2b",
      "metadata": {
        "scrolled": true,
        "colab": {
          "base_uri": "https://localhost:8080/",
          "height": 424
        },
        "id": "dfb83e2b",
        "outputId": "01b113e1-bcb9-4d7c-ca4d-2c671cf69f80"
      },
      "source": [
        "bb_pred"
      ],
      "outputs": [
        {
          "output_type": "execute_result",
          "data": {
            "text/plain": [
              "      Prediction  bbPresence\n",
              "0              0           0\n",
              "1              0           0\n",
              "2              0           0\n",
              "3              1           1\n",
              "4              0           0\n",
              "...          ...         ...\n",
              "1245           0           0\n",
              "1246           1           0\n",
              "1247           1           0\n",
              "1248           0           0\n",
              "1249           1           1\n",
              "\n",
              "[1250 rows x 2 columns]"
            ],
            "text/html": [
              "\n",
              "  <div id=\"df-8d25bc29-fd96-4759-93c0-1cc04a2dff2b\" class=\"colab-df-container\">\n",
              "    <div>\n",
              "<style scoped>\n",
              "    .dataframe tbody tr th:only-of-type {\n",
              "        vertical-align: middle;\n",
              "    }\n",
              "\n",
              "    .dataframe tbody tr th {\n",
              "        vertical-align: top;\n",
              "    }\n",
              "\n",
              "    .dataframe thead th {\n",
              "        text-align: right;\n",
              "    }\n",
              "</style>\n",
              "<table border=\"1\" class=\"dataframe\">\n",
              "  <thead>\n",
              "    <tr style=\"text-align: right;\">\n",
              "      <th></th>\n",
              "      <th>Prediction</th>\n",
              "      <th>bbPresence</th>\n",
              "    </tr>\n",
              "  </thead>\n",
              "  <tbody>\n",
              "    <tr>\n",
              "      <th>0</th>\n",
              "      <td>0</td>\n",
              "      <td>0</td>\n",
              "    </tr>\n",
              "    <tr>\n",
              "      <th>1</th>\n",
              "      <td>0</td>\n",
              "      <td>0</td>\n",
              "    </tr>\n",
              "    <tr>\n",
              "      <th>2</th>\n",
              "      <td>0</td>\n",
              "      <td>0</td>\n",
              "    </tr>\n",
              "    <tr>\n",
              "      <th>3</th>\n",
              "      <td>1</td>\n",
              "      <td>1</td>\n",
              "    </tr>\n",
              "    <tr>\n",
              "      <th>4</th>\n",
              "      <td>0</td>\n",
              "      <td>0</td>\n",
              "    </tr>\n",
              "    <tr>\n",
              "      <th>...</th>\n",
              "      <td>...</td>\n",
              "      <td>...</td>\n",
              "    </tr>\n",
              "    <tr>\n",
              "      <th>1245</th>\n",
              "      <td>0</td>\n",
              "      <td>0</td>\n",
              "    </tr>\n",
              "    <tr>\n",
              "      <th>1246</th>\n",
              "      <td>1</td>\n",
              "      <td>0</td>\n",
              "    </tr>\n",
              "    <tr>\n",
              "      <th>1247</th>\n",
              "      <td>1</td>\n",
              "      <td>0</td>\n",
              "    </tr>\n",
              "    <tr>\n",
              "      <th>1248</th>\n",
              "      <td>0</td>\n",
              "      <td>0</td>\n",
              "    </tr>\n",
              "    <tr>\n",
              "      <th>1249</th>\n",
              "      <td>1</td>\n",
              "      <td>1</td>\n",
              "    </tr>\n",
              "  </tbody>\n",
              "</table>\n",
              "<p>1250 rows × 2 columns</p>\n",
              "</div>\n",
              "    <div class=\"colab-df-buttons\">\n",
              "\n",
              "  <div class=\"colab-df-container\">\n",
              "    <button class=\"colab-df-convert\" onclick=\"convertToInteractive('df-8d25bc29-fd96-4759-93c0-1cc04a2dff2b')\"\n",
              "            title=\"Convert this dataframe to an interactive table.\"\n",
              "            style=\"display:none;\">\n",
              "\n",
              "  <svg xmlns=\"http://www.w3.org/2000/svg\" height=\"24px\" viewBox=\"0 -960 960 960\">\n",
              "    <path d=\"M120-120v-720h720v720H120Zm60-500h600v-160H180v160Zm220 220h160v-160H400v160Zm0 220h160v-160H400v160ZM180-400h160v-160H180v160Zm440 0h160v-160H620v160ZM180-180h160v-160H180v160Zm440 0h160v-160H620v160Z\"/>\n",
              "  </svg>\n",
              "    </button>\n",
              "\n",
              "  <style>\n",
              "    .colab-df-container {\n",
              "      display:flex;\n",
              "      gap: 12px;\n",
              "    }\n",
              "\n",
              "    .colab-df-convert {\n",
              "      background-color: #E8F0FE;\n",
              "      border: none;\n",
              "      border-radius: 50%;\n",
              "      cursor: pointer;\n",
              "      display: none;\n",
              "      fill: #1967D2;\n",
              "      height: 32px;\n",
              "      padding: 0 0 0 0;\n",
              "      width: 32px;\n",
              "    }\n",
              "\n",
              "    .colab-df-convert:hover {\n",
              "      background-color: #E2EBFA;\n",
              "      box-shadow: 0px 1px 2px rgba(60, 64, 67, 0.3), 0px 1px 3px 1px rgba(60, 64, 67, 0.15);\n",
              "      fill: #174EA6;\n",
              "    }\n",
              "\n",
              "    .colab-df-buttons div {\n",
              "      margin-bottom: 4px;\n",
              "    }\n",
              "\n",
              "    [theme=dark] .colab-df-convert {\n",
              "      background-color: #3B4455;\n",
              "      fill: #D2E3FC;\n",
              "    }\n",
              "\n",
              "    [theme=dark] .colab-df-convert:hover {\n",
              "      background-color: #434B5C;\n",
              "      box-shadow: 0px 1px 3px 1px rgba(0, 0, 0, 0.15);\n",
              "      filter: drop-shadow(0px 1px 2px rgba(0, 0, 0, 0.3));\n",
              "      fill: #FFFFFF;\n",
              "    }\n",
              "  </style>\n",
              "\n",
              "    <script>\n",
              "      const buttonEl =\n",
              "        document.querySelector('#df-8d25bc29-fd96-4759-93c0-1cc04a2dff2b button.colab-df-convert');\n",
              "      buttonEl.style.display =\n",
              "        google.colab.kernel.accessAllowed ? 'block' : 'none';\n",
              "\n",
              "      async function convertToInteractive(key) {\n",
              "        const element = document.querySelector('#df-8d25bc29-fd96-4759-93c0-1cc04a2dff2b');\n",
              "        const dataTable =\n",
              "          await google.colab.kernel.invokeFunction('convertToInteractive',\n",
              "                                                    [key], {});\n",
              "        if (!dataTable) return;\n",
              "\n",
              "        const docLinkHtml = 'Like what you see? Visit the ' +\n",
              "          '<a target=\"_blank\" href=https://colab.research.google.com/notebooks/data_table.ipynb>data table notebook</a>'\n",
              "          + ' to learn more about interactive tables.';\n",
              "        element.innerHTML = '';\n",
              "        dataTable['output_type'] = 'display_data';\n",
              "        await google.colab.output.renderOutput(dataTable, element);\n",
              "        const docLink = document.createElement('div');\n",
              "        docLink.innerHTML = docLinkHtml;\n",
              "        element.appendChild(docLink);\n",
              "      }\n",
              "    </script>\n",
              "  </div>\n",
              "\n",
              "\n",
              "<div id=\"df-233e6410-3b79-4d13-bc5e-f0b03fce245c\">\n",
              "  <button class=\"colab-df-quickchart\" onclick=\"quickchart('df-233e6410-3b79-4d13-bc5e-f0b03fce245c')\"\n",
              "            title=\"Suggest charts\"\n",
              "            style=\"display:none;\">\n",
              "\n",
              "<svg xmlns=\"http://www.w3.org/2000/svg\" height=\"24px\"viewBox=\"0 0 24 24\"\n",
              "     width=\"24px\">\n",
              "    <g>\n",
              "        <path d=\"M19 3H5c-1.1 0-2 .9-2 2v14c0 1.1.9 2 2 2h14c1.1 0 2-.9 2-2V5c0-1.1-.9-2-2-2zM9 17H7v-7h2v7zm4 0h-2V7h2v10zm4 0h-2v-4h2v4z\"/>\n",
              "    </g>\n",
              "</svg>\n",
              "  </button>\n",
              "\n",
              "<style>\n",
              "  .colab-df-quickchart {\n",
              "      --bg-color: #E8F0FE;\n",
              "      --fill-color: #1967D2;\n",
              "      --hover-bg-color: #E2EBFA;\n",
              "      --hover-fill-color: #174EA6;\n",
              "      --disabled-fill-color: #AAA;\n",
              "      --disabled-bg-color: #DDD;\n",
              "  }\n",
              "\n",
              "  [theme=dark] .colab-df-quickchart {\n",
              "      --bg-color: #3B4455;\n",
              "      --fill-color: #D2E3FC;\n",
              "      --hover-bg-color: #434B5C;\n",
              "      --hover-fill-color: #FFFFFF;\n",
              "      --disabled-bg-color: #3B4455;\n",
              "      --disabled-fill-color: #666;\n",
              "  }\n",
              "\n",
              "  .colab-df-quickchart {\n",
              "    background-color: var(--bg-color);\n",
              "    border: none;\n",
              "    border-radius: 50%;\n",
              "    cursor: pointer;\n",
              "    display: none;\n",
              "    fill: var(--fill-color);\n",
              "    height: 32px;\n",
              "    padding: 0;\n",
              "    width: 32px;\n",
              "  }\n",
              "\n",
              "  .colab-df-quickchart:hover {\n",
              "    background-color: var(--hover-bg-color);\n",
              "    box-shadow: 0 1px 2px rgba(60, 64, 67, 0.3), 0 1px 3px 1px rgba(60, 64, 67, 0.15);\n",
              "    fill: var(--button-hover-fill-color);\n",
              "  }\n",
              "\n",
              "  .colab-df-quickchart-complete:disabled,\n",
              "  .colab-df-quickchart-complete:disabled:hover {\n",
              "    background-color: var(--disabled-bg-color);\n",
              "    fill: var(--disabled-fill-color);\n",
              "    box-shadow: none;\n",
              "  }\n",
              "\n",
              "  .colab-df-spinner {\n",
              "    border: 2px solid var(--fill-color);\n",
              "    border-color: transparent;\n",
              "    border-bottom-color: var(--fill-color);\n",
              "    animation:\n",
              "      spin 1s steps(1) infinite;\n",
              "  }\n",
              "\n",
              "  @keyframes spin {\n",
              "    0% {\n",
              "      border-color: transparent;\n",
              "      border-bottom-color: var(--fill-color);\n",
              "      border-left-color: var(--fill-color);\n",
              "    }\n",
              "    20% {\n",
              "      border-color: transparent;\n",
              "      border-left-color: var(--fill-color);\n",
              "      border-top-color: var(--fill-color);\n",
              "    }\n",
              "    30% {\n",
              "      border-color: transparent;\n",
              "      border-left-color: var(--fill-color);\n",
              "      border-top-color: var(--fill-color);\n",
              "      border-right-color: var(--fill-color);\n",
              "    }\n",
              "    40% {\n",
              "      border-color: transparent;\n",
              "      border-right-color: var(--fill-color);\n",
              "      border-top-color: var(--fill-color);\n",
              "    }\n",
              "    60% {\n",
              "      border-color: transparent;\n",
              "      border-right-color: var(--fill-color);\n",
              "    }\n",
              "    80% {\n",
              "      border-color: transparent;\n",
              "      border-right-color: var(--fill-color);\n",
              "      border-bottom-color: var(--fill-color);\n",
              "    }\n",
              "    90% {\n",
              "      border-color: transparent;\n",
              "      border-bottom-color: var(--fill-color);\n",
              "    }\n",
              "  }\n",
              "</style>\n",
              "\n",
              "  <script>\n",
              "    async function quickchart(key) {\n",
              "      const quickchartButtonEl =\n",
              "        document.querySelector('#' + key + ' button');\n",
              "      quickchartButtonEl.disabled = true;  // To prevent multiple clicks.\n",
              "      quickchartButtonEl.classList.add('colab-df-spinner');\n",
              "      try {\n",
              "        const charts = await google.colab.kernel.invokeFunction(\n",
              "            'suggestCharts', [key], {});\n",
              "      } catch (error) {\n",
              "        console.error('Error during call to suggestCharts:', error);\n",
              "      }\n",
              "      quickchartButtonEl.classList.remove('colab-df-spinner');\n",
              "      quickchartButtonEl.classList.add('colab-df-quickchart-complete');\n",
              "    }\n",
              "    (() => {\n",
              "      let quickchartButtonEl =\n",
              "        document.querySelector('#df-233e6410-3b79-4d13-bc5e-f0b03fce245c button');\n",
              "      quickchartButtonEl.style.display =\n",
              "        google.colab.kernel.accessAllowed ? 'block' : 'none';\n",
              "    })();\n",
              "  </script>\n",
              "</div>\n",
              "\n",
              "  <div id=\"id_a0a8710d-7a4c-4bc4-83e7-7db43c4c1a26\">\n",
              "    <style>\n",
              "      .colab-df-generate {\n",
              "        background-color: #E8F0FE;\n",
              "        border: none;\n",
              "        border-radius: 50%;\n",
              "        cursor: pointer;\n",
              "        display: none;\n",
              "        fill: #1967D2;\n",
              "        height: 32px;\n",
              "        padding: 0 0 0 0;\n",
              "        width: 32px;\n",
              "      }\n",
              "\n",
              "      .colab-df-generate:hover {\n",
              "        background-color: #E2EBFA;\n",
              "        box-shadow: 0px 1px 2px rgba(60, 64, 67, 0.3), 0px 1px 3px 1px rgba(60, 64, 67, 0.15);\n",
              "        fill: #174EA6;\n",
              "      }\n",
              "\n",
              "      [theme=dark] .colab-df-generate {\n",
              "        background-color: #3B4455;\n",
              "        fill: #D2E3FC;\n",
              "      }\n",
              "\n",
              "      [theme=dark] .colab-df-generate:hover {\n",
              "        background-color: #434B5C;\n",
              "        box-shadow: 0px 1px 3px 1px rgba(0, 0, 0, 0.15);\n",
              "        filter: drop-shadow(0px 1px 2px rgba(0, 0, 0, 0.3));\n",
              "        fill: #FFFFFF;\n",
              "      }\n",
              "    </style>\n",
              "    <button class=\"colab-df-generate\" onclick=\"generateWithVariable('bb_pred')\"\n",
              "            title=\"Generate code using this dataframe.\"\n",
              "            style=\"display:none;\">\n",
              "\n",
              "  <svg xmlns=\"http://www.w3.org/2000/svg\" height=\"24px\"viewBox=\"0 0 24 24\"\n",
              "       width=\"24px\">\n",
              "    <path d=\"M7,19H8.4L18.45,9,17,7.55,7,17.6ZM5,21V16.75L18.45,3.32a2,2,0,0,1,2.83,0l1.4,1.43a1.91,1.91,0,0,1,.58,1.4,1.91,1.91,0,0,1-.58,1.4L9.25,21ZM18.45,9,17,7.55Zm-12,3A5.31,5.31,0,0,0,4.9,8.1,5.31,5.31,0,0,0,1,6.5,5.31,5.31,0,0,0,4.9,4.9,5.31,5.31,0,0,0,6.5,1,5.31,5.31,0,0,0,8.1,4.9,5.31,5.31,0,0,0,12,6.5,5.46,5.46,0,0,0,6.5,12Z\"/>\n",
              "  </svg>\n",
              "    </button>\n",
              "    <script>\n",
              "      (() => {\n",
              "      const buttonEl =\n",
              "        document.querySelector('#id_a0a8710d-7a4c-4bc4-83e7-7db43c4c1a26 button.colab-df-generate');\n",
              "      buttonEl.style.display =\n",
              "        google.colab.kernel.accessAllowed ? 'block' : 'none';\n",
              "\n",
              "      buttonEl.onclick = () => {\n",
              "        google.colab.notebook.generateWithVariable('bb_pred');\n",
              "      }\n",
              "      })();\n",
              "    </script>\n",
              "  </div>\n",
              "\n",
              "    </div>\n",
              "  </div>\n"
            ],
            "application/vnd.google.colaboratory.intrinsic+json": {
              "type": "dataframe",
              "variable_name": "bb_pred",
              "summary": "{\n  \"name\": \"bb_pred\",\n  \"rows\": 1250,\n  \"fields\": [\n    {\n      \"column\": \"Prediction\",\n      \"properties\": {\n        \"dtype\": \"number\",\n        \"std\": 0,\n        \"min\": 0,\n        \"max\": 1,\n        \"num_unique_values\": 2,\n        \"samples\": [\n          1,\n          0\n        ],\n        \"semantic_type\": \"\",\n        \"description\": \"\"\n      }\n    },\n    {\n      \"column\": \"bbPresence\",\n      \"properties\": {\n        \"dtype\": \"number\",\n        \"std\": 0,\n        \"min\": 0,\n        \"max\": 1,\n        \"num_unique_values\": 2,\n        \"samples\": [\n          1,\n          0\n        ],\n        \"semantic_type\": \"\",\n        \"description\": \"\"\n      }\n    }\n  ]\n}"
            }
          },
          "metadata": {},
          "execution_count": 57
        }
      ],
      "execution_count": null
    },
    {
      "cell_type": "markdown",
      "id": "87e14a9d",
      "metadata": {
        "id": "87e14a9d"
      },
      "source": [
        "__Finally, create a new column in the joined dataframe indicating whether the two label values match.__"
      ]
    },
    {
      "cell_type": "code",
      "id": "55f274d7",
      "metadata": {
        "id": "55f274d7"
      },
      "source": [
        "bb_pred['match']=None #add an empty column"
      ],
      "outputs": [],
      "execution_count": null
    },
    {
      "cell_type": "code",
      "id": "55e7fc5b",
      "metadata": {
        "id": "55e7fc5b"
      },
      "source": [
        "bb_pred['match'] = np.where(bb_pred['Prediction'] == bb_pred['bbPresence'], True, False)"
      ],
      "outputs": [],
      "execution_count": null
    },
    {
      "cell_type": "code",
      "id": "3f3479ca",
      "metadata": {
        "colab": {
          "base_uri": "https://localhost:8080/",
          "height": 424
        },
        "id": "3f3479ca",
        "outputId": "c0a079b2-2816-4afd-974b-ceb723e5f041"
      },
      "source": [
        "bb_pred"
      ],
      "outputs": [
        {
          "output_type": "execute_result",
          "data": {
            "text/plain": [
              "      Prediction  bbPresence  match\n",
              "0              0           0   True\n",
              "1              0           0   True\n",
              "2              0           0   True\n",
              "3              1           1   True\n",
              "4              0           0   True\n",
              "...          ...         ...    ...\n",
              "1245           0           0   True\n",
              "1246           1           0  False\n",
              "1247           1           0  False\n",
              "1248           0           0   True\n",
              "1249           1           1   True\n",
              "\n",
              "[1250 rows x 3 columns]"
            ],
            "text/html": [
              "\n",
              "  <div id=\"df-9b1a0779-610c-4e71-a7ef-aee1d8ff5785\" class=\"colab-df-container\">\n",
              "    <div>\n",
              "<style scoped>\n",
              "    .dataframe tbody tr th:only-of-type {\n",
              "        vertical-align: middle;\n",
              "    }\n",
              "\n",
              "    .dataframe tbody tr th {\n",
              "        vertical-align: top;\n",
              "    }\n",
              "\n",
              "    .dataframe thead th {\n",
              "        text-align: right;\n",
              "    }\n",
              "</style>\n",
              "<table border=\"1\" class=\"dataframe\">\n",
              "  <thead>\n",
              "    <tr style=\"text-align: right;\">\n",
              "      <th></th>\n",
              "      <th>Prediction</th>\n",
              "      <th>bbPresence</th>\n",
              "      <th>match</th>\n",
              "    </tr>\n",
              "  </thead>\n",
              "  <tbody>\n",
              "    <tr>\n",
              "      <th>0</th>\n",
              "      <td>0</td>\n",
              "      <td>0</td>\n",
              "      <td>True</td>\n",
              "    </tr>\n",
              "    <tr>\n",
              "      <th>1</th>\n",
              "      <td>0</td>\n",
              "      <td>0</td>\n",
              "      <td>True</td>\n",
              "    </tr>\n",
              "    <tr>\n",
              "      <th>2</th>\n",
              "      <td>0</td>\n",
              "      <td>0</td>\n",
              "      <td>True</td>\n",
              "    </tr>\n",
              "    <tr>\n",
              "      <th>3</th>\n",
              "      <td>1</td>\n",
              "      <td>1</td>\n",
              "      <td>True</td>\n",
              "    </tr>\n",
              "    <tr>\n",
              "      <th>4</th>\n",
              "      <td>0</td>\n",
              "      <td>0</td>\n",
              "      <td>True</td>\n",
              "    </tr>\n",
              "    <tr>\n",
              "      <th>...</th>\n",
              "      <td>...</td>\n",
              "      <td>...</td>\n",
              "      <td>...</td>\n",
              "    </tr>\n",
              "    <tr>\n",
              "      <th>1245</th>\n",
              "      <td>0</td>\n",
              "      <td>0</td>\n",
              "      <td>True</td>\n",
              "    </tr>\n",
              "    <tr>\n",
              "      <th>1246</th>\n",
              "      <td>1</td>\n",
              "      <td>0</td>\n",
              "      <td>False</td>\n",
              "    </tr>\n",
              "    <tr>\n",
              "      <th>1247</th>\n",
              "      <td>1</td>\n",
              "      <td>0</td>\n",
              "      <td>False</td>\n",
              "    </tr>\n",
              "    <tr>\n",
              "      <th>1248</th>\n",
              "      <td>0</td>\n",
              "      <td>0</td>\n",
              "      <td>True</td>\n",
              "    </tr>\n",
              "    <tr>\n",
              "      <th>1249</th>\n",
              "      <td>1</td>\n",
              "      <td>1</td>\n",
              "      <td>True</td>\n",
              "    </tr>\n",
              "  </tbody>\n",
              "</table>\n",
              "<p>1250 rows × 3 columns</p>\n",
              "</div>\n",
              "    <div class=\"colab-df-buttons\">\n",
              "\n",
              "  <div class=\"colab-df-container\">\n",
              "    <button class=\"colab-df-convert\" onclick=\"convertToInteractive('df-9b1a0779-610c-4e71-a7ef-aee1d8ff5785')\"\n",
              "            title=\"Convert this dataframe to an interactive table.\"\n",
              "            style=\"display:none;\">\n",
              "\n",
              "  <svg xmlns=\"http://www.w3.org/2000/svg\" height=\"24px\" viewBox=\"0 -960 960 960\">\n",
              "    <path d=\"M120-120v-720h720v720H120Zm60-500h600v-160H180v160Zm220 220h160v-160H400v160Zm0 220h160v-160H400v160ZM180-400h160v-160H180v160Zm440 0h160v-160H620v160ZM180-180h160v-160H180v160Zm440 0h160v-160H620v160Z\"/>\n",
              "  </svg>\n",
              "    </button>\n",
              "\n",
              "  <style>\n",
              "    .colab-df-container {\n",
              "      display:flex;\n",
              "      gap: 12px;\n",
              "    }\n",
              "\n",
              "    .colab-df-convert {\n",
              "      background-color: #E8F0FE;\n",
              "      border: none;\n",
              "      border-radius: 50%;\n",
              "      cursor: pointer;\n",
              "      display: none;\n",
              "      fill: #1967D2;\n",
              "      height: 32px;\n",
              "      padding: 0 0 0 0;\n",
              "      width: 32px;\n",
              "    }\n",
              "\n",
              "    .colab-df-convert:hover {\n",
              "      background-color: #E2EBFA;\n",
              "      box-shadow: 0px 1px 2px rgba(60, 64, 67, 0.3), 0px 1px 3px 1px rgba(60, 64, 67, 0.15);\n",
              "      fill: #174EA6;\n",
              "    }\n",
              "\n",
              "    .colab-df-buttons div {\n",
              "      margin-bottom: 4px;\n",
              "    }\n",
              "\n",
              "    [theme=dark] .colab-df-convert {\n",
              "      background-color: #3B4455;\n",
              "      fill: #D2E3FC;\n",
              "    }\n",
              "\n",
              "    [theme=dark] .colab-df-convert:hover {\n",
              "      background-color: #434B5C;\n",
              "      box-shadow: 0px 1px 3px 1px rgba(0, 0, 0, 0.15);\n",
              "      filter: drop-shadow(0px 1px 2px rgba(0, 0, 0, 0.3));\n",
              "      fill: #FFFFFF;\n",
              "    }\n",
              "  </style>\n",
              "\n",
              "    <script>\n",
              "      const buttonEl =\n",
              "        document.querySelector('#df-9b1a0779-610c-4e71-a7ef-aee1d8ff5785 button.colab-df-convert');\n",
              "      buttonEl.style.display =\n",
              "        google.colab.kernel.accessAllowed ? 'block' : 'none';\n",
              "\n",
              "      async function convertToInteractive(key) {\n",
              "        const element = document.querySelector('#df-9b1a0779-610c-4e71-a7ef-aee1d8ff5785');\n",
              "        const dataTable =\n",
              "          await google.colab.kernel.invokeFunction('convertToInteractive',\n",
              "                                                    [key], {});\n",
              "        if (!dataTable) return;\n",
              "\n",
              "        const docLinkHtml = 'Like what you see? Visit the ' +\n",
              "          '<a target=\"_blank\" href=https://colab.research.google.com/notebooks/data_table.ipynb>data table notebook</a>'\n",
              "          + ' to learn more about interactive tables.';\n",
              "        element.innerHTML = '';\n",
              "        dataTable['output_type'] = 'display_data';\n",
              "        await google.colab.output.renderOutput(dataTable, element);\n",
              "        const docLink = document.createElement('div');\n",
              "        docLink.innerHTML = docLinkHtml;\n",
              "        element.appendChild(docLink);\n",
              "      }\n",
              "    </script>\n",
              "  </div>\n",
              "\n",
              "\n",
              "<div id=\"df-117e7ff0-4f17-43de-9f28-ddf38a21bc55\">\n",
              "  <button class=\"colab-df-quickchart\" onclick=\"quickchart('df-117e7ff0-4f17-43de-9f28-ddf38a21bc55')\"\n",
              "            title=\"Suggest charts\"\n",
              "            style=\"display:none;\">\n",
              "\n",
              "<svg xmlns=\"http://www.w3.org/2000/svg\" height=\"24px\"viewBox=\"0 0 24 24\"\n",
              "     width=\"24px\">\n",
              "    <g>\n",
              "        <path d=\"M19 3H5c-1.1 0-2 .9-2 2v14c0 1.1.9 2 2 2h14c1.1 0 2-.9 2-2V5c0-1.1-.9-2-2-2zM9 17H7v-7h2v7zm4 0h-2V7h2v10zm4 0h-2v-4h2v4z\"/>\n",
              "    </g>\n",
              "</svg>\n",
              "  </button>\n",
              "\n",
              "<style>\n",
              "  .colab-df-quickchart {\n",
              "      --bg-color: #E8F0FE;\n",
              "      --fill-color: #1967D2;\n",
              "      --hover-bg-color: #E2EBFA;\n",
              "      --hover-fill-color: #174EA6;\n",
              "      --disabled-fill-color: #AAA;\n",
              "      --disabled-bg-color: #DDD;\n",
              "  }\n",
              "\n",
              "  [theme=dark] .colab-df-quickchart {\n",
              "      --bg-color: #3B4455;\n",
              "      --fill-color: #D2E3FC;\n",
              "      --hover-bg-color: #434B5C;\n",
              "      --hover-fill-color: #FFFFFF;\n",
              "      --disabled-bg-color: #3B4455;\n",
              "      --disabled-fill-color: #666;\n",
              "  }\n",
              "\n",
              "  .colab-df-quickchart {\n",
              "    background-color: var(--bg-color);\n",
              "    border: none;\n",
              "    border-radius: 50%;\n",
              "    cursor: pointer;\n",
              "    display: none;\n",
              "    fill: var(--fill-color);\n",
              "    height: 32px;\n",
              "    padding: 0;\n",
              "    width: 32px;\n",
              "  }\n",
              "\n",
              "  .colab-df-quickchart:hover {\n",
              "    background-color: var(--hover-bg-color);\n",
              "    box-shadow: 0 1px 2px rgba(60, 64, 67, 0.3), 0 1px 3px 1px rgba(60, 64, 67, 0.15);\n",
              "    fill: var(--button-hover-fill-color);\n",
              "  }\n",
              "\n",
              "  .colab-df-quickchart-complete:disabled,\n",
              "  .colab-df-quickchart-complete:disabled:hover {\n",
              "    background-color: var(--disabled-bg-color);\n",
              "    fill: var(--disabled-fill-color);\n",
              "    box-shadow: none;\n",
              "  }\n",
              "\n",
              "  .colab-df-spinner {\n",
              "    border: 2px solid var(--fill-color);\n",
              "    border-color: transparent;\n",
              "    border-bottom-color: var(--fill-color);\n",
              "    animation:\n",
              "      spin 1s steps(1) infinite;\n",
              "  }\n",
              "\n",
              "  @keyframes spin {\n",
              "    0% {\n",
              "      border-color: transparent;\n",
              "      border-bottom-color: var(--fill-color);\n",
              "      border-left-color: var(--fill-color);\n",
              "    }\n",
              "    20% {\n",
              "      border-color: transparent;\n",
              "      border-left-color: var(--fill-color);\n",
              "      border-top-color: var(--fill-color);\n",
              "    }\n",
              "    30% {\n",
              "      border-color: transparent;\n",
              "      border-left-color: var(--fill-color);\n",
              "      border-top-color: var(--fill-color);\n",
              "      border-right-color: var(--fill-color);\n",
              "    }\n",
              "    40% {\n",
              "      border-color: transparent;\n",
              "      border-right-color: var(--fill-color);\n",
              "      border-top-color: var(--fill-color);\n",
              "    }\n",
              "    60% {\n",
              "      border-color: transparent;\n",
              "      border-right-color: var(--fill-color);\n",
              "    }\n",
              "    80% {\n",
              "      border-color: transparent;\n",
              "      border-right-color: var(--fill-color);\n",
              "      border-bottom-color: var(--fill-color);\n",
              "    }\n",
              "    90% {\n",
              "      border-color: transparent;\n",
              "      border-bottom-color: var(--fill-color);\n",
              "    }\n",
              "  }\n",
              "</style>\n",
              "\n",
              "  <script>\n",
              "    async function quickchart(key) {\n",
              "      const quickchartButtonEl =\n",
              "        document.querySelector('#' + key + ' button');\n",
              "      quickchartButtonEl.disabled = true;  // To prevent multiple clicks.\n",
              "      quickchartButtonEl.classList.add('colab-df-spinner');\n",
              "      try {\n",
              "        const charts = await google.colab.kernel.invokeFunction(\n",
              "            'suggestCharts', [key], {});\n",
              "      } catch (error) {\n",
              "        console.error('Error during call to suggestCharts:', error);\n",
              "      }\n",
              "      quickchartButtonEl.classList.remove('colab-df-spinner');\n",
              "      quickchartButtonEl.classList.add('colab-df-quickchart-complete');\n",
              "    }\n",
              "    (() => {\n",
              "      let quickchartButtonEl =\n",
              "        document.querySelector('#df-117e7ff0-4f17-43de-9f28-ddf38a21bc55 button');\n",
              "      quickchartButtonEl.style.display =\n",
              "        google.colab.kernel.accessAllowed ? 'block' : 'none';\n",
              "    })();\n",
              "  </script>\n",
              "</div>\n",
              "\n",
              "  <div id=\"id_9972fb6f-a23e-413b-a3ed-8733e5d806fe\">\n",
              "    <style>\n",
              "      .colab-df-generate {\n",
              "        background-color: #E8F0FE;\n",
              "        border: none;\n",
              "        border-radius: 50%;\n",
              "        cursor: pointer;\n",
              "        display: none;\n",
              "        fill: #1967D2;\n",
              "        height: 32px;\n",
              "        padding: 0 0 0 0;\n",
              "        width: 32px;\n",
              "      }\n",
              "\n",
              "      .colab-df-generate:hover {\n",
              "        background-color: #E2EBFA;\n",
              "        box-shadow: 0px 1px 2px rgba(60, 64, 67, 0.3), 0px 1px 3px 1px rgba(60, 64, 67, 0.15);\n",
              "        fill: #174EA6;\n",
              "      }\n",
              "\n",
              "      [theme=dark] .colab-df-generate {\n",
              "        background-color: #3B4455;\n",
              "        fill: #D2E3FC;\n",
              "      }\n",
              "\n",
              "      [theme=dark] .colab-df-generate:hover {\n",
              "        background-color: #434B5C;\n",
              "        box-shadow: 0px 1px 3px 1px rgba(0, 0, 0, 0.15);\n",
              "        filter: drop-shadow(0px 1px 2px rgba(0, 0, 0, 0.3));\n",
              "        fill: #FFFFFF;\n",
              "      }\n",
              "    </style>\n",
              "    <button class=\"colab-df-generate\" onclick=\"generateWithVariable('bb_pred')\"\n",
              "            title=\"Generate code using this dataframe.\"\n",
              "            style=\"display:none;\">\n",
              "\n",
              "  <svg xmlns=\"http://www.w3.org/2000/svg\" height=\"24px\"viewBox=\"0 0 24 24\"\n",
              "       width=\"24px\">\n",
              "    <path d=\"M7,19H8.4L18.45,9,17,7.55,7,17.6ZM5,21V16.75L18.45,3.32a2,2,0,0,1,2.83,0l1.4,1.43a1.91,1.91,0,0,1,.58,1.4,1.91,1.91,0,0,1-.58,1.4L9.25,21ZM18.45,9,17,7.55Zm-12,3A5.31,5.31,0,0,0,4.9,8.1,5.31,5.31,0,0,0,1,6.5,5.31,5.31,0,0,0,4.9,4.9,5.31,5.31,0,0,0,6.5,1,5.31,5.31,0,0,0,8.1,4.9,5.31,5.31,0,0,0,12,6.5,5.46,5.46,0,0,0,6.5,12Z\"/>\n",
              "  </svg>\n",
              "    </button>\n",
              "    <script>\n",
              "      (() => {\n",
              "      const buttonEl =\n",
              "        document.querySelector('#id_9972fb6f-a23e-413b-a3ed-8733e5d806fe button.colab-df-generate');\n",
              "      buttonEl.style.display =\n",
              "        google.colab.kernel.accessAllowed ? 'block' : 'none';\n",
              "\n",
              "      buttonEl.onclick = () => {\n",
              "        google.colab.notebook.generateWithVariable('bb_pred');\n",
              "      }\n",
              "      })();\n",
              "    </script>\n",
              "  </div>\n",
              "\n",
              "    </div>\n",
              "  </div>\n"
            ],
            "application/vnd.google.colaboratory.intrinsic+json": {
              "type": "dataframe",
              "variable_name": "bb_pred",
              "summary": "{\n  \"name\": \"bb_pred\",\n  \"rows\": 1250,\n  \"fields\": [\n    {\n      \"column\": \"Prediction\",\n      \"properties\": {\n        \"dtype\": \"number\",\n        \"std\": 0,\n        \"min\": 0,\n        \"max\": 1,\n        \"num_unique_values\": 2,\n        \"samples\": [\n          1,\n          0\n        ],\n        \"semantic_type\": \"\",\n        \"description\": \"\"\n      }\n    },\n    {\n      \"column\": \"bbPresence\",\n      \"properties\": {\n        \"dtype\": \"number\",\n        \"std\": 0,\n        \"min\": 0,\n        \"max\": 1,\n        \"num_unique_values\": 2,\n        \"samples\": [\n          1,\n          0\n        ],\n        \"semantic_type\": \"\",\n        \"description\": \"\"\n      }\n    },\n    {\n      \"column\": \"match\",\n      \"properties\": {\n        \"dtype\": \"boolean\",\n        \"num_unique_values\": 2,\n        \"samples\": [\n          false,\n          true\n        ],\n        \"semantic_type\": \"\",\n        \"description\": \"\"\n      }\n    }\n  ]\n}"
            }
          },
          "metadata": {},
          "execution_count": 60
        }
      ],
      "execution_count": null
    },
    {
      "cell_type": "code",
      "id": "ad401277",
      "metadata": {
        "colab": {
          "base_uri": "https://localhost:8080/"
        },
        "id": "ad401277",
        "outputId": "c865c580-c877-4579-ea01-4ab43f11debb"
      },
      "source": [
        "#check the proportion that are True\n",
        "len(bb_pred.loc[bb_pred.match==True])/len(bb_pred)"
      ],
      "outputs": [
        {
          "output_type": "execute_result",
          "data": {
            "text/plain": [
              "0.8928"
            ]
          },
          "metadata": {},
          "execution_count": 61
        }
      ],
      "execution_count": null
    },
    {
      "cell_type": "markdown",
      "id": "cdf91f7a",
      "metadata": {
        "id": "cdf91f7a"
      },
      "source": [
        "This should match the prediction score we calculated earlier."
      ]
    },
    {
      "cell_type": "markdown",
      "id": "d25450a3",
      "metadata": {
        "id": "d25450a3"
      },
      "source": [
        "Another useful set of tools are found in the `scikit` `metrics` library. This toolkit provides a range of measures relating to the predictive power of your classifier.\n",
        "\n",
        "A nice and simple exploratory tool is a confusion matrix. This describes the the extents to which each class was correctly and incorrectly classified. It is generated using the `.confusion_matrix()` method, which takes the correct and predicted results. These can then be nicely visualised using the `matplotlib` matrix plotting functions.\n",
        "\n",
        "__First, create the matrix and inspect it - what do you observe?__"
      ]
    },
    {
      "cell_type": "code",
      "id": "a2945126",
      "metadata": {
        "id": "a2945126"
      },
      "source": [
        "from sklearn import metrics\n",
        "confusion_matrix = metrics.confusion_matrix(test_lab, predictions)"
      ],
      "outputs": [],
      "execution_count": null
    },
    {
      "cell_type": "markdown",
      "id": "a4571928",
      "metadata": {
        "id": "a4571928"
      },
      "source": [
        "**Now, create the confusion matrix. Does this seem clearer? Where is the majority of the error in the classification?** You can read more about the confusion matrix [here](http://scikit-learn.org/stable/modules/model_evaluation.html#confusion-matrix)"
      ]
    },
    {
      "cell_type": "code",
      "id": "af387040",
      "metadata": {
        "colab": {
          "base_uri": "https://localhost:8080/",
          "height": 417
        },
        "id": "af387040",
        "outputId": "7446b932-89c6-4283-8d72-9ac590d8fc00"
      },
      "source": [
        "plt.matshow(confusion_matrix)\n",
        "plt.title('Confusion matrix')\n",
        "plt.colorbar()\n",
        "plt.ylabel('True label')\n",
        "plt.xlabel('Predicted label')\n",
        "plt.show()"
      ],
      "outputs": [
        {
          "output_type": "display_data",
          "data": {
            "text/plain": [
              "<Figure size 480x480 with 2 Axes>"
            ],
            "image/png": "[encoded data removed]"
          },
          "metadata": {}
        }
      ],
      "execution_count": null
    },
    {
      "cell_type": "markdown",
      "id": "ae389dbe",
      "metadata": {
        "id": "ae389dbe"
      },
      "source": [
        "While these measures above provide an overview of the classifier quality, other measures made available in the `metrics` toolset enable a more detailed understanding. Many of the most important measures can be extracted using the `classification_report()` method, which again takes correct labels and compares them against the classifier predictions.\n",
        "\n",
        "These metrics, called `precision`, `recall` and `f1`, all measure how well a classifier does in predicting each class relative to how often it is incorrect. As such, it allows us to identify the prediction classes where it performs well and where it performs poorly.\n",
        "\n",
        "**Before executing the code below, look at the [documentation](http://scikit-learn.org/stable/modules/model_evaluation.html#the-scoring-parameter-defining-model-evaluation-rules) here to gain a little understanding of these measures**"
      ]
    },
    {
      "cell_type": "code",
      "id": "0eb8d625",
      "metadata": {
        "colab": {
          "base_uri": "https://localhost:8080/"
        },
        "id": "0eb8d625",
        "outputId": "186e07ba-5264-4f63-d6ef-192f55327fe2"
      },
      "source": [
        "print(metrics.classification_report(test_lab, predictions, zero_division = 0))"
      ],
      "outputs": [
        {
          "output_type": "stream",
          "name": "stdout",
          "text": [
            "              precision    recall  f1-score   support\n",
            "\n",
            "           0       0.78      0.80      0.79       747\n",
            "           1       0.69      0.66      0.68       503\n",
            "\n",
            "    accuracy                           0.74      1250\n",
            "   macro avg       0.73      0.73      0.73      1250\n",
            "weighted avg       0.74      0.74      0.74      1250\n",
            "\n"
          ]
        }
      ],
      "execution_count": null
    },
    {
      "cell_type": "markdown",
      "id": "eb86dea2",
      "metadata": {
        "id": "eb86dea2"
      },
      "source": [
        "We are pleased to see that each this simple classifier performs very well. Why?\n",
        "\n",
        "**Often more meaningful features are more useful than more powerful models (classifiers)!**\n",
        "\n",
        "This is why engineering and learning meaningful features has been persistent endeavours in many machine learning domains. With effective features, even simple predictors (classifiers) can work surprisingly well."
      ]
    },
    {
      "cell_type": "markdown",
      "id": "18860512",
      "metadata": {
        "id": "18860512"
      },
      "source": [
        "<BR><BR><BR>\n",
        "## Decision Trees"
      ]
    },
    {
      "cell_type": "markdown",
      "id": "152b5d0a",
      "metadata": {
        "id": "152b5d0a"
      },
      "source": [
        "The first method you should try yourself is the Decision Tree.\n",
        "\n",
        "The Decision Tree does not (necessarily) require any parameters when being setup so is quite easy to implement, just follow the same method and syntax used above. In this case, however, you'll be working with  `DecisionTreeClassifier` rather than `KNeighborsClassifier`.\n",
        "\n",
        "Before you start, check the [documentation](http://scikit-learn.org/stable/modules/tree.html#classification) here.\n",
        "\n",
        "**Now create a Decision Tree classifier for the same scenario and datasets used earlier** (you don't need to recreate the datasets, they are good to go already). We've given you the library import code below to get you started."
      ]
    },
    {
      "cell_type": "code",
      "id": "9991eecb",
      "metadata": {
        "id": "9991eecb"
      },
      "source": [
        "from sklearn.tree import DecisionTreeClassifier"
      ],
      "outputs": [],
      "execution_count": null
    },
    {
      "cell_type": "code",
      "id": "0342d5fe",
      "metadata": {
        "colab": {
          "base_uri": "https://localhost:8080/",
          "height": 80
        },
        "id": "0342d5fe",
        "outputId": "a7342a5b-d47e-4acc-ee5f-02de7e384707"
      },
      "source": [
        "tree = DecisionTreeClassifier()\n",
        "tree.fit(train_data, train_lab) #add the data to use"
      ],
      "outputs": [
        {
          "output_type": "execute_result",
          "data": {
            "text/plain": [
              "DecisionTreeClassifier()"
            ],
            "text/html": [
              "<style>#sk-container-id-8 {\n",
              "  /* Definition of color scheme common for light and dark mode */\n",
              "  --sklearn-color-text: black;\n",
              "  --sklearn-color-line: gray;\n",
              "  /* Definition of color scheme for unfitted estimators */\n",
              "  --sklearn-color-unfitted-level-0: #fff5e6;\n",
              "  --sklearn-color-unfitted-level-1: #f6e4d2;\n",
              "  --sklearn-color-unfitted-level-2: #ffe0b3;\n",
              "  --sklearn-color-unfitted-level-3: chocolate;\n",
              "  /* Definition of color scheme for fitted estimators */\n",
              "  --sklearn-color-fitted-level-0: #f0f8ff;\n",
              "  --sklearn-color-fitted-level-1: #d4ebff;\n",
              "  --sklearn-color-fitted-level-2: #b3dbfd;\n",
              "  --sklearn-color-fitted-level-3: cornflowerblue;\n",
              "\n",
              "  /* Specific color for light theme */\n",
              "  --sklearn-color-text-on-default-background: var(--sg-text-color, var(--theme-code-foreground, var(--jp-content-font-color1, black)));\n",
              "  --sklearn-color-background: var(--sg-background-color, var(--theme-background, var(--jp-layout-color0, white)));\n",
              "  --sklearn-color-border-box: var(--sg-text-color, var(--theme-code-foreground, var(--jp-content-font-color1, black)));\n",
              "  --sklearn-color-icon: #696969;\n",
              "\n",
              "  @media (prefers-color-scheme: dark) {\n",
              "    /* Redefinition of color scheme for dark theme */\n",
              "    --sklearn-color-text-on-default-background: var(--sg-text-color, var(--theme-code-foreground, var(--jp-content-font-color1, white)));\n",
              "    --sklearn-color-background: var(--sg-background-color, var(--theme-background, var(--jp-layout-color0, #111)));\n",
              "    --sklearn-color-border-box: var(--sg-text-color, var(--theme-code-foreground, var(--jp-content-font-color1, white)));\n",
              "    --sklearn-color-icon: #878787;\n",
              "  }\n",
              "}\n",
              "\n",
              "#sk-container-id-8 {\n",
              "  color: var(--sklearn-color-text);\n",
              "}\n",
              "\n",
              "#sk-container-id-8 pre {\n",
              "  padding: 0;\n",
              "}\n",
              "\n",
              "#sk-container-id-8 input.sk-hidden--visually {\n",
              "  border: 0;\n",
              "  clip: rect(1px 1px 1px 1px);\n",
              "  clip: rect(1px, 1px, 1px, 1px);\n",
              "  height: 1px;\n",
              "  margin: -1px;\n",
              "  overflow: hidden;\n",
              "  padding: 0;\n",
              "  position: absolute;\n",
              "  width: 1px;\n",
              "}\n",
              "\n",
              "#sk-container-id-8 div.sk-dashed-wrapped {\n",
              "  border: 1px dashed var(--sklearn-color-line);\n",
              "  margin: 0 0.4em 0.5em 0.4em;\n",
              "  box-sizing: border-box;\n",
              "  padding-bottom: 0.4em;\n",
              "  background-color: var(--sklearn-color-background);\n",
              "}\n",
              "\n",
              "#sk-container-id-8 div.sk-container {\n",
              "  /* jupyter's `normalize.less` sets `[hidden] { display: none; }`\n",
              "     but bootstrap.min.css set `[hidden] { display: none !important; }`\n",
              "     so we also need the `!important` here to be able to override the\n",
              "     default hidden behavior on the sphinx rendered scikit-learn.org.\n",
              "     See: https://github.com/scikit-learn/scikit-learn/issues/21755 */\n",
              "  display: inline-block !important;\n",
              "  position: relative;\n",
              "}\n",
              "\n",
              "#sk-container-id-8 div.sk-text-repr-fallback {\n",
              "  display: none;\n",
              "}\n",
              "\n",
              "div.sk-parallel-item,\n",
              "div.sk-serial,\n",
              "div.sk-item {\n",
              "  /* draw centered vertical line to link estimators */\n",
              "  background-image: linear-gradient(var(--sklearn-color-text-on-default-background), var(--sklearn-color-text-on-default-background));\n",
              "  background-size: 2px 100%;\n",
              "  background-repeat: no-repeat;\n",
              "  background-position: center center;\n",
              "}\n",
              "\n",
              "/* Parallel-specific style estimator block */\n",
              "\n",
              "#sk-container-id-8 div.sk-parallel-item::after {\n",
              "  content: \"\";\n",
              "  width: 100%;\n",
              "  border-bottom: 2px solid var(--sklearn-color-text-on-default-background);\n",
              "  flex-grow: 1;\n",
              "}\n",
              "\n",
              "#sk-container-id-8 div.sk-parallel {\n",
              "  display: flex;\n",
              "  align-items: stretch;\n",
              "  justify-content: center;\n",
              "  background-color: var(--sklearn-color-background);\n",
              "  position: relative;\n",
              "}\n",
              "\n",
              "#sk-container-id-8 div.sk-parallel-item {\n",
              "  display: flex;\n",
              "  flex-direction: column;\n",
              "}\n",
              "\n",
              "#sk-container-id-8 div.sk-parallel-item:first-child::after {\n",
              "  align-self: flex-end;\n",
              "  width: 50%;\n",
              "}\n",
              "\n",
              "#sk-container-id-8 div.sk-parallel-item:last-child::after {\n",
              "  align-self: flex-start;\n",
              "  width: 50%;\n",
              "}\n",
              "\n",
              "#sk-container-id-8 div.sk-parallel-item:only-child::after {\n",
              "  width: 0;\n",
              "}\n",
              "\n",
              "/* Serial-specific style estimator block */\n",
              "\n",
              "#sk-container-id-8 div.sk-serial {\n",
              "  display: flex;\n",
              "  flex-direction: column;\n",
              "  align-items: center;\n",
              "  background-color: var(--sklearn-color-background);\n",
              "  padding-right: 1em;\n",
              "  padding-left: 1em;\n",
              "}\n",
              "\n",
              "\n",
              "/* Toggleable style: style used for estimator/Pipeline/ColumnTransformer box that is\n",
              "clickable and can be expanded/collapsed.\n",
              "- Pipeline and ColumnTransformer use this feature and define the default style\n",
              "- Estimators will overwrite some part of the style using the `sk-estimator` class\n",
              "*/\n",
              "\n",
              "/* Pipeline and ColumnTransformer style (default) */\n",
              "\n",
              "#sk-container-id-8 div.sk-toggleable {\n",
              "  /* Default theme specific background. It is overwritten whether we have a\n",
              "  specific estimator or a Pipeline/ColumnTransformer */\n",
              "  background-color: var(--sklearn-color-background);\n",
              "}\n",
              "\n",
              "/* Toggleable label */\n",
              "#sk-container-id-8 label.sk-toggleable__label {\n",
              "  cursor: pointer;\n",
              "  display: block;\n",
              "  width: 100%;\n",
              "  margin-bottom: 0;\n",
              "  padding: 0.5em;\n",
              "  box-sizing: border-box;\n",
              "  text-align: center;\n",
              "}\n",
              "\n",
              "#sk-container-id-8 label.sk-toggleable__label-arrow:before {\n",
              "  /* Arrow on the left of the label */\n",
              "  content: \"▸\";\n",
              "  float: left;\n",
              "  margin-right: 0.25em;\n",
              "  color: var(--sklearn-color-icon);\n",
              "}\n",
              "\n",
              "#sk-container-id-8 label.sk-toggleable__label-arrow:hover:before {\n",
              "  color: var(--sklearn-color-text);\n",
              "}\n",
              "\n",
              "/* Toggleable content - dropdown */\n",
              "\n",
              "#sk-container-id-8 div.sk-toggleable__content {\n",
              "  max-height: 0;\n",
              "  max-width: 0;\n",
              "  overflow: hidden;\n",
              "  text-align: left;\n",
              "  /* unfitted */\n",
              "  background-color: var(--sklearn-color-unfitted-level-0);\n",
              "}\n",
              "\n",
              "#sk-container-id-8 div.sk-toggleable__content.fitted {\n",
              "  /* fitted */\n",
              "  background-color: var(--sklearn-color-fitted-level-0);\n",
              "}\n",
              "\n",
              "#sk-container-id-8 div.sk-toggleable__content pre {\n",
              "  margin: 0.2em;\n",
              "  border-radius: 0.25em;\n",
              "  color: var(--sklearn-color-text);\n",
              "  /* unfitted */\n",
              "  background-color: var(--sklearn-color-unfitted-level-0);\n",
              "}\n",
              "\n",
              "#sk-container-id-8 div.sk-toggleable__content.fitted pre {\n",
              "  /* unfitted */\n",
              "  background-color: var(--sklearn-color-fitted-level-0);\n",
              "}\n",
              "\n",
              "#sk-container-id-8 input.sk-toggleable__control:checked~div.sk-toggleable__content {\n",
              "  /* Expand drop-down */\n",
              "  max-height: 200px;\n",
              "  max-width: 100%;\n",
              "  overflow: auto;\n",
              "}\n",
              "\n",
              "#sk-container-id-8 input.sk-toggleable__control:checked~label.sk-toggleable__label-arrow:before {\n",
              "  content: \"▾\";\n",
              "}\n",
              "\n",
              "/* Pipeline/ColumnTransformer-specific style */\n",
              "\n",
              "#sk-container-id-8 div.sk-label input.sk-toggleable__control:checked~label.sk-toggleable__label {\n",
              "  color: var(--sklearn-color-text);\n",
              "  background-color: var(--sklearn-color-unfitted-level-2);\n",
              "}\n",
              "\n",
              "#sk-container-id-8 div.sk-label.fitted input.sk-toggleable__control:checked~label.sk-toggleable__label {\n",
              "  background-color: var(--sklearn-color-fitted-level-2);\n",
              "}\n",
              "\n",
              "/* Estimator-specific style */\n",
              "\n",
              "/* Colorize estimator box */\n",
              "#sk-container-id-8 div.sk-estimator input.sk-toggleable__control:checked~label.sk-toggleable__label {\n",
              "  /* unfitted */\n",
              "  background-color: var(--sklearn-color-unfitted-level-2);\n",
              "}\n",
              "\n",
              "#sk-container-id-8 div.sk-estimator.fitted input.sk-toggleable__control:checked~label.sk-toggleable__label {\n",
              "  /* fitted */\n",
              "  background-color: var(--sklearn-color-fitted-level-2);\n",
              "}\n",
              "\n",
              "#sk-container-id-8 div.sk-label label.sk-toggleable__label,\n",
              "#sk-container-id-8 div.sk-label label {\n",
              "  /* The background is the default theme color */\n",
              "  color: var(--sklearn-color-text-on-default-background);\n",
              "}\n",
              "\n",
              "/* On hover, darken the color of the background */\n",
              "#sk-container-id-8 div.sk-label:hover label.sk-toggleable__label {\n",
              "  color: var(--sklearn-color-text);\n",
              "  background-color: var(--sklearn-color-unfitted-level-2);\n",
              "}\n",
              "\n",
              "/* Label box, darken color on hover, fitted */\n",
              "#sk-container-id-8 div.sk-label.fitted:hover label.sk-toggleable__label.fitted {\n",
              "  color: var(--sklearn-color-text);\n",
              "  background-color: var(--sklearn-color-fitted-level-2);\n",
              "}\n",
              "\n",
              "/* Estimator label */\n",
              "\n",
              "#sk-container-id-8 div.sk-label label {\n",
              "  font-family: monospace;\n",
              "  font-weight: bold;\n",
              "  display: inline-block;\n",
              "  line-height: 1.2em;\n",
              "}\n",
              "\n",
              "#sk-container-id-8 div.sk-label-container {\n",
              "  text-align: center;\n",
              "}\n",
              "\n",
              "/* Estimator-specific */\n",
              "#sk-container-id-8 div.sk-estimator {\n",
              "  font-family: monospace;\n",
              "  border: 1px dotted var(--sklearn-color-border-box);\n",
              "  border-radius: 0.25em;\n",
              "  box-sizing: border-box;\n",
              "  margin-bottom: 0.5em;\n",
              "  /* unfitted */\n",
              "  background-color: var(--sklearn-color-unfitted-level-0);\n",
              "}\n",
              "\n",
              "#sk-container-id-8 div.sk-estimator.fitted {\n",
              "  /* fitted */\n",
              "  background-color: var(--sklearn-color-fitted-level-0);\n",
              "}\n",
              "\n",
              "/* on hover */\n",
              "#sk-container-id-8 div.sk-estimator:hover {\n",
              "  /* unfitted */\n",
              "  background-color: var(--sklearn-color-unfitted-level-2);\n",
              "}\n",
              "\n",
              "#sk-container-id-8 div.sk-estimator.fitted:hover {\n",
              "  /* fitted */\n",
              "  background-color: var(--sklearn-color-fitted-level-2);\n",
              "}\n",
              "\n",
              "/* Specification for estimator info (e.g. \"i\" and \"?\") */\n",
              "\n",
              "/* Common style for \"i\" and \"?\" */\n",
              "\n",
              ".sk-estimator-doc-link,\n",
              "a:link.sk-estimator-doc-link,\n",
              "a:visited.sk-estimator-doc-link {\n",
              "  float: right;\n",
              "  font-size: smaller;\n",
              "  line-height: 1em;\n",
              "  font-family: monospace;\n",
              "  background-color: var(--sklearn-color-background);\n",
              "  border-radius: 1em;\n",
              "  height: 1em;\n",
              "  width: 1em;\n",
              "  text-decoration: none !important;\n",
              "  margin-left: 1ex;\n",
              "  /* unfitted */\n",
              "  border: var(--sklearn-color-unfitted-level-1) 1pt solid;\n",
              "  color: var(--sklearn-color-unfitted-level-1);\n",
              "}\n",
              "\n",
              ".sk-estimator-doc-link.fitted,\n",
              "a:link.sk-estimator-doc-link.fitted,\n",
              "a:visited.sk-estimator-doc-link.fitted {\n",
              "  /* fitted */\n",
              "  border: var(--sklearn-color-fitted-level-1) 1pt solid;\n",
              "  color: var(--sklearn-color-fitted-level-1);\n",
              "}\n",
              "\n",
              "/* On hover */\n",
              "div.sk-estimator:hover .sk-estimator-doc-link:hover,\n",
              ".sk-estimator-doc-link:hover,\n",
              "div.sk-label-container:hover .sk-estimator-doc-link:hover,\n",
              ".sk-estimator-doc-link:hover {\n",
              "  /* unfitted */\n",
              "  background-color: var(--sklearn-color-unfitted-level-3);\n",
              "  color: var(--sklearn-color-background);\n",
              "  text-decoration: none;\n",
              "}\n",
              "\n",
              "div.sk-estimator.fitted:hover .sk-estimator-doc-link.fitted:hover,\n",
              ".sk-estimator-doc-link.fitted:hover,\n",
              "div.sk-label-container:hover .sk-estimator-doc-link.fitted:hover,\n",
              ".sk-estimator-doc-link.fitted:hover {\n",
              "  /* fitted */\n",
              "  background-color: var(--sklearn-color-fitted-level-3);\n",
              "  color: var(--sklearn-color-background);\n",
              "  text-decoration: none;\n",
              "}\n",
              "\n",
              "/* Span, style for the box shown on hovering the info icon */\n",
              ".sk-estimator-doc-link span {\n",
              "  display: none;\n",
              "  z-index: 9999;\n",
              "  position: relative;\n",
              "  font-weight: normal;\n",
              "  right: .2ex;\n",
              "  padding: .5ex;\n",
              "  margin: .5ex;\n",
              "  width: min-content;\n",
              "  min-width: 20ex;\n",
              "  max-width: 50ex;\n",
              "  color: var(--sklearn-color-text);\n",
              "  box-shadow: 2pt 2pt 4pt #999;\n",
              "  /* unfitted */\n",
              "  background: var(--sklearn-color-unfitted-level-0);\n",
              "  border: .5pt solid var(--sklearn-color-unfitted-level-3);\n",
              "}\n",
              "\n",
              ".sk-estimator-doc-link.fitted span {\n",
              "  /* fitted */\n",
              "  background: var(--sklearn-color-fitted-level-0);\n",
              "  border: var(--sklearn-color-fitted-level-3);\n",
              "}\n",
              "\n",
              ".sk-estimator-doc-link:hover span {\n",
              "  display: block;\n",
              "}\n",
              "\n",
              "/* \"?\"-specific style due to the `<a>` HTML tag */\n",
              "\n",
              "#sk-container-id-8 a.estimator_doc_link {\n",
              "  float: right;\n",
              "  font-size: 1rem;\n",
              "  line-height: 1em;\n",
              "  font-family: monospace;\n",
              "  background-color: var(--sklearn-color-background);\n",
              "  border-radius: 1rem;\n",
              "  height: 1rem;\n",
              "  width: 1rem;\n",
              "  text-decoration: none;\n",
              "  /* unfitted */\n",
              "  color: var(--sklearn-color-unfitted-level-1);\n",
              "  border: var(--sklearn-color-unfitted-level-1) 1pt solid;\n",
              "}\n",
              "\n",
              "#sk-container-id-8 a.estimator_doc_link.fitted {\n",
              "  /* fitted */\n",
              "  border: var(--sklearn-color-fitted-level-1) 1pt solid;\n",
              "  color: var(--sklearn-color-fitted-level-1);\n",
              "}\n",
              "\n",
              "/* On hover */\n",
              "#sk-container-id-8 a.estimator_doc_link:hover {\n",
              "  /* unfitted */\n",
              "  background-color: var(--sklearn-color-unfitted-level-3);\n",
              "  color: var(--sklearn-color-background);\n",
              "  text-decoration: none;\n",
              "}\n",
              "\n",
              "#sk-container-id-8 a.estimator_doc_link.fitted:hover {\n",
              "  /* fitted */\n",
              "  background-color: var(--sklearn-color-fitted-level-3);\n",
              "}\n",
              "</style><div id=\"sk-container-id-8\" class=\"sk-top-container\"><div class=\"sk-text-repr-fallback\"><pre>DecisionTreeClassifier()</pre><b>In a Jupyter environment, please rerun this cell to show the HTML representation or trust the notebook. <br />On GitHub, the HTML representation is unable to render, please try loading this page with nbviewer.org.</b></div><div class=\"sk-container\" hidden><div class=\"sk-item\"><div class=\"sk-estimator fitted sk-toggleable\"><input class=\"sk-toggleable__control sk-hidden--visually\" id=\"sk-estimator-id-8\" type=\"checkbox\" checked><label for=\"sk-estimator-id-8\" class=\"sk-toggleable__label fitted sk-toggleable__label-arrow fitted\">&nbsp;&nbsp;DecisionTreeClassifier<a class=\"sk-estimator-doc-link fitted\" rel=\"noreferrer\" target=\"_blank\" href=\"https://scikit-learn.org/1.5/modules/generated/sklearn.tree.DecisionTreeClassifier.html\">?<span>Documentation for DecisionTreeClassifier</span></a><span class=\"sk-estimator-doc-link fitted\">i<span>Fitted</span></span></label><div class=\"sk-toggleable__content fitted\"><pre>DecisionTreeClassifier()</pre></div> </div></div></div></div>"
            ]
          },
          "metadata": {},
          "execution_count": 104
        }
      ],
      "execution_count": null
    },
    {
      "cell_type": "code",
      "id": "6beb8f60",
      "metadata": {
        "colab": {
          "base_uri": "https://localhost:8080/"
        },
        "id": "6beb8f60",
        "outputId": "4926ea35-d6b5-4d47-ff59-d2eed663c37e"
      },
      "source": [
        "#check the score\n",
        "tree.score(test_data, test_lab)"
      ],
      "outputs": [
        {
          "output_type": "execute_result",
          "data": {
            "text/plain": [
              "0.7384"
            ]
          },
          "metadata": {},
          "execution_count": 106
        }
      ],
      "execution_count": null
    },
    {
      "cell_type": "code",
      "id": "63f93c9e",
      "metadata": {
        "id": "63f93c9e"
      },
      "source": [
        "#predict\n",
        "predictions = tree.predict(test_data)"
      ],
      "outputs": [],
      "execution_count": null
    },
    {
      "cell_type": "code",
      "id": "5d68f2d7",
      "metadata": {
        "id": "5d68f2d7"
      },
      "source": [
        "#add the predictions"
      ],
      "outputs": [],
      "execution_count": null
    },
    {
      "cell_type": "code",
      "id": "b42ecb23",
      "metadata": {
        "colab": {
          "base_uri": "https://localhost:8080/",
          "height": 417
        },
        "id": "b42ecb23",
        "outputId": "e58b733b-c7f5-47df-d839-9d186b055b70"
      },
      "source": [
        "#create and plot the confusion matrix\n",
        "confusion_matrix = metrics.confusion_matrix(test_lab, predictions)\n",
        "plt.matshow(confusion_matrix)\n",
        "plt.title('Confusion matrix')\n",
        "plt.colorbar()\n",
        "plt.ylabel('True label')\n",
        "plt.xlabel('Predicted label')\n",
        "plt.show()"
      ],
      "outputs": [
        {
          "output_type": "display_data",
          "data": {
            "text/plain": [
              "<Figure size 480x480 with 2 Axes>"
            ],
            "image/png": "[encoded data removed]"
          },
          "metadata": {}
        }
      ],
      "execution_count": null
    },
    {
      "cell_type": "code",
      "id": "2f234a8a",
      "metadata": {
        "id": "2f234a8a"
      },
      "source": [
        "#print the results\n"
      ],
      "outputs": [],
      "execution_count": null
    },
    {
      "cell_type": "code",
      "id": "52b3e0bf",
      "metadata": {
        "scrolled": true,
        "colab": {
          "base_uri": "https://localhost:8080/"
        },
        "id": "52b3e0bf",
        "outputId": "46d11519-a4ae-4c9c-839c-23ba5e8f5563"
      },
      "source": [
        "#print the classification report\n",
        "print(metrics.classification_report(test_lab, predictions, zero_division = 0))"
      ],
      "outputs": [
        {
          "output_type": "stream",
          "name": "stdout",
          "text": [
            "              precision    recall  f1-score   support\n",
            "\n",
            "           0       0.79      0.77      0.78       747\n",
            "           1       0.67      0.70      0.68       503\n",
            "\n",
            "    accuracy                           0.74      1250\n",
            "   macro avg       0.73      0.73      0.73      1250\n",
            "weighted avg       0.74      0.74      0.74      1250\n",
            "\n"
          ]
        }
      ],
      "execution_count": null
    },
    {
      "cell_type": "markdown",
      "id": "5421a265",
      "metadata": {
        "id": "5421a265"
      },
      "source": [
        "__How do these results compare to the _k_NN classifier? Which do you think, so far, is the best at predicting the presence of bark beetle attacks? Examine the impact of changing the `max_depth` and `min_sample_split` parameters__"
      ]
    },
    {
      "metadata": {
        "id": "e840f5d06577cf85"
      },
      "cell_type": "code",
      "outputs": [],
      "execution_count": null,
      "source": [
        "#comment and explore different parameters\n"
      ],
      "id": "e840f5d06577cf85"
    },
    {
      "cell_type": "markdown",
      "id": "fb05a49b",
      "metadata": {
        "id": "fb05a49b"
      },
      "source": [
        "Do you remember that a prominent advantage of decision trees is that they are explainable. Now let's visualise a real decision tree to gain some insights about how they work.\n",
        "\n",
        "Now we have many samples and features, visualisations can be derived which are however very difficult to be interpreted. In order to have a clear visualisation, let's reduce the number of samples (first 100 samples), and only use the most important three features, derived by permutation importance analysis. The tool permutation_importance is a model inspection technique that measures the contribution of each feature to a fitted model’s statistical performance on a given tabular dataset. You are encouraged to gain an understanding of it, as it could be useful for your future data analysis efforts. The tool has been integrated into [scikit-learn](https://scikit-learn.org/1.5/modules/permutation_importance.html).\n",
        "\n",
        "\n"
      ]
    },
    {
      "metadata": {
        "colab": {
          "base_uri": "https://localhost:8080/",
          "height": 877
        },
        "id": "6df3e7c836c42e5e",
        "outputId": "9a10ddb2-5047-453b-b26c-4aed70e68954"
      },
      "cell_type": "code",
      "source": [
        "# Extract the first 100 samples from the dataset for a simplified analysis\n",
        "bark_beetle_100 = bark_beetle_df[:100]\n",
        "\n",
        "# Define the feature names used in the analysis, representing various environmental and biological variables\n",
        "feature_names = np.array([\n",
        "    'distToCC5', 'distToCC10', 'distPrevDm', 'soilWetnes', 'distForest',\n",
        "    'prevY_f11s', 'prevY_f21s', 'basalArea', 'biomass', 'canopyHeig',\n",
        "    'spruceVol', 'soilType', 'Slope', 'Aspect', 'DEM'\n",
        "])\n",
        "\n",
        "# Extract the features and labels (target variable) for these 100 samples\n",
        "bb_features_100 = bark_beetle_100[feature_names].to_numpy()\n",
        "bb_label_100 = bark_beetle_100['bbPresence'].to_numpy()\n",
        "\n",
        "# Split the data into training and testing sets (default 75% training, 25% testing)\n",
        "train_data_100, test_data_100, train_lab_100, test_lab_100 = train_test_split(\n",
        "    bb_features_100, bb_label_100, random_state=42  # Added random_state for reproducibility\n",
        ")\n",
        "\n",
        "# Initialize and train a decision tree classifier on the training data\n",
        "tree_100 = DecisionTreeClassifier()\n",
        "tree_100.fit(train_data_100, train_lab_100)\n",
        "\n",
        "# Now, let's determine the importance of each feature using permutation importance\n",
        "from sklearn.inspection import permutation_importance\n",
        "\n",
        "# Permutation importance measures the effect of shuffling each feature on model performance\n",
        "importances = permutation_importance(tree_100, train_data_100, train_lab_100, n_repeats=10, random_state=42)\n",
        "print(\"Feature Importances (Mean):\\n\", importances.importances_mean)\n",
        "\n",
        "# Sort the features by their importance (in descending order) to identify the most influential ones\n",
        "sorted_indices = np.argsort(importances['importances_mean'])[::-1]\n",
        "\n",
        "# Extract the names of the top 3 most important features\n",
        "top_features = list(feature_names[sorted_indices][:3])\n",
        "print(f\"Top 3 important features: {top_features}\")\n",
        "\n",
        "# Important Note: These results are based on only 100 samples, so the observed feature importance may not generalize to the full dataset.\n",
        "# It's advised to refer to domain-specific research for validated findings, e.g., canopy height is identified as the most important feature in the referred paper.\n",
        "\n",
        "# Now, let's use the top 3 important features to train another decision tree\n",
        "bb_features_100_top3 = bark_beetle_100[top_features].to_numpy()\n",
        "\n",
        "# Split the data using only the top 3 features\n",
        "train_data_100_top3, test_data_100_top3, train_lab_100_top3, test_lab_100_top3 = train_test_split(\n",
        "    bb_features_100_top3, bb_label_100, random_state=42)\n",
        "\n",
        "# Train a new decision tree model based on the top 3 features\n",
        "tree_100_top3 = DecisionTreeClassifier()\n",
        "tree_100_top3.fit(train_data_100_top3, train_lab_100_top3)\n",
        "\n",
        "# Visualize the decision tree structure for better understanding of the decision process\n",
        "from sklearn.tree import plot_tree\n",
        "import matplotlib.pyplot as plt\n",
        "\n",
        "# Plot the decision tree with a figure size large enough to read the tree details clearly\n",
        "plt.figure(figsize=(20,10))\n",
        "plot_tree(tree_100_top3, feature_names=top_features, class_names=['No', 'Yes'], filled=True)\n",
        "plt.title(\"Decision Tree Visualisation with Top 3 Features\")\n",
        "plt.show()"
      ],
      "id": "6df3e7c836c42e5e",
      "outputs": [
        {
          "output_type": "stream",
          "name": "stdout",
          "text": [
            "Feature Importances (Mean):\n",
            " [0.         0.         0.10266667 0.         0.         0.\n",
            " 0.         0.         0.         0.         0.         0.316\n",
            " 0.         0.         0.08533333]\n",
            "Top 3 important features: ['soilType', 'distPrevDm', 'DEM']\n"
          ]
        },
        {
          "output_type": "display_data",
          "data": {
            "text/plain": [
              "<Figure size 2000x1000 with 1 Axes>"
            ],
            "image/png": "[encoded data removed]"
          },
          "metadata": {}
        }
      ],
      "execution_count": null
    },
    {
      "metadata": {
        "id": "2c032d357ae1e93f"
      },
      "cell_type": "markdown",
      "source": [
        "Now you have got the tree visually! The codes are somewhat complicated, mainly because the dataset is large and we wrote quite some codes to reduce the number of features and samples. Otherwise, this could be a simple process."
      ],
      "id": "2c032d357ae1e93f"
    },
    {
      "cell_type": "markdown",
      "id": "a30c3f16",
      "metadata": {
        "id": "a30c3f16"
      },
      "source": [
        "<BR><BR><BR>\n",
        "## Random Forests"
      ]
    },
    {
      "cell_type": "markdown",
      "id": "34e73b22",
      "metadata": {
        "id": "34e73b22"
      },
      "source": [
        "Next, carry out the same process using a Random Forest classifier.\n",
        "\n",
        "Unlike the Decision Tree, the Random Forest requires you to specify a parameter called `n_estimators`. This parameter specifies how many trees should be created in the construction of the whole forest. The more trees you choose, the longer the classification process will take to run.\n",
        "\n",
        "So first, read up on the `scikit` Random Forest method [here](http://scikit-learn.org/stable/modules/ensemble.html#forests-of-randomized-trees), and identify how you can set the `n_estimators` parameter and then follow through the same classifier creation and testing process used above."
      ]
    },
    {
      "cell_type": "code",
      "id": "7e9fa43d",
      "metadata": {
        "id": "7e9fa43d"
      },
      "source": [
        "from sklearn.ensemble import RandomForestClassifier"
      ],
      "outputs": [],
      "execution_count": null
    },
    {
      "cell_type": "code",
      "id": "d95a50c3",
      "metadata": {
        "id": "d95a50c3"
      },
      "source": [
        "forest ="
      ],
      "outputs": [],
      "execution_count": null
    },
    {
      "cell_type": "code",
      "id": "0a3abc10",
      "metadata": {
        "id": "0a3abc10"
      },
      "source": [],
      "outputs": [],
      "execution_count": null
    },
    {
      "cell_type": "code",
      "id": "a4273153",
      "metadata": {
        "id": "a4273153"
      },
      "source": [],
      "outputs": [],
      "execution_count": null
    },
    {
      "cell_type": "code",
      "id": "e3c22839",
      "metadata": {
        "id": "e3c22839"
      },
      "source": [],
      "outputs": [],
      "execution_count": null
    },
    {
      "cell_type": "code",
      "id": "234bf0d0",
      "metadata": {
        "id": "234bf0d0"
      },
      "source": [],
      "outputs": [],
      "execution_count": null
    },
    {
      "cell_type": "code",
      "id": "1c9cbe8c",
      "metadata": {
        "id": "1c9cbe8c"
      },
      "source": [],
      "outputs": [],
      "execution_count": null
    },
    {
      "cell_type": "code",
      "id": "28d482cf",
      "metadata": {
        "scrolled": true,
        "id": "28d482cf"
      },
      "source": [],
      "outputs": [],
      "execution_count": null
    },
    {
      "cell_type": "markdown",
      "id": "43e3e91f",
      "metadata": {
        "id": "43e3e91f"
      },
      "source": [
        "**How well does this model perform relative to the Decision Tree and *k*-Nearest Neighbour approaches? How does varying the number of trees impact on the quality and speed of prediction?**"
      ]
    },
    {
      "metadata": {
        "id": "ecd59bfc11afebd6"
      },
      "cell_type": "code",
      "outputs": [],
      "execution_count": null,
      "source": [
        "#comment and explore changing the parameters\n"
      ],
      "id": "ecd59bfc11afebd6"
    },
    {
      "cell_type": "markdown",
      "id": "32a33b13",
      "metadata": {
        "id": "32a33b13"
      },
      "source": [
        "<BR><BR><BR>\n",
        "## Naive Bayes"
      ]
    },
    {
      "cell_type": "markdown",
      "id": "6f7c5c3c",
      "metadata": {
        "id": "6f7c5c3c"
      },
      "source": [
        "Next, we'll put Naive Bayes into practice.\n",
        "\n",
        "First, read up on the `scikit` Random Forest method [here](https://scikit-learn.org/stable/modules/generated/sklearn.naive_bayes.GaussianNB.html#sklearn.naive_bayes.GaussianNB), and identify how you can set the `n_estimators` parameter and then follow through the same classifier creation and testing process used above."
      ]
    },
    {
      "cell_type": "code",
      "id": "77791afa",
      "metadata": {
        "id": "77791afa"
      },
      "source": [
        "from sklearn.naive_bayes import GaussianNB"
      ],
      "outputs": [],
      "execution_count": null
    },
    {
      "cell_type": "code",
      "id": "adff9633",
      "metadata": {
        "id": "adff9633"
      },
      "source": [
        "NB ="
      ],
      "outputs": [],
      "execution_count": null
    },
    {
      "cell_type": "code",
      "id": "e89c0e6c",
      "metadata": {
        "id": "e89c0e6c"
      },
      "source": [],
      "outputs": [],
      "execution_count": null
    },
    {
      "cell_type": "code",
      "id": "5825dea1",
      "metadata": {
        "id": "5825dea1"
      },
      "source": [],
      "outputs": [],
      "execution_count": null
    },
    {
      "cell_type": "code",
      "id": "9f6423aa",
      "metadata": {
        "id": "9f6423aa"
      },
      "source": [],
      "outputs": [],
      "execution_count": null
    },
    {
      "cell_type": "code",
      "id": "9203abf2",
      "metadata": {
        "id": "9203abf2"
      },
      "source": [],
      "outputs": [],
      "execution_count": null
    },
    {
      "cell_type": "code",
      "id": "76b48e35",
      "metadata": {
        "id": "76b48e35"
      },
      "source": [],
      "outputs": [],
      "execution_count": null
    },
    {
      "cell_type": "code",
      "id": "0f833378",
      "metadata": {
        "scrolled": true,
        "id": "0f833378"
      },
      "source": [],
      "outputs": [],
      "execution_count": null
    },
    {
      "cell_type": "markdown",
      "id": "4936f205",
      "metadata": {
        "id": "4936f205"
      },
      "source": [
        "__How well does this model perform relative to the Decision Tree, *k*-Nearest Neighbour and Random Forest approaches?__"
      ]
    },
    {
      "metadata": {
        "id": "cf6ce24e4849522f"
      },
      "cell_type": "code",
      "outputs": [],
      "execution_count": null,
      "source": [
        "#comment and explore changing the parameters"
      ],
      "id": "cf6ce24e4849522f"
    },
    {
      "cell_type": "markdown",
      "id": "696478f7",
      "metadata": {
        "id": "696478f7"
      },
      "source": [
        "<BR><BR><BR>\n",
        "## The Perceptron"
      ]
    },
    {
      "cell_type": "markdown",
      "id": "f7292ac6",
      "metadata": {
        "id": "f7292ac6"
      },
      "source": [
        "Finally, we'll have a quick go at implementing the Perceptron, our deep learning approach. The approach is the same but the parameters are a little more complex. Read up on this [here](https://scikit-learn.org/stable/modules/generated/sklearn.neural_network.MLPClassifier.html#sklearn.neural_network.MLPClassifier)."
      ]
    },
    {
      "cell_type": "code",
      "id": "94aa92f5",
      "metadata": {
        "id": "94aa92f5"
      },
      "source": [
        "from sklearn.neural_network import MLPClassifier"
      ],
      "outputs": [],
      "execution_count": null
    },
    {
      "cell_type": "code",
      "id": "cb9fa260",
      "metadata": {
        "id": "cb9fa260"
      },
      "source": [
        "Perceptron = MLPClassifier()"
      ],
      "outputs": [],
      "execution_count": null
    },
    {
      "cell_type": "code",
      "id": "29e4562d",
      "metadata": {
        "id": "29e4562d"
      },
      "source": [],
      "outputs": [],
      "execution_count": null
    },
    {
      "cell_type": "code",
      "id": "d517755a",
      "metadata": {
        "id": "d517755a"
      },
      "source": [],
      "outputs": [],
      "execution_count": null
    },
    {
      "cell_type": "code",
      "id": "e7574a8a",
      "metadata": {
        "id": "e7574a8a"
      },
      "source": [],
      "outputs": [],
      "execution_count": null
    },
    {
      "cell_type": "code",
      "id": "a2bca7f2",
      "metadata": {
        "id": "a2bca7f2"
      },
      "source": [],
      "outputs": [],
      "execution_count": null
    },
    {
      "cell_type": "code",
      "id": "a797fd83",
      "metadata": {
        "id": "a797fd83"
      },
      "source": [],
      "outputs": [],
      "execution_count": null
    },
    {
      "cell_type": "code",
      "id": "12c938dc",
      "metadata": {
        "scrolled": true,
        "id": "12c938dc"
      },
      "source": [],
      "outputs": [],
      "execution_count": null
    },
    {
      "cell_type": "markdown",
      "id": "cf3ec7fe",
      "metadata": {
        "id": "cf3ec7fe"
      },
      "source": [
        "__How do all of these methods compare? Which do you think is the most effective at predicting the review scores, and why?__"
      ]
    },
    {
      "metadata": {
        "id": "ef3b1a518fd1c5a"
      },
      "cell_type": "code",
      "outputs": [],
      "execution_count": null,
      "source": [
        "#compare the classifiers here"
      ],
      "id": "ef3b1a518fd1c5a"
    },
    {
      "cell_type": "markdown",
      "id": "b034259a",
      "metadata": {
        "id": "b034259a"
      },
      "source": [
        "<br><br><br>\n",
        "## Formative Homework Questions\n",
        "\n",
        "Now it's your turn to try out adding additional predictors to the models. You'll need to create k-Nearest Neighbors (k-NN), Decision Tree, Random Forest, and Naive Bayes models, and report the results, using the link below.\n",
        "\n",
        "For classification, try out different parameters and methods to see which feels most comfortable and intuitive to you. Remember to visualize and investigate all the individual variables before adding them to your models! For the following questions please also work with the first 5,000 rows of the dataset, but you are free the use the entire dataset for explorations.\n",
        "\n",
        "__Question 1:__ Create a k-Nearest Neighbors (k-NN) classifier which predicts the presence of bark beetle attacks using the features: `distToCC5`, `soilWetnes`, and `canopyHeig`.  Calculate the accuracy, precision, recall, and F1-score under different values of n_neighbors of 3, 5, 10, 15, and find out which gives the best performance. Please use random state 42 for data split. <br>\n",
        "\n",
        "__Question 2:__ Create a Random Forest classifier using the same parameters as for question 1. Experiment with different numbers of trees (`n_estimators`) of 10, 20, 50, 100.  <br>\n",
        "\n",
        "__Question 3:__ Using all the features not including x, y, and bbPresence, create MLP (perceptron) classifiers with different hyperparameters, including hidden_layer_sizes and activation. Answer the question: when hidden_layer_size is set 64, which activation function, among ‘logistic’, ‘tanh’, ‘relu’, gives the best performance? For this question, initiate the model using this line of code:\n",
        "`mlp = MLPClassifier(hidden_layer_sizes=(64,), activation=activation, random_state=42)`  \n",
        "<br>\n",
        "\n",
        "<br>"
      ]
    },
    {
      "cell_type": "code",
      "id": "578ee30e",
      "metadata": {
        "id": "578ee30e"
      },
      "source": [],
      "outputs": [],
      "execution_count": null
    }
  ],
  "metadata": {
    "kernelspec": {
      "display_name": "Python 3 (ipykernel)",
      "language": "python",
      "name": "python3"
    },
    "language_info": {
      "codemirror_mode": {
        "name": "ipython",
        "version": 3
      },
      "file_extension": ".py",
      "mimetype": "text/x-python",
      "name": "python",
      "nbconvert_exporter": "python",
      "pygments_lexer": "ipython3",
      "version": "3.12.4"
    },
    "colab": {
      "provenance": [],
      "include_colab_link": true
    }
  },
  "nbformat": 4,
  "nbformat_minor": 5
}